{
 "cells": [
  {
   "cell_type": "markdown",
   "metadata": {},
   "source": [
    "## Unidade 01 - Avaliação 01\n",
    "\n",
    "- **Aluno**: --preencher o nome completo--\n",
    "- **Matrícula**: --preencer com a matrícula--\n",
    "\n",
    "<br>\n",
    "<div class=\"alert alert-info\">\n",
    "<b>Avisos.</b>\n",
    "</div>\n",
    "\n",
    "\n",
    "1. O notebook deverá ser renomeado para o nome completo do aluno seguindo o formato: Ivanovitch_Medeiros_Dantas_da_Silva.ipynb\n",
    "2. Todas as questões devem ser respondidas através de códigos escritos em linguagem Python, versão 3.X, e no espaço destinado para esse fim. Criem células Markdown para destacar quando inicia e termina as questões. \n",
    "3. O notebook resultante deverá ser enviado através do Sigaa conforme tarefa cadastrada pelo professor. Ressalta-se que após o horário de final da aula, a submissão da tarefa estará fechada no Sigaa. \n",
    "4. O arquivo da base de dados não deve ser alterado.\n",
    "5. Em nenhuma hipótese os alunos devem trocar mensagens entre si. A prova só deve ser compartilhada na Internet após a sua correção. Caso seja identificado tal situação, os envolvidos terão automaticamente nota Zero (0.0) na avaliação.   "
   ]
  },
  {
   "cell_type": "markdown",
   "metadata": {},
   "source": [
    "## Base de dados\n",
    "\n",
    "Nessa avaliação será utilizado a base de dados referente aos concursos da Mega-Sena. \n",
    "\n",
    "A **Mega-Sena** tem sido a maior modalidade lotérica do Brasil, sendo uma entre as dez modalidades atuais das loterias da Caixa (Caixa Econômica Federal), com sorteios ordinários duas vezes por semana, além da Mega-Sena da Virada.\n",
    "\n",
    "Para ganhar o **prêmio máximo da Mega-Sena** — **a sena** — , é necessário acertar a sena, o que significa obter coincidência entre **seis dos números** apostados e os seis números sorteados, de um total de sessenta dezenas (**de 01 a 60**), independentemente da ordem da aposta ou da ordem do sorteio. \n",
    "\n",
    "O concurso prevê também a chance de se ganhar parte do prêmio máximo, pelo acerto da **quina** (apenas cinco dos números sorteados), ou da **quadra** (apenas quatro dos números sorteados), com prêmios significativamente menores que aquele que seria pago na ocorrência do acerto da sena, o da quina maior que o da quadra. \n",
    "\n",
    "A base de dados está em formato de planilha em excel. Para carregar esse arquivo em formato de **dataframe** utilizar o código abaixo: \n",
    "\n",
    ">```python\n",
    "# Importar as bibliotecas necessárias\n",
    "import pandas as pd\n",
    "# Atribuir o nome da planilha para a variável \"arquivo\"\n",
    "arquivo = 'basedados.xlsx'\n",
    "# Carregar a base de dados para um objeto pandas.io.excel.ExcelFile\n",
    "excel = pd.ExcelFile(arquivo)\n",
    "# Imprimir o nome das planilhas\n",
    "print(excel.sheet_names)\n",
    "# Carregar a planilha excel para um objeto dataframe\n",
    "dados = excel.parse(0)\n",
    "# Imprimir as cinco primeiras linhas do dataframe\n",
    "dados.head()\n",
    "```"
   ]
  },
  {
   "cell_type": "markdown",
   "metadata": {},
   "source": [
    "## a) (2.0 pontos) Investigando a base de dados\n",
    "\n",
    "1. (0.2 pontos) Quantos dados faltantes existem em toda a base de dados?\n",
    "2. (0.2 pontos) Quais os tipos das colunas da base de dados?\n",
    "3. (0.2 pontos) Qual o concurso com o maior número de ganhadores na sena?\n",
    "4. (0.4 pontos) Quantos dias se passaram entre os 100 últimos concurso?\n",
    "5. (1.0 ponto)  Qual a porcentagem de concursos não acumulados?"
   ]
  },
  {
   "cell_type": "markdown",
   "metadata": {},
   "source": [
    "## b) (3.0 pontos) Tentativa de encontrar uma aposta perfeita\n",
    "\n",
    "\n",
    "1. (3.0 pontos) Pythonildo teve uma ideia brilhante para **ganhar na Mega-Sena**. Sendo ele uma pessoa muito exotérica, acredita que o dia \"2010-01-01\" tem uma influência grande nos resultados. Assim, a estratégia de Pythonildo é fazer uma aposta de 6 números contendo os 6 números que mais apareceram em todos os concursos da MegaSena a partir do dia \"2010-01-01\". Encontre a aposta perfeita segundo Pythonildo.\n",
    "\n",
    "*sugestão - consultar a função pandas.DataFrame.unstack*"
   ]
  },
  {
   "cell_type": "code",
   "execution_count": 16,
   "metadata": {},
   "outputs": [
    {
     "data": {
      "text/plain": [
       "10    113\n",
       "2     108\n",
       "53    106\n",
       "30    103\n",
       "52    103\n",
       "5     100\n",
       "dtype: int64"
      ]
     },
     "execution_count": 16,
     "metadata": {},
     "output_type": "execute_result"
    }
   ],
   "source": [
    "colunas = [\"Dezena1\", \"Dezena2\", \"Dezena3\", \"Dezena4\", \"Dezena5\", \"Dezena6\"]\n",
    "\n",
    "dados[dados[\"Data Sorteio\"] > \"2010-01-01\"][colunas].unstack().value_counts()[0:6]"
   ]
  },
  {
   "cell_type": "markdown",
   "metadata": {},
   "source": [
    "## c) (5.0 pontos) Investigando a premiação\n",
    "\n",
    "Para cada concurso da Mega-Sena, a maior premiação está relacionada com o acerto das 6 dezenas, e o seu valor é dada pela seguinte relação:\n",
    "\n",
    "$$Prêmio = Ganhadores\\_Sena\t\\times Rateio\\_Sena$$\n",
    "\n",
    "1) (1.0 ponto) Crie uma nova coluna na base de dados para o prêmio máximo de cada concurso. A coluna deve ser chamada de \"prêmio_máximo\"\n",
    "\n",
    "2) (1.0 ponto) Qual concurso ocorreu o maior prêmio da Mega-Sena?\n",
    "\n",
    "3) (1.5 pontos) Crie uma nova coluna chamada \"Rótulo\" baseada na faixa de valores da coluna \"prêmio_máximo\"\n",
    "\n",
    "| Intervalo [Milhões de Reais] | Rótulo |\n",
    "|------------------------------|--------|\n",
    "| 0 - 1                        | I      |\n",
    "| 1 - 5                        | II     |\n",
    "| 5 - 10                       | III    |\n",
    "| 10 - 20                      | IV     |\n",
    "| 20 - 40                      | V      |\n",
    "| 40 - 80                      | VI     |\n",
    "| 80 - 100                     | VII    |\n",
    "| 100 - 200                    | VIII   |\n",
    "| 200 - 300                    | IX     |\n",
    "| 300 -                        | X      |\n",
    "4) (1.5 pontos) Calcule a porcentagem de ocorrência para cada rótulo assumindo o número total de concursos realizados. "
   ]
  }
 ],
 "metadata": {
  "kernelspec": {
   "display_name": "Python 3",
   "language": "python",
   "name": "python3"
  },
  "language_info": {
   "codemirror_mode": {
    "name": "ipython",
    "version": 3
   },
   "file_extension": ".py",
   "mimetype": "text/x-python",
   "name": "python",
   "nbconvert_exporter": "python",
   "pygments_lexer": "ipython3",
   "version": "3.6.4"
  }
 },
 "nbformat": 4,
 "nbformat_minor": 2
}

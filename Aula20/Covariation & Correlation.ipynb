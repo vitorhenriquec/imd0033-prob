{
 "cells": [
  {
   "cell_type": "markdown",
   "metadata": {},
   "source": [
    "1. Introduction\n",
    "==\n",
    "\n",
    "\n",
    "In this mission, we'll be calculating statistics using data from the National Basketball Association (NBA). Here are the first few rows of the CSV file we'll explore:\n",
    "\n",
    "| | player | pos           | age | bref_team_id | g   | gs | mp | fg   | fga | fg.  | ...   | drb | trb | ast | stl | blk | tov | pf  | pts | season | season_end |     \n",
    "|--------|---------------|-----|--------------|-----|----|----|------|-----|------|-------|-----|-----|-----|-----|-----|-----|-----|-----|--------|------------|------|\n",
    "| 0      | Quincy Acy    | SF  | 23           | TOT | 63 | 0  | 847  | 66  | 141  | 0.468 | ... | 144 | 216 | 28  | 23  | 26  | 30  | 122 | 171    | 2013-2014  | 2013 |\n",
    "| 1      | Steven Adams  | C   | 20           | OKC | 81 | 20 | 1197 | 93  | 185  | 0.503 | ... | 190 | 332 | 43  | 40  | 57  | 71  | 203 | 265    | 2013-2014  | 2013 |\n",
    "| 2      | Jeff Adrien   | PF  | 27           | TOT | 53 | 12 | 961  | 143 | 275  | 0.520 | ... | 204 | 306 | 38  | 24  | 36  | 39  | 108 | 362    | 2013-2014  | 2013 |\n",
    "| 3      | Arron Afflalo | SG  | 28           | ORL | 73 | 73 | 2552 | 464 | 1011 | 0.459 | ... | 230 | 262 | 248 | 35  | 3   | 146 | 136 | 1330   | 2013-2014  | 2013 |\n",
    "| 4      | Alexis Ajinca | C   | 25           | NOP | 56 | 30 | 951  | 136 | 249  | 0.546 | ... | 183 | 277 | 40  | 23  | 46  | 63  | 187 | 328    | 2013-2014  | 2013 |\n",
    "\n",
    "\n",
    "Each row holds data on a single player for a single season. It contains the player's team, the total number of points the player scored, and other information.\n",
    "\n",
    "A full glossary can be find [here](http://stats.nba.com/help/glossary/).\n",
    "\n",
    "| column_name  | name                          | \n",
    "|--------------|-------------------------------|\n",
    "| player       | Player                        | \n",
    "| pos          | Position                      |\n",
    "| age          | Age                           | \n",
    "| bref_team_id | Team ID                       |\n",
    "| g            | Games Played                  | \n",
    "| gs           | Games Started                 | \n",
    "| mp           | Minutes Per Game              | \n",
    "| fg           | Field Goals Made Per Game     | \n",
    "| fga          | Field Goal Attempts Per Game  | \n",
    "| fg.          | Field Goal %                  | \n",
    "| x3p          | 3PT Shots Made Per Game       | \n",
    "| x3pa         | 3PT Shot Attempts Per Game    | \n",
    "| x3p.         | 3PT %                         | \n",
    "| x2p          | 2PT Shots Made Per Game       | \n",
    "| x2pa         | 2PT Shot Attemps Per Game     | \n",
    "| x2p.         | 2PT Shot %                    | \n",
    "| ft           | Free Throws Made Per Game     |\n",
    "| fta          | Free Throw Attempts Per Game  | \n",
    "| ft.          | Free Throw %                  | \n",
    "| orb          | Offensive Rebounds Per Game   | \n",
    "| drb          | Defensive Rebounds Per Game   | \n",
    "| trb          | Total Rebounds Per Game       | \n",
    "| ast          | Assists Per Game              | \n",
    "| stl          | Steals Per Game               | \n",
    "| blk          | Blocks Per Game               | \n",
    "| tov          | Turnovers Per Game            | \n",
    "| pf           | Personal Fouls Per Game       |\n",
    "| pts          | Points Per Game               | \n"
   ]
  },
  {
   "cell_type": "code",
   "execution_count": null,
   "metadata": {},
   "outputs": [],
   "source": [
    "import pandas as pd\n",
    "\n",
    "nba = pd.read_csv('nba_2013.csv')\n",
    "nba.head()"
   ]
  },
  {
   "cell_type": "markdown",
   "metadata": {},
   "source": [
    "2. Using Scatterplots to Plot Correlations\n",
    "==\n",
    "\n",
    "We've spent a lot of time looking at single variables and how their distributions look. While distributions are interesting on their own, it can also be revealing to look at how two variables correlate with each other.\n",
    "\n",
    "Much of statistics deals with analyzing how variables impact each other, and the first step is to graph them out with a scatterplot.\n",
    "\n",
    "While graphing them out, we can look at correlation. If two variables change together (ie, when one goes up, the other goes up), we know that they are correlated."
   ]
  },
  {
   "cell_type": "code",
   "execution_count": null,
   "metadata": {
    "scrolled": true
   },
   "outputs": [],
   "source": [
    "import seaborn as sns\n",
    "import matplotlib.pyplot as plt\n",
    "%matplotlib inline\n",
    "\n",
    "# Plot field goals attempted (number of shots someone takes in a season) vs. point scored in a season.\n",
    "# Field goals attempted is on the x-axis, and points is on the y-axis.\n",
    "# As you can tell, they are very strongly correlated. The plot is close to a straight line.\n",
    "# The plot also slopes upward, which means that as field goal attempts go up, so do points.\n",
    "# That means that the plot is positively correlated.\n",
    "\n",
    "sns.regplot(x=nba['fga'], y=nba['pts'],fit_reg=False)\n",
    "plt.show()"
   ]
  },
  {
   "cell_type": "code",
   "execution_count": null,
   "metadata": {},
   "outputs": [],
   "source": [
    "# Now, we can plot total rebounds (number of times someone got the ball back\n",
    "# for their team after someone shot) vs total assists (number of times someone helped another person score).\n",
    "# These are uncorrelated, so you don't see the same nice line as you see with the plot above.\n",
    "\n",
    "sns.regplot(nba[\"trb\"], nba[\"ast\"],fit_reg=False)\n",
    "plt.show()"
   ]
  },
  {
   "cell_type": "markdown",
   "metadata": {},
   "source": [
    "<br>\n",
    "<div class=\"alert alert-info\">\n",
    "<b>Exercise Start.</b>\n",
    "</div>\n",
    "\n",
    "**Description**:\n",
    "\n",
    "1. Make a scatterplot of the  <span style=\"background-color: #F9EBEA; color:##C0392B\">fta</span> column against the <span style=\"background-color: #F9EBEA; color:##C0392B\">pts</span> column.\n",
    "2. Make a scatterplot of the <span style=\"background-color: #F9EBEA; color:##C0392B\">stl</span> column against the <span style=\"background-color: #F9EBEA; color:##C0392B\">pf</span> column.\n"
   ]
  },
  {
   "cell_type": "markdown",
   "metadata": {
    "collapsed": true
   },
   "source": [
    "3. Measuring Correlation with Pearson's r\n",
    "==\n",
    "\n",
    "Measuring correlation can be a big help when we need to analyze a lot of variables. This spares us from having to eyeball everything.\n",
    "\n",
    "The most common way to measure correlation is to use Pearson's r, which we also call an r-value. We'll explore how the calculations work later. For now, though, we'll focus on the values. An r-value ranges from -1 to 1, and indicates how strongly two variables are correlated.\n",
    "\n",
    "- A 1 indicates a perfect positive correlation. This would appear as a straight, upward-sloping line on our plots.\n",
    "- A 0 indicates no correlation. We'd see a scatterplot with points that appear random.\n",
    "- A -1 indicates a perfect negative correlation. This would appear as a straight, downward-sloping line.\n",
    "\n",
    "Any correlation between -1 and 0 will show up as a scattering of points. The same is true of correlations falling between 0 and 1. The closer the value is to 0, the more random the points will appear. The closer it is to -1 or 1, the more \"line-like\" the points will appear.\n",
    "\n",
    "We can use a function from scipy to calculate Pearson's r."
   ]
  },
  {
   "cell_type": "code",
   "execution_count": null,
   "metadata": {},
   "outputs": [],
   "source": [
    "from scipy.stats.stats import pearsonr\n",
    "\n",
    "# The pearsonr function will find the correlation between two columns of data.\n",
    "# It returns the r value and the p value.  We'll learn more about p values later on.\n",
    "r, p_value = pearsonr(nba[\"fga\"], nba[\"pts\"])\n",
    "\n",
    "# As we can see, this is a very high positive r value - it's close to 1.\n",
    "print(r,p_value)\n",
    "\n",
    "# These two columns are much less correlated.\n",
    "r, p_value = pearsonr(nba[\"trb\"], nba[\"ast\"])\n",
    "\n",
    "# We get a much lower, but still positive, r value.\n",
    "print(r,p_value)"
   ]
  },
  {
   "cell_type": "code",
   "execution_count": null,
   "metadata": {},
   "outputs": [],
   "source": [
    "# Draw a plot of two variables with bivariate and univariate graphs.\n",
    "sns.jointplot(x=nba[\"fga\"], y=nba[\"pts\"])\n",
    "sns.jointplot(x=nba[\"trb\"], y=nba[\"ast\"])\n",
    "\n",
    "plt.show()"
   ]
  },
  {
   "cell_type": "markdown",
   "metadata": {},
   "source": [
    "<br>\n",
    "<div class=\"alert alert-info\">\n",
    "<b>Exercise Start.</b>\n",
    "</div>\n",
    "\n",
    "**Description**:\n",
    "\n",
    "1. Find the correlation between the <span style=\"background-color: #F9EBEA; color:##C0392B\">fta</span> column and the <span style=\"background-color: #F9EBEA; color:##C0392B\">pts</span> column. Assign the result to <span style=\"background-color: #F9EBEA; color:##C0392B\">r_fta_pts</span>.\n",
    "2. Find the correlation between the <span style=\"background-color: #F9EBEA; color:##C0392B\">stl</span> column and the <span style=\"background-color: #F9EBEA; color:##C0392B\">pf</span> column. Assign the result to <span style=\"background-color: #F9EBEA; color:##C0392B\">r_stl_pf</span>."
   ]
  },
  {
   "cell_type": "markdown",
   "metadata": {},
   "source": [
    "4. Calculate Covariance\n",
    "==\n",
    "\n",
    "We looked at finding the correlation coefficient with a function. Now, let's take a brief look under the hood to see how we can do it ourselves.\n",
    "\n",
    "Another way to think of correlation is in terms of **variance**. Two variables are correlated when they both vary individually, but in similar ways. For example, correlation occurs when if one variable goes up, another variable also goes up.\n",
    "\n",
    "This is called **covariance**. Covariance refers to how different numbers vary jointly.\n",
    "\n",
    "There's a limit to how much two variables can co-vary. This is because each variable has its own variance. These individual variances set a maximum theoretical limit on the covariance between two variables. In other words, a set of variables can't co-vary more from the mean than the two variables individually vary from the mean.\n",
    "\n",
    "Two variables reach the maximum possible covariance when they vary in an identical way (ie, you see a straight line on the plot).\n",
    "\n",
    "The r-value is a ratio between the actual covariance and the maximum possible positive covariance.\n",
    "\n",
    "Let's look at actual covariance first. Mathematically speaking, covariance between two variables looks like this:\n",
    "\n",
    "$\\displaystyle cov(x,y) = \\frac{\\sum_{i=1}^{n} (x_i - \\mu_x)(y_i - \\mu_y)}{n}$\n",
    "\n",
    "For each element in the vectors x and y, we:\n",
    "\n",
    "1. Take the value at each position from 1 to the length of the vectors.\n",
    "2. Subtract the mean of the vector from those values.\n",
    "3. Multiply them together at each position, and all of the resulting values together.\n",
    "\n",
    "\n",
    "\n",
    "<br>\n",
    "<div class=\"alert alert-info\">\n",
    "<b>Exercise Start.</b>\n",
    "</div>\n",
    "\n",
    "**Description**:\n",
    "\n",
    "\n",
    "1. Make a function that calculates covariance.\n",
    "2. Use the function to calculate the covariance of the <span style=\"background-color: #F9EBEA; color:##C0392B\">stl</span> and <span style=\"background-color: #F9EBEA; color:##C0392B\">pf</span> columns. Assign the result to <span style=\"background-color: #F9EBEA; color:##C0392B\">cov_stl_pf</span>.\n",
    "3. Use the function to calculate the covariance of the <span style=\"background-color: #F9EBEA; color:##C0392B\">fta</span> and <span style=\"background-color: #F9EBEA; color:##C0392B\">pts</span> columns. Assign the result to <span style=\"background-color: #F9EBEA; color:##C0392B\">cov_fta_pts</span>."
   ]
  },
  {
   "cell_type": "markdown",
   "metadata": {},
   "source": [
    "4. Calculate Correlation With the std() Method\n",
    "==\n",
    "\n",
    "Now that we know how to calculate covariance, we can get the **correlation coefficient** using the following formula:\n",
    "\n",
    "$\\displaystyle \\frac{cov(x,y)}{\\sigma_x \\sigma_y}$\n",
    "\n",
    "For the denominator, we need to multiply the standard deviations for x and y. This is the maximum possible positive covariance, which is just both of the standard deviation values multiplied. If we divide our actual covariance by this, we get the r-value.\n",
    "\n",
    "We can use the <span style=\"background-color: #F9EBEA; color:##C0392B\">std</span> method on any pandas [DataFrame](http://pandas.pydata.org/pandas-docs/stable/generated/pandas.DataFrame.std.html) or [Series](http://pandas.pydata.org/pandas-docs/stable/generated/pandas.Series.std.html) to calculate the standard deviation. The following code returns the standard deviation for the <span style=\"background-color: #F9EBEA; color:##C0392B\">pf</span> column:\n",
    "\n",
    ">```python\n",
    "nba_stats[\"pf\"].std()\n",
    "```\n",
    "\n",
    "We can use the cov function from NumPy to compute covariance, returning a 2x2 matrix. The following code returns the covariance between the pf and stl columns:\n",
    "\n",
    ">```python\n",
    "# bias = True cov assume the population n\n",
    "# bias = False cov assume the population n-1\n",
    "cov(nba_stats[\"pf\"], nba_stats[\"stl\"], bias = True)[0,1]\n",
    "```\n",
    "\n",
    "\n",
    "<br>\n",
    "<div class=\"alert alert-info\">\n",
    "<b>Exercise Start.</b>\n",
    "</div>\n",
    "\n",
    "**Description**:\n",
    "\n",
    "1. Compute the correlation coefficient for the <span style=\"background-color: #F9EBEA; color:##C0392B\">fta</span> and <span style=\"background-color: #F9EBEA; color:##C0392B\">blk</span> columns, and assign the result to <span style=\"background-color: #F9EBEA; color:##C0392B\">r_fta_blk</span>.\n",
    "2. Compute the correlation coefficient for the <span style=\"background-color: #F9EBEA; color:##C0392B\">ast</span> and <span style=\"background-color: #F9EBEA; color:##C0392B\">stl</span> columns, and assign the result to <span style=\"background-color: #F9EBEA; color:##C0392B\">r_ast_stl</span>.\n"
   ]
  }
 ],
 "metadata": {
  "kernelspec": {
   "display_name": "Python 3",
   "language": "python",
   "name": "python3"
  },
  "language_info": {
   "codemirror_mode": {
    "name": "ipython",
    "version": 3
   },
   "file_extension": ".py",
   "mimetype": "text/x-python",
   "name": "python",
   "nbconvert_exporter": "python",
   "pygments_lexer": "ipython3",
   "version": "3.6.4"
  }
 },
 "nbformat": 4,
 "nbformat_minor": 2
}

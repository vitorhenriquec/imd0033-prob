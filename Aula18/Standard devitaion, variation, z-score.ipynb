{
 "cells": [
  {
   "cell_type": "markdown",
   "metadata": {},
   "source": [
    "1. Normal distribution deviation\n",
    "==\n",
    "\n",
    "One cool thing about normal distributions is that for every single one, the same percentage of the data is within one standard deviation of the mean, the same percentage is within two standard deviations of the mean, and so on.\n",
    "\n",
    "About 68% of the data is within one standard deviation, roughly 95% is within two standard deviations, and about 99% is within three standard deviations.\n",
    "\n",
    "This helps us quickly understand where values fall within the data set, as well as how typical or unusual they are."
   ]
  },
  {
   "cell_type": "code",
   "execution_count": 1,
   "metadata": {},
   "outputs": [],
   "source": [
    "# Housefly wing lengths in millimeters\n",
    "wing_lengths = [36, 37, 38, 38, 39, 39, 40, 40, 40, 40, 41, 41, 41, 41, 41, 41, 42, \n",
    "                42, 42, 42, 42, 42, 42, 43, 43, 43, 43, 43, 43, 43, 43, 44, 44, 44, \n",
    "                44, 44, 44, 44, 44, 44, 45, 45, 45, 45, 45, 45, 45, 45, 45, 45, 46,\n",
    "                46, 46, 46, 46, 46, 46, 46, 46, 46, 47, 47, 47, 47, 47, 47, 47, 47,\n",
    "                47, 48, 48, 48, 48, 48, 48, 48, 48, 49, 49, 49, 49, 49, 49, 49, 50, \n",
    "                50, 50, 50, 50, 50, 51, 51, 51, 51, 52, 52, 53, 53, 54, 55]\n",
    "\n",
    "# centrality variables\n",
    "mean = sum(wing_lengths) / len(wing_lengths)\n",
    "variances = [(i - mean) ** 2 for i in wing_lengths] #(valor - media)^2\n",
    "variance = sum(variances)/ len(variances) #(valor - media)^2/qtdValores\n",
    "standard_deviation = variance ** (1/2)"
   ]
  },
  {
   "cell_type": "code",
   "execution_count": 4,
   "metadata": {
    "collapsed": true
   },
   "outputs": [
    {
     "data": {
      "text/plain": [
       "[-2.435897435897436,\n",
       " -2.1794871794871797,\n",
       " -1.9230769230769231,\n",
       " -1.9230769230769231,\n",
       " -1.6666666666666667,\n",
       " -1.6666666666666667,\n",
       " -1.4102564102564104,\n",
       " -1.4102564102564104,\n",
       " -1.4102564102564104,\n",
       " -1.4102564102564104,\n",
       " -1.153846153846154,\n",
       " -1.153846153846154,\n",
       " -1.153846153846154,\n",
       " -1.153846153846154,\n",
       " -1.153846153846154,\n",
       " -1.153846153846154,\n",
       " -0.8974358974358975,\n",
       " -0.8974358974358975,\n",
       " -0.8974358974358975,\n",
       " -0.8974358974358975,\n",
       " -0.8974358974358975,\n",
       " -0.8974358974358975,\n",
       " -0.8974358974358975,\n",
       " -0.6410256410256411,\n",
       " -0.6410256410256411,\n",
       " -0.6410256410256411,\n",
       " -0.6410256410256411,\n",
       " -0.6410256410256411,\n",
       " -0.6410256410256411,\n",
       " -0.6410256410256411,\n",
       " -0.6410256410256411,\n",
       " -0.38461538461538464,\n",
       " -0.38461538461538464,\n",
       " -0.38461538461538464,\n",
       " -0.38461538461538464,\n",
       " -0.38461538461538464,\n",
       " -0.38461538461538464,\n",
       " -0.38461538461538464,\n",
       " -0.38461538461538464,\n",
       " -0.38461538461538464,\n",
       " -0.12820512820512822,\n",
       " -0.12820512820512822,\n",
       " -0.12820512820512822,\n",
       " -0.12820512820512822,\n",
       " -0.12820512820512822,\n",
       " -0.12820512820512822,\n",
       " -0.12820512820512822,\n",
       " -0.12820512820512822,\n",
       " -0.12820512820512822,\n",
       " -0.12820512820512822,\n",
       " 0.12820512820512822,\n",
       " 0.12820512820512822,\n",
       " 0.12820512820512822,\n",
       " 0.12820512820512822,\n",
       " 0.12820512820512822,\n",
       " 0.12820512820512822,\n",
       " 0.12820512820512822,\n",
       " 0.12820512820512822,\n",
       " 0.12820512820512822,\n",
       " 0.12820512820512822,\n",
       " 0.38461538461538464,\n",
       " 0.38461538461538464,\n",
       " 0.38461538461538464,\n",
       " 0.38461538461538464,\n",
       " 0.38461538461538464,\n",
       " 0.38461538461538464,\n",
       " 0.38461538461538464,\n",
       " 0.38461538461538464,\n",
       " 0.38461538461538464,\n",
       " 0.6410256410256411,\n",
       " 0.6410256410256411,\n",
       " 0.6410256410256411,\n",
       " 0.6410256410256411,\n",
       " 0.6410256410256411,\n",
       " 0.6410256410256411,\n",
       " 0.6410256410256411,\n",
       " 0.6410256410256411,\n",
       " 0.8974358974358975,\n",
       " 0.8974358974358975,\n",
       " 0.8974358974358975,\n",
       " 0.8974358974358975,\n",
       " 0.8974358974358975,\n",
       " 0.8974358974358975,\n",
       " 0.8974358974358975,\n",
       " 1.153846153846154,\n",
       " 1.153846153846154,\n",
       " 1.153846153846154,\n",
       " 1.153846153846154,\n",
       " 1.153846153846154,\n",
       " 1.153846153846154,\n",
       " 1.4102564102564104,\n",
       " 1.4102564102564104,\n",
       " 1.4102564102564104,\n",
       " 1.4102564102564104,\n",
       " 1.6666666666666667,\n",
       " 1.6666666666666667,\n",
       " 1.9230769230769231,\n",
       " 1.9230769230769231,\n",
       " 2.1794871794871797,\n",
       " 2.435897435897436]"
      ]
     },
     "execution_count": 4,
     "metadata": {},
     "output_type": "execute_result"
    }
   ],
   "source": [
    "# distance to mean in standard deviation unit\n",
    "standard_deviations = [(i - mean)/standard_deviation for i in wing_lengths]\n",
    "standard_deviations"
   ]
  },
  {
   "cell_type": "code",
   "execution_count": 12,
   "metadata": {},
   "outputs": [
    {
     "data": {
      "text/plain": [
       "45.5"
      ]
     },
     "execution_count": 12,
     "metadata": {},
     "output_type": "execute_result"
    }
   ],
   "source": [
    "def within_percentage(deviations, count):\n",
    "    within = [i for i in deviations if -count <= i <= count]\n",
    "    count = len(within)\n",
    "    return count / len(deviations)\n",
    "\n",
    "mean = sum(wing_lengths) / len(wing_lengths)\n",
    "mean"
   ]
  },
  {
   "cell_type": "code",
   "execution_count": 13,
   "metadata": {},
   "outputs": [
    {
     "data": {
      "text/plain": [
       "0.68"
      ]
     },
     "execution_count": 13,
     "metadata": {},
     "output_type": "execute_result"
    }
   ],
   "source": [
    "within_percentage(standard_deviations, 1)"
   ]
  },
  {
   "cell_type": "code",
   "execution_count": 10,
   "metadata": {},
   "outputs": [
    {
     "data": {
      "text/plain": [
       "0.96"
      ]
     },
     "execution_count": 10,
     "metadata": {},
     "output_type": "execute_result"
    }
   ],
   "source": [
    "within_percentage(standard_deviations, 2)"
   ]
  },
  {
   "cell_type": "code",
   "execution_count": 9,
   "metadata": {},
   "outputs": [
    {
     "data": {
      "text/plain": [
       "1.0"
      ]
     },
     "execution_count": 9,
     "metadata": {},
     "output_type": "execute_result"
    }
   ],
   "source": [
    "within_percentage(standard_deviations, 3)"
   ]
  },
  {
   "cell_type": "code",
   "execution_count": 8,
   "metadata": {},
   "outputs": [
    {
     "data": {
      "text/plain": [
       "1.0"
      ]
     },
     "execution_count": 8,
     "metadata": {},
     "output_type": "execute_result"
    }
   ],
   "source": [
    "within_percentage(standard_deviations, 4)"
   ]
  },
  {
   "cell_type": "code",
   "execution_count": 127,
   "metadata": {},
   "outputs": [
    {
     "data": {
      "image/png": "[encoded data removed]",
      "text/plain": [
       "<matplotlib.figure.Figure at 0x105f959e8>"
      ]
     },
     "metadata": {},
     "output_type": "display_data"
    }
   ],
   "source": [
    "import seaborn as sns\n",
    "import matplotlib.pyplot as plt\n",
    "\n",
    "# create a subfigure (1 row and 2 columns)\n",
    "f, (ax1, ax2) = plt.subplots(1, 2, figsize=(6,4))\n",
    "\n",
    "# histogram of wing_lengths\n",
    "sns.kdeplot(wing_lengths, ax=ax1)\n",
    "\n",
    "# histogram of wing_lengths considering standard deviations\n",
    "sns.kdeplot(standard_deviations, ax=ax2)\n",
    "\n",
    "f.tight_layout()\n",
    "plt.show()"
   ]
  },
  {
   "cell_type": "code",
   "execution_count": 128,
   "metadata": {},
   "outputs": [
    {
     "data": {
      "image/png": "[encoded data removed]",
      "text/plain": [
       "<matplotlib.figure.Figure at 0x1a1797bfd0>"
      ]
     },
     "metadata": {},
     "output_type": "display_data"
    }
   ],
   "source": [
    "import seaborn as sns\n",
    "import matplotlib.pyplot as plt\n",
    "\n",
    "# configure size of figure\n",
    "sns.set(rc={'figure.figsize':(6,4)})\n",
    "\n",
    "# How many elements are in [-X std unit, X std unit] of mean\n",
    "distance = 0.6745\n",
    "percentage = within_percentage(standard_deviations,distance)\n",
    "\n",
    "# histogram of wing_lengths using standard_deviations\n",
    "ax = sns.kdeplot(standard_deviations)\n",
    "\n",
    "# get x & y points of histogram\n",
    "x_points, y_points = ax.get_lines()[0].get_data()\n",
    "\n",
    "# interval in standard deviations  \n",
    "filter_ = np.logical_and(x_points >= -distance,x_points <= distance)\n",
    "\n",
    "plt.fill_between(x_points[filter_], y_points[filter_],color='g',alpha=.5)\n",
    "plt.title(\"This area correspond to \" + str(percentage) + \" of all data\")\n",
    "plt.show()"
   ]
  },
  {
   "cell_type": "markdown",
   "metadata": {},
   "source": [
    "<br>\n",
    "<div class=\"alert alert-info\">\n",
    "<b>Exercise Start.</b>\n",
    "</div>\n",
    "\n",
    "**Description**:\n",
    "\n",
    "1. For each point in <span style=\"background-color: #F9EBEA; color:##C0392B\">wing_lengths</span>, calculate the distance from the mean in number of standard deviations.\n",
    "2. Calculate the proportion of the data that's within one standard deviation of the mean. Assign the result to <span style=\"background-color: #F9EBEA; color:##C0392B\">within_one_percentage</span>.\n",
    "3. Calculate the proportion of the data that's within two standard deviations of the mean. Assign the result to <span style=\"background-color: #F9EBEA; color:##C0392B\">within_two_percentage</span>.\n",
    "4. Calculate the proportion of the data that's within three standard deviations of the mean. Assign the result to <span style=\"background-color: #F9EBEA; color:##C0392B\">within_three_percentage</span>."
   ]
  },
  {
   "cell_type": "markdown",
   "metadata": {},
   "source": [
    "2. Z-Score\n",
    "=="
   ]
  },
  {
   "cell_type": "code",
   "execution_count": 37,
   "metadata": {
    "scrolled": false
   },
   "outputs": [
    {
     "name": "stdout",
     "output_type": "stream",
     "text": [
      "Populating the interactive namespace from numpy and matplotlib\n"
     ]
    },
    {
     "data": {
      "image/png": "[encoded data removed]",
      "text/plain": [
       "<matplotlib.figure.Figure at 0x1a14792780>"
      ]
     },
     "metadata": {},
     "output_type": "display_data"
    },
    {
     "data": {
      "text/plain": [
       "0.9175667301260455"
      ]
     },
     "execution_count": 37,
     "metadata": {},
     "output_type": "execute_result"
    }
   ],
   "source": [
    "import numpy as np\n",
    "import scipy.stats as stats\n",
    "import matplotlib.pyplot as plt\n",
    "\n",
    "%pylab inline\n",
    "pylab.rcParams['figure.figsize'] = (10, 8)\n",
    "\n",
    "## points under study\n",
    "xi = 240\n",
    "mean_facebook = 190\n",
    "std_facebook = 36\n",
    "axis_x = range(0,300)\n",
    "\n",
    "## return the cumulative value from Z-Table\n",
    "cdf = stats.norm.cdf(xi,mean_facebook, std_facebook)\n",
    "\n",
    "## -2std, -std, std, 2std \n",
    "minus2std = mean_facebook - 2*std_facebook\n",
    "minusstd = mean_facebook - std_facebook\n",
    "plus1std = mean_facebook + std_facebook\n",
    "plus2std = mean_facebook + 2*std_facebook\n",
    "\n",
    "## mark points in the plot\n",
    "markers_points = [minus2std, minusstd, mean_facebook, plus1std, plus2std]\n",
    "\n",
    "## find the probability distribution function\n",
    "pdf = stats.norm.pdf(axis_x,mean_facebook,std_facebook)\n",
    "\n",
    "\n",
    "## - line, b -blue, D - diamond\n",
    "plt.plot(axis_x, pdf, '-bD',markevery=markers_points)\n",
    "plt.annotate('$\\mu$',xy=(mean_facebook+4,pdf[mean_facebook]))\n",
    "plt.annotate('$-2\\sigma$',xy=(minus2std-14,pdf[minus2std]))\n",
    "plt.annotate('$-\\sigma$',xy=(minusstd-10,pdf[minusstd]))\n",
    "plt.annotate('$\\sigma$',xy=(plus1std+4,pdf[plus1std]))\n",
    "plt.annotate('$2\\sigma$',xy=(plus2std+4,pdf[plus2std]))\n",
    "\n",
    "## The shaded area is cdf at xi, in other words, cdf[240] = 0.9175667301260455\n",
    "plt.fill_between(axis_x[0:xi], pdf[0:xi],color='g',alpha=.5)\n",
    "\n",
    "plt.show()\n",
    "\n",
    "cdf\n"
   ]
  },
  {
   "cell_type": "code",
   "execution_count": null,
   "metadata": {},
   "outputs": [],
   "source": []
  }
 ],
 "metadata": {
  "kernelspec": {
   "display_name": "Python 3",
   "language": "python",
   "name": "python3"
  },
  "language_info": {
   "codemirror_mode": {
    "name": "ipython",
    "version": 3
   },
   "file_extension": ".py",
   "mimetype": "text/x-python",
   "name": "python",
   "nbconvert_exporter": "python",
   "pygments_lexer": "ipython3",
   "version": "3.6.4"
  }
 },
 "nbformat": 4,
 "nbformat_minor": 2
}

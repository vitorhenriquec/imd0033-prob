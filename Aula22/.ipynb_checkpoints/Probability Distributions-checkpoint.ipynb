{
 "cells": [
  {
   "cell_type": "markdown",
   "metadata": {},
   "source": [
    "### DESAFIO 1 SLIDE ###"
   ]
  },
  {
   "cell_type": "code",
   "execution_count": 3,
   "metadata": {},
   "outputs": [
    {
     "name": "stdout",
     "output_type": "stream",
     "text": [
      "{1: 1/8, 2: 1/8, 3: 1/8, 4: 1/8, 5: 1/8, 6: 1/8, 7: 1/8, 8: 1/8}\n",
      "{1: 1/8, 2: 1/4, 3: 3/8, 4: 1/2, 5: 5/8, 6: 3/4, 7: 7/8, 8: 1}\n"
     ]
    }
   ],
   "source": [
    "from sympy.stats import Die, density, FiniteRV, cdf\n",
    "Dado = Die('Dado',8)\n",
    "print(density(Dado).dict)\n",
    "print(cdf(Dado))"
   ]
  },
  {
   "cell_type": "code",
   "execution_count": 4,
   "metadata": {},
   "outputs": [],
   "source": [
    "import random, numpy"
   ]
  },
  {
   "cell_type": "code",
   "execution_count": 11,
   "metadata": {},
   "outputs": [
    {
     "name": "stdout",
     "output_type": "stream",
     "text": [
      "0.5857263332126479\n"
     ]
    }
   ],
   "source": [
    "X =  random.uniform(0, 1)\n",
    "print(X)"
   ]
  },
  {
   "cell_type": "code",
   "execution_count": 12,
   "metadata": {},
   "outputs": [
    {
     "name": "stdout",
     "output_type": "stream",
     "text": [
      "5\n"
     ]
    }
   ],
   "source": [
    "dic = cdf(Dado)\n",
    "\n",
    "for keys in dic:\n",
    "    if(keys >1):\n",
    "        if(X > dic[keys-1] and X <= dic[keys]):\n",
    "            print(keys);\n",
    "    else:\n",
    "        if(X <= dic[keys]):\n",
    "            print(keys)\n",
    "            "
   ]
  },
  {
   "cell_type": "markdown",
   "metadata": {},
   "source": [
    "## Discrete Distributions\n",
    "### Probability Mass Function "
   ]
  },
  {
   "cell_type": "code",
   "execution_count": 2,
   "metadata": {
    "scrolled": true
   },
   "outputs": [
    {
     "name": "stdout",
     "output_type": "stream",
     "text": [
      "Dice - 6 faces: pmf(X)\n",
      " {1: 1/6, 2: 1/6, 3: 1/6, 4: 1/6, 5: 1/6, 6: 1/6}\n"
     ]
    }
   ],
   "source": [
    "# pmf - probability mass function\n",
    "from sympy.stats import Die, density, FiniteRV\n",
    "\n",
    "X = Die('X',6)\n",
    "print(\"Dice - 6 faces: pmf(X)\\n\",density(X).dict)"
   ]
  },
  {
   "cell_type": "code",
   "execution_count": 3,
   "metadata": {},
   "outputs": [
    {
     "name": "stdout",
     "output_type": "stream",
     "text": [
      "Biased Dice - 6 faces: pmf(Y)\n",
      " {1: 0.2, 2: 0.1, 3: 0.3, 4: 0.1, 5: 0.2, 6: 0.1}\n"
     ]
    }
   ],
   "source": [
    "# pmf - probability mass function\n",
    "pmf = {1: 0.2, 2: 0.1, 3: 0.3, 4: 0.1, 5: 0.2, 6: 0.1}\n",
    "Y = FiniteRV('Y',pmf)\n",
    "print(\"Biased Dice - 6 faces: pmf(Y)\\n\",density(Y).dict)"
   ]
  },
  {
   "cell_type": "markdown",
   "metadata": {},
   "source": [
    "### Cumulative Distribution Function"
   ]
  },
  {
   "cell_type": "code",
   "execution_count": 4,
   "metadata": {},
   "outputs": [
    {
     "name": "stdout",
     "output_type": "stream",
     "text": [
      "Dice - 6 faces: pmf(X)\n",
      " {1: 1/6, 2: 1/6, 3: 1/6, 4: 1/6, 5: 1/6, 6: 1/6}\n",
      "Dice - 6 faces: cdf(X)\n",
      " {1: 1/6, 2: 1/3, 3: 1/2, 4: 2/3, 5: 5/6, 6: 1}\n"
     ]
    }
   ],
   "source": [
    "# cdf - cumulative distribution function\n",
    "from sympy.stats import cdf\n",
    "\n",
    "print(\"Dice - 6 faces: pmf(X)\\n\",density(X).dict)\n",
    "print(\"Dice - 6 faces: cdf(X)\\n\", cdf(X))"
   ]
  },
  {
   "cell_type": "code",
   "execution_count": 5,
   "metadata": {},
   "outputs": [
    {
     "name": "stdout",
     "output_type": "stream",
     "text": [
      "Biased Dice - 6 faces: pmf(Y)\n",
      " {1: 0.2, 2: 0.1, 3: 0.3, 4: 0.1, 5: 0.2, 6: 0.1}\n",
      "Biased Dice - 6 faces: cdf(Y)\n",
      " {1: 0.200000000000000, 2: 0.300000000000000, 3: 0.600000000000000, 4: 0.700000000000000, 5: 0.900000000000000, 6: 1.00000000000000}\n"
     ]
    }
   ],
   "source": [
    "print(\"Biased Dice - 6 faces: pmf(Y)\\n\",density(Y).dict)\n",
    "print(\"Biased Dice - 6 faces: cdf(Y)\\n\", cdf(Y))"
   ]
  },
  {
   "cell_type": "markdown",
   "metadata": {},
   "source": [
    "<br>\n",
    "<div class=\"alert alert-info\">\n",
    "<b>Exercise start </b>\n",
    "</div>\n",
    "\n",
    "1. Using cdf create a function that generate randomly a face of a 8 faces dice. \n",
    "    - face = my_dice(n,cdf)\n"
   ]
  },
  {
   "cell_type": "code",
   "execution_count": 41,
   "metadata": {},
   "outputs": [
    {
     "data": {
      "text/plain": [
       "{1: 1/8, 2: 1/4, 3: 3/8, 4: 1/2, 5: 5/8, 6: 3/4, 7: 7/8, 8: 1}"
      ]
     },
     "execution_count": 41,
     "metadata": {},
     "output_type": "execute_result"
    }
   ],
   "source": [
    "cdf(Dado)"
   ]
  },
  {
   "cell_type": "code",
   "execution_count": 43,
   "metadata": {},
   "outputs": [
    {
     "name": "stdout",
     "output_type": "stream",
     "text": [
      "0.9423478608289174\n",
      "8\n"
     ]
    }
   ],
   "source": [
    "from sympy.stats import Die, density, FiniteRV, cdf\n",
    "Dado = Die('Dado',8)\n",
    "\n",
    "def my_dice(X,cdf):\n",
    "    for keys in cdf:\n",
    "        if(keys >1):\n",
    "            if(X > dic[keys-1] and X <= dic[keys]):\n",
    "                return keys\n",
    "        else:\n",
    "            if(X <= dic[keys]):\n",
    "                return keys\n",
    "            \n",
    "X =  random.random()\n",
    "print(X)\n",
    "face = my_dice(X,cdf(Dado))\n",
    "print(face)"
   ]
  },
  {
   "cell_type": "markdown",
   "metadata": {},
   "source": [
    "## Bernoulli Distribution\n",
    "\n",
    "$$\n",
    "\\begin{eqnarray*}\n",
    "P(X = x)  \\Leftrightarrow  f(x)  & = &\n",
    "\\begin{cases}\n",
    "               \\displaystyle q, \\ \\ \\ x = 0\\\\\n",
    "               p, \\ \\ \\ x = 1\n",
    "\\end{cases}\\\\\n",
    "P(X \\leq x) \\Leftrightarrow  F(x)  & = &\n",
    "\\begin{cases}\n",
    "               0, \\ \\ \\ x < 0\\\\\n",
    "               q, \\ \\ \\ 0 \\leq x < 1\\\\\n",
    "               1, \\ \\ \\ x \\geq 1\n",
    "\\end{cases}\n",
    "\\end{eqnarray*}\n",
    "$$"
   ]
  },
  {
   "cell_type": "code",
   "execution_count": 44,
   "metadata": {},
   "outputs": [
    {
     "name": "stdout",
     "output_type": "stream",
     "text": [
      "Bernoulli pmf(x):\n",
      " {1: 0.750000000000000, 0: 0.250000000000000}\n",
      "Bernoulli cdf(x): \n",
      " {0: 0.250000000000000, 1: 1.00000000000000}\n"
     ]
    }
   ],
   "source": [
    "from sympy.stats import Bernoulli, density, cdf\n",
    "from sympy import S\n",
    "\n",
    "X = Bernoulli('X', 3/4)\n",
    "print(\"Bernoulli pmf(x):\\n\", density(X).dict)\n",
    "print(\"Bernoulli cdf(x): \\n\", cdf(X))"
   ]
  },
  {
   "cell_type": "markdown",
   "metadata": {},
   "source": [
    "## Binomial Distribution\n",
    "\n",
    "$$\n",
    "\\begin{eqnarray*}\n",
    "P(X = k)  \\Leftrightarrow  f(k,n,p)  & = &\n",
    "\\begin{cases}\n",
    "               \\displaystyle \\binom{n}{k}p^k(1-p)^{n-k} \\ \\ \\ 0 \\leq k \\leq n\\\\\n",
    "               \\textrm{caso contrário}\n",
    "\\end{cases}\\\\\n",
    "P(X \\leq x) \\Leftrightarrow  F(k,n,p)  & = &\n",
    "               \\displaystyle \\sum_{i=0}^{k}\\binom{n}{i}p^k(1-p)^{n-k} \n",
    "\\end{eqnarray*}\n",
    "$$"
   ]
  },
  {
   "cell_type": "code",
   "execution_count": 45,
   "metadata": {},
   "outputs": [
    {
     "data": {
      "text/html": [
       "\n",
       "    <div class=\"bk-root\">\n",
       "        <a href=\"https://bokeh.pydata.org\" target=\"_blank\" class=\"bk-logo bk-logo-small bk-logo-notebook\"></a>\n",
       "        <span id=\"6c9fa41e-640c-4a07-a216-06988223d72c\">Loading BokehJS ...</span>\n",
       "    </div>"
      ]
     },
     "metadata": {},
     "output_type": "display_data"
    },
    {
     "data": {
      "application/javascript": [
       "\n",
       "(function(root) {\n",
       "  function now() {\n",
       "    return new Date();\n",
       "  }\n",
       "\n",
       "  var force = true;\n",
       "\n",
       "  if (typeof (root._bokeh_onload_callbacks) === \"undefined\" || force === true) {\n",
       "    root._bokeh_onload_callbacks = [];\n",
       "    root._bokeh_is_loading = undefined;\n",
       "  }\n",
       "\n",
       "  var JS_MIME_TYPE = 'application/javascript';\n",
       "  var HTML_MIME_TYPE = 'text/html';\n",
       "  var EXEC_MIME_TYPE = 'application/vnd.bokehjs_exec.v0+json';\n",
       "  var CLASS_NAME = 'output_bokeh rendered_html';\n",
       "\n",
       "  /**\n",
       "   * Render data to the DOM node\n",
       "   */\n",
       "  function render(props, node) {\n",
       "    var script = document.createElement(\"script\");\n",
       "    node.appendChild(script);\n",
       "  }\n",
       "\n",
       "  /**\n",
       "   * Handle when an output is cleared or removed\n",
       "   */\n",
       "  function handleClearOutput(event, handle) {\n",
       "    var cell = handle.cell;\n",
       "\n",
       "    var id = cell.output_area._bokeh_element_id;\n",
       "    var server_id = cell.output_area._bokeh_server_id;\n",
       "    // Clean up Bokeh references\n",
       "    if (id !== undefined) {\n",
       "      Bokeh.index[id].model.document.clear();\n",
       "      delete Bokeh.index[id];\n",
       "    }\n",
       "\n",
       "    if (server_id !== undefined) {\n",
       "      // Clean up Bokeh references\n",
       "      var cmd = \"from bokeh.io.state import curstate; print(curstate().uuid_to_server['\" + server_id + \"'].get_sessions()[0].document.roots[0]._id)\";\n",
       "      cell.notebook.kernel.execute(cmd, {\n",
       "        iopub: {\n",
       "          output: function(msg) {\n",
       "            var element_id = msg.content.text.trim();\n",
       "            Bokeh.index[element_id].model.document.clear();\n",
       "            delete Bokeh.index[element_id];\n",
       "          }\n",
       "        }\n",
       "      });\n",
       "      // Destroy server and session\n",
       "      var cmd = \"import bokeh.io.notebook as ion; ion.destroy_server('\" + server_id + \"')\";\n",
       "      cell.notebook.kernel.execute(cmd);\n",
       "    }\n",
       "  }\n",
       "\n",
       "  /**\n",
       "   * Handle when a new output is added\n",
       "   */\n",
       "  function handleAddOutput(event, handle) {\n",
       "    var output_area = handle.output_area;\n",
       "    var output = handle.output;\n",
       "\n",
       "    // limit handleAddOutput to display_data with EXEC_MIME_TYPE content only\n",
       "    if ((output.output_type != \"display_data\") || (!output.data.hasOwnProperty(EXEC_MIME_TYPE))) {\n",
       "      return\n",
       "    }\n",
       "\n",
       "    var toinsert = output_area.element.find(\".\" + CLASS_NAME.split(' ')[0]);\n",
       "\n",
       "    if (output.metadata[EXEC_MIME_TYPE][\"id\"] !== undefined) {\n",
       "      toinsert[0].firstChild.textContent = output.data[JS_MIME_TYPE];\n",
       "      // store reference to embed id on output_area\n",
       "      output_area._bokeh_element_id = output.metadata[EXEC_MIME_TYPE][\"id\"];\n",
       "    }\n",
       "    if (output.metadata[EXEC_MIME_TYPE][\"server_id\"] !== undefined) {\n",
       "      var bk_div = document.createElement(\"div\");\n",
       "      bk_div.innerHTML = output.data[HTML_MIME_TYPE];\n",
       "      var script_attrs = bk_div.children[0].attributes;\n",
       "      for (var i = 0; i < script_attrs.length; i++) {\n",
       "        toinsert[0].firstChild.setAttribute(script_attrs[i].name, script_attrs[i].value);\n",
       "      }\n",
       "      // store reference to server id on output_area\n",
       "      output_area._bokeh_server_id = output.metadata[EXEC_MIME_TYPE][\"server_id\"];\n",
       "    }\n",
       "  }\n",
       "\n",
       "  function register_renderer(events, OutputArea) {\n",
       "\n",
       "    function append_mime(data, metadata, element) {\n",
       "      // create a DOM node to render to\n",
       "      var toinsert = this.create_output_subarea(\n",
       "        metadata,\n",
       "        CLASS_NAME,\n",
       "        EXEC_MIME_TYPE\n",
       "      );\n",
       "      this.keyboard_manager.register_events(toinsert);\n",
       "      // Render to node\n",
       "      var props = {data: data, metadata: metadata[EXEC_MIME_TYPE]};\n",
       "      render(props, toinsert[0]);\n",
       "      element.append(toinsert);\n",
       "      return toinsert\n",
       "    }\n",
       "\n",
       "    /* Handle when an output is cleared or removed */\n",
       "    events.on('clear_output.CodeCell', handleClearOutput);\n",
       "    events.on('delete.Cell', handleClearOutput);\n",
       "\n",
       "    /* Handle when a new output is added */\n",
       "    events.on('output_added.OutputArea', handleAddOutput);\n",
       "\n",
       "    /**\n",
       "     * Register the mime type and append_mime function with output_area\n",
       "     */\n",
       "    OutputArea.prototype.register_mime_type(EXEC_MIME_TYPE, append_mime, {\n",
       "      /* Is output safe? */\n",
       "      safe: true,\n",
       "      /* Index of renderer in `output_area.display_order` */\n",
       "      index: 0\n",
       "    });\n",
       "  }\n",
       "\n",
       "  // register the mime type if in Jupyter Notebook environment and previously unregistered\n",
       "  if (root.Jupyter !== undefined) {\n",
       "    var events = require('base/js/events');\n",
       "    var OutputArea = require('notebook/js/outputarea').OutputArea;\n",
       "\n",
       "    if (OutputArea.prototype.mime_types().indexOf(EXEC_MIME_TYPE) == -1) {\n",
       "      register_renderer(events, OutputArea);\n",
       "    }\n",
       "  }\n",
       "\n",
       "  \n",
       "  if (typeof (root._bokeh_timeout) === \"undefined\" || force === true) {\n",
       "    root._bokeh_timeout = Date.now() + 5000;\n",
       "    root._bokeh_failed_load = false;\n",
       "  }\n",
       "\n",
       "  var NB_LOAD_WARNING = {'data': {'text/html':\n",
       "     \"<div style='background-color: #fdd'>\\n\"+\n",
       "     \"<p>\\n\"+\n",
       "     \"BokehJS does not appear to have successfully loaded. If loading BokehJS from CDN, this \\n\"+\n",
       "     \"may be due to a slow or bad network connection. Possible fixes:\\n\"+\n",
       "     \"</p>\\n\"+\n",
       "     \"<ul>\\n\"+\n",
       "     \"<li>re-rerun `output_notebook()` to attempt to load from CDN again, or</li>\\n\"+\n",
       "     \"<li>use INLINE resources instead, as so:</li>\\n\"+\n",
       "     \"</ul>\\n\"+\n",
       "     \"<code>\\n\"+\n",
       "     \"from bokeh.resources import INLINE\\n\"+\n",
       "     \"output_notebook(resources=INLINE)\\n\"+\n",
       "     \"</code>\\n\"+\n",
       "     \"</div>\"}};\n",
       "\n",
       "  function display_loaded() {\n",
       "    var el = document.getElementById(\"6c9fa41e-640c-4a07-a216-06988223d72c\");\n",
       "    if (el != null) {\n",
       "      el.textContent = \"BokehJS is loading...\";\n",
       "    }\n",
       "    if (root.Bokeh !== undefined) {\n",
       "      if (el != null) {\n",
       "        el.textContent = \"BokehJS \" + root.Bokeh.version + \" successfully loaded.\";\n",
       "      }\n",
       "    } else if (Date.now() < root._bokeh_timeout) {\n",
       "      setTimeout(display_loaded, 100)\n",
       "    }\n",
       "  }\n",
       "\n",
       "\n",
       "  function run_callbacks() {\n",
       "    try {\n",
       "      root._bokeh_onload_callbacks.forEach(function(callback) { callback() });\n",
       "    }\n",
       "    finally {\n",
       "      delete root._bokeh_onload_callbacks\n",
       "    }\n",
       "    console.info(\"Bokeh: all callbacks have finished\");\n",
       "  }\n",
       "\n",
       "  function load_libs(js_urls, callback) {\n",
       "    root._bokeh_onload_callbacks.push(callback);\n",
       "    if (root._bokeh_is_loading > 0) {\n",
       "      console.log(\"Bokeh: BokehJS is being loaded, scheduling callback at\", now());\n",
       "      return null;\n",
       "    }\n",
       "    if (js_urls == null || js_urls.length === 0) {\n",
       "      run_callbacks();\n",
       "      return null;\n",
       "    }\n",
       "    console.log(\"Bokeh: BokehJS not loaded, scheduling load and callback at\", now());\n",
       "    root._bokeh_is_loading = js_urls.length;\n",
       "    for (var i = 0; i < js_urls.length; i++) {\n",
       "      var url = js_urls[i];\n",
       "      var s = document.createElement('script');\n",
       "      s.src = url;\n",
       "      s.async = false;\n",
       "      s.onreadystatechange = s.onload = function() {\n",
       "        root._bokeh_is_loading--;\n",
       "        if (root._bokeh_is_loading === 0) {\n",
       "          console.log(\"Bokeh: all BokehJS libraries loaded\");\n",
       "          run_callbacks()\n",
       "        }\n",
       "      };\n",
       "      s.onerror = function() {\n",
       "        console.warn(\"failed to load library \" + url);\n",
       "      };\n",
       "      console.log(\"Bokeh: injecting script tag for BokehJS library: \", url);\n",
       "      document.getElementsByTagName(\"head\")[0].appendChild(s);\n",
       "    }\n",
       "  };var element = document.getElementById(\"6c9fa41e-640c-4a07-a216-06988223d72c\");\n",
       "  if (element == null) {\n",
       "    console.log(\"Bokeh: ERROR: autoload.js configured with elementid '6c9fa41e-640c-4a07-a216-06988223d72c' but no matching script tag was found. \")\n",
       "    return false;\n",
       "  }\n",
       "\n",
       "  var js_urls = [\"https://cdn.pydata.org/bokeh/release/bokeh-0.12.13.min.js\", \"https://cdn.pydata.org/bokeh/release/bokeh-widgets-0.12.13.min.js\", \"https://cdn.pydata.org/bokeh/release/bokeh-tables-0.12.13.min.js\", \"https://cdn.pydata.org/bokeh/release/bokeh-gl-0.12.13.min.js\"];\n",
       "\n",
       "  var inline_js = [\n",
       "    function(Bokeh) {\n",
       "      Bokeh.set_log_level(\"info\");\n",
       "    },\n",
       "    \n",
       "    function(Bokeh) {\n",
       "      \n",
       "    },\n",
       "    function(Bokeh) {\n",
       "      console.log(\"Bokeh: injecting CSS: https://cdn.pydata.org/bokeh/release/bokeh-0.12.13.min.css\");\n",
       "      Bokeh.embed.inject_css(\"https://cdn.pydata.org/bokeh/release/bokeh-0.12.13.min.css\");\n",
       "      console.log(\"Bokeh: injecting CSS: https://cdn.pydata.org/bokeh/release/bokeh-widgets-0.12.13.min.css\");\n",
       "      Bokeh.embed.inject_css(\"https://cdn.pydata.org/bokeh/release/bokeh-widgets-0.12.13.min.css\");\n",
       "      console.log(\"Bokeh: injecting CSS: https://cdn.pydata.org/bokeh/release/bokeh-tables-0.12.13.min.css\");\n",
       "      Bokeh.embed.inject_css(\"https://cdn.pydata.org/bokeh/release/bokeh-tables-0.12.13.min.css\");\n",
       "    }\n",
       "  ];\n",
       "\n",
       "  function run_inline_js() {\n",
       "    \n",
       "    if ((root.Bokeh !== undefined) || (force === true)) {\n",
       "      for (var i = 0; i < inline_js.length; i++) {\n",
       "        inline_js[i].call(root, root.Bokeh);\n",
       "      }if (force === true) {\n",
       "        display_loaded();\n",
       "      }} else if (Date.now() < root._bokeh_timeout) {\n",
       "      setTimeout(run_inline_js, 100);\n",
       "    } else if (!root._bokeh_failed_load) {\n",
       "      console.log(\"Bokeh: BokehJS failed to load within specified timeout.\");\n",
       "      root._bokeh_failed_load = true;\n",
       "    } else if (force !== true) {\n",
       "      var cell = $(document.getElementById(\"6c9fa41e-640c-4a07-a216-06988223d72c\")).parents('.cell').data().cell;\n",
       "      cell.output_area.append_execute_result(NB_LOAD_WARNING)\n",
       "    }\n",
       "\n",
       "  }\n",
       "\n",
       "  if (root._bokeh_is_loading === 0) {\n",
       "    console.log(\"Bokeh: BokehJS loaded, going straight to plotting\");\n",
       "    run_inline_js();\n",
       "  } else {\n",
       "    load_libs(js_urls, function() {\n",
       "      console.log(\"Bokeh: BokehJS plotting callback run at\", now());\n",
       "      run_inline_js();\n",
       "    });\n",
       "  }\n",
       "}(window));"
      ],
      "application/vnd.bokehjs_load.v0+json": "\n(function(root) {\n  function now() {\n    return new Date();\n  }\n\n  var force = true;\n\n  if (typeof (root._bokeh_onload_callbacks) === \"undefined\" || force === true) {\n    root._bokeh_onload_callbacks = [];\n    root._bokeh_is_loading = undefined;\n  }\n\n  \n\n  \n  if (typeof (root._bokeh_timeout) === \"undefined\" || force === true) {\n    root._bokeh_timeout = Date.now() + 5000;\n    root._bokeh_failed_load = false;\n  }\n\n  var NB_LOAD_WARNING = {'data': {'text/html':\n     \"<div style='background-color: #fdd'>\\n\"+\n     \"<p>\\n\"+\n     \"BokehJS does not appear to have successfully loaded. If loading BokehJS from CDN, this \\n\"+\n     \"may be due to a slow or bad network connection. Possible fixes:\\n\"+\n     \"</p>\\n\"+\n     \"<ul>\\n\"+\n     \"<li>re-rerun `output_notebook()` to attempt to load from CDN again, or</li>\\n\"+\n     \"<li>use INLINE resources instead, as so:</li>\\n\"+\n     \"</ul>\\n\"+\n     \"<code>\\n\"+\n     \"from bokeh.resources import INLINE\\n\"+\n     \"output_notebook(resources=INLINE)\\n\"+\n     \"</code>\\n\"+\n     \"</div>\"}};\n\n  function display_loaded() {\n    var el = document.getElementById(\"6c9fa41e-640c-4a07-a216-06988223d72c\");\n    if (el != null) {\n      el.textContent = \"BokehJS is loading...\";\n    }\n    if (root.Bokeh !== undefined) {\n      if (el != null) {\n        el.textContent = \"BokehJS \" + root.Bokeh.version + \" successfully loaded.\";\n      }\n    } else if (Date.now() < root._bokeh_timeout) {\n      setTimeout(display_loaded, 100)\n    }\n  }\n\n\n  function run_callbacks() {\n    try {\n      root._bokeh_onload_callbacks.forEach(function(callback) { callback() });\n    }\n    finally {\n      delete root._bokeh_onload_callbacks\n    }\n    console.info(\"Bokeh: all callbacks have finished\");\n  }\n\n  function load_libs(js_urls, callback) {\n    root._bokeh_onload_callbacks.push(callback);\n    if (root._bokeh_is_loading > 0) {\n      console.log(\"Bokeh: BokehJS is being loaded, scheduling callback at\", now());\n      return null;\n    }\n    if (js_urls == null || js_urls.length === 0) {\n      run_callbacks();\n      return null;\n    }\n    console.log(\"Bokeh: BokehJS not loaded, scheduling load and callback at\", now());\n    root._bokeh_is_loading = js_urls.length;\n    for (var i = 0; i < js_urls.length; i++) {\n      var url = js_urls[i];\n      var s = document.createElement('script');\n      s.src = url;\n      s.async = false;\n      s.onreadystatechange = s.onload = function() {\n        root._bokeh_is_loading--;\n        if (root._bokeh_is_loading === 0) {\n          console.log(\"Bokeh: all BokehJS libraries loaded\");\n          run_callbacks()\n        }\n      };\n      s.onerror = function() {\n        console.warn(\"failed to load library \" + url);\n      };\n      console.log(\"Bokeh: injecting script tag for BokehJS library: \", url);\n      document.getElementsByTagName(\"head\")[0].appendChild(s);\n    }\n  };var element = document.getElementById(\"6c9fa41e-640c-4a07-a216-06988223d72c\");\n  if (element == null) {\n    console.log(\"Bokeh: ERROR: autoload.js configured with elementid '6c9fa41e-640c-4a07-a216-06988223d72c' but no matching script tag was found. \")\n    return false;\n  }\n\n  var js_urls = [\"https://cdn.pydata.org/bokeh/release/bokeh-0.12.13.min.js\", \"https://cdn.pydata.org/bokeh/release/bokeh-widgets-0.12.13.min.js\", \"https://cdn.pydata.org/bokeh/release/bokeh-tables-0.12.13.min.js\", \"https://cdn.pydata.org/bokeh/release/bokeh-gl-0.12.13.min.js\"];\n\n  var inline_js = [\n    function(Bokeh) {\n      Bokeh.set_log_level(\"info\");\n    },\n    \n    function(Bokeh) {\n      \n    },\n    function(Bokeh) {\n      console.log(\"Bokeh: injecting CSS: https://cdn.pydata.org/bokeh/release/bokeh-0.12.13.min.css\");\n      Bokeh.embed.inject_css(\"https://cdn.pydata.org/bokeh/release/bokeh-0.12.13.min.css\");\n      console.log(\"Bokeh: injecting CSS: https://cdn.pydata.org/bokeh/release/bokeh-widgets-0.12.13.min.css\");\n      Bokeh.embed.inject_css(\"https://cdn.pydata.org/bokeh/release/bokeh-widgets-0.12.13.min.css\");\n      console.log(\"Bokeh: injecting CSS: https://cdn.pydata.org/bokeh/release/bokeh-tables-0.12.13.min.css\");\n      Bokeh.embed.inject_css(\"https://cdn.pydata.org/bokeh/release/bokeh-tables-0.12.13.min.css\");\n    }\n  ];\n\n  function run_inline_js() {\n    \n    if ((root.Bokeh !== undefined) || (force === true)) {\n      for (var i = 0; i < inline_js.length; i++) {\n        inline_js[i].call(root, root.Bokeh);\n      }if (force === true) {\n        display_loaded();\n      }} else if (Date.now() < root._bokeh_timeout) {\n      setTimeout(run_inline_js, 100);\n    } else if (!root._bokeh_failed_load) {\n      console.log(\"Bokeh: BokehJS failed to load within specified timeout.\");\n      root._bokeh_failed_load = true;\n    } else if (force !== true) {\n      var cell = $(document.getElementById(\"6c9fa41e-640c-4a07-a216-06988223d72c\")).parents('.cell').data().cell;\n      cell.output_area.append_execute_result(NB_LOAD_WARNING)\n    }\n\n  }\n\n  if (root._bokeh_is_loading === 0) {\n    console.log(\"Bokeh: BokehJS loaded, going straight to plotting\");\n    run_inline_js();\n  } else {\n    load_libs(js_urls, function() {\n      console.log(\"Bokeh: BokehJS plotting callback run at\", now());\n      run_inline_js();\n    });\n  }\n}(window));"
     },
     "metadata": {},
     "output_type": "display_data"
    }
   ],
   "source": [
    "import numpy as np\n",
    "from scipy.stats import binom, geom\n",
    "from bokeh.plotting import Figure\n",
    "\n",
    "from bokeh.io import show,output_notebook\n",
    "from bokeh.models import HoverTool\n",
    "from bokeh.layouts import row\n",
    "\n",
    "import random\n",
    "output_notebook()"
   ]
  },
  {
   "cell_type": "code",
   "execution_count": 46,
   "metadata": {
    "scrolled": true
   },
   "outputs": [
    {
     "data": {
      "text/html": [
       "\n",
       "<div class=\"bk-root\">\n",
       "    <div class=\"bk-plotdiv\" id=\"671c9027-f5c0-4179-9efc-8f842de16416\"></div>\n",
       "</div>"
      ]
     },
     "metadata": {},
     "output_type": "display_data"
    },
    {
     "data": {
      "application/javascript": [
       "(function(root) {\n",
       "  function embed_document(root) {\n",
       "    \n",
       "  var docs_json = {\"e5429970-7e9c-424c-b6c1-65dd245245ca\":{\"roots\":{\"references\":[{\"attributes\":{\"fill_color\":{\"value\":\"red\"},\"line_color\":{\"value\":\"red\"},\"size\":{\"units\":\"screen\",\"value\":7},\"x\":{\"field\":\"x\"},\"y\":{\"field\":\"y\"}},\"id\":\"88a830d9-d178-4624-ae42-6100b8ba463d\",\"type\":\"Circle\"},{\"attributes\":{\"below\":[{\"id\":\"2a13194f-1087-40d3-8fe1-af5adcff0416\",\"type\":\"LinearAxis\"}],\"left\":[{\"id\":\"3d8dba33-a179-4c53-aa4d-1f3031148340\",\"type\":\"LinearAxis\"}],\"plot_height\":300,\"plot_width\":400,\"renderers\":[{\"id\":\"2a13194f-1087-40d3-8fe1-af5adcff0416\",\"type\":\"LinearAxis\"},{\"id\":\"4dc86ea9-2a46-422c-bf81-fcc8962b75dc\",\"type\":\"Grid\"},{\"id\":\"3d8dba33-a179-4c53-aa4d-1f3031148340\",\"type\":\"LinearAxis\"},{\"id\":\"92d1c8a4-7522-44f4-9931-518c50e3f7ca\",\"type\":\"Grid\"},{\"id\":\"165d529d-8c26-48d6-96c0-11277f1f0176\",\"type\":\"Legend\"},{\"id\":\"6064e992-959a-4547-ad1b-46e6e7b18465\",\"type\":\"GlyphRenderer\"},{\"id\":\"adc9af69-0c97-4735-b070-b5f4ff4190d6\",\"type\":\"GlyphRenderer\"},{\"id\":\"d996099d-c006-4608-bd1a-41ac22e81ff7\",\"type\":\"GlyphRenderer\"},{\"id\":\"0a4dcb26-6f24-4409-a7a9-fef6242d29e3\",\"type\":\"GlyphRenderer\"}],\"title\":{\"id\":\"36a3cdeb-b419-43d6-a762-74c3ce391ba2\",\"type\":\"Title\"},\"toolbar\":{\"id\":\"5da30da2-6d48-4bf0-b4f0-c6d2db5b74e8\",\"type\":\"Toolbar\"},\"x_range\":{\"id\":\"876938ca-65f6-4969-b98a-4c079e88b8c8\",\"type\":\"DataRange1d\"},\"x_scale\":{\"id\":\"049b4fb0-1d68-4834-b465-487eb3e70854\",\"type\":\"LinearScale\"},\"y_range\":{\"id\":\"ac4cb5e1-a085-4343-98f9-b8fc9376f398\",\"type\":\"DataRange1d\"},\"y_scale\":{\"id\":\"f0bfdb52-60e8-4f65-aec5-f4299f28b7be\",\"type\":\"LinearScale\"}},\"id\":\"25d2ac1b-76b8-43b4-8bf9-2e12d0316d0c\",\"subtype\":\"Figure\",\"type\":\"Plot\"},{\"attributes\":{\"data_source\":{\"id\":\"d6df7a0b-f645-4d21-923a-a732023cbb9e\",\"type\":\"ColumnDataSource\"},\"glyph\":{\"id\":\"02966b06-d250-4402-b639-1755b70e3963\",\"type\":\"Circle\"},\"hover_glyph\":null,\"muted_glyph\":null,\"nonselection_glyph\":{\"id\":\"c58acf04-6617-427e-971b-0c7a5e090242\",\"type\":\"Circle\"},\"selection_glyph\":null,\"view\":{\"id\":\"f7c00446-6e81-4084-b8e8-676cb1d85c57\",\"type\":\"CDSView\"}},\"id\":\"6064e992-959a-4547-ad1b-46e6e7b18465\",\"type\":\"GlyphRenderer\"},{\"attributes\":{\"fill_alpha\":{\"value\":0.1},\"fill_color\":{\"value\":\"#1f77b4\"},\"line_alpha\":{\"value\":0.1},\"line_color\":{\"value\":\"#1f77b4\"},\"size\":{\"units\":\"screen\",\"value\":7},\"x\":{\"field\":\"x\"},\"y\":{\"field\":\"y\"}},\"id\":\"f218a861-5f7c-41d4-9fbd-54e245a5769b\",\"type\":\"Circle\"},{\"attributes\":{\"data_source\":{\"id\":\"760aa212-aa2b-4529-b077-095d017c231b\",\"type\":\"ColumnDataSource\"},\"glyph\":{\"id\":\"88a830d9-d178-4624-ae42-6100b8ba463d\",\"type\":\"Circle\"},\"hover_glyph\":null,\"muted_glyph\":null,\"nonselection_glyph\":{\"id\":\"f218a861-5f7c-41d4-9fbd-54e245a5769b\",\"type\":\"Circle\"},\"selection_glyph\":null,\"view\":{\"id\":\"3aa18f96-20e3-4737-bd18-2961c4b05393\",\"type\":\"CDSView\"}},\"id\":\"2247b08f-3fe6-4a79-96a8-6943aabae495\",\"type\":\"GlyphRenderer\"},{\"attributes\":{\"callback\":null,\"tooltips\":[[\"\",\"$y\"]]},\"id\":\"97430fe3-6f93-445c-96f8-ae510ca26e5b\",\"type\":\"HoverTool\"},{\"attributes\":{\"source\":{\"id\":\"760aa212-aa2b-4529-b077-095d017c231b\",\"type\":\"ColumnDataSource\"}},\"id\":\"3aa18f96-20e3-4737-bd18-2961c4b05393\",\"type\":\"CDSView\"},{\"attributes\":{\"callback\":null},\"id\":\"876938ca-65f6-4969-b98a-4c079e88b8c8\",\"type\":\"DataRange1d\"},{\"attributes\":{\"plot\":null,\"text\":\"Binomial Distribution\"},\"id\":\"36a3cdeb-b419-43d6-a762-74c3ce391ba2\",\"type\":\"Title\"},{\"attributes\":{\"children\":[{\"id\":\"25d2ac1b-76b8-43b4-8bf9-2e12d0316d0c\",\"subtype\":\"Figure\",\"type\":\"Plot\"},{\"id\":\"25c104f2-04a5-4626-b51c-4b3535c4403e\",\"subtype\":\"Figure\",\"type\":\"Plot\"}]},\"id\":\"9c80910b-aad7-4e35-9d5d-8a4276ed1eee\",\"type\":\"Row\"},{\"attributes\":{\"fill_alpha\":{\"value\":0.1},\"fill_color\":{\"value\":\"#1f77b4\"},\"line_alpha\":{\"value\":0.1},\"line_color\":{\"value\":\"#1f77b4\"},\"size\":{\"units\":\"screen\",\"value\":7},\"x\":{\"field\":\"x\"},\"y\":{\"field\":\"y\"}},\"id\":\"c58acf04-6617-427e-971b-0c7a5e090242\",\"type\":\"Circle\"},{\"attributes\":{\"active_drag\":\"auto\",\"active_inspect\":\"auto\",\"active_scroll\":\"auto\",\"active_tap\":\"auto\",\"tools\":[{\"id\":\"45f610fc-40c3-4975-93a2-3995dce6e686\",\"type\":\"PanTool\"},{\"id\":\"9acc7ee5-af1d-44e4-ba2c-d561342e41b6\",\"type\":\"WheelZoomTool\"},{\"id\":\"82b2d51d-093c-4ba6-846c-a3e349ec151c\",\"type\":\"ResetTool\"},{\"id\":\"d9832912-d644-4941-a1b2-fdcb0a48e13a\",\"type\":\"SaveTool\"}]},\"id\":\"5da30da2-6d48-4bf0-b4f0-c6d2db5b74e8\",\"type\":\"Toolbar\"},{\"attributes\":{\"fill_alpha\":{\"value\":0.1},\"fill_color\":{\"value\":\"#1f77b4\"},\"line_alpha\":{\"value\":0.1},\"line_color\":{\"value\":\"#1f77b4\"},\"size\":{\"units\":\"screen\",\"value\":7},\"x\":{\"field\":\"x\"},\"y\":{\"field\":\"y\"}},\"id\":\"410cb05e-36c7-4c8b-8a5e-a77f2863a893\",\"type\":\"Circle\"},{\"attributes\":{},\"id\":\"049b4fb0-1d68-4834-b465-487eb3e70854\",\"type\":\"LinearScale\"},{\"attributes\":{\"callback\":null},\"id\":\"ac4cb5e1-a085-4343-98f9-b8fc9376f398\",\"type\":\"DataRange1d\"},{\"attributes\":{},\"id\":\"f0bfdb52-60e8-4f65-aec5-f4299f28b7be\",\"type\":\"LinearScale\"},{\"attributes\":{\"below\":[{\"id\":\"350ffc23-3f29-42fc-bb1a-726ef39e60ee\",\"type\":\"LinearAxis\"}],\"left\":[{\"id\":\"7a3a380e-d858-4b28-a7f3-fe55049b0c08\",\"type\":\"LinearAxis\"}],\"plot_height\":300,\"plot_width\":400,\"renderers\":[{\"id\":\"350ffc23-3f29-42fc-bb1a-726ef39e60ee\",\"type\":\"LinearAxis\"},{\"id\":\"566885e2-1717-4ccc-a753-c09ff34a0f27\",\"type\":\"Grid\"},{\"id\":\"7a3a380e-d858-4b28-a7f3-fe55049b0c08\",\"type\":\"LinearAxis\"},{\"id\":\"d85a026e-5999-4aa5-bb40-faf4a5792ed9\",\"type\":\"Grid\"},{\"id\":\"f2318aa8-4440-4e07-be94-aa0d5bf31cfd\",\"type\":\"GlyphRenderer\"},{\"id\":\"2247b08f-3fe6-4a79-96a8-6943aabae495\",\"type\":\"GlyphRenderer\"}],\"title\":{\"id\":\"5d7f2808-a3b1-4f50-9664-c161b4228338\",\"type\":\"Title\"},\"toolbar\":{\"id\":\"91efb0e4-a207-49bd-a1aa-a1f481185f98\",\"type\":\"Toolbar\"},\"x_range\":{\"id\":\"876938ca-65f6-4969-b98a-4c079e88b8c8\",\"type\":\"DataRange1d\"},\"x_scale\":{\"id\":\"b67df33e-4938-48f5-8c80-a42b9ffc29c1\",\"type\":\"LinearScale\"},\"y_range\":{\"id\":\"bbff9eb3-c1ec-4969-b117-f719c97f55f1\",\"type\":\"Range1d\"},\"y_scale\":{\"id\":\"da42251d-6db0-45fc-91c0-d0e5ffca2958\",\"type\":\"LinearScale\"}},\"id\":\"25c104f2-04a5-4626-b51c-4b3535c4403e\",\"subtype\":\"Figure\",\"type\":\"Plot\"},{\"attributes\":{\"axis_label\":\"k\",\"formatter\":{\"id\":\"9c4c49fb-42fa-4e30-8621-da4671c3a20e\",\"type\":\"BasicTickFormatter\"},\"plot\":{\"id\":\"25d2ac1b-76b8-43b4-8bf9-2e12d0316d0c\",\"subtype\":\"Figure\",\"type\":\"Plot\"},\"ticker\":{\"id\":\"364af1bf-2e2d-4d98-b583-4fe70283f2ce\",\"type\":\"BasicTicker\"}},\"id\":\"2a13194f-1087-40d3-8fe1-af5adcff0416\",\"type\":\"LinearAxis\"},{\"attributes\":{},\"id\":\"364af1bf-2e2d-4d98-b583-4fe70283f2ce\",\"type\":\"BasicTicker\"},{\"attributes\":{\"plot\":{\"id\":\"25d2ac1b-76b8-43b4-8bf9-2e12d0316d0c\",\"subtype\":\"Figure\",\"type\":\"Plot\"},\"ticker\":{\"id\":\"364af1bf-2e2d-4d98-b583-4fe70283f2ce\",\"type\":\"BasicTicker\"}},\"id\":\"4dc86ea9-2a46-422c-bf81-fcc8962b75dc\",\"type\":\"Grid\"},{\"attributes\":{\"axis_label\":\"f(k,n,p)\",\"formatter\":{\"id\":\"85698787-73c0-4478-a83e-44a3ae53047e\",\"type\":\"BasicTickFormatter\"},\"plot\":{\"id\":\"25d2ac1b-76b8-43b4-8bf9-2e12d0316d0c\",\"subtype\":\"Figure\",\"type\":\"Plot\"},\"ticker\":{\"id\":\"028d8ce8-2f3b-4ceb-86e1-60209c8a6ede\",\"type\":\"BasicTicker\"}},\"id\":\"3d8dba33-a179-4c53-aa4d-1f3031148340\",\"type\":\"LinearAxis\"},{\"attributes\":{},\"id\":\"028d8ce8-2f3b-4ceb-86e1-60209c8a6ede\",\"type\":\"BasicTicker\"},{\"attributes\":{\"dimension\":1,\"plot\":{\"id\":\"25d2ac1b-76b8-43b4-8bf9-2e12d0316d0c\",\"subtype\":\"Figure\",\"type\":\"Plot\"},\"ticker\":{\"id\":\"028d8ce8-2f3b-4ceb-86e1-60209c8a6ede\",\"type\":\"BasicTicker\"}},\"id\":\"92d1c8a4-7522-44f4-9931-518c50e3f7ca\",\"type\":\"Grid\"},{\"attributes\":{},\"id\":\"45f610fc-40c3-4975-93a2-3995dce6e686\",\"type\":\"PanTool\"},{\"attributes\":{\"callback\":null,\"column_names\":[\"x0\",\"x1\",\"y1\"],\"data\":{\"x0\":{\"__ndarray__\":\"AAAAAAEAAAACAAAAAwAAAAQAAAAFAAAABgAAAAcAAAAIAAAACQAAAAoAAAALAAAADAAAAA0AAAAOAAAADwAAABAAAAARAAAAEgAAABMAAAAUAAAA\",\"dtype\":\"int32\",\"shape\":[21]},\"x1\":{\"__ndarray__\":\"AAAAAAEAAAACAAAAAwAAAAQAAAAFAAAABgAAAAcAAAAIAAAACQAAAAoAAAALAAAADAAAAA0AAAAOAAAADwAAABAAAAARAAAAEgAAABMAAAAUAAAA\",\"dtype\":\"int32\",\"shape\":[21]},\"y1\":{\"__ndarray__\":\"AAAAAAAAsD79///////zPvr/////vyc/+f/////PUT/0/////+xyP9f/////R44/8P/////soj8NAAAAAO2yPwAAAAAgwb4/9f///7+AxD/5////n43GP/X///+/gMQ/AAAAACDBvj8NAAAAAO2yP/D/////7KI/1/////9Hjj/0/////+xyP/n/////z1E/+v////+/Jz/9///////zPgAAAAAAALA+\",\"dtype\":\"float64\",\"shape\":[21]}}},\"id\":\"42ce4527-b390-4edd-baee-67b2f5be2287\",\"type\":\"ColumnDataSource\"},{\"attributes\":{\"active_drag\":\"auto\",\"active_inspect\":\"auto\",\"active_scroll\":\"auto\",\"active_tap\":\"auto\",\"tools\":[{\"id\":\"97430fe3-6f93-445c-96f8-ae510ca26e5b\",\"type\":\"HoverTool\"},{\"id\":\"c89e12ce-0a54-4615-9d85-9f47f4f614b3\",\"type\":\"PanTool\"},{\"id\":\"c2a16fdb-af39-4035-a116-90aa7ea875a3\",\"type\":\"WheelZoomTool\"},{\"id\":\"e95b3e45-969a-46b6-9b44-da181bfc111e\",\"type\":\"ResetTool\"},{\"id\":\"20ed202e-9356-4a1e-8f1b-debd158a3ab8\",\"type\":\"SaveTool\"}]},\"id\":\"91efb0e4-a207-49bd-a1aa-a1f481185f98\",\"type\":\"Toolbar\"},{\"attributes\":{},\"id\":\"da42251d-6db0-45fc-91c0-d0e5ffca2958\",\"type\":\"LinearScale\"},{\"attributes\":{\"callback\":null,\"end\":1.05,\"start\":-0.05},\"id\":\"bbff9eb3-c1ec-4969-b117-f719c97f55f1\",\"type\":\"Range1d\"},{\"attributes\":{},\"id\":\"9acc7ee5-af1d-44e4-ba2c-d561342e41b6\",\"type\":\"WheelZoomTool\"},{\"attributes\":{},\"id\":\"82b2d51d-093c-4ba6-846c-a3e349ec151c\",\"type\":\"ResetTool\"},{\"attributes\":{},\"id\":\"d9832912-d644-4941-a1b2-fdcb0a48e13a\",\"type\":\"SaveTool\"},{\"attributes\":{\"fill_color\":{\"value\":\"red\"},\"line_color\":{\"value\":\"red\"},\"size\":{\"units\":\"screen\",\"value\":7},\"x\":{\"field\":\"x\"},\"y\":{\"field\":\"y\"}},\"id\":\"d9f95a50-ef85-4441-bd47-f999bc06aced\",\"type\":\"Circle\"},{\"attributes\":{\"callback\":null,\"column_names\":[\"x\",\"y\"],\"data\":{\"x\":{\"__ndarray__\":\"AAAAAAEAAAACAAAAAwAAAAQAAAAFAAAABgAAAAcAAAAIAAAACQAAAAoAAAALAAAADAAAAA0AAAAOAAAADwAAABAAAAARAAAAEgAAABMAAAAUAAAA\",\"dtype\":\"int32\",\"shape\":[21]},\"y\":{\"__ndarray__\":\"AAAAAAAAsD79///////zPvr/////vyc/+f/////PUT/0/////+xyP9f/////R44/8P/////soj8NAAAAAO2yPwAAAAAgwb4/9f///7+AxD/5////n43GP/X///+/gMQ/AAAAACDBvj8NAAAAAO2yP/D/////7KI/1/////9Hjj/0/////+xyP/n/////z1E/+v////+/Jz/9///////zPgAAAAAAALA+\",\"dtype\":\"float64\",\"shape\":[21]}}},\"id\":\"d6df7a0b-f645-4d21-923a-a732023cbb9e\",\"type\":\"ColumnDataSource\"},{\"attributes\":{},\"id\":\"b67df33e-4938-48f5-8c80-a42b9ffc29c1\",\"type\":\"LinearScale\"},{\"attributes\":{\"plot\":{\"id\":\"25c104f2-04a5-4626-b51c-4b3535c4403e\",\"subtype\":\"Figure\",\"type\":\"Plot\"},\"ticker\":{\"id\":\"01a7af35-1d02-4683-8bb3-9bdbeb78152e\",\"type\":\"BasicTicker\"}},\"id\":\"566885e2-1717-4ccc-a753-c09ff34a0f27\",\"type\":\"Grid\"},{\"attributes\":{\"axis_label\":\"k\",\"formatter\":{\"id\":\"d2e5c0fb-0a96-4239-bff8-eb7f2d54c118\",\"type\":\"BasicTickFormatter\"},\"plot\":{\"id\":\"25c104f2-04a5-4626-b51c-4b3535c4403e\",\"subtype\":\"Figure\",\"type\":\"Plot\"},\"ticker\":{\"id\":\"01a7af35-1d02-4683-8bb3-9bdbeb78152e\",\"type\":\"BasicTicker\"}},\"id\":\"350ffc23-3f29-42fc-bb1a-726ef39e60ee\",\"type\":\"LinearAxis\"},{\"attributes\":{},\"id\":\"01a7af35-1d02-4683-8bb3-9bdbeb78152e\",\"type\":\"BasicTicker\"},{\"attributes\":{\"axis_label\":\"F(k,n,p)\",\"formatter\":{\"id\":\"8d451be0-4590-4c9c-858c-8cc391beb702\",\"type\":\"BasicTickFormatter\"},\"plot\":{\"id\":\"25c104f2-04a5-4626-b51c-4b3535c4403e\",\"subtype\":\"Figure\",\"type\":\"Plot\"},\"ticker\":{\"id\":\"543721b0-849b-4d0a-975a-795c5fe5a863\",\"type\":\"BasicTicker\"}},\"id\":\"7a3a380e-d858-4b28-a7f3-fe55049b0c08\",\"type\":\"LinearAxis\"},{\"attributes\":{},\"id\":\"543721b0-849b-4d0a-975a-795c5fe5a863\",\"type\":\"BasicTicker\"},{\"attributes\":{\"dimension\":1,\"plot\":{\"id\":\"25c104f2-04a5-4626-b51c-4b3535c4403e\",\"subtype\":\"Figure\",\"type\":\"Plot\"},\"ticker\":{\"id\":\"543721b0-849b-4d0a-975a-795c5fe5a863\",\"type\":\"BasicTicker\"}},\"id\":\"d85a026e-5999-4aa5-bb40-faf4a5792ed9\",\"type\":\"Grid\"},{\"attributes\":{\"callback\":null,\"column_names\":[\"x0\",\"x1\",\"y1\"],\"data\":{\"x0\":{\"__ndarray__\":\"AAAAAAEAAAACAAAAAwAAAAQAAAAFAAAABgAAAAcAAAAIAAAACQAAAAoAAAALAAAADAAAAA0AAAAOAAAADwAAABAAAAARAAAAEgAAABMAAAAUAAAA\",\"dtype\":\"int32\",\"shape\":[21]},\"x1\":{\"__ndarray__\":\"AAAAAAEAAAACAAAAAwAAAAQAAAAFAAAABgAAAAcAAAAIAAAACQAAAAoAAAALAAAADAAAAA0AAAAOAAAADwAAABAAAAARAAAAEgAAABMAAAAUAAAA\",\"dtype\":\"int32\",\"shape\":[21]},\"y1\":{\"__ndarray__\":\"L2BteTYrwz2bgb8bWvQbPsr9jcBDXWM+AT58SJvxoD6FVy8n0wDVPnMeG61emgM/ETdyvHSWLD/eSu1tGa1QP4uIvDWAnW8/avjn8PGWiD9TB39Kg46fPz4XLFIPvLA/vCjNzxpJvT/q9T1niQbFP2pJyE2gh8g/wohUBPzkxj8Y+dJtorHAP50lZUaeVLI/oQFI36CDnD8LIYGTkAN8P8kNAd91JUo/\",\"dtype\":\"float64\",\"shape\":[21]}}},\"id\":\"da2b27a5-c086-4f4e-a808-8f3801ef7876\",\"type\":\"ColumnDataSource\"},{\"attributes\":{},\"id\":\"c89e12ce-0a54-4615-9d85-9f47f4f614b3\",\"type\":\"PanTool\"},{\"attributes\":{},\"id\":\"c2a16fdb-af39-4035-a116-90aa7ea875a3\",\"type\":\"WheelZoomTool\"},{\"attributes\":{},\"id\":\"e95b3e45-969a-46b6-9b44-da181bfc111e\",\"type\":\"ResetTool\"},{\"attributes\":{},\"id\":\"20ed202e-9356-4a1e-8f1b-debd158a3ab8\",\"type\":\"SaveTool\"},{\"attributes\":{\"fill_color\":{\"value\":\"dodgerblue\"},\"line_color\":{\"value\":\"dodgerblue\"},\"size\":{\"units\":\"screen\",\"value\":7},\"x\":{\"field\":\"x\"},\"y\":{\"field\":\"y\"}},\"id\":\"02966b06-d250-4402-b639-1755b70e3963\",\"type\":\"Circle\"},{\"attributes\":{\"line_alpha\":{\"value\":0.1},\"line_color\":{\"value\":\"#1f77b4\"},\"line_width\":{\"value\":3},\"x0\":{\"field\":\"x0\"},\"x1\":{\"field\":\"x1\"},\"y0\":{\"value\":0},\"y1\":{\"field\":\"y1\"}},\"id\":\"6d7466a3-e25d-4136-bc51-39e4139cdac8\",\"type\":\"Segment\"},{\"attributes\":{\"line_color\":{\"value\":\"dodgerblue\"},\"line_width\":{\"value\":3},\"x0\":{\"field\":\"x0\"},\"x1\":{\"field\":\"x1\"},\"y0\":{\"value\":0},\"y1\":{\"field\":\"y1\"}},\"id\":\"0e0bcc9d-8c35-44c3-806c-d982b0e7e27f\",\"type\":\"Segment\"},{\"attributes\":{\"fill_color\":{\"value\":\"dodgerblue\"},\"line_color\":{\"value\":\"dodgerblue\"},\"size\":{\"units\":\"screen\",\"value\":7},\"x\":{\"field\":\"x\"},\"y\":{\"field\":\"y\"}},\"id\":\"d2f4afc5-efb1-4034-b23a-d578488fa28a\",\"type\":\"Circle\"},{\"attributes\":{\"click_policy\":\"hide\",\"items\":[{\"id\":\"19b0fa0f-be78-4429-91aa-5ec7649b55df\",\"type\":\"LegendItem\"},{\"id\":\"a5ad729d-bf08-43cb-9ead-c041072be1e2\",\"type\":\"LegendItem\"}],\"location\":\"top_left\",\"plot\":{\"id\":\"25d2ac1b-76b8-43b4-8bf9-2e12d0316d0c\",\"subtype\":\"Figure\",\"type\":\"Plot\"}},\"id\":\"165d529d-8c26-48d6-96c0-11277f1f0176\",\"type\":\"Legend\"},{\"attributes\":{},\"id\":\"85698787-73c0-4478-a83e-44a3ae53047e\",\"type\":\"BasicTickFormatter\"},{\"attributes\":{\"label\":{\"value\":\"n=20,p=0.50\"},\"renderers\":[{\"id\":\"6064e992-959a-4547-ad1b-46e6e7b18465\",\"type\":\"GlyphRenderer\"},{\"id\":\"adc9af69-0c97-4735-b070-b5f4ff4190d6\",\"type\":\"GlyphRenderer\"}]},\"id\":\"19b0fa0f-be78-4429-91aa-5ec7649b55df\",\"type\":\"LegendItem\"},{\"attributes\":{\"source\":{\"id\":\"d6df7a0b-f645-4d21-923a-a732023cbb9e\",\"type\":\"ColumnDataSource\"}},\"id\":\"f7c00446-6e81-4084-b8e8-676cb1d85c57\",\"type\":\"CDSView\"},{\"attributes\":{\"callback\":null,\"column_names\":[\"x\",\"y\"],\"data\":{\"x\":{\"__ndarray__\":\"AAAAAAEAAAACAAAAAwAAAAQAAAAFAAAABgAAAAcAAAAIAAAACQAAAAoAAAALAAAADAAAAA0AAAAOAAAADwAAABAAAAARAAAAEgAAABMAAAAUAAAA\",\"dtype\":\"int32\",\"shape\":[21]},\"y\":{\"__ndarray__\":\"L2BteTYrwz2bgb8bWvQbPsr9jcBDXWM+AT58SJvxoD6FVy8n0wDVPnMeG61emgM/ETdyvHSWLD/eSu1tGa1QP4uIvDWAnW8/avjn8PGWiD9TB39Kg46fPz4XLFIPvLA/vCjNzxpJvT/q9T1niQbFP2pJyE2gh8g/wohUBPzkxj8Y+dJtorHAP50lZUaeVLI/oQFI36CDnD8LIYGTkAN8P8kNAd91JUo/\",\"dtype\":\"float64\",\"shape\":[21]}}},\"id\":\"64c60064-8fc5-4d92-8fcd-da39e2f9d231\",\"type\":\"ColumnDataSource\"},{\"attributes\":{\"data_source\":{\"id\":\"42ce4527-b390-4edd-baee-67b2f5be2287\",\"type\":\"ColumnDataSource\"},\"glyph\":{\"id\":\"0e0bcc9d-8c35-44c3-806c-d982b0e7e27f\",\"type\":\"Segment\"},\"hover_glyph\":null,\"muted_glyph\":null,\"nonselection_glyph\":{\"id\":\"6d7466a3-e25d-4136-bc51-39e4139cdac8\",\"type\":\"Segment\"},\"selection_glyph\":null,\"view\":{\"id\":\"9fc64dd6-d808-4da9-b59b-5d994fd4ede6\",\"type\":\"CDSView\"}},\"id\":\"adc9af69-0c97-4735-b070-b5f4ff4190d6\",\"type\":\"GlyphRenderer\"},{\"attributes\":{\"label\":{\"value\":\"n=20,p=0.70\"},\"renderers\":[{\"id\":\"d996099d-c006-4608-bd1a-41ac22e81ff7\",\"type\":\"GlyphRenderer\"},{\"id\":\"0a4dcb26-6f24-4409-a7a9-fef6242d29e3\",\"type\":\"GlyphRenderer\"}]},\"id\":\"a5ad729d-bf08-43cb-9ead-c041072be1e2\",\"type\":\"LegendItem\"},{\"attributes\":{\"source\":{\"id\":\"64c60064-8fc5-4d92-8fcd-da39e2f9d231\",\"type\":\"ColumnDataSource\"}},\"id\":\"9dc85c03-cfa2-4afd-8626-c6feca94a3f7\",\"type\":\"CDSView\"},{\"attributes\":{\"data_source\":{\"id\":\"64c60064-8fc5-4d92-8fcd-da39e2f9d231\",\"type\":\"ColumnDataSource\"},\"glyph\":{\"id\":\"d9f95a50-ef85-4441-bd47-f999bc06aced\",\"type\":\"Circle\"},\"hover_glyph\":null,\"muted_glyph\":null,\"nonselection_glyph\":{\"id\":\"410cb05e-36c7-4c8b-8a5e-a77f2863a893\",\"type\":\"Circle\"},\"selection_glyph\":null,\"view\":{\"id\":\"9dc85c03-cfa2-4afd-8626-c6feca94a3f7\",\"type\":\"CDSView\"}},\"id\":\"d996099d-c006-4608-bd1a-41ac22e81ff7\",\"type\":\"GlyphRenderer\"},{\"attributes\":{\"line_color\":{\"value\":\"red\"},\"line_width\":{\"value\":3},\"x0\":{\"field\":\"x0\"},\"x1\":{\"field\":\"x1\"},\"y0\":{\"value\":0},\"y1\":{\"field\":\"y1\"}},\"id\":\"e8337a61-6ea7-40e0-b257-fcb53001f925\",\"type\":\"Segment\"},{\"attributes\":{},\"id\":\"9c4c49fb-42fa-4e30-8621-da4671c3a20e\",\"type\":\"BasicTickFormatter\"},{\"attributes\":{\"source\":{\"id\":\"42ce4527-b390-4edd-baee-67b2f5be2287\",\"type\":\"ColumnDataSource\"}},\"id\":\"9fc64dd6-d808-4da9-b59b-5d994fd4ede6\",\"type\":\"CDSView\"},{\"attributes\":{\"callback\":null,\"column_names\":[\"x\",\"y\"],\"data\":{\"x\":{\"__ndarray__\":\"AAAAAAEAAAACAAAAAwAAAAQAAAAFAAAABgAAAAcAAAAIAAAACQAAAAoAAAALAAAADAAAAA0AAAAOAAAADwAAABAAAAARAAAAEgAAABMAAAAUAAAA\",\"dtype\":\"int32\",\"shape\":[21]},\"y\":{\"__ndarray__\":\"NWBteTYrwz2i7IrPs40cPi5VCl+xQWQ+YeNsXrY1oj4B9PzyiUfXPgu9eutPgwY/QnOoW6QbMT+sZ9eEAvRUPzgeFLzAC3U/ygN5J2mOkT+XBfw4do6oPxMaqm5KA70/a6E7nzImzT+uyzwDXhbZPzR4EBUXreI/bpolFlZm6D+6WJqxvpLsP239ZnpS3e4/ej1hgW/B7z+9P4iidvnvPwAAAAAAAPA/\",\"dtype\":\"float64\",\"shape\":[21]}}},\"id\":\"760aa212-aa2b-4529-b077-095d017c231b\",\"type\":\"ColumnDataSource\"},{\"attributes\":{\"callback\":null,\"column_names\":[\"x\",\"y\"],\"data\":{\"x\":{\"__ndarray__\":\"AAAAAAEAAAACAAAAAwAAAAQAAAAFAAAABgAAAAcAAAAIAAAACQAAAAoAAAALAAAADAAAAA0AAAAOAAAADwAAABAAAAARAAAAEgAAABMAAAAUAAAA\",\"dtype\":\"int32\",\"shape\":[21]},\"y\":{\"__ndarray__\":\"AAAAAAAAsD7////////0PgIAAAAAYCo///////8bVT///////zN4PwAAAAAAMZU//f///3+FrT//////39fAPwEAAAA4HNA/+////5dc2j8CAAAAtNHiPwAAAADk8ec/AAAAAAjK6z8AAAAAqCfuPwAAAAB4Vu8/AAAAAJjP7z8AAAAAcvXvPwAAAABa/u8/AAAAANb/7z8AAAAA/v/vPwAAAAAAAPA/\",\"dtype\":\"float64\",\"shape\":[21]}}},\"id\":\"6812978b-82af-40dc-8521-dc3b8ded3e07\",\"type\":\"ColumnDataSource\"},{\"attributes\":{\"line_alpha\":{\"value\":0.1},\"line_color\":{\"value\":\"#1f77b4\"},\"line_width\":{\"value\":3},\"x0\":{\"field\":\"x0\"},\"x1\":{\"field\":\"x1\"},\"y0\":{\"value\":0},\"y1\":{\"field\":\"y1\"}},\"id\":\"f859ce9a-6a0f-40be-88d8-f77295353122\",\"type\":\"Segment\"},{\"attributes\":{\"fill_alpha\":{\"value\":0.1},\"fill_color\":{\"value\":\"#1f77b4\"},\"line_alpha\":{\"value\":0.1},\"line_color\":{\"value\":\"#1f77b4\"},\"size\":{\"units\":\"screen\",\"value\":7},\"x\":{\"field\":\"x\"},\"y\":{\"field\":\"y\"}},\"id\":\"d9b9a138-00c1-4a27-a2b2-b5270e1eedc6\",\"type\":\"Circle\"},{\"attributes\":{\"data_source\":{\"id\":\"da2b27a5-c086-4f4e-a808-8f3801ef7876\",\"type\":\"ColumnDataSource\"},\"glyph\":{\"id\":\"e8337a61-6ea7-40e0-b257-fcb53001f925\",\"type\":\"Segment\"},\"hover_glyph\":null,\"muted_glyph\":null,\"nonselection_glyph\":{\"id\":\"f859ce9a-6a0f-40be-88d8-f77295353122\",\"type\":\"Segment\"},\"selection_glyph\":null,\"view\":{\"id\":\"bd1856f0-7329-41e9-a6fe-9d10bd50ce29\",\"type\":\"CDSView\"}},\"id\":\"0a4dcb26-6f24-4409-a7a9-fef6242d29e3\",\"type\":\"GlyphRenderer\"},{\"attributes\":{\"data_source\":{\"id\":\"6812978b-82af-40dc-8521-dc3b8ded3e07\",\"type\":\"ColumnDataSource\"},\"glyph\":{\"id\":\"d2f4afc5-efb1-4034-b23a-d578488fa28a\",\"type\":\"Circle\"},\"hover_glyph\":null,\"muted_glyph\":null,\"nonselection_glyph\":{\"id\":\"d9b9a138-00c1-4a27-a2b2-b5270e1eedc6\",\"type\":\"Circle\"},\"selection_glyph\":null,\"view\":{\"id\":\"f47f5491-9413-4f30-8fc9-ee4a7698ee04\",\"type\":\"CDSView\"}},\"id\":\"f2318aa8-4440-4e07-be94-aa0d5bf31cfd\",\"type\":\"GlyphRenderer\"},{\"attributes\":{\"source\":{\"id\":\"6812978b-82af-40dc-8521-dc3b8ded3e07\",\"type\":\"ColumnDataSource\"}},\"id\":\"f47f5491-9413-4f30-8fc9-ee4a7698ee04\",\"type\":\"CDSView\"},{\"attributes\":{\"source\":{\"id\":\"da2b27a5-c086-4f4e-a808-8f3801ef7876\",\"type\":\"ColumnDataSource\"}},\"id\":\"bd1856f0-7329-41e9-a6fe-9d10bd50ce29\",\"type\":\"CDSView\"},{\"attributes\":{},\"id\":\"8d451be0-4590-4c9c-858c-8cc391beb702\",\"type\":\"BasicTickFormatter\"},{\"attributes\":{},\"id\":\"d2e5c0fb-0a96-4239-bff8-eb7f2d54c118\",\"type\":\"BasicTickFormatter\"},{\"attributes\":{\"plot\":null,\"text\":\"\"},\"id\":\"5d7f2808-a3b1-4f50-9664-c161b4228338\",\"type\":\"Title\"}],\"root_ids\":[\"9c80910b-aad7-4e35-9d5d-8a4276ed1eee\"]},\"title\":\"Bokeh Application\",\"version\":\"0.12.13\"}};\n",
       "  var render_items = [{\"docid\":\"e5429970-7e9c-424c-b6c1-65dd245245ca\",\"elementid\":\"671c9027-f5c0-4179-9efc-8f842de16416\",\"modelid\":\"9c80910b-aad7-4e35-9d5d-8a4276ed1eee\"}];\n",
       "  root.Bokeh.embed.embed_items_notebook(docs_json, render_items);\n",
       "\n",
       "  }\n",
       "  if (root.Bokeh !== undefined) {\n",
       "    embed_document(root);\n",
       "  } else {\n",
       "    var attempts = 0;\n",
       "    var timer = setInterval(function(root) {\n",
       "      if (root.Bokeh !== undefined) {\n",
       "        embed_document(root);\n",
       "        clearInterval(timer);\n",
       "      }\n",
       "      attempts++;\n",
       "      if (attempts > 100) {\n",
       "        console.log(\"Bokeh: ERROR: Unable to run BokehJS code because BokehJS library is missing\")\n",
       "        clearInterval(timer);\n",
       "      }\n",
       "    }, 10, root)\n",
       "  }\n",
       "})(window);"
      ],
      "application/vnd.bokehjs_exec.v0+json": ""
     },
     "metadata": {
      "application/vnd.bokehjs_exec.v0+json": {
       "id": "9c80910b-aad7-4e35-9d5d-8a4276ed1eee"
      }
     },
     "output_type": "display_data"
    }
   ],
   "source": [
    "k = np.arange(21)\n",
    "n = 20\n",
    "p1 = 0.50\n",
    "p2 = 0.70\n",
    "\n",
    "# Tools for plots\n",
    "tools='pan,wheel_zoom,reset,save'\n",
    "\n",
    "# Set up plots\n",
    "fig_1 = Figure(width=400, height=300, tools=tools, title=\"Binomial Distribution\")\n",
    "fig_2 = Figure(width=400, height=300, tools=[tools,HoverTool(tooltips=[\n",
    "                (\"\", \"$y\")\n",
    "                ])], \n",
    "               y_range=[-0.05, 1.05])\n",
    "\n",
    "fig_1.xaxis.axis_label = 'k'\n",
    "fig_1.yaxis.axis_label = 'f(k,n,p)' \n",
    "\n",
    "fig_2.xaxis.axis_label = 'k'\n",
    "fig_2.yaxis.axis_label = 'F(k,n,p)'\n",
    "\n",
    "# Figure #1\n",
    "y1 = binom.pmf(k,n,p1)\n",
    "fig_1.circle(k, y1, size=7, color='dodgerblue',legend=\"n=20,p=0.50\")\n",
    "fig_1.segment(x0=k, x1=k, y0=0, y1=y1, line_width=3, \n",
    "              color='dodgerblue', legend=\"n=20,p=0.50\")\n",
    "\n",
    "y2 = binom.pmf(k,n,p2)\n",
    "fig_1.circle(k, y2, size=7, color='red',legend=\"n=20,p=0.70\")\n",
    "fig_1.segment(x0=k, x1=k, y0=0, y1=y2, line_width=3, \n",
    "              color='red', legend=\"n=20,p=0.70\")\n",
    "\n",
    "fig_1.legend.location = \"top_left\"\n",
    "fig_1.legend.click_policy=\"hide\"\n",
    "\n",
    "#Figure #2\n",
    "y3 = binom.cdf(k,n,p1)\n",
    "fig_2.circle(k, y3, size=7, color='dodgerblue')\n",
    "\n",
    "y4 = binom.cdf(k,n,p2)\n",
    "fig_2.circle(k, y4, size=7, color='red')\n",
    "\n",
    "# Link the x-axes\n",
    "fig_1.x_range = fig_2.x_range\n",
    "\n",
    "\n",
    "show(row([fig_1, fig_2]))"
   ]
  },
  {
   "cell_type": "markdown",
   "metadata": {},
   "source": [
    "In this example, we'll construct probability distributions. But first, let's look at the dataset we'll be using.\n",
    "\n",
    "In many countries, there are bikesharing programs where anyone can rent a bike from a depot, and return it at other depots throughout a city. There is one such program in Washington, D.C., in the US. We'll be looking at the number of bikes that were rented by day. Here are the relevant columns:\n",
    "\n",
    "- <span style=\"background-color: #F9EBEA; color:##C0392B\">dteday</span> the date that we're looking at.\n",
    "- <span style=\"background-color: #F9EBEA; color:##C0392B\">cnt</span> the total number of bikes rented.\n",
    "\n",
    "This data was collected by <span style=\"background-color: #F9EBEA; color:##C0392B\">Hadi Fanaee-T</span> at the <span style=\"background-color: #F9EBEA; color:##C0392B\">University of Porto</span>, and can be downloaded [here](http://archive.ics.uci.edu/ml/datasets/Bike+Sharing+Dataset)."
   ]
  },
  {
   "cell_type": "code",
   "execution_count": 47,
   "metadata": {
    "scrolled": true
   },
   "outputs": [
    {
     "data": {
      "text/html": [
       "<div>\n",
       "<style scoped>\n",
       "    .dataframe tbody tr th:only-of-type {\n",
       "        vertical-align: middle;\n",
       "    }\n",
       "\n",
       "    .dataframe tbody tr th {\n",
       "        vertical-align: top;\n",
       "    }\n",
       "\n",
       "    .dataframe thead th {\n",
       "        text-align: right;\n",
       "    }\n",
       "</style>\n",
       "<table border=\"1\" class=\"dataframe\">\n",
       "  <thead>\n",
       "    <tr style=\"text-align: right;\">\n",
       "      <th></th>\n",
       "      <th>instant</th>\n",
       "      <th>dteday</th>\n",
       "      <th>season</th>\n",
       "      <th>yr</th>\n",
       "      <th>mnth</th>\n",
       "      <th>holiday</th>\n",
       "      <th>weekday</th>\n",
       "      <th>workingday</th>\n",
       "      <th>weathersit</th>\n",
       "      <th>temp</th>\n",
       "      <th>atemp</th>\n",
       "      <th>hum</th>\n",
       "      <th>windspeed</th>\n",
       "      <th>casual</th>\n",
       "      <th>registered</th>\n",
       "      <th>cnt</th>\n",
       "    </tr>\n",
       "  </thead>\n",
       "  <tbody>\n",
       "    <tr>\n",
       "      <th>0</th>\n",
       "      <td>1</td>\n",
       "      <td>2011-01-01</td>\n",
       "      <td>1</td>\n",
       "      <td>0</td>\n",
       "      <td>1</td>\n",
       "      <td>0</td>\n",
       "      <td>6</td>\n",
       "      <td>0</td>\n",
       "      <td>2</td>\n",
       "      <td>0.344167</td>\n",
       "      <td>0.363625</td>\n",
       "      <td>0.805833</td>\n",
       "      <td>0.160446</td>\n",
       "      <td>331</td>\n",
       "      <td>654</td>\n",
       "      <td>985</td>\n",
       "    </tr>\n",
       "    <tr>\n",
       "      <th>1</th>\n",
       "      <td>2</td>\n",
       "      <td>2011-01-02</td>\n",
       "      <td>1</td>\n",
       "      <td>0</td>\n",
       "      <td>1</td>\n",
       "      <td>0</td>\n",
       "      <td>0</td>\n",
       "      <td>0</td>\n",
       "      <td>2</td>\n",
       "      <td>0.363478</td>\n",
       "      <td>0.353739</td>\n",
       "      <td>0.696087</td>\n",
       "      <td>0.248539</td>\n",
       "      <td>131</td>\n",
       "      <td>670</td>\n",
       "      <td>801</td>\n",
       "    </tr>\n",
       "    <tr>\n",
       "      <th>2</th>\n",
       "      <td>3</td>\n",
       "      <td>2011-01-03</td>\n",
       "      <td>1</td>\n",
       "      <td>0</td>\n",
       "      <td>1</td>\n",
       "      <td>0</td>\n",
       "      <td>1</td>\n",
       "      <td>1</td>\n",
       "      <td>1</td>\n",
       "      <td>0.196364</td>\n",
       "      <td>0.189405</td>\n",
       "      <td>0.437273</td>\n",
       "      <td>0.248309</td>\n",
       "      <td>120</td>\n",
       "      <td>1229</td>\n",
       "      <td>1349</td>\n",
       "    </tr>\n",
       "    <tr>\n",
       "      <th>3</th>\n",
       "      <td>4</td>\n",
       "      <td>2011-01-04</td>\n",
       "      <td>1</td>\n",
       "      <td>0</td>\n",
       "      <td>1</td>\n",
       "      <td>0</td>\n",
       "      <td>2</td>\n",
       "      <td>1</td>\n",
       "      <td>1</td>\n",
       "      <td>0.200000</td>\n",
       "      <td>0.212122</td>\n",
       "      <td>0.590435</td>\n",
       "      <td>0.160296</td>\n",
       "      <td>108</td>\n",
       "      <td>1454</td>\n",
       "      <td>1562</td>\n",
       "    </tr>\n",
       "    <tr>\n",
       "      <th>4</th>\n",
       "      <td>5</td>\n",
       "      <td>2011-01-05</td>\n",
       "      <td>1</td>\n",
       "      <td>0</td>\n",
       "      <td>1</td>\n",
       "      <td>0</td>\n",
       "      <td>3</td>\n",
       "      <td>1</td>\n",
       "      <td>1</td>\n",
       "      <td>0.226957</td>\n",
       "      <td>0.229270</td>\n",
       "      <td>0.436957</td>\n",
       "      <td>0.186900</td>\n",
       "      <td>82</td>\n",
       "      <td>1518</td>\n",
       "      <td>1600</td>\n",
       "    </tr>\n",
       "  </tbody>\n",
       "</table>\n",
       "</div>"
      ],
      "text/plain": [
       "   instant      dteday  season  yr  mnth  holiday  weekday  workingday  \\\n",
       "0        1  2011-01-01       1   0     1        0        6           0   \n",
       "1        2  2011-01-02       1   0     1        0        0           0   \n",
       "2        3  2011-01-03       1   0     1        0        1           1   \n",
       "3        4  2011-01-04       1   0     1        0        2           1   \n",
       "4        5  2011-01-05       1   0     1        0        3           1   \n",
       "\n",
       "   weathersit      temp     atemp       hum  windspeed  casual  registered  \\\n",
       "0           2  0.344167  0.363625  0.805833   0.160446     331         654   \n",
       "1           2  0.363478  0.353739  0.696087   0.248539     131         670   \n",
       "2           1  0.196364  0.189405  0.437273   0.248309     120        1229   \n",
       "3           1  0.200000  0.212122  0.590435   0.160296     108        1454   \n",
       "4           1  0.226957  0.229270  0.436957   0.186900      82        1518   \n",
       "\n",
       "    cnt  \n",
       "0   985  \n",
       "1   801  \n",
       "2  1349  \n",
       "3  1562  \n",
       "4  1600  "
      ]
     },
     "execution_count": 47,
     "metadata": {},
     "output_type": "execute_result"
    }
   ],
   "source": [
    "import pandas as pd\n",
    "bikes = pd.read_csv(\"bike_rental_day.csv\")\n",
    "bikes.head()"
   ]
  },
  {
   "cell_type": "markdown",
   "metadata": {},
   "source": [
    "<br>\n",
    "<div class=\"alert alert-info\">\n",
    "<b>Exercise Start.</b>\n",
    "</div>\n",
    "\n",
    "**Description**:\n",
    "\n",
    "1. Find the probability of there being more than <span style=\"background-color: #F9EBEA; color:##C0392B\">5000</span> riders in a single day (using the <span style=\"background-color: #F9EBEA; color:##C0392B\">cnt</span> column). \n",
    "2. Assign the result to <span style=\"background-color: #F9EBEA; color:##C0392B\">prob\\_over\\_5000</span>\n",
    "3. What is the probability that the bikesharing system has in a month at least 10 days with more than 5k riders?\n"
   ]
  },
  {
   "cell_type": "markdown",
   "metadata": {},
   "source": [
    "## Geometric Distribution\n",
    "\n",
    "\n",
    "$$\n",
    "\\begin{eqnarray*}\n",
    "P(X = k)  \\Leftrightarrow  f(k,p)  & = &\n",
    "\\begin{cases}\n",
    "               \\displaystyle (1-p)^{k-1}*p \\ \\ \\ k = 1,2,3,\\ldots \\\\\n",
    "               \\textrm{caso contrário}\n",
    "\\end{cases}\\\\\n",
    "P(X \\leq k) \\Leftrightarrow  F(k,p)  & = &\n",
    "               \\displaystyle \\sum_{i=1}^{k}  (1-p)^{k-1}*p \\\\\n",
    "               & = & 1 - (1-p)^k\n",
    "\\end{eqnarray*}\n",
    "$$"
   ]
  },
  {
   "cell_type": "code",
   "execution_count": 48,
   "metadata": {
    "scrolled": true
   },
   "outputs": [
    {
     "data": {
      "text/html": [
       "\n",
       "<div class=\"bk-root\">\n",
       "    <div class=\"bk-plotdiv\" id=\"2a862cc2-5bec-4eab-aa28-de30390e4c9d\"></div>\n",
       "</div>"
      ]
     },
     "metadata": {},
     "output_type": "display_data"
    },
    {
     "data": {
      "application/javascript": [
       "(function(root) {\n",
       "  function embed_document(root) {\n",
       "    \n",
       "  var docs_json = {\"791db6be-9297-4d90-85b6-9bd2d0b891bf\":{\"roots\":{\"references\":[{\"attributes\":{\"line_color\":{\"value\":\"dodgerblue\"},\"line_width\":{\"value\":3},\"x0\":{\"field\":\"x0\"},\"x1\":{\"field\":\"x1\"},\"y0\":{\"value\":0},\"y1\":{\"field\":\"y1\"}},\"id\":\"100f3e2b-8520-4a2c-acc3-4e061178a3e4\",\"type\":\"Segment\"},{\"attributes\":{},\"id\":\"b936f906-40b3-468e-b2e4-fb100a3b8153\",\"type\":\"LinearScale\"},{\"attributes\":{\"plot\":{\"id\":\"1d167dfb-89eb-49a9-85b5-1a7877e34b03\",\"subtype\":\"Figure\",\"type\":\"Plot\"},\"ticker\":{\"id\":\"14742b69-6607-4465-bd89-84d7ef0b332f\",\"type\":\"BasicTicker\"}},\"id\":\"582946b8-1f2e-4695-8e25-f9985c293121\",\"type\":\"Grid\"},{\"attributes\":{\"axis_label\":\"k\",\"formatter\":{\"id\":\"4e8884fb-a14e-4a52-b9e5-525e5aa8a7be\",\"type\":\"BasicTickFormatter\"},\"plot\":{\"id\":\"1d167dfb-89eb-49a9-85b5-1a7877e34b03\",\"subtype\":\"Figure\",\"type\":\"Plot\"},\"ticker\":{\"id\":\"14742b69-6607-4465-bd89-84d7ef0b332f\",\"type\":\"BasicTicker\"}},\"id\":\"722ee4b7-844f-473f-aec1-8923ab36e040\",\"type\":\"LinearAxis\"},{\"attributes\":{},\"id\":\"14742b69-6607-4465-bd89-84d7ef0b332f\",\"type\":\"BasicTicker\"},{\"attributes\":{\"axis_label\":\"F(k,p)\",\"formatter\":{\"id\":\"e623dce4-01e7-4933-ab6e-f071a92541b1\",\"type\":\"BasicTickFormatter\"},\"plot\":{\"id\":\"1d167dfb-89eb-49a9-85b5-1a7877e34b03\",\"subtype\":\"Figure\",\"type\":\"Plot\"},\"ticker\":{\"id\":\"085a681e-c93d-4622-af99-f5b9c4c9dd98\",\"type\":\"BasicTicker\"}},\"id\":\"2f890d0a-2520-4ce6-99e8-d08b804425d8\",\"type\":\"LinearAxis\"},{\"attributes\":{},\"id\":\"085a681e-c93d-4622-af99-f5b9c4c9dd98\",\"type\":\"BasicTicker\"},{\"attributes\":{\"dimension\":1,\"plot\":{\"id\":\"1d167dfb-89eb-49a9-85b5-1a7877e34b03\",\"subtype\":\"Figure\",\"type\":\"Plot\"},\"ticker\":{\"id\":\"085a681e-c93d-4622-af99-f5b9c4c9dd98\",\"type\":\"BasicTicker\"}},\"id\":\"adcdf2a5-d2ab-4c0a-8b80-db1ac189bb8d\",\"type\":\"Grid\"},{\"attributes\":{\"fill_alpha\":{\"value\":0.1},\"fill_color\":{\"value\":\"#1f77b4\"},\"line_alpha\":{\"value\":0.1},\"line_color\":{\"value\":\"#1f77b4\"},\"size\":{\"units\":\"screen\",\"value\":7},\"x\":{\"field\":\"x\"},\"y\":{\"field\":\"y\"}},\"id\":\"b1453eea-d7ee-4f02-a3ce-f3ce4c7614d2\",\"type\":\"Circle\"},{\"attributes\":{},\"id\":\"49d77e12-63c9-4ff7-8132-eee72fc549b4\",\"type\":\"BasicTickFormatter\"},{\"attributes\":{},\"id\":\"5b542391-7884-4fc4-8743-1a903ec25060\",\"type\":\"PanTool\"},{\"attributes\":{\"source\":{\"id\":\"94a4db88-6082-43a6-ac52-1a54583c1893\",\"type\":\"ColumnDataSource\"}},\"id\":\"7c514cdc-53ca-497d-848f-74811a01742a\",\"type\":\"CDSView\"},{\"attributes\":{},\"id\":\"cf4c311d-0892-4935-92a8-e29439552697\",\"type\":\"WheelZoomTool\"},{\"attributes\":{},\"id\":\"7bf6d561-3354-4bad-bcc1-525b2e181339\",\"type\":\"ResetTool\"},{\"attributes\":{},\"id\":\"ba6e43ab-8e95-427e-b577-02302e75456d\",\"type\":\"SaveTool\"},{\"attributes\":{\"data_source\":{\"id\":\"94a4db88-6082-43a6-ac52-1a54583c1893\",\"type\":\"ColumnDataSource\"},\"glyph\":{\"id\":\"784ad94d-8aa1-4426-b26e-3c911cbbfbfc\",\"type\":\"Circle\"},\"hover_glyph\":null,\"muted_glyph\":null,\"nonselection_glyph\":{\"id\":\"b1453eea-d7ee-4f02-a3ce-f3ce4c7614d2\",\"type\":\"Circle\"},\"selection_glyph\":null,\"view\":{\"id\":\"7c514cdc-53ca-497d-848f-74811a01742a\",\"type\":\"CDSView\"}},\"id\":\"f7dc1b88-97a8-48da-b5bb-69b9f5b91c0d\",\"type\":\"GlyphRenderer\"},{\"attributes\":{},\"id\":\"dba6e746-089b-46a5-819d-e825eec99938\",\"type\":\"BasicTickFormatter\"},{\"attributes\":{\"label\":{\"value\":\"p=0.30\"},\"renderers\":[{\"id\":\"f7dc1b88-97a8-48da-b5bb-69b9f5b91c0d\",\"type\":\"GlyphRenderer\"},{\"id\":\"99e1cc4c-5a5b-458f-bbee-d1c17adc12e1\",\"type\":\"GlyphRenderer\"}]},\"id\":\"91705f50-b1e8-4823-8f06-8b8d0052d0c0\",\"type\":\"LegendItem\"},{\"attributes\":{\"fill_alpha\":{\"value\":0.1},\"fill_color\":{\"value\":\"#1f77b4\"},\"line_alpha\":{\"value\":0.1},\"line_color\":{\"value\":\"#1f77b4\"},\"size\":{\"units\":\"screen\",\"value\":7},\"x\":{\"field\":\"x\"},\"y\":{\"field\":\"y\"}},\"id\":\"05453eb5-5ccb-42ac-b5d6-2344273e79bd\",\"type\":\"Circle\"},{\"attributes\":{\"data_source\":{\"id\":\"977564a9-1cc4-41b4-854c-59d842a87e93\",\"type\":\"ColumnDataSource\"},\"glyph\":{\"id\":\"100f3e2b-8520-4a2c-acc3-4e061178a3e4\",\"type\":\"Segment\"},\"hover_glyph\":null,\"muted_glyph\":null,\"nonselection_glyph\":{\"id\":\"3801e819-6fd2-4c81-993f-8f3b28d545f5\",\"type\":\"Segment\"},\"selection_glyph\":null,\"view\":{\"id\":\"504e860f-6eee-4ef7-8d2a-f865df9fe5eb\",\"type\":\"CDSView\"}},\"id\":\"99e1cc4c-5a5b-458f-bbee-d1c17adc12e1\",\"type\":\"GlyphRenderer\"},{\"attributes\":{\"click_policy\":\"hide\",\"items\":[{\"id\":\"91705f50-b1e8-4823-8f06-8b8d0052d0c0\",\"type\":\"LegendItem\"},{\"id\":\"32e6c004-ba8a-4614-a017-c5e743a8c01b\",\"type\":\"LegendItem\"}],\"plot\":{\"id\":\"8a200106-acd9-4a5c-af5b-24e6ea95de63\",\"subtype\":\"Figure\",\"type\":\"Plot\"}},\"id\":\"5d36d8b9-656f-4628-abf8-a350da079260\",\"type\":\"Legend\"},{\"attributes\":{\"fill_color\":{\"value\":\"dodgerblue\"},\"line_color\":{\"value\":\"dodgerblue\"},\"size\":{\"units\":\"screen\",\"value\":7},\"x\":{\"field\":\"x\"},\"y\":{\"field\":\"y\"}},\"id\":\"79dd150a-d9b1-4998-8be9-c41e550041dc\",\"type\":\"Circle\"},{\"attributes\":{\"line_alpha\":{\"value\":0.1},\"line_color\":{\"value\":\"#1f77b4\"},\"line_width\":{\"value\":3},\"x0\":{\"field\":\"x0\"},\"x1\":{\"field\":\"x1\"},\"y0\":{\"value\":0},\"y1\":{\"field\":\"y1\"}},\"id\":\"3801e819-6fd2-4c81-993f-8f3b28d545f5\",\"type\":\"Segment\"},{\"attributes\":{\"source\":{\"id\":\"cbbed3cf-09f5-4519-a5ec-bcb1f34312c4\",\"type\":\"ColumnDataSource\"}},\"id\":\"fa41c8f6-d3aa-4026-bf8e-c3abcd4ad7f1\",\"type\":\"CDSView\"},{\"attributes\":{\"data_source\":{\"id\":\"cbbed3cf-09f5-4519-a5ec-bcb1f34312c4\",\"type\":\"ColumnDataSource\"},\"glyph\":{\"id\":\"9962f66d-bba9-46d4-887c-2ddf7e0e40bc\",\"type\":\"Circle\"},\"hover_glyph\":null,\"muted_glyph\":null,\"nonselection_glyph\":{\"id\":\"05453eb5-5ccb-42ac-b5d6-2344273e79bd\",\"type\":\"Circle\"},\"selection_glyph\":null,\"view\":{\"id\":\"fa41c8f6-d3aa-4026-bf8e-c3abcd4ad7f1\",\"type\":\"CDSView\"}},\"id\":\"c3ea3433-f115-45b2-b167-d4fad442b85f\",\"type\":\"GlyphRenderer\"},{\"attributes\":{\"fill_color\":{\"value\":\"red\"},\"line_color\":{\"value\":\"red\"},\"size\":{\"units\":\"screen\",\"value\":7},\"x\":{\"field\":\"x\"},\"y\":{\"field\":\"y\"}},\"id\":\"72987c79-dc7d-41b5-9449-1a81ec91a490\",\"type\":\"Circle\"},{\"attributes\":{\"source\":{\"id\":\"977564a9-1cc4-41b4-854c-59d842a87e93\",\"type\":\"ColumnDataSource\"}},\"id\":\"504e860f-6eee-4ef7-8d2a-f865df9fe5eb\",\"type\":\"CDSView\"},{\"attributes\":{\"fill_color\":{\"value\":\"red\"},\"line_color\":{\"value\":\"red\"},\"size\":{\"units\":\"screen\",\"value\":7},\"x\":{\"field\":\"x\"},\"y\":{\"field\":\"y\"}},\"id\":\"9962f66d-bba9-46d4-887c-2ddf7e0e40bc\",\"type\":\"Circle\"},{\"attributes\":{\"label\":{\"value\":\"p=0.70\"},\"renderers\":[{\"id\":\"c3ea3433-f115-45b2-b167-d4fad442b85f\",\"type\":\"GlyphRenderer\"},{\"id\":\"3a4ec357-3b14-413a-8771-cfae4ea12663\",\"type\":\"GlyphRenderer\"}]},\"id\":\"32e6c004-ba8a-4614-a017-c5e743a8c01b\",\"type\":\"LegendItem\"},{\"attributes\":{\"line_color\":{\"value\":\"red\"},\"line_width\":{\"value\":3},\"x0\":{\"field\":\"x0\"},\"x1\":{\"field\":\"x1\"},\"y0\":{\"value\":0},\"y1\":{\"field\":\"y1\"}},\"id\":\"ac7e639c-1c97-4253-8820-3c00a9288ddd\",\"type\":\"Segment\"},{\"attributes\":{\"callback\":null,\"column_names\":[\"x\",\"y\"],\"data\":{\"x\":{\"__ndarray__\":\"AQAAAAIAAAADAAAABAAAAAUAAAAGAAAABwAAAAgAAAAJAAAACgAAAAsAAAAMAAAADQAAAA4AAAAPAAAAEAAAABEAAAASAAAAEwAAABQAAAAVAAAA\",\"dtype\":\"int32\",\"shape\":[21]},\"y\":{\"__ndarray__\":\"MzMzMzMz0z9SuB6F61HgP6AaL90kBuU/cF8HzhlR6D8C9tGpK5/qPwH5Eio4POw/tBTag1pd7T9L20tcvyfuP4EZNVpste4/2pGLpZgY7z/msuFzBF7vP6FjhLecju8/JKzc5qCw7z9/eJqhcMjvP4yHUqQb2e8/ryugjMbk7z+UHnBi8ezvP5tIG/io8u8/oH95eqn27z+9P4iidvnvP2r5+KRs++8/\",\"dtype\":\"float64\",\"shape\":[21]}}},\"id\":\"c43e4238-8e88-4818-8bc9-7258a7e1796e\",\"type\":\"ColumnDataSource\"},{\"attributes\":{\"line_alpha\":{\"value\":0.1},\"line_color\":{\"value\":\"#1f77b4\"},\"line_width\":{\"value\":3},\"x0\":{\"field\":\"x0\"},\"x1\":{\"field\":\"x1\"},\"y0\":{\"value\":0},\"y1\":{\"field\":\"y1\"}},\"id\":\"13b2bb5f-d37a-4cf3-97aa-39c800252e4d\",\"type\":\"Segment\"},{\"attributes\":{\"data_source\":{\"id\":\"2635f195-64f0-48bd-96d3-b9c7fb3bec34\",\"type\":\"ColumnDataSource\"},\"glyph\":{\"id\":\"ac7e639c-1c97-4253-8820-3c00a9288ddd\",\"type\":\"Segment\"},\"hover_glyph\":null,\"muted_glyph\":null,\"nonselection_glyph\":{\"id\":\"13b2bb5f-d37a-4cf3-97aa-39c800252e4d\",\"type\":\"Segment\"},\"selection_glyph\":null,\"view\":{\"id\":\"72b96b29-444d-4aaf-904e-44cf3406635c\",\"type\":\"CDSView\"}},\"id\":\"3a4ec357-3b14-413a-8771-cfae4ea12663\",\"type\":\"GlyphRenderer\"},{\"attributes\":{\"fill_alpha\":{\"value\":0.1},\"fill_color\":{\"value\":\"#1f77b4\"},\"line_alpha\":{\"value\":0.1},\"line_color\":{\"value\":\"#1f77b4\"},\"size\":{\"units\":\"screen\",\"value\":7},\"x\":{\"field\":\"x\"},\"y\":{\"field\":\"y\"}},\"id\":\"3c2c0848-41d3-41d6-ba97-ddfd5694baca\",\"type\":\"Circle\"},{\"attributes\":{\"data_source\":{\"id\":\"c43e4238-8e88-4818-8bc9-7258a7e1796e\",\"type\":\"ColumnDataSource\"},\"glyph\":{\"id\":\"79dd150a-d9b1-4998-8be9-c41e550041dc\",\"type\":\"Circle\"},\"hover_glyph\":null,\"muted_glyph\":null,\"nonselection_glyph\":{\"id\":\"3c2c0848-41d3-41d6-ba97-ddfd5694baca\",\"type\":\"Circle\"},\"selection_glyph\":null,\"view\":{\"id\":\"a5b20e61-a8a6-4bf6-9893-507e0ba94e40\",\"type\":\"CDSView\"}},\"id\":\"51260d5d-be62-4f2c-af75-7cf5e2908612\",\"type\":\"GlyphRenderer\"},{\"attributes\":{\"source\":{\"id\":\"2635f195-64f0-48bd-96d3-b9c7fb3bec34\",\"type\":\"ColumnDataSource\"}},\"id\":\"72b96b29-444d-4aaf-904e-44cf3406635c\",\"type\":\"CDSView\"},{\"attributes\":{\"source\":{\"id\":\"c43e4238-8e88-4818-8bc9-7258a7e1796e\",\"type\":\"ColumnDataSource\"}},\"id\":\"a5b20e61-a8a6-4bf6-9893-507e0ba94e40\",\"type\":\"CDSView\"},{\"attributes\":{},\"id\":\"4e8884fb-a14e-4a52-b9e5-525e5aa8a7be\",\"type\":\"BasicTickFormatter\"},{\"attributes\":{\"plot\":null,\"text\":\"\"},\"id\":\"043405f4-fcdc-45b5-a4dd-fb542a6a2288\",\"type\":\"Title\"},{\"attributes\":{\"callback\":null,\"column_names\":[\"x\",\"y\"],\"data\":{\"x\":{\"__ndarray__\":\"AQAAAAIAAAADAAAABAAAAAUAAAAGAAAABwAAAAgAAAAJAAAACgAAAAsAAAAMAAAADQAAAA4AAAAPAAAAEAAAABEAAAASAAAAEwAAABQAAAAVAAAA\",\"dtype\":\"int32\",\"shape\":[21]},\"y\":{\"__ndarray__\":\"ZmZmZmZm5j8fhetRuB7tP4lBYOXQIu8/duCcEaW97z8jEK/rF+zvPz7rGi0H+u8/LOBUWjX+7z9AQ+Zndv/vPy0UxbjW/+8/QbnUnfP/7z9gBPNI/P/vPx1Or+L+/+8/ospnqv//7z9kVlLm///vP7jmS/j//+8/0V6w/f//7z/Ygk7////vP9rAyv///+8/qAbw////7z8yNfv////vP/aP/v///+8/\",\"dtype\":\"float64\",\"shape\":[21]}}},\"id\":\"6f099e1a-8de1-4f38-b151-24020cc65e14\",\"type\":\"ColumnDataSource\"},{\"attributes\":{\"callback\":null,\"tooltips\":[[\"\",\"$y\"]]},\"id\":\"93353c60-8d61-43ad-b9dd-0df4ffa4d416\",\"type\":\"HoverTool\"},{\"attributes\":{\"below\":[{\"id\":\"db789693-017a-4c59-8c75-6aeb6d6d7d2b\",\"type\":\"LinearAxis\"}],\"left\":[{\"id\":\"72ffd2cb-701b-4bec-87be-5fb25a7c25d7\",\"type\":\"LinearAxis\"}],\"plot_height\":300,\"plot_width\":400,\"renderers\":[{\"id\":\"db789693-017a-4c59-8c75-6aeb6d6d7d2b\",\"type\":\"LinearAxis\"},{\"id\":\"39aac1c3-2f67-4f5c-969d-3a5381123bd3\",\"type\":\"Grid\"},{\"id\":\"72ffd2cb-701b-4bec-87be-5fb25a7c25d7\",\"type\":\"LinearAxis\"},{\"id\":\"a39bd3e7-b68e-4eff-9643-b8b97d6509de\",\"type\":\"Grid\"},{\"id\":\"5d36d8b9-656f-4628-abf8-a350da079260\",\"type\":\"Legend\"},{\"id\":\"f7dc1b88-97a8-48da-b5bb-69b9f5b91c0d\",\"type\":\"GlyphRenderer\"},{\"id\":\"99e1cc4c-5a5b-458f-bbee-d1c17adc12e1\",\"type\":\"GlyphRenderer\"},{\"id\":\"c3ea3433-f115-45b2-b167-d4fad442b85f\",\"type\":\"GlyphRenderer\"},{\"id\":\"3a4ec357-3b14-413a-8771-cfae4ea12663\",\"type\":\"GlyphRenderer\"}],\"title\":{\"id\":\"05be2c42-f66e-4eb2-95c7-321621f96cd2\",\"type\":\"Title\"},\"toolbar\":{\"id\":\"eb8ac461-8935-4b05-b879-3c4ac8591dff\",\"type\":\"Toolbar\"},\"x_range\":{\"id\":\"5769a942-498f-46fd-8d67-fe2bdebc8cbf\",\"type\":\"DataRange1d\"},\"x_scale\":{\"id\":\"070f508c-ba39-407c-9764-4dcd40117616\",\"type\":\"LinearScale\"},\"y_range\":{\"id\":\"2c853e73-ff1f-41b7-8bdf-66189213d638\",\"type\":\"DataRange1d\"},\"y_scale\":{\"id\":\"3660122c-b594-42bb-8dd2-5014e933037c\",\"type\":\"LinearScale\"}},\"id\":\"8a200106-acd9-4a5c-af5b-24e6ea95de63\",\"subtype\":\"Figure\",\"type\":\"Plot\"},{\"attributes\":{},\"id\":\"e623dce4-01e7-4933-ab6e-f071a92541b1\",\"type\":\"BasicTickFormatter\"},{\"attributes\":{\"callback\":null,\"column_names\":[\"x\",\"y\"],\"data\":{\"x\":{\"__ndarray__\":\"AQAAAAIAAAADAAAABAAAAAUAAAAGAAAABwAAAAgAAAAJAAAACgAAAAsAAAAMAAAADQAAAA4AAAAPAAAAEAAAABEAAAASAAAAEwAAABQAAAAVAAAA\",\"dtype\":\"int32\",\"shape\":[21]},\"y\":{\"__ndarray__\":\"MzMzMzMz0z/hehSuR+HKPzaJQWDl0MI/fybChqdXuj+MtFTejnCyP/YvEATI0Kk/LLtxnCUSoj/X0jgOm0yZP8nGJ72ftZE/TRae1RLLiD/PQoiV81qBP4hdWNEhTHg/eEEkrBcCcT+oW8y9us9nP/UMD7gCq2A/V0VIm9BVVz8jyuWfq1VQP/0aqKxW3kY/5BLceAkCQD8/5wB2QGk2P1fdmgsnYC8/\",\"dtype\":\"float64\",\"shape\":[21]}}},\"id\":\"94a4db88-6082-43a6-ac52-1a54583c1893\",\"type\":\"ColumnDataSource\"},{\"attributes\":{\"source\":{\"id\":\"6f099e1a-8de1-4f38-b151-24020cc65e14\",\"type\":\"ColumnDataSource\"}},\"id\":\"900321a8-e6b8-4dc2-bd51-5af36cb1bb1b\",\"type\":\"CDSView\"},{\"attributes\":{\"callback\":null},\"id\":\"5769a942-498f-46fd-8d67-fe2bdebc8cbf\",\"type\":\"DataRange1d\"},{\"attributes\":{\"data_source\":{\"id\":\"6f099e1a-8de1-4f38-b151-24020cc65e14\",\"type\":\"ColumnDataSource\"},\"glyph\":{\"id\":\"72987c79-dc7d-41b5-9449-1a81ec91a490\",\"type\":\"Circle\"},\"hover_glyph\":null,\"muted_glyph\":null,\"nonselection_glyph\":{\"id\":\"9d7114c7-5e19-4ab8-ab9f-96dc07024df6\",\"type\":\"Circle\"},\"selection_glyph\":null,\"view\":{\"id\":\"900321a8-e6b8-4dc2-bd51-5af36cb1bb1b\",\"type\":\"CDSView\"}},\"id\":\"ed61c973-2194-4f06-a94c-4b8c2d4ec6d2\",\"type\":\"GlyphRenderer\"},{\"attributes\":{\"plot\":null,\"text\":\"Geometric Distribution\"},\"id\":\"05be2c42-f66e-4eb2-95c7-321621f96cd2\",\"type\":\"Title\"},{\"attributes\":{\"fill_alpha\":{\"value\":0.1},\"fill_color\":{\"value\":\"#1f77b4\"},\"line_alpha\":{\"value\":0.1},\"line_color\":{\"value\":\"#1f77b4\"},\"size\":{\"units\":\"screen\",\"value\":7},\"x\":{\"field\":\"x\"},\"y\":{\"field\":\"y\"}},\"id\":\"9d7114c7-5e19-4ab8-ab9f-96dc07024df6\",\"type\":\"Circle\"},{\"attributes\":{\"active_drag\":\"auto\",\"active_inspect\":\"auto\",\"active_scroll\":\"auto\",\"active_tap\":\"auto\",\"tools\":[{\"id\":\"bb9520c0-7379-4e56-9ce5-c2059f13a70f\",\"type\":\"PanTool\"},{\"id\":\"d05f1de1-6ca7-4e16-8bfc-1870d75df3ec\",\"type\":\"WheelZoomTool\"},{\"id\":\"18cc1ad7-21da-49fa-889b-5a98b997cb2f\",\"type\":\"ResetTool\"},{\"id\":\"72c6a24b-c286-4f32-83da-e3976d17a805\",\"type\":\"SaveTool\"}]},\"id\":\"eb8ac461-8935-4b05-b879-3c4ac8591dff\",\"type\":\"Toolbar\"},{\"attributes\":{\"children\":[{\"id\":\"8a200106-acd9-4a5c-af5b-24e6ea95de63\",\"subtype\":\"Figure\",\"type\":\"Plot\"},{\"id\":\"1d167dfb-89eb-49a9-85b5-1a7877e34b03\",\"subtype\":\"Figure\",\"type\":\"Plot\"}]},\"id\":\"6cfc808f-f0e2-45b5-b6a3-5c760236203c\",\"type\":\"Row\"},{\"attributes\":{\"below\":[{\"id\":\"722ee4b7-844f-473f-aec1-8923ab36e040\",\"type\":\"LinearAxis\"}],\"left\":[{\"id\":\"2f890d0a-2520-4ce6-99e8-d08b804425d8\",\"type\":\"LinearAxis\"}],\"plot_height\":300,\"plot_width\":400,\"renderers\":[{\"id\":\"722ee4b7-844f-473f-aec1-8923ab36e040\",\"type\":\"LinearAxis\"},{\"id\":\"582946b8-1f2e-4695-8e25-f9985c293121\",\"type\":\"Grid\"},{\"id\":\"2f890d0a-2520-4ce6-99e8-d08b804425d8\",\"type\":\"LinearAxis\"},{\"id\":\"adcdf2a5-d2ab-4c0a-8b80-db1ac189bb8d\",\"type\":\"Grid\"},{\"id\":\"51260d5d-be62-4f2c-af75-7cf5e2908612\",\"type\":\"GlyphRenderer\"},{\"id\":\"ed61c973-2194-4f06-a94c-4b8c2d4ec6d2\",\"type\":\"GlyphRenderer\"}],\"title\":{\"id\":\"043405f4-fcdc-45b5-a4dd-fb542a6a2288\",\"type\":\"Title\"},\"toolbar\":{\"id\":\"5f5ebc23-b63f-4a22-85b3-7b6fcbc863ec\",\"type\":\"Toolbar\"},\"x_range\":{\"id\":\"5769a942-498f-46fd-8d67-fe2bdebc8cbf\",\"type\":\"DataRange1d\"},\"x_scale\":{\"id\":\"07548a7f-355a-449d-badb-24f0e8254d45\",\"type\":\"LinearScale\"},\"y_range\":{\"id\":\"5c5cb008-752f-4c58-a4e1-0f1e6722f2dc\",\"type\":\"Range1d\"},\"y_scale\":{\"id\":\"b936f906-40b3-468e-b2e4-fb100a3b8153\",\"type\":\"LinearScale\"}},\"id\":\"1d167dfb-89eb-49a9-85b5-1a7877e34b03\",\"subtype\":\"Figure\",\"type\":\"Plot\"},{\"attributes\":{},\"id\":\"070f508c-ba39-407c-9764-4dcd40117616\",\"type\":\"LinearScale\"},{\"attributes\":{\"callback\":null},\"id\":\"2c853e73-ff1f-41b7-8bdf-66189213d638\",\"type\":\"DataRange1d\"},{\"attributes\":{},\"id\":\"3660122c-b594-42bb-8dd2-5014e933037c\",\"type\":\"LinearScale\"},{\"attributes\":{\"plot\":{\"id\":\"8a200106-acd9-4a5c-af5b-24e6ea95de63\",\"subtype\":\"Figure\",\"type\":\"Plot\"},\"ticker\":{\"id\":\"40a89525-5d25-472d-83d5-a9f5e09e3f33\",\"type\":\"BasicTicker\"}},\"id\":\"39aac1c3-2f67-4f5c-969d-3a5381123bd3\",\"type\":\"Grid\"},{\"attributes\":{\"axis_label\":\"k\",\"formatter\":{\"id\":\"dba6e746-089b-46a5-819d-e825eec99938\",\"type\":\"BasicTickFormatter\"},\"plot\":{\"id\":\"8a200106-acd9-4a5c-af5b-24e6ea95de63\",\"subtype\":\"Figure\",\"type\":\"Plot\"},\"ticker\":{\"id\":\"40a89525-5d25-472d-83d5-a9f5e09e3f33\",\"type\":\"BasicTicker\"}},\"id\":\"db789693-017a-4c59-8c75-6aeb6d6d7d2b\",\"type\":\"LinearAxis\"},{\"attributes\":{},\"id\":\"40a89525-5d25-472d-83d5-a9f5e09e3f33\",\"type\":\"BasicTicker\"},{\"attributes\":{\"axis_label\":\"f(k,p)\",\"formatter\":{\"id\":\"49d77e12-63c9-4ff7-8132-eee72fc549b4\",\"type\":\"BasicTickFormatter\"},\"plot\":{\"id\":\"8a200106-acd9-4a5c-af5b-24e6ea95de63\",\"subtype\":\"Figure\",\"type\":\"Plot\"},\"ticker\":{\"id\":\"2655052c-8f4f-4e6a-b1df-600e84e1a985\",\"type\":\"BasicTicker\"}},\"id\":\"72ffd2cb-701b-4bec-87be-5fb25a7c25d7\",\"type\":\"LinearAxis\"},{\"attributes\":{},\"id\":\"2655052c-8f4f-4e6a-b1df-600e84e1a985\",\"type\":\"BasicTicker\"},{\"attributes\":{\"dimension\":1,\"plot\":{\"id\":\"8a200106-acd9-4a5c-af5b-24e6ea95de63\",\"subtype\":\"Figure\",\"type\":\"Plot\"},\"ticker\":{\"id\":\"2655052c-8f4f-4e6a-b1df-600e84e1a985\",\"type\":\"BasicTicker\"}},\"id\":\"a39bd3e7-b68e-4eff-9643-b8b97d6509de\",\"type\":\"Grid\"},{\"attributes\":{\"active_drag\":\"auto\",\"active_inspect\":\"auto\",\"active_scroll\":\"auto\",\"active_tap\":\"auto\",\"tools\":[{\"id\":\"93353c60-8d61-43ad-b9dd-0df4ffa4d416\",\"type\":\"HoverTool\"},{\"id\":\"5b542391-7884-4fc4-8743-1a903ec25060\",\"type\":\"PanTool\"},{\"id\":\"cf4c311d-0892-4935-92a8-e29439552697\",\"type\":\"WheelZoomTool\"},{\"id\":\"7bf6d561-3354-4bad-bcc1-525b2e181339\",\"type\":\"ResetTool\"},{\"id\":\"ba6e43ab-8e95-427e-b577-02302e75456d\",\"type\":\"SaveTool\"}]},\"id\":\"5f5ebc23-b63f-4a22-85b3-7b6fcbc863ec\",\"type\":\"Toolbar\"},{\"attributes\":{\"callback\":null,\"column_names\":[\"x0\",\"x1\",\"y1\"],\"data\":{\"x0\":{\"__ndarray__\":\"AQAAAAIAAAADAAAABAAAAAUAAAAGAAAABwAAAAgAAAAJAAAACgAAAAsAAAAMAAAADQAAAA4AAAAPAAAAEAAAABEAAAASAAAAEwAAABQAAAAVAAAA\",\"dtype\":\"int32\",\"shape\":[21]},\"x1\":{\"__ndarray__\":\"AQAAAAIAAAADAAAABAAAAAUAAAAGAAAABwAAAAgAAAAJAAAACgAAAAsAAAAMAAAADQAAAA4AAAAPAAAAEAAAABEAAAASAAAAEwAAABQAAAAVAAAA\",\"dtype\":\"int32\",\"shape\":[21]},\"y1\":{\"__ndarray__\":\"MzMzMzMz0z/hehSuR+HKPzaJQWDl0MI/fybChqdXuj+MtFTejnCyP/YvEATI0Kk/LLtxnCUSoj/X0jgOm0yZP8nGJ72ftZE/TRae1RLLiD/PQoiV81qBP4hdWNEhTHg/eEEkrBcCcT+oW8y9us9nP/UMD7gCq2A/V0VIm9BVVz8jyuWfq1VQP/0aqKxW3kY/5BLceAkCQD8/5wB2QGk2P1fdmgsnYC8/\",\"dtype\":\"float64\",\"shape\":[21]}}},\"id\":\"977564a9-1cc4-41b4-854c-59d842a87e93\",\"type\":\"ColumnDataSource\"},{\"attributes\":{\"callback\":null,\"end\":1.05,\"start\":-0.05},\"id\":\"5c5cb008-752f-4c58-a4e1-0f1e6722f2dc\",\"type\":\"Range1d\"},{\"attributes\":{},\"id\":\"bb9520c0-7379-4e56-9ce5-c2059f13a70f\",\"type\":\"PanTool\"},{\"attributes\":{\"callback\":null,\"column_names\":[\"x0\",\"x1\",\"y1\"],\"data\":{\"x0\":{\"__ndarray__\":\"AQAAAAIAAAADAAAABAAAAAUAAAAGAAAABwAAAAgAAAAJAAAACgAAAAsAAAAMAAAADQAAAA4AAAAPAAAAEAAAABEAAAASAAAAEwAAABQAAAAVAAAA\",\"dtype\":\"int32\",\"shape\":[21]},\"x1\":{\"__ndarray__\":\"AQAAAAIAAAADAAAABAAAAAUAAAAGAAAABwAAAAgAAAAJAAAACgAAAAsAAAAMAAAADQAAAA4AAAAPAAAAEAAAABEAAAASAAAAEwAAABQAAAAVAAAA\",\"dtype\":\"int32\",\"shape\":[21]},\"y1\":{\"__ndarray__\":\"ZmZmZmZm5j/iehSuR+HKP1XjpZvEILA/mt2Th4Vakz+61hcJbTl3P+A0tteC3ls/VLnT57S4QD/MRDEW2RAkP1wfO7Q3FAg/PL8TpQ/l7D5YDD+WPFbRPgRC5U3izbQ+oLWskA/3mD5bQM/gRfV9PgSNr1OQ+WE+0kJsZOCRRT7K6YF4QOIpPlvlm5CADw8+a1Yqveai8j3nmv/iFF3WPRftZRAZ1ro9\",\"dtype\":\"float64\",\"shape\":[21]}}},\"id\":\"2635f195-64f0-48bd-96d3-b9c7fb3bec34\",\"type\":\"ColumnDataSource\"},{\"attributes\":{},\"id\":\"d05f1de1-6ca7-4e16-8bfc-1870d75df3ec\",\"type\":\"WheelZoomTool\"},{\"attributes\":{\"fill_color\":{\"value\":\"dodgerblue\"},\"line_color\":{\"value\":\"dodgerblue\"},\"size\":{\"units\":\"screen\",\"value\":7},\"x\":{\"field\":\"x\"},\"y\":{\"field\":\"y\"}},\"id\":\"784ad94d-8aa1-4426-b26e-3c911cbbfbfc\",\"type\":\"Circle\"},{\"attributes\":{},\"id\":\"18cc1ad7-21da-49fa-889b-5a98b997cb2f\",\"type\":\"ResetTool\"},{\"attributes\":{},\"id\":\"72c6a24b-c286-4f32-83da-e3976d17a805\",\"type\":\"SaveTool\"},{\"attributes\":{},\"id\":\"07548a7f-355a-449d-badb-24f0e8254d45\",\"type\":\"LinearScale\"},{\"attributes\":{\"callback\":null,\"column_names\":[\"x\",\"y\"],\"data\":{\"x\":{\"__ndarray__\":\"AQAAAAIAAAADAAAABAAAAAUAAAAGAAAABwAAAAgAAAAJAAAACgAAAAsAAAAMAAAADQAAAA4AAAAPAAAAEAAAABEAAAASAAAAEwAAABQAAAAVAAAA\",\"dtype\":\"int32\",\"shape\":[21]},\"y\":{\"__ndarray__\":\"ZmZmZmZm5j/iehSuR+HKP1XjpZvEILA/mt2Th4Vakz+61hcJbTl3P+A0tteC3ls/VLnT57S4QD/MRDEW2RAkP1wfO7Q3FAg/PL8TpQ/l7D5YDD+WPFbRPgRC5U3izbQ+oLWskA/3mD5bQM/gRfV9PgSNr1OQ+WE+0kJsZOCRRT7K6YF4QOIpPlvlm5CADw8+a1Yqveai8j3nmv/iFF3WPRftZRAZ1ro9\",\"dtype\":\"float64\",\"shape\":[21]}}},\"id\":\"cbbed3cf-09f5-4519-a5ec-bcb1f34312c4\",\"type\":\"ColumnDataSource\"}],\"root_ids\":[\"6cfc808f-f0e2-45b5-b6a3-5c760236203c\"]},\"title\":\"Bokeh Application\",\"version\":\"0.12.13\"}};\n",
       "  var render_items = [{\"docid\":\"791db6be-9297-4d90-85b6-9bd2d0b891bf\",\"elementid\":\"2a862cc2-5bec-4eab-aa28-de30390e4c9d\",\"modelid\":\"6cfc808f-f0e2-45b5-b6a3-5c760236203c\"}];\n",
       "  root.Bokeh.embed.embed_items_notebook(docs_json, render_items);\n",
       "\n",
       "  }\n",
       "  if (root.Bokeh !== undefined) {\n",
       "    embed_document(root);\n",
       "  } else {\n",
       "    var attempts = 0;\n",
       "    var timer = setInterval(function(root) {\n",
       "      if (root.Bokeh !== undefined) {\n",
       "        embed_document(root);\n",
       "        clearInterval(timer);\n",
       "      }\n",
       "      attempts++;\n",
       "      if (attempts > 100) {\n",
       "        console.log(\"Bokeh: ERROR: Unable to run BokehJS code because BokehJS library is missing\")\n",
       "        clearInterval(timer);\n",
       "      }\n",
       "    }, 10, root)\n",
       "  }\n",
       "})(window);"
      ],
      "application/vnd.bokehjs_exec.v0+json": ""
     },
     "metadata": {
      "application/vnd.bokehjs_exec.v0+json": {
       "id": "6cfc808f-f0e2-45b5-b6a3-5c760236203c"
      }
     },
     "output_type": "display_data"
    }
   ],
   "source": [
    "k = np.arange(21)+1\n",
    "p1 = 0.30\n",
    "p2 = 0.70\n",
    "\n",
    "# Tools for plots\n",
    "tools='pan,wheel_zoom,reset,save'\n",
    "\n",
    "# Set up plots\n",
    "fig_1 = Figure(width=400, height=300, tools=tools, title=\"Geometric Distribution\")\n",
    "fig_2 = Figure(width=400, height=300, tools=[tools,HoverTool(tooltips=[\n",
    "                (\"\", \"$y\")\n",
    "                ])], \n",
    "               y_range=[-0.05, 1.05])\n",
    "\n",
    "fig_1.xaxis.axis_label = 'k'\n",
    "fig_1.yaxis.axis_label = 'f(k,p)' \n",
    "\n",
    "fig_2.xaxis.axis_label = 'k'\n",
    "fig_2.yaxis.axis_label = 'F(k,p)'\n",
    "\n",
    "# Figure #1\n",
    "y1 = geom.pmf(k,p1)\n",
    "fig_1.circle(k, y1, size=7, color='dodgerblue',legend=\"p=0.30\")\n",
    "fig_1.segment(x0=k, x1=k, y0=0, y1=y1, line_width=3, \n",
    "              color='dodgerblue', legend=\"p=0.30\")\n",
    "\n",
    "y2 = geom.pmf(k,p2)\n",
    "fig_1.circle(k, y2, size=7, color='red',legend=\"p=0.70\")\n",
    "fig_1.segment(x0=k, x1=k, y0=0, y1=y2, line_width=3, \n",
    "              color='red', legend=\"p=0.70\")\n",
    "\n",
    "fig_1.legend.location = \"top_right\"\n",
    "fig_1.legend.click_policy=\"hide\"\n",
    "\n",
    "#Figure #2\n",
    "y3 = geom.cdf(k,p1)\n",
    "fig_2.circle(k, y3, size=7, color='dodgerblue')\n",
    "\n",
    "y4 = geom.cdf(k,p2)\n",
    "fig_2.circle(k, y4, size=7, color='red')\n",
    "\n",
    "# Link the x-axes\n",
    "fig_1.x_range = fig_2.x_range\n",
    "\n",
    "\n",
    "show(row([fig_1, fig_2]))"
   ]
  },
  {
   "cell_type": "markdown",
   "metadata": {},
   "source": [
    "# Continuous Distribution"
   ]
  },
  {
   "cell_type": "markdown",
   "metadata": {},
   "source": [
    "## Uniform distribution\n",
    "\n",
    "$$\n",
    "\\begin{eqnarray*}\n",
    "P(X = x)  \\Leftrightarrow  f(x)  & = &\n",
    "\\begin{cases}\n",
    "               \\displaystyle \\frac{1}{b-a} \\ \\ \\ a \\leq x \\leq b\\\\\n",
    "               \\textrm{caso contrário}\n",
    "\\end{cases}\\\\\n",
    "P(X \\leq x)  \\Leftrightarrow  F(x)  & = &\n",
    "\\begin{cases}\n",
    "               0 \\ \\ \\ \\ \\ \\ \\ \\  x \\leq a\\\\\n",
    "               \\frac{x-a}{b-a} \\ \\ \\ a \\leq x \\leq b\\\\\n",
    "               1 \\ \\ \\ \\ \\ \\ \\  x \\geq b\n",
    "\\end{cases}\n",
    "\\end{eqnarray*}\n",
    "$$"
   ]
  },
  {
   "cell_type": "code",
   "execution_count": 49,
   "metadata": {},
   "outputs": [
    {
     "data": {
      "text/html": [
       "\n",
       "<div class=\"bk-root\">\n",
       "    <div class=\"bk-plotdiv\" id=\"cb2723c8-53ae-4a13-9276-03512cdc2a8a\"></div>\n",
       "</div>"
      ]
     },
     "metadata": {},
     "output_type": "display_data"
    },
    {
     "data": {
      "application/javascript": [
       "(function(root) {\n",
       "  function embed_document(root) {\n",
       "    \n",
       "  var docs_json = {\"22646530-3449-4191-9207-e71655f5d3e1\":{\"roots\":{\"references\":[{\"attributes\":{\"line_alpha\":0.1,\"line_color\":\"#1f77b4\",\"line_width\":3,\"x\":{\"field\":\"x\"},\"y\":{\"field\":\"y\"}},\"id\":\"a2a3c939-2626-48b2-9e9c-1e926a9767a5\",\"type\":\"Line\"},{\"attributes\":{\"plot\":null,\"text\":\"Uniform Distribution\"},\"id\":\"43abb696-4342-45f2-a5cb-a48a8dc8f909\",\"type\":\"Title\"},{\"attributes\":{},\"id\":\"0613028f-2891-49a8-98cd-82a9a459f824\",\"type\":\"WheelZoomTool\"},{\"attributes\":{\"callback\":null,\"end\":20},\"id\":\"21f5fdee-974f-48cb-bd51-99bc7ee31a3e\",\"type\":\"Range1d\"},{\"attributes\":{},\"id\":\"aaf5c2d6-717d-445c-8868-cb7e34def8e2\",\"type\":\"ResetTool\"},{\"attributes\":{\"active_drag\":\"auto\",\"active_inspect\":\"auto\",\"active_scroll\":\"auto\",\"active_tap\":\"auto\",\"tools\":[{\"id\":\"31db582c-3941-433d-a465-7bbbe2c8a7fa\",\"type\":\"HoverTool\"},{\"id\":\"6a7c9013-cb32-429d-b0de-c4c6a447d20a\",\"type\":\"PanTool\"},{\"id\":\"14470ecb-21e3-461f-a584-59c30cc61c5b\",\"type\":\"WheelZoomTool\"},{\"id\":\"0f893db0-db4f-4c18-b13b-35c0d6a558e2\",\"type\":\"ResetTool\"},{\"id\":\"9fbb4275-310f-4b2c-bd70-97c3b3664a06\",\"type\":\"SaveTool\"}]},\"id\":\"760a5744-be74-4d51-924f-3e20d12089f0\",\"type\":\"Toolbar\"},{\"attributes\":{},\"id\":\"4fbc2f14-5f42-4085-8cff-849a0034e3b2\",\"type\":\"SaveTool\"},{\"attributes\":{\"callback\":null},\"id\":\"cbb434e9-4114-49d6-bf66-6cd86da6801e\",\"type\":\"DataRange1d\"},{\"attributes\":{},\"id\":\"80818d31-6c5e-467d-8a3d-4da358c170d8\",\"type\":\"BasicTickFormatter\"},{\"attributes\":{\"below\":[{\"id\":\"1ffeb7fb-5ce6-4037-aed1-5241fd710339\",\"type\":\"LinearAxis\"}],\"left\":[{\"id\":\"b4c67ed9-3aa0-44b0-9807-52c9c7490902\",\"type\":\"LinearAxis\"}],\"plot_height\":300,\"plot_width\":400,\"renderers\":[{\"id\":\"1ffeb7fb-5ce6-4037-aed1-5241fd710339\",\"type\":\"LinearAxis\"},{\"id\":\"a741d49d-a6aa-4b4b-b3b7-198d42d1442e\",\"type\":\"Grid\"},{\"id\":\"b4c67ed9-3aa0-44b0-9807-52c9c7490902\",\"type\":\"LinearAxis\"},{\"id\":\"6cf867c9-c6bc-40b8-9357-428e11c0092d\",\"type\":\"Grid\"},{\"id\":\"583fde49-0f83-4f0b-bc2e-79d7b3bc3304\",\"type\":\"Legend\"},{\"id\":\"87f74018-37d2-4562-b249-6f625b24ccec\",\"type\":\"GlyphRenderer\"}],\"title\":{\"id\":\"8a1c22f8-8b94-4176-96de-d7a37dca3c82\",\"type\":\"Title\"},\"toolbar\":{\"id\":\"c9332cb0-68ae-4acd-bdc0-f3662e8e61f5\",\"type\":\"Toolbar\"},\"x_range\":{\"id\":\"e18214f1-5099-4119-b146-37da2bb27801\",\"type\":\"Range1d\"},\"x_scale\":{\"id\":\"e87881ff-ab4a-44be-ba76-8b0937f64c7f\",\"type\":\"LinearScale\"},\"y_range\":{\"id\":\"14000fba-c21d-4cb0-834d-6aa03b7e731b\",\"type\":\"Range1d\"},\"y_scale\":{\"id\":\"c1a22351-2c6c-4012-9a42-4a01fa0b59d9\",\"type\":\"LinearScale\"}},\"id\":\"10da1844-26ef-4e13-a4ab-2e4393fc7143\",\"subtype\":\"Figure\",\"type\":\"Plot\"},{\"attributes\":{\"label\":{\"value\":\"pdf\"},\"renderers\":[{\"id\":\"b561bae8-23c2-4380-be91-5d2c77f96c36\",\"type\":\"GlyphRenderer\"}]},\"id\":\"ea089a32-d99e-4ee4-8497-b48be1007e11\",\"type\":\"LegendItem\"},{\"attributes\":{},\"id\":\"8c5ed21d-2174-46d9-b4ff-b708999e37bc\",\"type\":\"LinearScale\"},{\"attributes\":{\"click_policy\":\"hide\",\"items\":[{\"id\":\"ea089a32-d99e-4ee4-8497-b48be1007e11\",\"type\":\"LegendItem\"}],\"plot\":{\"id\":\"343bb419-7490-40f7-a6c0-7a8f949bf42e\",\"subtype\":\"Figure\",\"type\":\"Plot\"}},\"id\":\"a086ca0a-7b70-41f5-a02e-c7e34fc81281\",\"type\":\"Legend\"},{\"attributes\":{},\"id\":\"e05b631f-04c6-4c57-b8d6-8b03bb2f52b4\",\"type\":\"LinearScale\"},{\"attributes\":{\"line_color\":\"dodgerblue\",\"line_width\":3,\"x\":{\"field\":\"x\"},\"y\":{\"field\":\"y\"}},\"id\":\"d2d3854f-174c-484a-8299-eafc0ea54d99\",\"type\":\"Line\"},{\"attributes\":{},\"id\":\"c3f0d730-f553-4206-945c-bdfd253b799c\",\"type\":\"BasicTickFormatter\"},{\"attributes\":{\"plot\":{\"id\":\"343bb419-7490-40f7-a6c0-7a8f949bf42e\",\"subtype\":\"Figure\",\"type\":\"Plot\"},\"ticker\":{\"id\":\"ac910d7a-b0f5-4424-93e8-5c5284692e28\",\"type\":\"BasicTicker\"}},\"id\":\"9c84b17b-5e08-4bb2-9783-0b2d903f04c7\",\"type\":\"Grid\"},{\"attributes\":{\"data_source\":{\"id\":\"673b1e43-3900-46c4-ad44-93f273aec7ed\",\"type\":\"ColumnDataSource\"},\"glyph\":{\"id\":\"0cab0f07-cad0-4723-b9ec-6ab44829bdd9\",\"type\":\"Line\"},\"hover_glyph\":null,\"muted_glyph\":null,\"nonselection_glyph\":{\"id\":\"a2a3c939-2626-48b2-9e9c-1e926a9767a5\",\"type\":\"Line\"},\"selection_glyph\":null,\"view\":{\"id\":\"97d328cb-6f41-4b6e-b43a-12af0271db08\",\"type\":\"CDSView\"}},\"id\":\"87f74018-37d2-4562-b249-6f625b24ccec\",\"type\":\"GlyphRenderer\"},{\"attributes\":{\"axis_label\":\"x\",\"formatter\":{\"id\":\"80818d31-6c5e-467d-8a3d-4da358c170d8\",\"type\":\"BasicTickFormatter\"},\"plot\":{\"id\":\"343bb419-7490-40f7-a6c0-7a8f949bf42e\",\"subtype\":\"Figure\",\"type\":\"Plot\"},\"ticker\":{\"id\":\"ac910d7a-b0f5-4424-93e8-5c5284692e28\",\"type\":\"BasicTicker\"}},\"id\":\"036b8693-81ec-4475-9e57-98caa43fe8ab\",\"type\":\"LinearAxis\"},{\"attributes\":{\"plot\":null,\"text\":\"\"},\"id\":\"8a1c22f8-8b94-4176-96de-d7a37dca3c82\",\"type\":\"Title\"},{\"attributes\":{},\"id\":\"ac910d7a-b0f5-4424-93e8-5c5284692e28\",\"type\":\"BasicTicker\"},{\"attributes\":{\"items\":[{\"id\":\"009b1292-ed83-427a-b761-3bb7a8ec365c\",\"type\":\"LegendItem\"}],\"location\":\"bottom_right\",\"plot\":{\"id\":\"10da1844-26ef-4e13-a4ab-2e4393fc7143\",\"subtype\":\"Figure\",\"type\":\"Plot\"}},\"id\":\"583fde49-0f83-4f0b-bc2e-79d7b3bc3304\",\"type\":\"Legend\"},{\"attributes\":{\"axis_label\":\"f(x,(2,7))\",\"formatter\":{\"id\":\"1f295159-1fc4-44e8-b969-854cae5f81e0\",\"type\":\"BasicTickFormatter\"},\"plot\":{\"id\":\"343bb419-7490-40f7-a6c0-7a8f949bf42e\",\"subtype\":\"Figure\",\"type\":\"Plot\"},\"ticker\":{\"id\":\"5be2c1fd-c46e-4a4d-a252-825ce12ded73\",\"type\":\"BasicTicker\"}},\"id\":\"d80a64a3-545f-4c95-9835-5abfec57a4cc\",\"type\":\"LinearAxis\"},{\"attributes\":{\"label\":{\"value\":\"cdf\"},\"renderers\":[{\"id\":\"87f74018-37d2-4562-b249-6f625b24ccec\",\"type\":\"GlyphRenderer\"}]},\"id\":\"009b1292-ed83-427a-b761-3bb7a8ec365c\",\"type\":\"LegendItem\"},{\"attributes\":{},\"id\":\"5be2c1fd-c46e-4a4d-a252-825ce12ded73\",\"type\":\"BasicTicker\"},{\"attributes\":{},\"id\":\"d5cef405-7fb5-44a3-93a6-3ed58a9f82fc\",\"type\":\"BasicTickFormatter\"},{\"attributes\":{\"dimension\":1,\"plot\":{\"id\":\"343bb419-7490-40f7-a6c0-7a8f949bf42e\",\"subtype\":\"Figure\",\"type\":\"Plot\"},\"ticker\":{\"id\":\"5be2c1fd-c46e-4a4d-a252-825ce12ded73\",\"type\":\"BasicTicker\"}},\"id\":\"dfef16c9-1fb2-440e-96f1-9efe6b026ce8\",\"type\":\"Grid\"},{\"attributes\":{\"active_drag\":\"auto\",\"active_inspect\":\"auto\",\"active_scroll\":\"auto\",\"active_tap\":\"auto\",\"tools\":[{\"id\":\"ebe62b04-66b9-4f10-b353-5d832e84bfb9\",\"type\":\"HoverTool\"},{\"id\":\"3ae17883-3705-4c54-a1b2-c60c9fd48945\",\"type\":\"PanTool\"},{\"id\":\"0613028f-2891-49a8-98cd-82a9a459f824\",\"type\":\"WheelZoomTool\"},{\"id\":\"aaf5c2d6-717d-445c-8868-cb7e34def8e2\",\"type\":\"ResetTool\"},{\"id\":\"4fbc2f14-5f42-4085-8cff-849a0034e3b2\",\"type\":\"SaveTool\"}]},\"id\":\"c9332cb0-68ae-4acd-bdc0-f3662e8e61f5\",\"type\":\"Toolbar\"},{\"attributes\":{},\"id\":\"1f295159-1fc4-44e8-b969-854cae5f81e0\",\"type\":\"BasicTickFormatter\"},{\"attributes\":{\"children\":[{\"id\":\"343bb419-7490-40f7-a6c0-7a8f949bf42e\",\"subtype\":\"Figure\",\"type\":\"Plot\"},{\"id\":\"10da1844-26ef-4e13-a4ab-2e4393fc7143\",\"subtype\":\"Figure\",\"type\":\"Plot\"}]},\"id\":\"6c3c7732-8ca2-4949-a091-df3055ec7249\",\"type\":\"Row\"},{\"attributes\":{\"callback\":null,\"end\":1.05,\"start\":-0.05},\"id\":\"14000fba-c21d-4cb0-834d-6aa03b7e731b\",\"type\":\"Range1d\"},{\"attributes\":{},\"id\":\"6a7c9013-cb32-429d-b0de-c4c6a447d20a\",\"type\":\"PanTool\"},{\"attributes\":{\"source\":{\"id\":\"673b1e43-3900-46c4-ad44-93f273aec7ed\",\"type\":\"ColumnDataSource\"}},\"id\":\"97d328cb-6f41-4b6e-b43a-12af0271db08\",\"type\":\"CDSView\"},{\"attributes\":{},\"id\":\"14470ecb-21e3-461f-a584-59c30cc61c5b\",\"type\":\"WheelZoomTool\"},{\"attributes\":{},\"id\":\"0f893db0-db4f-4c18-b13b-35c0d6a558e2\",\"type\":\"ResetTool\"},{\"attributes\":{},\"id\":\"9fbb4275-310f-4b2c-bd70-97c3b3664a06\",\"type\":\"SaveTool\"},{\"attributes\":{\"callback\":null,\"end\":20},\"id\":\"e18214f1-5099-4119-b146-37da2bb27801\",\"type\":\"Range1d\"},{\"attributes\":{\"callback\":null,\"column_names\":[\"x\",\"y\"],\"data\":{\"x\":{\"__ndarray__\":\"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\",\"dtype\":\"float64\",\"shape\":[200]},\"y\":{\"__ndarray__\":\"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\",\"dtype\":\"float64\",\"shape\":[200]}}},\"id\":\"673b1e43-3900-46c4-ad44-93f273aec7ed\",\"type\":\"ColumnDataSource\"},{\"attributes\":{\"callback\":null,\"column_names\":[\"x\",\"y\"],\"data\":{\"x\":{\"__ndarray__\":\"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\",\"dtype\":\"float64\",\"shape\":[200]},\"y\":{\"__ndarray__\":\"AAAAAAAAAAAAAAAAAAAAAAAAAAAAAAAAAAAAAAAAAAAAAAAAAAAAAAAAAAAAAAAAAAAAAAAAAAAAAAAAAAAAAAAAAAAAAAAAAAAAAAAAAAAAAAAAAAAAAAAAAAAAAAAAAAAAAAAAAAAAAAAAAAAAAAAAAAAAAAAAAAAAAAAAAAAAAAAAAAAAAAAAAAAAAAAAAAAAAAAAAAAAAAAAAAAAAJqZmZmZmck/mpmZmZmZyT+amZmZmZnJP5qZmZmZmck/mpmZmZmZyT+amZmZmZnJP5qZmZmZmck/mpmZmZmZyT+amZmZmZnJP5qZmZmZmck/mpmZmZmZyT+amZmZmZnJP5qZmZmZmck/mpmZmZmZyT+amZmZmZnJP5qZmZmZmck/mpmZmZmZyT+amZmZmZnJP5qZmZmZmck/mpmZmZmZyT+amZmZmZnJP5qZmZmZmck/mpmZmZmZyT+amZmZmZnJP5qZmZmZmck/mpmZmZmZyT+amZmZmZnJP5qZmZmZmck/mpmZmZmZyT+amZmZmZnJP5qZmZmZmck/mpmZmZmZyT+amZmZmZnJP5qZmZmZmck/mpmZmZmZyT+amZmZmZnJP5qZmZmZmck/mpmZmZmZyT+amZmZmZnJP5qZmZmZmck/mpmZmZmZyT+amZmZmZnJP5qZmZmZmck/mpmZmZmZyT+amZmZmZnJP5qZmZmZmck/mpmZmZmZyT+amZmZmZnJP5qZmZmZmck/mpmZmZmZyT8AAAAAAAAAAAAAAAAAAAAAAAAAAAAAAAAAAAAAAAAAAAAAAAAAAAAAAAAAAAAAAAAAAAAAAAAAAAAAAAAAAAAAAAAAAAAAAAAAAAAAAAAAAAAAAAAAAAAAAAAAAAAAAAAAAAAAAAAAAAAAAAAAAAAAAAAAAAAAAAAAAAAAAAAAAAAAAAAAAAAAAAAAAAAAAAAAAAAAAAAAAAAAAAAAAAAAAAAAAAAAAAAAAAAAAAAAAAAAAAAAAAAAAAAAAAAAAAAAAAAAAAAAAAAAAAAAAAAAAAAAAAAAAAAAAAAAAAAAAAAAAAAAAAAAAAAAAAAAAAAAAAAAAAAAAAAAAAAAAAAAAAAAAAAAAAAAAAAAAAAAAAAAAAAAAAAAAAAAAAAAAAAAAAAAAAAAAAAAAAAAAAAAAAAAAAAAAAAAAAAAAAAAAAAAAAAAAAAAAAAAAAAAAAAAAAAAAAAAAAAAAAAAAAAAAAAAAAAAAAAAAAAAAAAAAAAAAAAAAAAAAAAAAAAAAAAAAAAAAAAAAAAAAAAAAAAAAAAAAAAAAAAAAAAAAAAAAAAAAAAAAAAAAAAAAAAAAAAAAAAAAAAAAAAAAAAAAAAAAAAAAAAAAAAAAAAAAAAAAAAAAAAAAAAAAAAAAAAAAAAAAAAAAAAAAAAAAAAAAAAAAAAAAAAAAAAAAAAAAAAAAAAAAAAAAAAAAAAAAAAAAAAAAAAAAAAAAAAAAAAAAAAAAAAAAAAAAAAAAAAAAAAAAAAAAAAAAAAAAAAAAAAAAAAAAAAAAAAAAAAAAAAAAAAAAAAAAAAAAAAAAAAAAAAAAAAAAAAAAAAAAAAAAAAAAAAAAAAAAAAAAAAAAAAAAAAAAAAAAAAAAAAAAAAAAAAAAAAAAAAAAAAAAAAAAAAAAAAAAAAAAAAAAAAAAAAAAAAAAAAAAAAAAAAAAAAAAAAAAAAAAAAAAAAAAAAAAAAAAAAAAAAAAAAAAAAAAAAAAAAAAAAAAAAAAAAAAAAAAAAAAAAAAAAAAAAAAAAAAAAAAAAAAAAAAAAAAAAAAAAAAAAAAAAAAAAAAAAAAAAAAAAAAAAAAAAAAAAAAAAAAAAAAAAAAAAAAAAAAAAAAAAAAAAAAAAAAAAAAAAAAAAAAAAAAAAAAAAAAAAAAAAAAAAAAAAAAAAAAAAAAAAAAAAAAAAAAAAAAAAAAAAAAAAAAAAAAAAAAAAAAAAAAAAAAAAAAAAAAAAAAAAAAAAAAAAAAAAAAAAAAAAAAAAAAAAAAAAAAAAAAAAAAAAAAAAAAAAAAAAAAAAAAAAAAAAAAAAAAAAAAAAAAAAAAAAAAAAAAAAAAAAAAAAAAAAAAAAAAAAAAAAAAAAAAAAAAAAAAAAAAAAAAAAAAAAAAAAAAAAAAAAAAA==\",\"dtype\":\"float64\",\"shape\":[200]}}},\"id\":\"90539aaf-eb1e-4ad6-8946-70c97bdd8c74\",\"type\":\"ColumnDataSource\"},{\"attributes\":{\"line_color\":\"dodgerblue\",\"line_width\":3,\"x\":{\"field\":\"x\"},\"y\":{\"field\":\"y\"}},\"id\":\"0cab0f07-cad0-4723-b9ec-6ab44829bdd9\",\"type\":\"Line\"},{\"attributes\":{},\"id\":\"e87881ff-ab4a-44be-ba76-8b0937f64c7f\",\"type\":\"LinearScale\"},{\"attributes\":{},\"id\":\"c1a22351-2c6c-4012-9a42-4a01fa0b59d9\",\"type\":\"LinearScale\"},{\"attributes\":{\"plot\":{\"id\":\"10da1844-26ef-4e13-a4ab-2e4393fc7143\",\"subtype\":\"Figure\",\"type\":\"Plot\"},\"ticker\":{\"id\":\"6a90b589-db02-46c3-b174-ae9c6abe61d1\",\"type\":\"BasicTicker\"}},\"id\":\"a741d49d-a6aa-4b4b-b3b7-198d42d1442e\",\"type\":\"Grid\"},{\"attributes\":{\"axis_label\":\"x\",\"formatter\":{\"id\":\"c3f0d730-f553-4206-945c-bdfd253b799c\",\"type\":\"BasicTickFormatter\"},\"plot\":{\"id\":\"10da1844-26ef-4e13-a4ab-2e4393fc7143\",\"subtype\":\"Figure\",\"type\":\"Plot\"},\"ticker\":{\"id\":\"6a90b589-db02-46c3-b174-ae9c6abe61d1\",\"type\":\"BasicTicker\"}},\"id\":\"1ffeb7fb-5ce6-4037-aed1-5241fd710339\",\"type\":\"LinearAxis\"},{\"attributes\":{},\"id\":\"6a90b589-db02-46c3-b174-ae9c6abe61d1\",\"type\":\"BasicTicker\"},{\"attributes\":{\"axis_label\":\"F(x,(2,7))\",\"formatter\":{\"id\":\"d5cef405-7fb5-44a3-93a6-3ed58a9f82fc\",\"type\":\"BasicTickFormatter\"},\"plot\":{\"id\":\"10da1844-26ef-4e13-a4ab-2e4393fc7143\",\"subtype\":\"Figure\",\"type\":\"Plot\"},\"ticker\":{\"id\":\"27d208e2-959d-48aa-8679-bed491caf873\",\"type\":\"BasicTicker\"}},\"id\":\"b4c67ed9-3aa0-44b0-9807-52c9c7490902\",\"type\":\"LinearAxis\"},{\"attributes\":{},\"id\":\"27d208e2-959d-48aa-8679-bed491caf873\",\"type\":\"BasicTicker\"},{\"attributes\":{\"dimension\":1,\"plot\":{\"id\":\"10da1844-26ef-4e13-a4ab-2e4393fc7143\",\"subtype\":\"Figure\",\"type\":\"Plot\"},\"ticker\":{\"id\":\"27d208e2-959d-48aa-8679-bed491caf873\",\"type\":\"BasicTicker\"}},\"id\":\"6cf867c9-c6bc-40b8-9357-428e11c0092d\",\"type\":\"Grid\"},{\"attributes\":{\"line_alpha\":0.1,\"line_color\":\"#1f77b4\",\"line_width\":3,\"x\":{\"field\":\"x\"},\"y\":{\"field\":\"y\"}},\"id\":\"02708df1-0047-4474-a5b7-a057a0c864c6\",\"type\":\"Line\"},{\"attributes\":{\"source\":{\"id\":\"90539aaf-eb1e-4ad6-8946-70c97bdd8c74\",\"type\":\"ColumnDataSource\"}},\"id\":\"8b821255-9067-413f-b799-897a06d31c12\",\"type\":\"CDSView\"},{\"attributes\":{\"callback\":null,\"tooltips\":[[\"\",\"$y\"]]},\"id\":\"ebe62b04-66b9-4f10-b353-5d832e84bfb9\",\"type\":\"HoverTool\"},{\"attributes\":{\"data_source\":{\"id\":\"90539aaf-eb1e-4ad6-8946-70c97bdd8c74\",\"type\":\"ColumnDataSource\"},\"glyph\":{\"id\":\"d2d3854f-174c-484a-8299-eafc0ea54d99\",\"type\":\"Line\"},\"hover_glyph\":null,\"muted_glyph\":null,\"nonselection_glyph\":{\"id\":\"02708df1-0047-4474-a5b7-a057a0c864c6\",\"type\":\"Line\"},\"selection_glyph\":null,\"view\":{\"id\":\"8b821255-9067-413f-b799-897a06d31c12\",\"type\":\"CDSView\"}},\"id\":\"b561bae8-23c2-4380-be91-5d2c77f96c36\",\"type\":\"GlyphRenderer\"},{\"attributes\":{\"callback\":null,\"tooltips\":[[\"\",\"$y\"]]},\"id\":\"31db582c-3941-433d-a465-7bbbe2c8a7fa\",\"type\":\"HoverTool\"},{\"attributes\":{\"below\":[{\"id\":\"036b8693-81ec-4475-9e57-98caa43fe8ab\",\"type\":\"LinearAxis\"}],\"left\":[{\"id\":\"d80a64a3-545f-4c95-9835-5abfec57a4cc\",\"type\":\"LinearAxis\"}],\"plot_height\":300,\"plot_width\":400,\"renderers\":[{\"id\":\"036b8693-81ec-4475-9e57-98caa43fe8ab\",\"type\":\"LinearAxis\"},{\"id\":\"9c84b17b-5e08-4bb2-9783-0b2d903f04c7\",\"type\":\"Grid\"},{\"id\":\"d80a64a3-545f-4c95-9835-5abfec57a4cc\",\"type\":\"LinearAxis\"},{\"id\":\"dfef16c9-1fb2-440e-96f1-9efe6b026ce8\",\"type\":\"Grid\"},{\"id\":\"a086ca0a-7b70-41f5-a02e-c7e34fc81281\",\"type\":\"Legend\"},{\"id\":\"b561bae8-23c2-4380-be91-5d2c77f96c36\",\"type\":\"GlyphRenderer\"}],\"title\":{\"id\":\"43abb696-4342-45f2-a5cb-a48a8dc8f909\",\"type\":\"Title\"},\"toolbar\":{\"id\":\"760a5744-be74-4d51-924f-3e20d12089f0\",\"type\":\"Toolbar\"},\"x_range\":{\"id\":\"21f5fdee-974f-48cb-bd51-99bc7ee31a3e\",\"type\":\"Range1d\"},\"x_scale\":{\"id\":\"8c5ed21d-2174-46d9-b4ff-b708999e37bc\",\"type\":\"LinearScale\"},\"y_range\":{\"id\":\"cbb434e9-4114-49d6-bf66-6cd86da6801e\",\"type\":\"DataRange1d\"},\"y_scale\":{\"id\":\"e05b631f-04c6-4c57-b8d6-8b03bb2f52b4\",\"type\":\"LinearScale\"}},\"id\":\"343bb419-7490-40f7-a6c0-7a8f949bf42e\",\"subtype\":\"Figure\",\"type\":\"Plot\"},{\"attributes\":{},\"id\":\"3ae17883-3705-4c54-a1b2-c60c9fd48945\",\"type\":\"PanTool\"}],\"root_ids\":[\"6c3c7732-8ca2-4949-a091-df3055ec7249\"]},\"title\":\"Bokeh Application\",\"version\":\"0.12.13\"}};\n",
       "  var render_items = [{\"docid\":\"22646530-3449-4191-9207-e71655f5d3e1\",\"elementid\":\"cb2723c8-53ae-4a13-9276-03512cdc2a8a\",\"modelid\":\"6c3c7732-8ca2-4949-a091-df3055ec7249\"}];\n",
       "  root.Bokeh.embed.embed_items_notebook(docs_json, render_items);\n",
       "\n",
       "  }\n",
       "  if (root.Bokeh !== undefined) {\n",
       "    embed_document(root);\n",
       "  } else {\n",
       "    var attempts = 0;\n",
       "    var timer = setInterval(function(root) {\n",
       "      if (root.Bokeh !== undefined) {\n",
       "        embed_document(root);\n",
       "        clearInterval(timer);\n",
       "      }\n",
       "      attempts++;\n",
       "      if (attempts > 100) {\n",
       "        console.log(\"Bokeh: ERROR: Unable to run BokehJS code because BokehJS library is missing\")\n",
       "        clearInterval(timer);\n",
       "      }\n",
       "    }, 10, root)\n",
       "  }\n",
       "})(window);"
      ],
      "application/vnd.bokehjs_exec.v0+json": ""
     },
     "metadata": {
      "application/vnd.bokehjs_exec.v0+json": {
       "id": "6c3c7732-8ca2-4949-a091-df3055ec7249"
      }
     },
     "output_type": "display_data"
    }
   ],
   "source": [
    "from scipy.stats import uniform\n",
    "\n",
    "x = np.linspace(0, 20, 200)\n",
    "\n",
    "# Tools for plots\n",
    "tools='pan,wheel_zoom,reset,save'\n",
    "\n",
    "# Set up plots\n",
    "fig_1 = Figure(width=400, height=300, tools=[tools,HoverTool(tooltips=[\n",
    "                (\"\", \"$y\")\n",
    "                ])], title=\"Uniform Distribution\",x_range=(0, 20))\n",
    "fig_2 = Figure(width=400, height=300, tools=[tools,HoverTool(tooltips=[\n",
    "                (\"\", \"$y\")\n",
    "                ])], \n",
    "               y_range=[-0.05, 1.05],x_range=(0, 20))\n",
    "\n",
    "fig_1.xaxis.axis_label = 'x'\n",
    "fig_1.yaxis.axis_label = 'f(x,(2,7))' \n",
    "\n",
    "fig_2.xaxis.axis_label = 'x'\n",
    "fig_2.yaxis.axis_label = 'F(x,(2,7))'\n",
    "\n",
    "# Figure #1\n",
    "y1 = uniform.pdf(x,2,5)\n",
    "fig_1.line(x, y1, line_width=3, color='dodgerblue',legend=\"pdf\")\n",
    "\n",
    "fig_1.legend.location = \"top_right\"\n",
    "fig_1.legend.click_policy=\"hide\"\n",
    "\n",
    "#Figure #2\n",
    "y2 = uniform.cdf(x,2,5)\n",
    "fig_2.line(x, y2, line_width=3, color='dodgerblue',legend=\"cdf\")\n",
    "fig_2.legend.location = \"bottom_right\"\n",
    "\n",
    "show(row([fig_1, fig_2]))"
   ]
  },
  {
   "cell_type": "markdown",
   "metadata": {},
   "source": [
    "## Exponential Distribution"
   ]
  },
  {
   "cell_type": "markdown",
   "metadata": {},
   "source": [
    "$$\n",
    "\\begin{eqnarray*}\n",
    "P(X = x)  \\Leftrightarrow  f(x,\\lambda)  & = &\n",
    "\\begin{cases}\n",
    "               \\displaystyle \\lambda e^{-\\lambda x} \\ \\ \\ x \\geq 0\\\\\n",
    "               0 \\ \\ \\ \\textrm{caso contrário}\n",
    "\\end{cases}\\\\\n",
    "P(X \\leq x)  \\Leftrightarrow  F(x,\\lambda)  & = &\n",
    "\\begin{cases}\n",
    "               1 - e^{-\\lambda x} \\ \\ \\  x \\geq 0\\\\ \n",
    "               0 \\ \\ \\ \\textrm{caso contrário}\n",
    "\\end{cases}\n",
    "\\end{eqnarray*}\n",
    "$$"
   ]
  },
  {
   "cell_type": "code",
   "execution_count": 50,
   "metadata": {},
   "outputs": [
    {
     "data": {
      "text/html": [
       "\n",
       "<div class=\"bk-root\">\n",
       "    <div class=\"bk-plotdiv\" id=\"8f21892f-3352-4615-95de-a39c15851488\"></div>\n",
       "</div>"
      ]
     },
     "metadata": {},
     "output_type": "display_data"
    },
    {
     "data": {
      "application/javascript": [
       "(function(root) {\n",
       "  function embed_document(root) {\n",
       "    \n",
       "  var docs_json = {\"9ee8fea6-502f-431b-b0ef-3290040c6872\":{\"roots\":{\"references\":[{\"attributes\":{\"below\":[{\"id\":\"a9b8a7e5-7b4c-4e58-9b50-0e6609185088\",\"type\":\"LinearAxis\"}],\"left\":[{\"id\":\"cf76db85-4f84-41a4-9118-692ac05fa83e\",\"type\":\"LinearAxis\"}],\"plot_height\":300,\"plot_width\":400,\"renderers\":[{\"id\":\"a9b8a7e5-7b4c-4e58-9b50-0e6609185088\",\"type\":\"LinearAxis\"},{\"id\":\"cd935c9c-b50b-4143-9c16-d0e4f523f704\",\"type\":\"Grid\"},{\"id\":\"cf76db85-4f84-41a4-9118-692ac05fa83e\",\"type\":\"LinearAxis\"},{\"id\":\"4a46762f-4191-4f9c-bfa7-f853482071fa\",\"type\":\"Grid\"},{\"id\":\"5886a5bd-3727-460a-b26d-5b0467755503\",\"type\":\"Legend\"},{\"id\":\"af8498e2-b979-4306-af46-554ea4ab6ede\",\"type\":\"GlyphRenderer\"},{\"id\":\"2808fd56-bdd0-4aee-9371-9885932df88a\",\"type\":\"GlyphRenderer\"},{\"id\":\"c47b3f12-48fc-433c-be1e-50791416f3be\",\"type\":\"GlyphRenderer\"}],\"title\":{\"id\":\"a10a5046-86d7-48a7-a3ff-857abdade961\",\"type\":\"Title\"},\"toolbar\":{\"id\":\"3f8fb94b-1c44-4c1e-9f48-5c5d2046fb5a\",\"type\":\"Toolbar\"},\"x_range\":{\"id\":\"76da5346-3428-4539-944b-715d9d8a4ce3\",\"type\":\"DataRange1d\"},\"x_scale\":{\"id\":\"6123bcd2-cd2a-4a9e-aa24-1c2a1b0f1216\",\"type\":\"LinearScale\"},\"y_range\":{\"id\":\"f5252494-3301-4c67-b61e-8453c35258d0\",\"type\":\"DataRange1d\"},\"y_scale\":{\"id\":\"5578cbb6-7bbd-42dc-946b-b3941bbccd73\",\"type\":\"LinearScale\"}},\"id\":\"234744a1-9637-4852-ae75-04433ddb1892\",\"subtype\":\"Figure\",\"type\":\"Plot\"},{\"attributes\":{\"active_drag\":\"auto\",\"active_inspect\":\"auto\",\"active_scroll\":\"auto\",\"active_tap\":\"auto\",\"tools\":[{\"id\":\"ca51a506-6779-4864-bd97-2c30daebfda3\",\"type\":\"HoverTool\"},{\"id\":\"03228a77-6c1d-4072-8b20-167396614631\",\"type\":\"PanTool\"},{\"id\":\"30a56e6a-6fb0-4525-886c-ae8fe276a0eb\",\"type\":\"WheelZoomTool\"},{\"id\":\"477042ac-2838-41ed-b923-7e5ec0b0896b\",\"type\":\"ResetTool\"},{\"id\":\"e4fbad85-17c1-457e-819e-a75fcf0d4b72\",\"type\":\"SaveTool\"}]},\"id\":\"49b604dd-79c1-4f93-910c-4c7d3b5c3863\",\"type\":\"Toolbar\"},{\"attributes\":{\"label\":{\"value\":\"\\u03bb=0.0001\"},\"renderers\":[{\"id\":\"9561b223-91ae-42e0-b16f-1e8d6eaec496\",\"type\":\"GlyphRenderer\"}]},\"id\":\"630229f5-c5b9-47da-9e82-79739c7e1ac7\",\"type\":\"LegendItem\"},{\"attributes\":{\"callback\":null,\"tooltips\":[[\"\",\"($x,$y)\"]]},\"id\":\"ca51a506-6779-4864-bd97-2c30daebfda3\",\"type\":\"HoverTool\"},{\"attributes\":{\"line_alpha\":0.1,\"line_color\":\"#1f77b4\",\"line_width\":3,\"x\":{\"field\":\"x\"},\"y\":{\"field\":\"y\"}},\"id\":\"f43d9463-65c4-46ca-9180-3738d61c8ceb\",\"type\":\"Line\"},{\"attributes\":{\"children\":[{\"id\":\"234744a1-9637-4852-ae75-04433ddb1892\",\"subtype\":\"Figure\",\"type\":\"Plot\"},{\"id\":\"a941e4c8-0459-49b7-abc7-1741609c068a\",\"subtype\":\"Figure\",\"type\":\"Plot\"}]},\"id\":\"e46f9565-944d-4735-8e4a-bfe20ff4936c\",\"type\":\"Row\"},{\"attributes\":{\"plot\":null,\"text\":\"Exponential Distribution\"},\"id\":\"a10a5046-86d7-48a7-a3ff-857abdade961\",\"type\":\"Title\"},{\"attributes\":{\"callback\":null,\"tooltips\":[[\"\",\"($x,$y)\"]]},\"id\":\"a20c4dd5-3c5d-45f1-b45a-abf8acb46204\",\"type\":\"HoverTool\"},{\"attributes\":{\"source\":{\"id\":\"778c05e1-2dee-486f-9d19-7ba1d79d7687\",\"type\":\"ColumnDataSource\"}},\"id\":\"7758757f-18cd-4512-9fc6-047ac708b3ba\",\"type\":\"CDSView\"},{\"attributes\":{\"callback\":null},\"id\":\"76da5346-3428-4539-944b-715d9d8a4ce3\",\"type\":\"DataRange1d\"},{\"attributes\":{\"line_color\":\"green\",\"line_width\":3,\"x\":{\"field\":\"x\"},\"y\":{\"field\":\"y\"}},\"id\":\"cd7f637b-8b21-4734-bde4-103793144c33\",\"type\":\"Line\"},{\"attributes\":{\"active_drag\":\"auto\",\"active_inspect\":\"auto\",\"active_scroll\":\"auto\",\"active_tap\":\"auto\",\"tools\":[{\"id\":\"a20c4dd5-3c5d-45f1-b45a-abf8acb46204\",\"type\":\"HoverTool\"},{\"id\":\"254b438a-1226-4950-a70e-60368349d6ae\",\"type\":\"PanTool\"},{\"id\":\"82c0a27d-d8d6-48fc-8483-ee720de9ba1a\",\"type\":\"WheelZoomTool\"},{\"id\":\"1c4eca91-d04b-48fc-aa5f-70b59cbf0e22\",\"type\":\"ResetTool\"},{\"id\":\"d584485e-8b5d-48bf-9548-86ad6f39fcb8\",\"type\":\"SaveTool\"}]},\"id\":\"3f8fb94b-1c44-4c1e-9f48-5c5d2046fb5a\",\"type\":\"Toolbar\"},{\"attributes\":{\"data_source\":{\"id\":\"778c05e1-2dee-486f-9d19-7ba1d79d7687\",\"type\":\"ColumnDataSource\"},\"glyph\":{\"id\":\"cd7f637b-8b21-4734-bde4-103793144c33\",\"type\":\"Line\"},\"hover_glyph\":null,\"muted_glyph\":null,\"nonselection_glyph\":{\"id\":\"f43d9463-65c4-46ca-9180-3738d61c8ceb\",\"type\":\"Line\"},\"selection_glyph\":null,\"view\":{\"id\":\"7758757f-18cd-4512-9fc6-047ac708b3ba\",\"type\":\"CDSView\"}},\"id\":\"98b72045-5fd0-4fa0-a173-f0600f397fd6\",\"type\":\"GlyphRenderer\"},{\"attributes\":{\"data_source\":{\"id\":\"0878e47c-afa9-456c-b48b-d47f7946b799\",\"type\":\"ColumnDataSource\"},\"glyph\":{\"id\":\"95e18be9-7749-41f0-b601-24058898913b\",\"type\":\"Line\"},\"hover_glyph\":null,\"muted_glyph\":null,\"nonselection_glyph\":{\"id\":\"01d446c6-759c-4166-b9ae-a03987893932\",\"type\":\"Line\"},\"selection_glyph\":null,\"view\":{\"id\":\"8df63fdc-0fe8-4d10-a280-d7870eb2979f\",\"type\":\"CDSView\"}},\"id\":\"af8498e2-b979-4306-af46-554ea4ab6ede\",\"type\":\"GlyphRenderer\"},{\"attributes\":{\"label\":{\"value\":\"\\u03bb=0.0002\"},\"renderers\":[{\"id\":\"98b72045-5fd0-4fa0-a173-f0600f397fd6\",\"type\":\"GlyphRenderer\"}]},\"id\":\"22046cc7-6805-47c8-aeaf-6335a1638900\",\"type\":\"LegendItem\"},{\"attributes\":{\"callback\":null},\"id\":\"f5252494-3301-4c67-b61e-8453c35258d0\",\"type\":\"DataRange1d\"},{\"attributes\":{},\"id\":\"6123bcd2-cd2a-4a9e-aa24-1c2a1b0f1216\",\"type\":\"LinearScale\"},{\"attributes\":{},\"id\":\"5578cbb6-7bbd-42dc-946b-b3941bbccd73\",\"type\":\"LinearScale\"},{\"attributes\":{\"plot\":{\"id\":\"234744a1-9637-4852-ae75-04433ddb1892\",\"subtype\":\"Figure\",\"type\":\"Plot\"},\"ticker\":{\"id\":\"cee93277-7dc3-4a44-af76-6b19cfe70727\",\"type\":\"BasicTicker\"}},\"id\":\"cd935c9c-b50b-4143-9c16-d0e4f523f704\",\"type\":\"Grid\"},{\"attributes\":{\"axis_label\":\"x\",\"formatter\":{\"id\":\"965d507a-111e-4038-8459-3941570f639e\",\"type\":\"BasicTickFormatter\"},\"plot\":{\"id\":\"234744a1-9637-4852-ae75-04433ddb1892\",\"subtype\":\"Figure\",\"type\":\"Plot\"},\"ticker\":{\"id\":\"cee93277-7dc3-4a44-af76-6b19cfe70727\",\"type\":\"BasicTicker\"}},\"id\":\"a9b8a7e5-7b4c-4e58-9b50-0e6609185088\",\"type\":\"LinearAxis\"},{\"attributes\":{},\"id\":\"cee93277-7dc3-4a44-af76-6b19cfe70727\",\"type\":\"BasicTicker\"},{\"attributes\":{\"axis_label\":\"f(x,\\u03bb)\",\"formatter\":{\"id\":\"7da40a52-a979-4039-a05e-1aff4fb2c0a3\",\"type\":\"BasicTickFormatter\"},\"plot\":{\"id\":\"234744a1-9637-4852-ae75-04433ddb1892\",\"subtype\":\"Figure\",\"type\":\"Plot\"},\"ticker\":{\"id\":\"92a51aea-002d-49c7-b12b-fad0675635f2\",\"type\":\"BasicTicker\"}},\"id\":\"cf76db85-4f84-41a4-9118-692ac05fa83e\",\"type\":\"LinearAxis\"},{\"attributes\":{},\"id\":\"92a51aea-002d-49c7-b12b-fad0675635f2\",\"type\":\"BasicTicker\"},{\"attributes\":{\"dimension\":1,\"plot\":{\"id\":\"234744a1-9637-4852-ae75-04433ddb1892\",\"subtype\":\"Figure\",\"type\":\"Plot\"},\"ticker\":{\"id\":\"92a51aea-002d-49c7-b12b-fad0675635f2\",\"type\":\"BasicTicker\"}},\"id\":\"4a46762f-4191-4f9c-bfa7-f853482071fa\",\"type\":\"Grid\"},{\"attributes\":{\"below\":[{\"id\":\"e10e8421-996a-41b7-8c77-8273f78a5623\",\"type\":\"LinearAxis\"}],\"left\":[{\"id\":\"392faca9-b63a-47eb-8179-5169d6e89cc5\",\"type\":\"LinearAxis\"}],\"plot_height\":300,\"plot_width\":400,\"renderers\":[{\"id\":\"e10e8421-996a-41b7-8c77-8273f78a5623\",\"type\":\"LinearAxis\"},{\"id\":\"b60659de-83c2-47f6-8a81-970053a781c2\",\"type\":\"Grid\"},{\"id\":\"392faca9-b63a-47eb-8179-5169d6e89cc5\",\"type\":\"LinearAxis\"},{\"id\":\"ca97df5f-6a0e-4435-a6e2-32b63658f6f6\",\"type\":\"Grid\"},{\"id\":\"2c2b5c7e-2eb6-4e41-aa51-749e8c31a878\",\"type\":\"Legend\"},{\"id\":\"d20a5617-78e0-4c83-811d-8886e3ac6333\",\"type\":\"GlyphRenderer\"},{\"id\":\"9561b223-91ae-42e0-b16f-1e8d6eaec496\",\"type\":\"GlyphRenderer\"},{\"id\":\"98b72045-5fd0-4fa0-a173-f0600f397fd6\",\"type\":\"GlyphRenderer\"}],\"title\":{\"id\":\"000ab58c-e863-4c3a-b2c0-168805b7c9e9\",\"type\":\"Title\"},\"toolbar\":{\"id\":\"49b604dd-79c1-4f93-910c-4c7d3b5c3863\",\"type\":\"Toolbar\"},\"x_range\":{\"id\":\"0ed24354-201d-4de9-b649-5cb70b31db36\",\"type\":\"DataRange1d\"},\"x_scale\":{\"id\":\"e97112df-9d6f-49bc-8cc7-c15edb02f064\",\"type\":\"LinearScale\"},\"y_range\":{\"id\":\"6fad5b0b-fab9-482a-9b50-fce3bdb6f74e\",\"type\":\"Range1d\"},\"y_scale\":{\"id\":\"1fb2ee8f-30a9-4d41-ad9f-cef4c5175966\",\"type\":\"LinearScale\"}},\"id\":\"a941e4c8-0459-49b7-abc7-1741609c068a\",\"subtype\":\"Figure\",\"type\":\"Plot\"},{\"attributes\":{\"line_color\":\"red\",\"line_width\":3,\"x\":{\"field\":\"x\"},\"y\":{\"field\":\"y\"}},\"id\":\"7fe4bc15-d593-478a-8745-c31d767d14fd\",\"type\":\"Line\"},{\"attributes\":{\"callback\":null,\"end\":1.05,\"start\":-0.05},\"id\":\"6fad5b0b-fab9-482a-9b50-fce3bdb6f74e\",\"type\":\"Range1d\"},{\"attributes\":{},\"id\":\"254b438a-1226-4950-a70e-60368349d6ae\",\"type\":\"PanTool\"},{\"attributes\":{\"data_source\":{\"id\":\"732abed4-0709-418d-a66c-8cb77a496ce4\",\"type\":\"ColumnDataSource\"},\"glyph\":{\"id\":\"ef02ba99-7dfa-4b3b-99d9-1a62686281e6\",\"type\":\"Line\"},\"hover_glyph\":null,\"muted_glyph\":null,\"nonselection_glyph\":{\"id\":\"8d2e3c5e-8200-4be8-8fb2-9464a7e452d2\",\"type\":\"Line\"},\"selection_glyph\":null,\"view\":{\"id\":\"e9ecf7f8-92fa-43e2-8edd-63a4e3ad7576\",\"type\":\"CDSView\"}},\"id\":\"c47b3f12-48fc-433c-be1e-50791416f3be\",\"type\":\"GlyphRenderer\"},{\"attributes\":{},\"id\":\"82c0a27d-d8d6-48fc-8483-ee720de9ba1a\",\"type\":\"WheelZoomTool\"},{\"attributes\":{},\"id\":\"1c4eca91-d04b-48fc-aa5f-70b59cbf0e22\",\"type\":\"ResetTool\"},{\"attributes\":{},\"id\":\"d584485e-8b5d-48bf-9548-86ad6f39fcb8\",\"type\":\"SaveTool\"},{\"attributes\":{\"callback\":null},\"id\":\"0ed24354-201d-4de9-b649-5cb70b31db36\",\"type\":\"DataRange1d\"},{\"attributes\":{},\"id\":\"1fb2ee8f-30a9-4d41-ad9f-cef4c5175966\",\"type\":\"LinearScale\"},{\"attributes\":{},\"id\":\"e97112df-9d6f-49bc-8cc7-c15edb02f064\",\"type\":\"LinearScale\"},{\"attributes\":{\"axis_label\":\"x\",\"formatter\":{\"id\":\"deb43968-7d01-4da8-94e1-29ec90765403\",\"type\":\"BasicTickFormatter\"},\"plot\":{\"id\":\"a941e4c8-0459-49b7-abc7-1741609c068a\",\"subtype\":\"Figure\",\"type\":\"Plot\"},\"ticker\":{\"id\":\"331e95e3-7ee2-45ca-ace5-09afe14eac8b\",\"type\":\"BasicTicker\"}},\"id\":\"e10e8421-996a-41b7-8c77-8273f78a5623\",\"type\":\"LinearAxis\"},{\"attributes\":{\"line_alpha\":0.1,\"line_color\":\"#1f77b4\",\"line_width\":3,\"x\":{\"field\":\"x\"},\"y\":{\"field\":\"y\"}},\"id\":\"8d2e3c5e-8200-4be8-8fb2-9464a7e452d2\",\"type\":\"Line\"},{\"attributes\":{\"line_alpha\":0.1,\"line_color\":\"#1f77b4\",\"line_width\":3,\"x\":{\"field\":\"x\"},\"y\":{\"field\":\"y\"}},\"id\":\"01d446c6-759c-4166-b9ae-a03987893932\",\"type\":\"Line\"},{\"attributes\":{\"plot\":{\"id\":\"a941e4c8-0459-49b7-abc7-1741609c068a\",\"subtype\":\"Figure\",\"type\":\"Plot\"},\"ticker\":{\"id\":\"331e95e3-7ee2-45ca-ace5-09afe14eac8b\",\"type\":\"BasicTicker\"}},\"id\":\"b60659de-83c2-47f6-8a81-970053a781c2\",\"type\":\"Grid\"},{\"attributes\":{},\"id\":\"331e95e3-7ee2-45ca-ace5-09afe14eac8b\",\"type\":\"BasicTicker\"},{\"attributes\":{\"axis_label\":\"F(x,\\u03bb)\",\"formatter\":{\"id\":\"3021d09d-2d8a-49f8-b2b5-b790cfb711dd\",\"type\":\"BasicTickFormatter\"},\"plot\":{\"id\":\"a941e4c8-0459-49b7-abc7-1741609c068a\",\"subtype\":\"Figure\",\"type\":\"Plot\"},\"ticker\":{\"id\":\"53f19bc1-deb7-4390-8af3-92a94e5fe7c4\",\"type\":\"BasicTicker\"}},\"id\":\"392faca9-b63a-47eb-8179-5169d6e89cc5\",\"type\":\"LinearAxis\"},{\"attributes\":{},\"id\":\"53f19bc1-deb7-4390-8af3-92a94e5fe7c4\",\"type\":\"BasicTicker\"},{\"attributes\":{\"dimension\":1,\"plot\":{\"id\":\"a941e4c8-0459-49b7-abc7-1741609c068a\",\"subtype\":\"Figure\",\"type\":\"Plot\"},\"ticker\":{\"id\":\"53f19bc1-deb7-4390-8af3-92a94e5fe7c4\",\"type\":\"BasicTicker\"}},\"id\":\"ca97df5f-6a0e-4435-a6e2-32b63658f6f6\",\"type\":\"Grid\"},{\"attributes\":{\"callback\":null,\"column_names\":[\"x\",\"y\"],\"data\":{\"x\":{\"__ndarray__\":\"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\",\"dtype\":\"float64\",\"shape\":[200]},\"y\":{\"__ndarray__\":\"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\",\"dtype\":\"float64\",\"shape\":[200]}}},\"id\":\"eac4cebf-1722-4d6e-a266-3c976539426c\",\"type\":\"ColumnDataSource\"},{\"attributes\":{\"callback\":null,\"column_names\":[\"x\",\"y\"],\"data\":{\"x\":{\"__ndarray__\":\"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\",\"dtype\":\"float64\",\"shape\":[200]},\"y\":{\"__ndarray__\":\"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\",\"dtype\":\"float64\",\"shape\":[200]}}},\"id\":\"0878e47c-afa9-456c-b48b-d47f7946b799\",\"type\":\"ColumnDataSource\"},{\"attributes\":{},\"id\":\"965d507a-111e-4038-8459-3941570f639e\",\"type\":\"BasicTickFormatter\"},{\"attributes\":{},\"id\":\"03228a77-6c1d-4072-8b20-167396614631\",\"type\":\"PanTool\"},{\"attributes\":{},\"id\":\"7da40a52-a979-4039-a05e-1aff4fb2c0a3\",\"type\":\"BasicTickFormatter\"},{\"attributes\":{\"line_color\":\"dodgerblue\",\"line_width\":3,\"x\":{\"field\":\"x\"},\"y\":{\"field\":\"y\"}},\"id\":\"95e18be9-7749-41f0-b601-24058898913b\",\"type\":\"Line\"},{\"attributes\":{},\"id\":\"30a56e6a-6fb0-4525-886c-ae8fe276a0eb\",\"type\":\"WheelZoomTool\"},{\"attributes\":{},\"id\":\"477042ac-2838-41ed-b923-7e5ec0b0896b\",\"type\":\"ResetTool\"},{\"attributes\":{},\"id\":\"e4fbad85-17c1-457e-819e-a75fcf0d4b72\",\"type\":\"SaveTool\"},{\"attributes\":{\"source\":{\"id\":\"0878e47c-afa9-456c-b48b-d47f7946b799\",\"type\":\"ColumnDataSource\"}},\"id\":\"8df63fdc-0fe8-4d10-a280-d7870eb2979f\",\"type\":\"CDSView\"},{\"attributes\":{\"label\":{\"value\":\"\\u03bb=0.001\"},\"renderers\":[{\"id\":\"af8498e2-b979-4306-af46-554ea4ab6ede\",\"type\":\"GlyphRenderer\"}]},\"id\":\"53d81687-14b0-4721-b142-2dcd14d677d0\",\"type\":\"LegendItem\"},{\"attributes\":{\"line_color\":\"dodgerblue\",\"line_width\":3,\"x\":{\"field\":\"x\"},\"y\":{\"field\":\"y\"}},\"id\":\"db4b0958-a546-4a43-bdf5-229a08b4a646\",\"type\":\"Line\"},{\"attributes\":{\"source\":{\"id\":\"eac4cebf-1722-4d6e-a266-3c976539426c\",\"type\":\"ColumnDataSource\"}},\"id\":\"bfb74685-5a17-4895-a90c-5441eee934cb\",\"type\":\"CDSView\"},{\"attributes\":{\"click_policy\":\"hide\",\"items\":[{\"id\":\"53d81687-14b0-4721-b142-2dcd14d677d0\",\"type\":\"LegendItem\"},{\"id\":\"3d049dc1-89ce-44e3-ba22-86c9cb435d9d\",\"type\":\"LegendItem\"},{\"id\":\"3aff8821-9fb0-4f0d-8e39-48103d7ececd\",\"type\":\"LegendItem\"}],\"plot\":{\"id\":\"234744a1-9637-4852-ae75-04433ddb1892\",\"subtype\":\"Figure\",\"type\":\"Plot\"}},\"id\":\"5886a5bd-3727-460a-b26d-5b0467755503\",\"type\":\"Legend\"},{\"attributes\":{\"callback\":null,\"column_names\":[\"x\",\"y\"],\"data\":{\"x\":{\"__ndarray__\":\"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\",\"dtype\":\"float64\",\"shape\":[200]},\"y\":{\"__ndarray__\":\"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\",\"dtype\":\"float64\",\"shape\":[200]}}},\"id\":\"732abed4-0709-418d-a66c-8cb77a496ce4\",\"type\":\"ColumnDataSource\"},{\"attributes\":{\"line_alpha\":0.1,\"line_color\":\"#1f77b4\",\"line_width\":3,\"x\":{\"field\":\"x\"},\"y\":{\"field\":\"y\"}},\"id\":\"389a13f3-2fd1-4393-adc4-fb9a6a807e47\",\"type\":\"Line\"},{\"attributes\":{\"line_color\":\"green\",\"line_width\":3,\"x\":{\"field\":\"x\"},\"y\":{\"field\":\"y\"}},\"id\":\"ef02ba99-7dfa-4b3b-99d9-1a62686281e6\",\"type\":\"Line\"},{\"attributes\":{\"data_source\":{\"id\":\"eac4cebf-1722-4d6e-a266-3c976539426c\",\"type\":\"ColumnDataSource\"},\"glyph\":{\"id\":\"7fe4bc15-d593-478a-8745-c31d767d14fd\",\"type\":\"Line\"},\"hover_glyph\":null,\"muted_glyph\":null,\"nonselection_glyph\":{\"id\":\"389a13f3-2fd1-4393-adc4-fb9a6a807e47\",\"type\":\"Line\"},\"selection_glyph\":null,\"view\":{\"id\":\"bfb74685-5a17-4895-a90c-5441eee934cb\",\"type\":\"CDSView\"}},\"id\":\"2808fd56-bdd0-4aee-9371-9885932df88a\",\"type\":\"GlyphRenderer\"},{\"attributes\":{\"label\":{\"value\":\"\\u03bb=0.0001\"},\"renderers\":[{\"id\":\"2808fd56-bdd0-4aee-9371-9885932df88a\",\"type\":\"GlyphRenderer\"}]},\"id\":\"3d049dc1-89ce-44e3-ba22-86c9cb435d9d\",\"type\":\"LegendItem\"},{\"attributes\":{\"source\":{\"id\":\"732abed4-0709-418d-a66c-8cb77a496ce4\",\"type\":\"ColumnDataSource\"}},\"id\":\"e9ecf7f8-92fa-43e2-8edd-63a4e3ad7576\",\"type\":\"CDSView\"},{\"attributes\":{\"line_alpha\":0.1,\"line_color\":\"#1f77b4\",\"line_width\":3,\"x\":{\"field\":\"x\"},\"y\":{\"field\":\"y\"}},\"id\":\"bf5d9c30-6e2c-48f9-941f-6b020cc7dfbb\",\"type\":\"Line\"},{\"attributes\":{\"label\":{\"value\":\"\\u03bb=0.0002\"},\"renderers\":[{\"id\":\"c47b3f12-48fc-433c-be1e-50791416f3be\",\"type\":\"GlyphRenderer\"}]},\"id\":\"3aff8821-9fb0-4f0d-8e39-48103d7ececd\",\"type\":\"LegendItem\"},{\"attributes\":{\"callback\":null,\"column_names\":[\"x\",\"y\"],\"data\":{\"x\":{\"__ndarray__\":\"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\",\"dtype\":\"float64\",\"shape\":[200]},\"y\":{\"__ndarray__\":\"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\",\"dtype\":\"float64\",\"shape\":[200]}}},\"id\":\"8f0f04e8-b88c-4bce-b7fc-5118f98d8200\",\"type\":\"ColumnDataSource\"},{\"attributes\":{\"callback\":null,\"column_names\":[\"x\",\"y\"],\"data\":{\"x\":{\"__ndarray__\":\"AAAAAAAAAACFn1yIuhkUQIWfXIi6GSRASO+KzJcmLkCFn1yIuhk0QGbHcyopIDlASO+KzJcmPkCUC1E3g5ZBQIWfXIi6GURAdjNo2fGcRkBmx3MqKSBJQFdbf3tgo0tASO+KzJcmTkCcQcuO51RQQJQLUTeDllFAjdXW3x7YUkCFn1yIuhlUQH1p4jBWW1VAdjNo2fGcVkBu/e2Bjd5XQGbHcyopIFlAX5H50sRhWkBXW397YKNbQE8lBST85FxASO+KzJcmXkBAuRB1M2hfQJxBy47nVGBAmCYOY7X1YECUC1E3g5ZhQJHwkwtRN2JAjdXW3x7YYkCJuhm07HhjQIWfXIi6GWRAgYSfXIi6ZEB9aeIwVltlQHlOJQUk/GVAdjNo2fGcZkByGKutvz1nQG797YGN3mdAauIwVlt/aEBmx3MqKSBpQGKstv72wGlAX5H50sRhakBbdjynkgJrQFdbf3tgo2tAU0DCTy5EbEBPJQUk/ORsQEsKSPjJhW1ASO+KzJcmbkBE1M2gZcduQEC5EHUzaG9AHs+ppIAEcECcQcuO51RwQBq07HhOpXBAmCYOY7X1cEAWmS9NHEZxQJQLUTeDlnFAEn5yIermcUCR8JMLUTdyQA9jtfW3h3JAjdXW3x7YckALSPjJhShzQIm6GbTseHNABy07nlPJc0CFn1yIuhl0QAMSfnIhanRAgYSfXIi6dED/9sBG7wp1QH1p4jBWW3VA+9sDG72rdUB5TiUFJPx1QPjARu+KTHZAdjNo2fGcdkD0pYnDWO12QHIYq62/PXdA8IrMlyaOd0Bu/e2Bjd53QOxvD2z0LnhAauIwVlt/eEDoVFJAws94QGbHcyopIHlA5DmVFJBweUBirLb+9sB5QOAe2OhdEXpAX5H50sRhekDdAxu9K7J6QFt2PKeSAntA2ehdkflSe0BXW397YKN7QNXNoGXH83tAU0DCTy5EfEDRsuM5lZR8QE8lBST85HxAzZcmDmM1fUBLCkj4yYV9QMl8aeIw1n1ASO+KzJcmfkDGYay2/nZ+QETUzaBlx35AwkbviswXf0BAuRB1M2h/QL4rMl+auH9AHs+ppIAEgEBdiLoZtCyAQJxBy47nVIBA2/rbAxt9gEAatOx4TqWAQFlt/e2BzYBAmCYOY7X1gEDX3x7Y6B2BQBaZL00cRoFAVVJAwk9ugUCUC1E3g5aBQNPEYay2voFAEn5yIermgUBRN4OWHQ+CQJHwkwtRN4JA0KmkgIRfgkAPY7X1t4eCQE4cxmrrr4JAjdXW3x7YgkDMjudUUgCDQAtI+MmFKINASgEJP7lQg0CJuhm07HiDQMhzKikgoYNABy07nlPJg0BG5ksTh/GDQIWfXIi6GYRAxFht/e1BhEADEn5yIWqEQELLjudUkoRAgYSfXIi6hEDAPbDRu+KEQP/2wEbvCoVAPrDRuyIzhUB9aeIwVluFQLwi86WJg4VA+9sDG72rhUA6lRSQ8NOFQHlOJQUk/IVAuQc2elckhkD4wEbvikyGQDd6V2S+dIZAdjNo2fGchkC17HhOJcWGQPSlicNY7YZAM1+aOIwVh0ByGKutvz2HQLHRuyLzZYdA8IrMlyaOh0AvRN0MWraHQG797YGN3odArbb+9sAGiEDsbw9s9C6IQCspIOEnV4hAauIwVlt/iECpm0HLjqeIQOhUUkDCz4hAJw5jtfX3iEBmx3MqKSCJQKWAhJ9cSIlA5DmVFJBwiUAj86WJw5iJQGKstv72wIlAoWXHcyrpiUDgHtjoXRGKQCDY6F2ROYpAX5H50sRhikCeSgpI+ImKQN0DG70rsopAHL0rMl/aikBbdjynkgKLQJovTRzGKotA2ehdkflSi0AYom4GLXuLQFdbf3tgo4tAlhSQ8JPLi0DVzaBlx/OLQBSHsdr6G4xAU0DCTy5EjECS+dLEYWyMQNGy4zmVlIxAEGz0rsi8jEBPJQUk/OSMQI7eFZkvDY1AzZcmDmM1jUAMUTeDll2NQEsKSPjJhY1AisNYbf2tjUDJfGniMNaNQAg2eldk/o1ASO+KzJcmjkCHqJtBy06OQMZhrLb+do5ABRu9KzKfjkBE1M2gZceOQION3hWZ745AwkbviswXj0AAAAAAAECPQA==\",\"dtype\":\"float64\",\"shape\":[200]},\"y\":{\"__ndarray__\":\"AAAAAAAAAABtnvhOAoh0PztIAgrWeoQ/uE/ijo+kjj+a+t1Dn2CUP0jkTNh5aJk/3oUG2N9pnj8yUNLFbLKhPznlj5i3LKQ/84nufdSjpj8izF2KxxepP8z/EM2UiKs/BPcFUED2rT+K2AUMZzCwP4mAZBIhZLE//JVhOFCWsj8JP7J49sazPyZsgcsV9rQ/YRpzJrAjtj+Qkad8x0+3P1ievr5derg/Csja2nSjuT9bgqS8Dsu6PxRbTU0t8bs/oyOTc9IVvT+XFsMTADm+PyT5vA+4Wr8/Sxx7I349wD/fgT5L58zAPz6wfWyYW8E/nR5dc5LpwT9FP9JK1nbCP2cEpdxkA8M/AmNxET+Pwz/R06jQZRrEP1jSkwDapMQ/7llThpwuxT/8YOJFrrfFP0FSFyIQQMY/N4Sl/MLHxj+Xrh62x07HP/ld9C0f1cc/qmV5QspayD+FT+PQyd/IPxPKS7UeZMk/zhSyysnnyT+Cavzqy2rKP/Rp+e4l7co/nnxhrthuyz+9O9j/5O/LP4HT7bhLcMw/dmQgrg3wzD86Y92yK2/NP0z2gpmm7c0/SlJhM39rzj83FLxQtujOP0eay8BMZc8/r1q+UUPhzz94HF1oTS7QP6Ls7gSqa9A/QPkg5Leo0D8RT/1qd+XQP19TDP7oIdE/YWpVAQ1e0T/CnF/Y45nRP1o8MuZt1dE/C4hVjasQ0j/ZTtMvnUvSPx+SNy9DhtI/AyeR7J3A0j8XV3LIrfrSPymA8SJzNNM/PbOpW+5t0z/VUrvRH6fTP1mwzOMH4NM/sKgK8KYY1D8tQClU/VDUP4o9ZG0LidQ/RsR/mNHA1D8h7sgxUPjUP+BjFpWHL9U/RPXIHXhm1T9KMMwmIp3VP5r3lgqG09U/RxgsI6QJ1j+33hrKfD/WP+eqf1gQddY/3oMEJ1+q1j9mquGNad/WPxEr3uQvFNc/b29Qg7JI1z+vzh7A8XzXP1UdwPHtsNc/YTw8bqfk1z+upyyLHhjYP48DvZ1TS9g/0qmr+kZ+2D/0NUr2+LDYP6oQfuRp49g/xPrAGJoV2T9ClyHmiUfZP9b0Q585edk/mhZilqmq2T82fEwd2tvZPzCpaoXLDNo/squ7H3492j+SotY88m3aP65C6ywonto/oFvCPyDO2j/KW77E2v3aP7LT2wpYLds/uvixYJhc2z84J3MUnIvbP85j7XNjuts/OtyKzO7o2z9wZ1JrPhfcPxAF6JxSRdw/PlyNrStz3D/WOSLpyaDcP/gNJZstztw/+mizDlf73D+6d4qORijdP0x/B2X8VN0/BFgo3HiB3T/054s9vK3dP76cctLG2d0/zOS+45gF3j/qp/W5MjHeP1a/Pp2UXN4/HG1l1b6H3j/s0tipsbLeP1JorGFt3d4/VHCYQ/IH3z9+bvqVQDLfP06b1Z5YXN8/HljTozqG3z9aokPq5q/fP0aGHbdd2d8/jMh/p08B4D9EIRj71RXgP+Y+T/hBKuA/BP3wwJM+4D8Q2Z12y1LgPwwqyzrpZuA/4FfDLu164D90EqZz147gP4SIaCqoouA/Jp7Vc1+24D8WI45w/cngP6wICUGC3eA/nZeTBe7w4D9vpVHeQAThP6TJPet6F+E/rpIpTJwq4T+Qur0gpT3hP0hbeoiVUOE/7CK3om1j4T+Nh6OOLXbhP836RmvViOE/QR2BV2Wb4T+A8Qly3a3hP/4Octk9wOE/o9QirIbS4T8Ym14IuOThP+LmQAzS9uE/Mpq+1dQI4j92JqaCwBriP7K9nzCVLOI/kIMt/VI+4j82vqsF+k/iP+IGUWeKYeI/N3ouPwRz4j9m6C+qZ4TiP/8EHMW0leI/lpaUrOum4j8gphZ9DLjiPyKu+lIXyeI/kMl0Sgza4j984pR/6+riP4zgRg61++I/KNdSEmkM4z94M12nBx3jPyPq5uiQLeM/0aRN8gQ+4z9178veY07jP2BlecmtXuM/E95KzeJu4z/cmRIFA3/jPzlugIsOj+M/BPIhewWf4z9mqWLu567jP4YxjP+1vuM/FmzGyG/O4z+YqhdkFd7jP2rZZOum7eM/qqpxeCT94z/RwOAkjgzkPyTZMwrkG+Q/6PXLQSYr5D9kiOnkVDrkPw==\",\"dtype\":\"float64\",\"shape\":[200]}}},\"id\":\"bf0a61a3-942d-4766-9fc1-7c3de9256e2c\",\"type\":\"ColumnDataSource\"},{\"attributes\":{},\"id\":\"deb43968-7d01-4da8-94e1-29ec90765403\",\"type\":\"BasicTickFormatter\"},{\"attributes\":{\"source\":{\"id\":\"8f0f04e8-b88c-4bce-b7fc-5118f98d8200\",\"type\":\"ColumnDataSource\"}},\"id\":\"bf260d7d-75f3-4f8e-aab5-0181722d3505\",\"type\":\"CDSView\"},{\"attributes\":{\"source\":{\"id\":\"bf0a61a3-942d-4766-9fc1-7c3de9256e2c\",\"type\":\"ColumnDataSource\"}},\"id\":\"1db6a1e2-051f-45a7-bb03-34392e5437c1\",\"type\":\"CDSView\"},{\"attributes\":{\"data_source\":{\"id\":\"8f0f04e8-b88c-4bce-b7fc-5118f98d8200\",\"type\":\"ColumnDataSource\"},\"glyph\":{\"id\":\"db4b0958-a546-4a43-bdf5-229a08b4a646\",\"type\":\"Line\"},\"hover_glyph\":null,\"muted_glyph\":null,\"nonselection_glyph\":{\"id\":\"bf5d9c30-6e2c-48f9-941f-6b020cc7dfbb\",\"type\":\"Line\"},\"selection_glyph\":null,\"view\":{\"id\":\"bf260d7d-75f3-4f8e-aab5-0181722d3505\",\"type\":\"CDSView\"}},\"id\":\"d20a5617-78e0-4c83-811d-8886e3ac6333\",\"type\":\"GlyphRenderer\"},{\"attributes\":{\"plot\":null,\"text\":\"\"},\"id\":\"000ab58c-e863-4c3a-b2c0-168805b7c9e9\",\"type\":\"Title\"},{\"attributes\":{\"items\":[{\"id\":\"0c28de43-0967-4297-bb51-63c2ab79ffec\",\"type\":\"LegendItem\"},{\"id\":\"630229f5-c5b9-47da-9e82-79739c7e1ac7\",\"type\":\"LegendItem\"},{\"id\":\"22046cc7-6805-47c8-aeaf-6335a1638900\",\"type\":\"LegendItem\"}],\"location\":\"bottom_right\",\"plot\":{\"id\":\"a941e4c8-0459-49b7-abc7-1741609c068a\",\"subtype\":\"Figure\",\"type\":\"Plot\"}},\"id\":\"2c2b5c7e-2eb6-4e41-aa51-749e8c31a878\",\"type\":\"Legend\"},{\"attributes\":{\"label\":{\"value\":\"\\u03bb=0.001\"},\"renderers\":[{\"id\":\"d20a5617-78e0-4c83-811d-8886e3ac6333\",\"type\":\"GlyphRenderer\"}]},\"id\":\"0c28de43-0967-4297-bb51-63c2ab79ffec\",\"type\":\"LegendItem\"},{\"attributes\":{},\"id\":\"3021d09d-2d8a-49f8-b2b5-b790cfb711dd\",\"type\":\"BasicTickFormatter\"},{\"attributes\":{\"data_source\":{\"id\":\"bf0a61a3-942d-4766-9fc1-7c3de9256e2c\",\"type\":\"ColumnDataSource\"},\"glyph\":{\"id\":\"c6096fe2-4b61-470d-bcdb-e5a10c73f89b\",\"type\":\"Line\"},\"hover_glyph\":null,\"muted_glyph\":null,\"nonselection_glyph\":{\"id\":\"35977d3c-2350-4961-a9ba-d0939376de54\",\"type\":\"Line\"},\"selection_glyph\":null,\"view\":{\"id\":\"1db6a1e2-051f-45a7-bb03-34392e5437c1\",\"type\":\"CDSView\"}},\"id\":\"9561b223-91ae-42e0-b16f-1e8d6eaec496\",\"type\":\"GlyphRenderer\"},{\"attributes\":{\"line_color\":\"red\",\"line_width\":3,\"x\":{\"field\":\"x\"},\"y\":{\"field\":\"y\"}},\"id\":\"c6096fe2-4b61-470d-bcdb-e5a10c73f89b\",\"type\":\"Line\"},{\"attributes\":{\"callback\":null,\"column_names\":[\"x\",\"y\"],\"data\":{\"x\":{\"__ndarray__\":\"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\",\"dtype\":\"float64\",\"shape\":[200]},\"y\":{\"__ndarray__\":\"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\",\"dtype\":\"float64\",\"shape\":[200]}}},\"id\":\"778c05e1-2dee-486f-9d19-7ba1d79d7687\",\"type\":\"ColumnDataSource\"},{\"attributes\":{\"line_alpha\":0.1,\"line_color\":\"#1f77b4\",\"line_width\":3,\"x\":{\"field\":\"x\"},\"y\":{\"field\":\"y\"}},\"id\":\"35977d3c-2350-4961-a9ba-d0939376de54\",\"type\":\"Line\"}],\"root_ids\":[\"e46f9565-944d-4735-8e4a-bfe20ff4936c\"]},\"title\":\"Bokeh Application\",\"version\":\"0.12.13\"}};\n",
       "  var render_items = [{\"docid\":\"9ee8fea6-502f-431b-b0ef-3290040c6872\",\"elementid\":\"8f21892f-3352-4615-95de-a39c15851488\",\"modelid\":\"e46f9565-944d-4735-8e4a-bfe20ff4936c\"}];\n",
       "  root.Bokeh.embed.embed_items_notebook(docs_json, render_items);\n",
       "\n",
       "  }\n",
       "  if (root.Bokeh !== undefined) {\n",
       "    embed_document(root);\n",
       "  } else {\n",
       "    var attempts = 0;\n",
       "    var timer = setInterval(function(root) {\n",
       "      if (root.Bokeh !== undefined) {\n",
       "        embed_document(root);\n",
       "        clearInterval(timer);\n",
       "      }\n",
       "      attempts++;\n",
       "      if (attempts > 100) {\n",
       "        console.log(\"Bokeh: ERROR: Unable to run BokehJS code because BokehJS library is missing\")\n",
       "        clearInterval(timer);\n",
       "      }\n",
       "    }, 10, root)\n",
       "  }\n",
       "})(window);"
      ],
      "application/vnd.bokehjs_exec.v0+json": ""
     },
     "metadata": {
      "application/vnd.bokehjs_exec.v0+json": {
       "id": "e46f9565-944d-4735-8e4a-bfe20ff4936c"
      }
     },
     "output_type": "display_data"
    }
   ],
   "source": [
    "from scipy.stats import expon\n",
    "\n",
    "x = np.linspace(0, 1000, 200)\n",
    "lambda_1 = 0.01\n",
    "lambda_2 = 0.001\n",
    "lambda_3 = 0.002\n",
    "\n",
    "# Tools for plots\n",
    "tools='pan,wheel_zoom,reset,save'\n",
    "\n",
    "# Set up plots\n",
    "fig_1 = Figure(width=400, height=300, tools=[tools,HoverTool(tooltips=[\n",
    "                (\"\", \"($x,$y)\")\n",
    "                ])], title=\"Exponential Distribution\")\n",
    "fig_2 = Figure(width=400, height=300, tools=[tools,HoverTool(tooltips=[\n",
    "                (\"\", \"($x,$y)\")\n",
    "                ])], \n",
    "               y_range=[-0.05, 1.05])\n",
    "\n",
    "fig_1.xaxis.axis_label = 'x'\n",
    "fig_1.yaxis.axis_label = 'f(x,λ)' \n",
    "\n",
    "fig_2.xaxis.axis_label = 'x'\n",
    "fig_2.yaxis.axis_label = 'F(x,λ)'\n",
    "\n",
    "# Figure #1\n",
    "y1 = expon.pdf(x,scale=1/lambda_1)\n",
    "y2 = expon.pdf(x,scale=1/lambda_2)\n",
    "y3 = expon.pdf(x,scale=1/lambda_3)\n",
    "\n",
    "fig_1.line(x, y1, line_width=3, color='dodgerblue',legend=\"λ=0.001\")\n",
    "fig_1.line(x, y2, line_width=3, color='red',legend=\"λ=0.0001\")\n",
    "fig_1.line(x, y3, line_width=3, color='green',legend=\"λ=0.0002\")\n",
    "\n",
    "fig_1.legend.location = \"top_right\"\n",
    "fig_1.legend.click_policy=\"hide\"\n",
    "\n",
    "#Figure #2\n",
    "y4 = expon.cdf(x,scale=1/lambda_1)\n",
    "y5 = expon.cdf(x,scale=1/lambda_2)\n",
    "y6 = expon.cdf(x,scale=1/lambda_3)\n",
    "\n",
    "fig_2.line(x, y4, line_width=3, color='dodgerblue',legend=\"λ=0.001\")\n",
    "fig_2.line(x, y5, line_width=3, color='red',legend=\"λ=0.0001\")\n",
    "fig_2.line(x, y6, line_width=3, color='green',legend=\"λ=0.0002\")\n",
    "fig_2.legend.location = \"bottom_right\"\n",
    "\n",
    "show(row([fig_1, fig_2]))"
   ]
  },
  {
   "cell_type": "markdown",
   "metadata": {},
   "source": [
    "# References"
   ]
  },
  {
   "cell_type": "markdown",
   "metadata": {},
   "source": [
    "http://bebi103.caltech.edu.s3-website-us-east-1.amazonaws.com/2016/tutorials/t3b_probability_stories.html\n",
    "\n",
    "http://students.brown.edu/seeing-theory/probability-distributions/index.html#section1"
   ]
  }
 ],
 "metadata": {
  "kernelspec": {
   "display_name": "Python 3",
   "language": "python",
   "name": "python3"
  },
  "language_info": {
   "codemirror_mode": {
    "name": "ipython",
    "version": 3
   },
   "file_extension": ".py",
   "mimetype": "text/x-python",
   "name": "python",
   "nbconvert_exporter": "python",
   "pygments_lexer": "ipython3",
   "version": "3.6.4"
  }
 },
 "nbformat": 4,
 "nbformat_minor": 2
}

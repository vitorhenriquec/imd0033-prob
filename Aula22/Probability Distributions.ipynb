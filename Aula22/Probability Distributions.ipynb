{
 "cells": [
  {
   "cell_type": "markdown",
   "metadata": {},
   "source": [
    "### DESAFIO 1 SLIDE ###"
   ]
  },
  {
   "cell_type": "code",
   "execution_count": 1,
   "metadata": {},
   "outputs": [
    {
     "name": "stdout",
     "output_type": "stream",
     "text": [
      "{1: 1/8, 2: 1/8, 3: 1/8, 4: 1/8, 5: 1/8, 6: 1/8, 7: 1/8, 8: 1/8}\n",
      "{1: 1/8, 2: 1/4, 3: 3/8, 4: 1/2, 5: 5/8, 6: 3/4, 7: 7/8, 8: 1}\n"
     ]
    }
   ],
   "source": [
    "from sympy.stats import Die, density, FiniteRV, cdf\n",
    "Dado = Die('Dado',8)\n",
    "print(density(Dado).dict)\n",
    "print(cdf(Dado))"
   ]
  },
  {
   "cell_type": "code",
   "execution_count": 2,
   "metadata": {},
   "outputs": [],
   "source": [
    "import random, numpy"
   ]
  },
  {
   "cell_type": "code",
   "execution_count": 3,
   "metadata": {},
   "outputs": [
    {
     "name": "stdout",
     "output_type": "stream",
     "text": [
      "0.8907008327079341\n"
     ]
    }
   ],
   "source": [
    "X =  random.uniform(0, 1)\n",
    "print(X)"
   ]
  },
  {
   "cell_type": "code",
   "execution_count": 4,
   "metadata": {},
   "outputs": [
    {
     "name": "stdout",
     "output_type": "stream",
     "text": [
      "8\n"
     ]
    }
   ],
   "source": [
    "dic = cdf(Dado)\n",
    "\n",
    "for keys in dic:\n",
    "    if(keys >1):\n",
    "        if(X > dic[keys-1] and X <= dic[keys]):\n",
    "            print(keys);\n",
    "    else:\n",
    "        if(X <= dic[keys]):\n",
    "            print(keys)\n",
    "            "
   ]
  },
  {
   "cell_type": "markdown",
   "metadata": {},
   "source": [
    "## Discrete Distributions\n",
    "### Probability Mass Function "
   ]
  },
  {
   "cell_type": "code",
   "execution_count": 5,
   "metadata": {
    "scrolled": true
   },
   "outputs": [
    {
     "name": "stdout",
     "output_type": "stream",
     "text": [
      "Dice - 6 faces: pmf(X)\n",
      " {1: 1/6, 2: 1/6, 3: 1/6, 4: 1/6, 5: 1/6, 6: 1/6}\n"
     ]
    }
   ],
   "source": [
    "# pmf - probability mass function\n",
    "from sympy.stats import Die, density, FiniteRV\n",
    "\n",
    "X = Die('X',6)\n",
    "print(\"Dice - 6 faces: pmf(X)\\n\",density(X).dict)"
   ]
  },
  {
   "cell_type": "code",
   "execution_count": 6,
   "metadata": {},
   "outputs": [
    {
     "name": "stdout",
     "output_type": "stream",
     "text": [
      "Biased Dice - 6 faces: pmf(Y)\n",
      " {1: 0.2, 2: 0.1, 3: 0.3, 4: 0.1, 5: 0.2, 6: 0.1}\n"
     ]
    }
   ],
   "source": [
    "# pmf - probability mass function\n",
    "pmf = {1: 0.2, 2: 0.1, 3: 0.3, 4: 0.1, 5: 0.2, 6: 0.1}\n",
    "Y = FiniteRV('Y',pmf)\n",
    "print(\"Biased Dice - 6 faces: pmf(Y)\\n\",density(Y).dict)"
   ]
  },
  {
   "cell_type": "markdown",
   "metadata": {},
   "source": [
    "### Cumulative Distribution Function"
   ]
  },
  {
   "cell_type": "code",
   "execution_count": 7,
   "metadata": {},
   "outputs": [
    {
     "name": "stdout",
     "output_type": "stream",
     "text": [
      "Dice - 6 faces: pmf(X)\n",
      " {1: 1/6, 2: 1/6, 3: 1/6, 4: 1/6, 5: 1/6, 6: 1/6}\n",
      "Dice - 6 faces: cdf(X)\n",
      " {1: 1/6, 2: 1/3, 3: 1/2, 4: 2/3, 5: 5/6, 6: 1}\n"
     ]
    }
   ],
   "source": [
    "# cdf - cumulative distribution function\n",
    "from sympy.stats import cdf\n",
    "\n",
    "print(\"Dice - 6 faces: pmf(X)\\n\",density(X).dict)\n",
    "print(\"Dice - 6 faces: cdf(X)\\n\", cdf(X))"
   ]
  },
  {
   "cell_type": "code",
   "execution_count": 8,
   "metadata": {},
   "outputs": [
    {
     "name": "stdout",
     "output_type": "stream",
     "text": [
      "Biased Dice - 6 faces: pmf(Y)\n",
      " {1: 0.2, 2: 0.1, 3: 0.3, 4: 0.1, 5: 0.2, 6: 0.1}\n",
      "Biased Dice - 6 faces: cdf(Y)\n",
      " {1: 0.200000000000000, 2: 0.300000000000000, 3: 0.600000000000000, 4: 0.700000000000000, 5: 0.900000000000000, 6: 1.00000000000000}\n"
     ]
    }
   ],
   "source": [
    "print(\"Biased Dice - 6 faces: pmf(Y)\\n\",density(Y).dict)\n",
    "print(\"Biased Dice - 6 faces: cdf(Y)\\n\", cdf(Y))"
   ]
  },
  {
   "cell_type": "markdown",
   "metadata": {},
   "source": [
    "<br>\n",
    "<div class=\"alert alert-info\">\n",
    "<b>Exercise start </b>\n",
    "</div>\n",
    "\n",
    "1. Using cdf create a function that generate randomly a face of a 8 faces dice. \n",
    "    - face = my_dice(n,cdf)\n"
   ]
  },
  {
   "cell_type": "code",
   "execution_count": 9,
   "metadata": {},
   "outputs": [
    {
     "data": {
      "text/plain": [
       "{1: 1/8, 2: 1/4, 3: 3/8, 4: 1/2, 5: 5/8, 6: 3/4, 7: 7/8, 8: 1}"
      ]
     },
     "execution_count": 9,
     "metadata": {},
     "output_type": "execute_result"
    }
   ],
   "source": [
    "cdf(Dado)"
   ]
  },
  {
   "cell_type": "code",
   "execution_count": 10,
   "metadata": {},
   "outputs": [
    {
     "name": "stdout",
     "output_type": "stream",
     "text": [
      "0.6722605181577361\n",
      "6\n"
     ]
    }
   ],
   "source": [
    "from sympy.stats import Die, density, FiniteRV, cdf\n",
    "Dado = Die('Dado',8)\n",
    "\n",
    "def my_dice(X,cdf):\n",
    "    for keys in cdf:\n",
    "        if(keys >1):\n",
    "            if(X > dic[keys-1] and X <= dic[keys]):\n",
    "                return keys\n",
    "        else:\n",
    "            if(X <= dic[keys]):\n",
    "                return keys\n",
    "            \n",
    "X =  random.random()\n",
    "print(X)\n",
    "face = my_dice(X,cdf(Dado))\n",
    "print(face)"
   ]
  },
  {
   "cell_type": "markdown",
   "metadata": {},
   "source": [
    "## Bernoulli Distribution\n",
    "\n",
    "$$\n",
    "\\begin{eqnarray*}\n",
    "P(X = x)  \\Leftrightarrow  f(x)  & = &\n",
    "\\begin{cases}\n",
    "               \\displaystyle q, \\ \\ \\ x = 0\\\\\n",
    "               p, \\ \\ \\ x = 1\n",
    "\\end{cases}\\\\\n",
    "P(X \\leq x) \\Leftrightarrow  F(x)  & = &\n",
    "\\begin{cases}\n",
    "               0, \\ \\ \\ x < 0\\\\\n",
    "               q, \\ \\ \\ 0 \\leq x < 1\\\\\n",
    "               1, \\ \\ \\ x \\geq 1\n",
    "\\end{cases}\n",
    "\\end{eqnarray*}\n",
    "$$"
   ]
  },
  {
   "cell_type": "code",
   "execution_count": 11,
   "metadata": {},
   "outputs": [
    {
     "name": "stdout",
     "output_type": "stream",
     "text": [
      "Bernoulli pmf(x):\n",
      " {1: 0.750000000000000, 0: 0.250000000000000}\n",
      "Bernoulli cdf(x): \n",
      " {0: 0.250000000000000, 1: 1.00000000000000}\n"
     ]
    }
   ],
   "source": [
    "from sympy.stats import Bernoulli, density, cdf\n",
    "from sympy import S\n",
    "\n",
    "X = Bernoulli('X', 3/4)\n",
    "print(\"Bernoulli pmf(x):\\n\", density(X).dict)\n",
    "print(\"Bernoulli cdf(x): \\n\", cdf(X))"
   ]
  },
  {
   "cell_type": "markdown",
   "metadata": {},
   "source": [
    "## Binomial Distribution\n",
    "\n",
    "$$\n",
    "\\begin{eqnarray*}\n",
    "P(X = k)  \\Leftrightarrow  f(k,n,p)  & = &\n",
    "\\begin{cases}\n",
    "               \\displaystyle \\binom{n}{k}p^k(1-p)^{n-k} \\ \\ \\ 0 \\leq k \\leq n\\\\\n",
    "               \\textrm{caso contrário}\n",
    "\\end{cases}\\\\\n",
    "P(X \\leq x) \\Leftrightarrow  F(k,n,p)  & = &\n",
    "               \\displaystyle \\sum_{i=0}^{k}\\binom{n}{i}p^k(1-p)^{n-k} \n",
    "\\end{eqnarray*}\n",
    "$$"
   ]
  },
  {
   "cell_type": "code",
   "execution_count": 12,
   "metadata": {},
   "outputs": [
    {
     "data": {
      "text/html": [
       "\n",
       "    <div class=\"bk-root\">\n",
       "        <a href=\"https://bokeh.pydata.org\" target=\"_blank\" class=\"bk-logo bk-logo-small bk-logo-notebook\"></a>\n",
       "        <span id=\"7864deb9-8f7a-4cfc-b9bf-e6022def0175\">Loading BokehJS ...</span>\n",
       "    </div>"
      ]
     },
     "metadata": {},
     "output_type": "display_data"
    },
    {
     "data": {
      "application/javascript": [
       "\n",
       "(function(root) {\n",
       "  function now() {\n",
       "    return new Date();\n",
       "  }\n",
       "\n",
       "  var force = true;\n",
       "\n",
       "  if (typeof (root._bokeh_onload_callbacks) === \"undefined\" || force === true) {\n",
       "    root._bokeh_onload_callbacks = [];\n",
       "    root._bokeh_is_loading = undefined;\n",
       "  }\n",
       "\n",
       "  var JS_MIME_TYPE = 'application/javascript';\n",
       "  var HTML_MIME_TYPE = 'text/html';\n",
       "  var EXEC_MIME_TYPE = 'application/vnd.bokehjs_exec.v0+json';\n",
       "  var CLASS_NAME = 'output_bokeh rendered_html';\n",
       "\n",
       "  /**\n",
       "   * Render data to the DOM node\n",
       "   */\n",
       "  function render(props, node) {\n",
       "    var script = document.createElement(\"script\");\n",
       "    node.appendChild(script);\n",
       "  }\n",
       "\n",
       "  /**\n",
       "   * Handle when an output is cleared or removed\n",
       "   */\n",
       "  function handleClearOutput(event, handle) {\n",
       "    var cell = handle.cell;\n",
       "\n",
       "    var id = cell.output_area._bokeh_element_id;\n",
       "    var server_id = cell.output_area._bokeh_server_id;\n",
       "    // Clean up Bokeh references\n",
       "    if (id !== undefined) {\n",
       "      Bokeh.index[id].model.document.clear();\n",
       "      delete Bokeh.index[id];\n",
       "    }\n",
       "\n",
       "    if (server_id !== undefined) {\n",
       "      // Clean up Bokeh references\n",
       "      var cmd = \"from bokeh.io.state import curstate; print(curstate().uuid_to_server['\" + server_id + \"'].get_sessions()[0].document.roots[0]._id)\";\n",
       "      cell.notebook.kernel.execute(cmd, {\n",
       "        iopub: {\n",
       "          output: function(msg) {\n",
       "            var element_id = msg.content.text.trim();\n",
       "            Bokeh.index[element_id].model.document.clear();\n",
       "            delete Bokeh.index[element_id];\n",
       "          }\n",
       "        }\n",
       "      });\n",
       "      // Destroy server and session\n",
       "      var cmd = \"import bokeh.io.notebook as ion; ion.destroy_server('\" + server_id + \"')\";\n",
       "      cell.notebook.kernel.execute(cmd);\n",
       "    }\n",
       "  }\n",
       "\n",
       "  /**\n",
       "   * Handle when a new output is added\n",
       "   */\n",
       "  function handleAddOutput(event, handle) {\n",
       "    var output_area = handle.output_area;\n",
       "    var output = handle.output;\n",
       "\n",
       "    // limit handleAddOutput to display_data with EXEC_MIME_TYPE content only\n",
       "    if ((output.output_type != \"display_data\") || (!output.data.hasOwnProperty(EXEC_MIME_TYPE))) {\n",
       "      return\n",
       "    }\n",
       "\n",
       "    var toinsert = output_area.element.find(\".\" + CLASS_NAME.split(' ')[0]);\n",
       "\n",
       "    if (output.metadata[EXEC_MIME_TYPE][\"id\"] !== undefined) {\n",
       "      toinsert[0].firstChild.textContent = output.data[JS_MIME_TYPE];\n",
       "      // store reference to embed id on output_area\n",
       "      output_area._bokeh_element_id = output.metadata[EXEC_MIME_TYPE][\"id\"];\n",
       "    }\n",
       "    if (output.metadata[EXEC_MIME_TYPE][\"server_id\"] !== undefined) {\n",
       "      var bk_div = document.createElement(\"div\");\n",
       "      bk_div.innerHTML = output.data[HTML_MIME_TYPE];\n",
       "      var script_attrs = bk_div.children[0].attributes;\n",
       "      for (var i = 0; i < script_attrs.length; i++) {\n",
       "        toinsert[0].firstChild.setAttribute(script_attrs[i].name, script_attrs[i].value);\n",
       "      }\n",
       "      // store reference to server id on output_area\n",
       "      output_area._bokeh_server_id = output.metadata[EXEC_MIME_TYPE][\"server_id\"];\n",
       "    }\n",
       "  }\n",
       "\n",
       "  function register_renderer(events, OutputArea) {\n",
       "\n",
       "    function append_mime(data, metadata, element) {\n",
       "      // create a DOM node to render to\n",
       "      var toinsert = this.create_output_subarea(\n",
       "        metadata,\n",
       "        CLASS_NAME,\n",
       "        EXEC_MIME_TYPE\n",
       "      );\n",
       "      this.keyboard_manager.register_events(toinsert);\n",
       "      // Render to node\n",
       "      var props = {data: data, metadata: metadata[EXEC_MIME_TYPE]};\n",
       "      render(props, toinsert[0]);\n",
       "      element.append(toinsert);\n",
       "      return toinsert\n",
       "    }\n",
       "\n",
       "    /* Handle when an output is cleared or removed */\n",
       "    events.on('clear_output.CodeCell', handleClearOutput);\n",
       "    events.on('delete.Cell', handleClearOutput);\n",
       "\n",
       "    /* Handle when a new output is added */\n",
       "    events.on('output_added.OutputArea', handleAddOutput);\n",
       "\n",
       "    /**\n",
       "     * Register the mime type and append_mime function with output_area\n",
       "     */\n",
       "    OutputArea.prototype.register_mime_type(EXEC_MIME_TYPE, append_mime, {\n",
       "      /* Is output safe? */\n",
       "      safe: true,\n",
       "      /* Index of renderer in `output_area.display_order` */\n",
       "      index: 0\n",
       "    });\n",
       "  }\n",
       "\n",
       "  // register the mime type if in Jupyter Notebook environment and previously unregistered\n",
       "  if (root.Jupyter !== undefined) {\n",
       "    var events = require('base/js/events');\n",
       "    var OutputArea = require('notebook/js/outputarea').OutputArea;\n",
       "\n",
       "    if (OutputArea.prototype.mime_types().indexOf(EXEC_MIME_TYPE) == -1) {\n",
       "      register_renderer(events, OutputArea);\n",
       "    }\n",
       "  }\n",
       "\n",
       "  \n",
       "  if (typeof (root._bokeh_timeout) === \"undefined\" || force === true) {\n",
       "    root._bokeh_timeout = Date.now() + 5000;\n",
       "    root._bokeh_failed_load = false;\n",
       "  }\n",
       "\n",
       "  var NB_LOAD_WARNING = {'data': {'text/html':\n",
       "     \"<div style='background-color: #fdd'>\\n\"+\n",
       "     \"<p>\\n\"+\n",
       "     \"BokehJS does not appear to have successfully loaded. If loading BokehJS from CDN, this \\n\"+\n",
       "     \"may be due to a slow or bad network connection. Possible fixes:\\n\"+\n",
       "     \"</p>\\n\"+\n",
       "     \"<ul>\\n\"+\n",
       "     \"<li>re-rerun `output_notebook()` to attempt to load from CDN again, or</li>\\n\"+\n",
       "     \"<li>use INLINE resources instead, as so:</li>\\n\"+\n",
       "     \"</ul>\\n\"+\n",
       "     \"<code>\\n\"+\n",
       "     \"from bokeh.resources import INLINE\\n\"+\n",
       "     \"output_notebook(resources=INLINE)\\n\"+\n",
       "     \"</code>\\n\"+\n",
       "     \"</div>\"}};\n",
       "\n",
       "  function display_loaded() {\n",
       "    var el = document.getElementById(\"7864deb9-8f7a-4cfc-b9bf-e6022def0175\");\n",
       "    if (el != null) {\n",
       "      el.textContent = \"BokehJS is loading...\";\n",
       "    }\n",
       "    if (root.Bokeh !== undefined) {\n",
       "      if (el != null) {\n",
       "        el.textContent = \"BokehJS \" + root.Bokeh.version + \" successfully loaded.\";\n",
       "      }\n",
       "    } else if (Date.now() < root._bokeh_timeout) {\n",
       "      setTimeout(display_loaded, 100)\n",
       "    }\n",
       "  }\n",
       "\n",
       "\n",
       "  function run_callbacks() {\n",
       "    try {\n",
       "      root._bokeh_onload_callbacks.forEach(function(callback) { callback() });\n",
       "    }\n",
       "    finally {\n",
       "      delete root._bokeh_onload_callbacks\n",
       "    }\n",
       "    console.info(\"Bokeh: all callbacks have finished\");\n",
       "  }\n",
       "\n",
       "  function load_libs(js_urls, callback) {\n",
       "    root._bokeh_onload_callbacks.push(callback);\n",
       "    if (root._bokeh_is_loading > 0) {\n",
       "      console.log(\"Bokeh: BokehJS is being loaded, scheduling callback at\", now());\n",
       "      return null;\n",
       "    }\n",
       "    if (js_urls == null || js_urls.length === 0) {\n",
       "      run_callbacks();\n",
       "      return null;\n",
       "    }\n",
       "    console.log(\"Bokeh: BokehJS not loaded, scheduling load and callback at\", now());\n",
       "    root._bokeh_is_loading = js_urls.length;\n",
       "    for (var i = 0; i < js_urls.length; i++) {\n",
       "      var url = js_urls[i];\n",
       "      var s = document.createElement('script');\n",
       "      s.src = url;\n",
       "      s.async = false;\n",
       "      s.onreadystatechange = s.onload = function() {\n",
       "        root._bokeh_is_loading--;\n",
       "        if (root._bokeh_is_loading === 0) {\n",
       "          console.log(\"Bokeh: all BokehJS libraries loaded\");\n",
       "          run_callbacks()\n",
       "        }\n",
       "      };\n",
       "      s.onerror = function() {\n",
       "        console.warn(\"failed to load library \" + url);\n",
       "      };\n",
       "      console.log(\"Bokeh: injecting script tag for BokehJS library: \", url);\n",
       "      document.getElementsByTagName(\"head\")[0].appendChild(s);\n",
       "    }\n",
       "  };var element = document.getElementById(\"7864deb9-8f7a-4cfc-b9bf-e6022def0175\");\n",
       "  if (element == null) {\n",
       "    console.log(\"Bokeh: ERROR: autoload.js configured with elementid '7864deb9-8f7a-4cfc-b9bf-e6022def0175' but no matching script tag was found. \")\n",
       "    return false;\n",
       "  }\n",
       "\n",
       "  var js_urls = [\"https://cdn.pydata.org/bokeh/release/bokeh-0.12.13.min.js\", \"https://cdn.pydata.org/bokeh/release/bokeh-widgets-0.12.13.min.js\", \"https://cdn.pydata.org/bokeh/release/bokeh-tables-0.12.13.min.js\", \"https://cdn.pydata.org/bokeh/release/bokeh-gl-0.12.13.min.js\"];\n",
       "\n",
       "  var inline_js = [\n",
       "    function(Bokeh) {\n",
       "      Bokeh.set_log_level(\"info\");\n",
       "    },\n",
       "    \n",
       "    function(Bokeh) {\n",
       "      \n",
       "    },\n",
       "    function(Bokeh) {\n",
       "      console.log(\"Bokeh: injecting CSS: https://cdn.pydata.org/bokeh/release/bokeh-0.12.13.min.css\");\n",
       "      Bokeh.embed.inject_css(\"https://cdn.pydata.org/bokeh/release/bokeh-0.12.13.min.css\");\n",
       "      console.log(\"Bokeh: injecting CSS: https://cdn.pydata.org/bokeh/release/bokeh-widgets-0.12.13.min.css\");\n",
       "      Bokeh.embed.inject_css(\"https://cdn.pydata.org/bokeh/release/bokeh-widgets-0.12.13.min.css\");\n",
       "      console.log(\"Bokeh: injecting CSS: https://cdn.pydata.org/bokeh/release/bokeh-tables-0.12.13.min.css\");\n",
       "      Bokeh.embed.inject_css(\"https://cdn.pydata.org/bokeh/release/bokeh-tables-0.12.13.min.css\");\n",
       "    }\n",
       "  ];\n",
       "\n",
       "  function run_inline_js() {\n",
       "    \n",
       "    if ((root.Bokeh !== undefined) || (force === true)) {\n",
       "      for (var i = 0; i < inline_js.length; i++) {\n",
       "        inline_js[i].call(root, root.Bokeh);\n",
       "      }if (force === true) {\n",
       "        display_loaded();\n",
       "      }} else if (Date.now() < root._bokeh_timeout) {\n",
       "      setTimeout(run_inline_js, 100);\n",
       "    } else if (!root._bokeh_failed_load) {\n",
       "      console.log(\"Bokeh: BokehJS failed to load within specified timeout.\");\n",
       "      root._bokeh_failed_load = true;\n",
       "    } else if (force !== true) {\n",
       "      var cell = $(document.getElementById(\"7864deb9-8f7a-4cfc-b9bf-e6022def0175\")).parents('.cell').data().cell;\n",
       "      cell.output_area.append_execute_result(NB_LOAD_WARNING)\n",
       "    }\n",
       "\n",
       "  }\n",
       "\n",
       "  if (root._bokeh_is_loading === 0) {\n",
       "    console.log(\"Bokeh: BokehJS loaded, going straight to plotting\");\n",
       "    run_inline_js();\n",
       "  } else {\n",
       "    load_libs(js_urls, function() {\n",
       "      console.log(\"Bokeh: BokehJS plotting callback run at\", now());\n",
       "      run_inline_js();\n",
       "    });\n",
       "  }\n",
       "}(window));"
      ],
      "application/vnd.bokehjs_load.v0+json": "\n(function(root) {\n  function now() {\n    return new Date();\n  }\n\n  var force = true;\n\n  if (typeof (root._bokeh_onload_callbacks) === \"undefined\" || force === true) {\n    root._bokeh_onload_callbacks = [];\n    root._bokeh_is_loading = undefined;\n  }\n\n  \n\n  \n  if (typeof (root._bokeh_timeout) === \"undefined\" || force === true) {\n    root._bokeh_timeout = Date.now() + 5000;\n    root._bokeh_failed_load = false;\n  }\n\n  var NB_LOAD_WARNING = {'data': {'text/html':\n     \"<div style='background-color: #fdd'>\\n\"+\n     \"<p>\\n\"+\n     \"BokehJS does not appear to have successfully loaded. If loading BokehJS from CDN, this \\n\"+\n     \"may be due to a slow or bad network connection. Possible fixes:\\n\"+\n     \"</p>\\n\"+\n     \"<ul>\\n\"+\n     \"<li>re-rerun `output_notebook()` to attempt to load from CDN again, or</li>\\n\"+\n     \"<li>use INLINE resources instead, as so:</li>\\n\"+\n     \"</ul>\\n\"+\n     \"<code>\\n\"+\n     \"from bokeh.resources import INLINE\\n\"+\n     \"output_notebook(resources=INLINE)\\n\"+\n     \"</code>\\n\"+\n     \"</div>\"}};\n\n  function display_loaded() {\n    var el = document.getElementById(\"7864deb9-8f7a-4cfc-b9bf-e6022def0175\");\n    if (el != null) {\n      el.textContent = \"BokehJS is loading...\";\n    }\n    if (root.Bokeh !== undefined) {\n      if (el != null) {\n        el.textContent = \"BokehJS \" + root.Bokeh.version + \" successfully loaded.\";\n      }\n    } else if (Date.now() < root._bokeh_timeout) {\n      setTimeout(display_loaded, 100)\n    }\n  }\n\n\n  function run_callbacks() {\n    try {\n      root._bokeh_onload_callbacks.forEach(function(callback) { callback() });\n    }\n    finally {\n      delete root._bokeh_onload_callbacks\n    }\n    console.info(\"Bokeh: all callbacks have finished\");\n  }\n\n  function load_libs(js_urls, callback) {\n    root._bokeh_onload_callbacks.push(callback);\n    if (root._bokeh_is_loading > 0) {\n      console.log(\"Bokeh: BokehJS is being loaded, scheduling callback at\", now());\n      return null;\n    }\n    if (js_urls == null || js_urls.length === 0) {\n      run_callbacks();\n      return null;\n    }\n    console.log(\"Bokeh: BokehJS not loaded, scheduling load and callback at\", now());\n    root._bokeh_is_loading = js_urls.length;\n    for (var i = 0; i < js_urls.length; i++) {\n      var url = js_urls[i];\n      var s = document.createElement('script');\n      s.src = url;\n      s.async = false;\n      s.onreadystatechange = s.onload = function() {\n        root._bokeh_is_loading--;\n        if (root._bokeh_is_loading === 0) {\n          console.log(\"Bokeh: all BokehJS libraries loaded\");\n          run_callbacks()\n        }\n      };\n      s.onerror = function() {\n        console.warn(\"failed to load library \" + url);\n      };\n      console.log(\"Bokeh: injecting script tag for BokehJS library: \", url);\n      document.getElementsByTagName(\"head\")[0].appendChild(s);\n    }\n  };var element = document.getElementById(\"7864deb9-8f7a-4cfc-b9bf-e6022def0175\");\n  if (element == null) {\n    console.log(\"Bokeh: ERROR: autoload.js configured with elementid '7864deb9-8f7a-4cfc-b9bf-e6022def0175' but no matching script tag was found. \")\n    return false;\n  }\n\n  var js_urls = [\"https://cdn.pydata.org/bokeh/release/bokeh-0.12.13.min.js\", \"https://cdn.pydata.org/bokeh/release/bokeh-widgets-0.12.13.min.js\", \"https://cdn.pydata.org/bokeh/release/bokeh-tables-0.12.13.min.js\", \"https://cdn.pydata.org/bokeh/release/bokeh-gl-0.12.13.min.js\"];\n\n  var inline_js = [\n    function(Bokeh) {\n      Bokeh.set_log_level(\"info\");\n    },\n    \n    function(Bokeh) {\n      \n    },\n    function(Bokeh) {\n      console.log(\"Bokeh: injecting CSS: https://cdn.pydata.org/bokeh/release/bokeh-0.12.13.min.css\");\n      Bokeh.embed.inject_css(\"https://cdn.pydata.org/bokeh/release/bokeh-0.12.13.min.css\");\n      console.log(\"Bokeh: injecting CSS: https://cdn.pydata.org/bokeh/release/bokeh-widgets-0.12.13.min.css\");\n      Bokeh.embed.inject_css(\"https://cdn.pydata.org/bokeh/release/bokeh-widgets-0.12.13.min.css\");\n      console.log(\"Bokeh: injecting CSS: https://cdn.pydata.org/bokeh/release/bokeh-tables-0.12.13.min.css\");\n      Bokeh.embed.inject_css(\"https://cdn.pydata.org/bokeh/release/bokeh-tables-0.12.13.min.css\");\n    }\n  ];\n\n  function run_inline_js() {\n    \n    if ((root.Bokeh !== undefined) || (force === true)) {\n      for (var i = 0; i < inline_js.length; i++) {\n        inline_js[i].call(root, root.Bokeh);\n      }if (force === true) {\n        display_loaded();\n      }} else if (Date.now() < root._bokeh_timeout) {\n      setTimeout(run_inline_js, 100);\n    } else if (!root._bokeh_failed_load) {\n      console.log(\"Bokeh: BokehJS failed to load within specified timeout.\");\n      root._bokeh_failed_load = true;\n    } else if (force !== true) {\n      var cell = $(document.getElementById(\"7864deb9-8f7a-4cfc-b9bf-e6022def0175\")).parents('.cell').data().cell;\n      cell.output_area.append_execute_result(NB_LOAD_WARNING)\n    }\n\n  }\n\n  if (root._bokeh_is_loading === 0) {\n    console.log(\"Bokeh: BokehJS loaded, going straight to plotting\");\n    run_inline_js();\n  } else {\n    load_libs(js_urls, function() {\n      console.log(\"Bokeh: BokehJS plotting callback run at\", now());\n      run_inline_js();\n    });\n  }\n}(window));"
     },
     "metadata": {},
     "output_type": "display_data"
    }
   ],
   "source": [
    "import numpy as np\n",
    "from scipy.stats import binom, geom\n",
    "from bokeh.plotting import Figure\n",
    "\n",
    "from bokeh.io import show,output_notebook\n",
    "from bokeh.models import HoverTool\n",
    "from bokeh.layouts import row\n",
    "\n",
    "import random\n",
    "output_notebook()"
   ]
  },
  {
   "cell_type": "code",
   "execution_count": 13,
   "metadata": {
    "scrolled": true
   },
   "outputs": [
    {
     "data": {
      "text/html": [
       "\n",
       "<div class=\"bk-root\">\n",
       "    <div class=\"bk-plotdiv\" id=\"52b67155-4659-4045-b5dd-1e475617f036\"></div>\n",
       "</div>"
      ]
     },
     "metadata": {},
     "output_type": "display_data"
    },
    {
     "data": {
      "application/javascript": [
       "(function(root) {\n",
       "  function embed_document(root) {\n",
       "    \n",
       "  var docs_json = {\"94fa0bf9-a65b-478d-bab9-555c417517bc\":{\"roots\":{\"references\":[{\"attributes\":{},\"id\":\"f38b3cc7-e93f-45d2-8763-9cb402dfad41\",\"type\":\"BasicTickFormatter\"},{\"attributes\":{\"below\":[{\"id\":\"6abbbb40-fbde-47e3-8c7a-54a9b2eba347\",\"type\":\"LinearAxis\"}],\"left\":[{\"id\":\"20c20af6-a45a-455f-91b4-618d187dffe9\",\"type\":\"LinearAxis\"}],\"plot_height\":300,\"plot_width\":400,\"renderers\":[{\"id\":\"6abbbb40-fbde-47e3-8c7a-54a9b2eba347\",\"type\":\"LinearAxis\"},{\"id\":\"71017261-e481-4e64-b0be-25d8db3ea7e0\",\"type\":\"Grid\"},{\"id\":\"20c20af6-a45a-455f-91b4-618d187dffe9\",\"type\":\"LinearAxis\"},{\"id\":\"443443b3-06cc-49c7-8260-3f6586f4f33f\",\"type\":\"Grid\"},{\"id\":\"eb219c7f-f78d-4a47-bb50-0d5f95d099cf\",\"type\":\"Legend\"},{\"id\":\"841e8baf-a239-4977-a933-b898e666eef6\",\"type\":\"GlyphRenderer\"},{\"id\":\"dbbadc36-b76e-45e1-bd81-3e3d1396d313\",\"type\":\"GlyphRenderer\"},{\"id\":\"2b573338-b238-4f52-b8fb-d588fa589e37\",\"type\":\"GlyphRenderer\"},{\"id\":\"2265fe4c-2073-48c0-ac96-96686047b6cc\",\"type\":\"GlyphRenderer\"}],\"title\":{\"id\":\"e4d32706-0bf1-4ef8-a051-ec9fe63099ae\",\"type\":\"Title\"},\"toolbar\":{\"id\":\"cf42e865-5b56-4491-99b5-10df53daef2c\",\"type\":\"Toolbar\"},\"x_range\":{\"id\":\"600f3901-69a1-4937-a58a-3da118e44767\",\"type\":\"DataRange1d\"},\"x_scale\":{\"id\":\"6de5e068-68d1-405c-a08e-9af1c25cfa77\",\"type\":\"LinearScale\"},\"y_range\":{\"id\":\"82a9117f-789c-4877-a1a4-76fa075bb4a3\",\"type\":\"DataRange1d\"},\"y_scale\":{\"id\":\"0dd86268-789c-4288-87ff-89e6405337a9\",\"type\":\"LinearScale\"}},\"id\":\"55c9d488-2d9e-4902-b171-1d0db1bae510\",\"subtype\":\"Figure\",\"type\":\"Plot\"},{\"attributes\":{\"source\":{\"id\":\"c2a664f5-67ad-41ff-9ceb-385cd6da34bb\",\"type\":\"ColumnDataSource\"}},\"id\":\"28531b63-f2b5-4462-a0e8-8289f20780b0\",\"type\":\"CDSView\"},{\"attributes\":{\"callback\":null,\"column_names\":[\"x\",\"y\"],\"data\":{\"x\":{\"__ndarray__\":\"AAAAAAEAAAACAAAAAwAAAAQAAAAFAAAABgAAAAcAAAAIAAAACQAAAAoAAAALAAAADAAAAA0AAAAOAAAADwAAABAAAAARAAAAEgAAABMAAAAUAAAA\",\"dtype\":\"int32\",\"shape\":[21]},\"y\":{\"__ndarray__\":\"AAAAAAAAsD79///////zPvr/////vyc/+f/////PUT/0/////+xyP9f/////R44/8P/////soj8NAAAAAO2yPwAAAAAgwb4/9f///7+AxD/5////n43GP/X///+/gMQ/AAAAACDBvj8NAAAAAO2yP/D/////7KI/1/////9Hjj/0/////+xyP/n/////z1E/+v////+/Jz/9///////zPgAAAAAAALA+\",\"dtype\":\"float64\",\"shape\":[21]}}},\"id\":\"627a275d-9a9d-4d33-b09d-8a4d1cb4042e\",\"type\":\"ColumnDataSource\"},{\"attributes\":{\"callback\":null},\"id\":\"600f3901-69a1-4937-a58a-3da118e44767\",\"type\":\"DataRange1d\"},{\"attributes\":{\"data_source\":{\"id\":\"627a275d-9a9d-4d33-b09d-8a4d1cb4042e\",\"type\":\"ColumnDataSource\"},\"glyph\":{\"id\":\"e961aef4-8f3e-4ce0-a41f-277b4be05592\",\"type\":\"Circle\"},\"hover_glyph\":null,\"muted_glyph\":null,\"nonselection_glyph\":{\"id\":\"aae30237-366e-4b44-8ccf-880e3999868d\",\"type\":\"Circle\"},\"selection_glyph\":null,\"view\":{\"id\":\"6639307e-b0c3-4fa0-bfab-3b029d80d700\",\"type\":\"CDSView\"}},\"id\":\"841e8baf-a239-4977-a933-b898e666eef6\",\"type\":\"GlyphRenderer\"},{\"attributes\":{\"fill_color\":{\"value\":\"red\"},\"line_color\":{\"value\":\"red\"},\"size\":{\"units\":\"screen\",\"value\":7},\"x\":{\"field\":\"x\"},\"y\":{\"field\":\"y\"}},\"id\":\"d2e53d81-6bb5-4cb1-8b53-ad5bcce4dd1e\",\"type\":\"Circle\"},{\"attributes\":{\"callback\":null,\"tooltips\":[[\"\",\"$y\"]]},\"id\":\"91e36675-d39d-475d-b37f-a1a2a035633d\",\"type\":\"HoverTool\"},{\"attributes\":{\"fill_alpha\":{\"value\":0.1},\"fill_color\":{\"value\":\"#1f77b4\"},\"line_alpha\":{\"value\":0.1},\"line_color\":{\"value\":\"#1f77b4\"},\"size\":{\"units\":\"screen\",\"value\":7},\"x\":{\"field\":\"x\"},\"y\":{\"field\":\"y\"}},\"id\":\"a5264258-3dbc-4516-880a-32acfb3ceda1\",\"type\":\"Circle\"},{\"attributes\":{},\"id\":\"f8bdab26-1a32-4bab-b355-3cffb752174e\",\"type\":\"LinearScale\"},{\"attributes\":{\"data_source\":{\"id\":\"c2a664f5-67ad-41ff-9ceb-385cd6da34bb\",\"type\":\"ColumnDataSource\"},\"glyph\":{\"id\":\"d2e53d81-6bb5-4cb1-8b53-ad5bcce4dd1e\",\"type\":\"Circle\"},\"hover_glyph\":null,\"muted_glyph\":null,\"nonselection_glyph\":{\"id\":\"a5264258-3dbc-4516-880a-32acfb3ceda1\",\"type\":\"Circle\"},\"selection_glyph\":null,\"view\":{\"id\":\"28531b63-f2b5-4462-a0e8-8289f20780b0\",\"type\":\"CDSView\"}},\"id\":\"2df86105-e633-446d-9a55-9ec93f83c47e\",\"type\":\"GlyphRenderer\"},{\"attributes\":{\"children\":[{\"id\":\"55c9d488-2d9e-4902-b171-1d0db1bae510\",\"subtype\":\"Figure\",\"type\":\"Plot\"},{\"id\":\"6bd1ba33-8499-4009-8763-4ebb91787982\",\"subtype\":\"Figure\",\"type\":\"Plot\"}]},\"id\":\"19c085a9-d622-4d9e-9c32-9633d6daa949\",\"type\":\"Row\"},{\"attributes\":{\"plot\":null,\"text\":\"Binomial Distribution\"},\"id\":\"e4d32706-0bf1-4ef8-a051-ec9fe63099ae\",\"type\":\"Title\"},{\"attributes\":{\"active_drag\":\"auto\",\"active_inspect\":\"auto\",\"active_scroll\":\"auto\",\"active_tap\":\"auto\",\"tools\":[{\"id\":\"ed5b65ba-32b8-431d-9a4c-13ea36a6bc74\",\"type\":\"PanTool\"},{\"id\":\"acad3082-8ce0-4e58-b76c-5094bdbee195\",\"type\":\"WheelZoomTool\"},{\"id\":\"68e882db-b601-4823-b61d-ad41cb59fd48\",\"type\":\"ResetTool\"},{\"id\":\"1d7d1238-0c39-43cb-ae37-915bf7ac95fa\",\"type\":\"SaveTool\"}]},\"id\":\"cf42e865-5b56-4491-99b5-10df53daef2c\",\"type\":\"Toolbar\"},{\"attributes\":{\"fill_alpha\":{\"value\":0.1},\"fill_color\":{\"value\":\"#1f77b4\"},\"line_alpha\":{\"value\":0.1},\"line_color\":{\"value\":\"#1f77b4\"},\"size\":{\"units\":\"screen\",\"value\":7},\"x\":{\"field\":\"x\"},\"y\":{\"field\":\"y\"}},\"id\":\"aae30237-366e-4b44-8ccf-880e3999868d\",\"type\":\"Circle\"},{\"attributes\":{},\"id\":\"6de5e068-68d1-405c-a08e-9af1c25cfa77\",\"type\":\"LinearScale\"},{\"attributes\":{\"callback\":null},\"id\":\"82a9117f-789c-4877-a1a4-76fa075bb4a3\",\"type\":\"DataRange1d\"},{\"attributes\":{},\"id\":\"0dd86268-789c-4288-87ff-89e6405337a9\",\"type\":\"LinearScale\"},{\"attributes\":{\"below\":[{\"id\":\"2a3c4c8d-b6c7-4a38-88e6-8aa7ec5a02fe\",\"type\":\"LinearAxis\"}],\"left\":[{\"id\":\"0530f467-b941-4139-b290-d98bd5250578\",\"type\":\"LinearAxis\"}],\"plot_height\":300,\"plot_width\":400,\"renderers\":[{\"id\":\"2a3c4c8d-b6c7-4a38-88e6-8aa7ec5a02fe\",\"type\":\"LinearAxis\"},{\"id\":\"a6e0c457-40a1-4d65-b99b-15855a3d282d\",\"type\":\"Grid\"},{\"id\":\"0530f467-b941-4139-b290-d98bd5250578\",\"type\":\"LinearAxis\"},{\"id\":\"4464f07d-6653-42a5-b8f9-8fceaac51e0c\",\"type\":\"Grid\"},{\"id\":\"23dcd795-5b53-4702-8c5c-e30915f835b1\",\"type\":\"GlyphRenderer\"},{\"id\":\"2df86105-e633-446d-9a55-9ec93f83c47e\",\"type\":\"GlyphRenderer\"}],\"title\":{\"id\":\"0c702042-30de-4d4a-8b14-7e2825cf7524\",\"type\":\"Title\"},\"toolbar\":{\"id\":\"9bdd827a-04ac-4379-900b-eb6beb1c0546\",\"type\":\"Toolbar\"},\"x_range\":{\"id\":\"600f3901-69a1-4937-a58a-3da118e44767\",\"type\":\"DataRange1d\"},\"x_scale\":{\"id\":\"f8bdab26-1a32-4bab-b355-3cffb752174e\",\"type\":\"LinearScale\"},\"y_range\":{\"id\":\"d65ca52d-0d5c-4b2f-a843-c3108ac8f7f7\",\"type\":\"Range1d\"},\"y_scale\":{\"id\":\"eb85bd89-4272-4a1e-a77f-1d61ed219638\",\"type\":\"LinearScale\"}},\"id\":\"6bd1ba33-8499-4009-8763-4ebb91787982\",\"subtype\":\"Figure\",\"type\":\"Plot\"},{\"attributes\":{\"axis_label\":\"k\",\"formatter\":{\"id\":\"cd72c2f5-f5dc-4a35-9330-6abe862bb86e\",\"type\":\"BasicTickFormatter\"},\"plot\":{\"id\":\"55c9d488-2d9e-4902-b171-1d0db1bae510\",\"subtype\":\"Figure\",\"type\":\"Plot\"},\"ticker\":{\"id\":\"817b52fe-6098-4b57-b854-2541b510d418\",\"type\":\"BasicTicker\"}},\"id\":\"6abbbb40-fbde-47e3-8c7a-54a9b2eba347\",\"type\":\"LinearAxis\"},{\"attributes\":{},\"id\":\"817b52fe-6098-4b57-b854-2541b510d418\",\"type\":\"BasicTicker\"},{\"attributes\":{\"plot\":{\"id\":\"55c9d488-2d9e-4902-b171-1d0db1bae510\",\"subtype\":\"Figure\",\"type\":\"Plot\"},\"ticker\":{\"id\":\"817b52fe-6098-4b57-b854-2541b510d418\",\"type\":\"BasicTicker\"}},\"id\":\"71017261-e481-4e64-b0be-25d8db3ea7e0\",\"type\":\"Grid\"},{\"attributes\":{\"axis_label\":\"f(k,n,p)\",\"formatter\":{\"id\":\"25349f3b-eea0-47b7-ac88-4a1798a2a465\",\"type\":\"BasicTickFormatter\"},\"plot\":{\"id\":\"55c9d488-2d9e-4902-b171-1d0db1bae510\",\"subtype\":\"Figure\",\"type\":\"Plot\"},\"ticker\":{\"id\":\"e628da38-df22-4dd4-9f6b-9650fb326000\",\"type\":\"BasicTicker\"}},\"id\":\"20c20af6-a45a-455f-91b4-618d187dffe9\",\"type\":\"LinearAxis\"},{\"attributes\":{},\"id\":\"e628da38-df22-4dd4-9f6b-9650fb326000\",\"type\":\"BasicTicker\"},{\"attributes\":{\"dimension\":1,\"plot\":{\"id\":\"55c9d488-2d9e-4902-b171-1d0db1bae510\",\"subtype\":\"Figure\",\"type\":\"Plot\"},\"ticker\":{\"id\":\"e628da38-df22-4dd4-9f6b-9650fb326000\",\"type\":\"BasicTicker\"}},\"id\":\"443443b3-06cc-49c7-8260-3f6586f4f33f\",\"type\":\"Grid\"},{\"attributes\":{},\"id\":\"ed5b65ba-32b8-431d-9a4c-13ea36a6bc74\",\"type\":\"PanTool\"},{\"attributes\":{\"callback\":null,\"column_names\":[\"x0\",\"x1\",\"y1\"],\"data\":{\"x0\":{\"__ndarray__\":\"AAAAAAEAAAACAAAAAwAAAAQAAAAFAAAABgAAAAcAAAAIAAAACQAAAAoAAAALAAAADAAAAA0AAAAOAAAADwAAABAAAAARAAAAEgAAABMAAAAUAAAA\",\"dtype\":\"int32\",\"shape\":[21]},\"x1\":{\"__ndarray__\":\"AAAAAAEAAAACAAAAAwAAAAQAAAAFAAAABgAAAAcAAAAIAAAACQAAAAoAAAALAAAADAAAAA0AAAAOAAAADwAAABAAAAARAAAAEgAAABMAAAAUAAAA\",\"dtype\":\"int32\",\"shape\":[21]},\"y1\":{\"__ndarray__\":\"AAAAAAAAsD79///////zPvr/////vyc/+f/////PUT/0/////+xyP9f/////R44/8P/////soj8NAAAAAO2yPwAAAAAgwb4/9f///7+AxD/5////n43GP/X///+/gMQ/AAAAACDBvj8NAAAAAO2yP/D/////7KI/1/////9Hjj/0/////+xyP/n/////z1E/+v////+/Jz/9///////zPgAAAAAAALA+\",\"dtype\":\"float64\",\"shape\":[21]}}},\"id\":\"aea4659b-84bd-48f8-99e0-84e61e86c4f1\",\"type\":\"ColumnDataSource\"},{\"attributes\":{\"active_drag\":\"auto\",\"active_inspect\":\"auto\",\"active_scroll\":\"auto\",\"active_tap\":\"auto\",\"tools\":[{\"id\":\"91e36675-d39d-475d-b37f-a1a2a035633d\",\"type\":\"HoverTool\"},{\"id\":\"c2efbfef-2702-4c44-b515-4869bb978a70\",\"type\":\"PanTool\"},{\"id\":\"32769b11-0442-4357-836e-30c82ee7c849\",\"type\":\"WheelZoomTool\"},{\"id\":\"1861c37c-1ab8-4a89-ae58-62e1d660d7c7\",\"type\":\"ResetTool\"},{\"id\":\"cf9cd780-ec11-4e0a-b2f5-a26f89f2e004\",\"type\":\"SaveTool\"}]},\"id\":\"9bdd827a-04ac-4379-900b-eb6beb1c0546\",\"type\":\"Toolbar\"},{\"attributes\":{},\"id\":\"eb85bd89-4272-4a1e-a77f-1d61ed219638\",\"type\":\"LinearScale\"},{\"attributes\":{\"plot\":{\"id\":\"6bd1ba33-8499-4009-8763-4ebb91787982\",\"subtype\":\"Figure\",\"type\":\"Plot\"},\"ticker\":{\"id\":\"588d7b59-fb5f-4f72-84f0-a34c99c0a8b1\",\"type\":\"BasicTicker\"}},\"id\":\"a6e0c457-40a1-4d65-b99b-15855a3d282d\",\"type\":\"Grid\"},{\"attributes\":{},\"id\":\"acad3082-8ce0-4e58-b76c-5094bdbee195\",\"type\":\"WheelZoomTool\"},{\"attributes\":{},\"id\":\"68e882db-b601-4823-b61d-ad41cb59fd48\",\"type\":\"ResetTool\"},{\"attributes\":{},\"id\":\"1d7d1238-0c39-43cb-ae37-915bf7ac95fa\",\"type\":\"SaveTool\"},{\"attributes\":{\"axis_label\":\"k\",\"formatter\":{\"id\":\"150f57b0-9a3c-4ef8-aedd-f0a56d2ed4c2\",\"type\":\"BasicTickFormatter\"},\"plot\":{\"id\":\"6bd1ba33-8499-4009-8763-4ebb91787982\",\"subtype\":\"Figure\",\"type\":\"Plot\"},\"ticker\":{\"id\":\"588d7b59-fb5f-4f72-84f0-a34c99c0a8b1\",\"type\":\"BasicTicker\"}},\"id\":\"2a3c4c8d-b6c7-4a38-88e6-8aa7ec5a02fe\",\"type\":\"LinearAxis\"},{\"attributes\":{\"callback\":null,\"end\":1.05,\"start\":-0.05},\"id\":\"d65ca52d-0d5c-4b2f-a843-c3108ac8f7f7\",\"type\":\"Range1d\"},{\"attributes\":{},\"id\":\"588d7b59-fb5f-4f72-84f0-a34c99c0a8b1\",\"type\":\"BasicTicker\"},{\"attributes\":{\"axis_label\":\"F(k,n,p)\",\"formatter\":{\"id\":\"f38b3cc7-e93f-45d2-8763-9cb402dfad41\",\"type\":\"BasicTickFormatter\"},\"plot\":{\"id\":\"6bd1ba33-8499-4009-8763-4ebb91787982\",\"subtype\":\"Figure\",\"type\":\"Plot\"},\"ticker\":{\"id\":\"1594581b-826c-4e88-a2a7-38769270b711\",\"type\":\"BasicTicker\"}},\"id\":\"0530f467-b941-4139-b290-d98bd5250578\",\"type\":\"LinearAxis\"},{\"attributes\":{},\"id\":\"1594581b-826c-4e88-a2a7-38769270b711\",\"type\":\"BasicTicker\"},{\"attributes\":{\"dimension\":1,\"plot\":{\"id\":\"6bd1ba33-8499-4009-8763-4ebb91787982\",\"subtype\":\"Figure\",\"type\":\"Plot\"},\"ticker\":{\"id\":\"1594581b-826c-4e88-a2a7-38769270b711\",\"type\":\"BasicTicker\"}},\"id\":\"4464f07d-6653-42a5-b8f9-8fceaac51e0c\",\"type\":\"Grid\"},{\"attributes\":{},\"id\":\"25349f3b-eea0-47b7-ac88-4a1798a2a465\",\"type\":\"BasicTickFormatter\"},{\"attributes\":{},\"id\":\"c2efbfef-2702-4c44-b515-4869bb978a70\",\"type\":\"PanTool\"},{\"attributes\":{},\"id\":\"32769b11-0442-4357-836e-30c82ee7c849\",\"type\":\"WheelZoomTool\"},{\"attributes\":{},\"id\":\"1861c37c-1ab8-4a89-ae58-62e1d660d7c7\",\"type\":\"ResetTool\"},{\"attributes\":{},\"id\":\"cf9cd780-ec11-4e0a-b2f5-a26f89f2e004\",\"type\":\"SaveTool\"},{\"attributes\":{\"click_policy\":\"hide\",\"items\":[{\"id\":\"19c37b6e-05c3-45e1-9939-2be244cf8b1c\",\"type\":\"LegendItem\"},{\"id\":\"51199a31-6ed9-4740-8202-111cab0ab875\",\"type\":\"LegendItem\"}],\"location\":\"top_left\",\"plot\":{\"id\":\"55c9d488-2d9e-4902-b171-1d0db1bae510\",\"subtype\":\"Figure\",\"type\":\"Plot\"}},\"id\":\"eb219c7f-f78d-4a47-bb50-0d5f95d099cf\",\"type\":\"Legend\"},{\"attributes\":{\"line_color\":{\"value\":\"dodgerblue\"},\"line_width\":{\"value\":3},\"x0\":{\"field\":\"x0\"},\"x1\":{\"field\":\"x1\"},\"y0\":{\"value\":0},\"y1\":{\"field\":\"y1\"}},\"id\":\"e9add3ef-14ba-4336-a2d6-60067885b4df\",\"type\":\"Segment\"},{\"attributes\":{\"fill_color\":{\"value\":\"red\"},\"line_color\":{\"value\":\"red\"},\"size\":{\"units\":\"screen\",\"value\":7},\"x\":{\"field\":\"x\"},\"y\":{\"field\":\"y\"}},\"id\":\"c834a040-01ee-453e-9cec-1327b00fdbdc\",\"type\":\"Circle\"},{\"attributes\":{\"callback\":null,\"column_names\":[\"x\",\"y\"],\"data\":{\"x\":{\"__ndarray__\":\"AAAAAAEAAAACAAAAAwAAAAQAAAAFAAAABgAAAAcAAAAIAAAACQAAAAoAAAALAAAADAAAAA0AAAAOAAAADwAAABAAAAARAAAAEgAAABMAAAAUAAAA\",\"dtype\":\"int32\",\"shape\":[21]},\"y\":{\"__ndarray__\":\"NWBteTYrwz2i7IrPs40cPi5VCl+xQWQ+YeNsXrY1oj4B9PzyiUfXPgu9eutPgwY/QnOoW6QbMT+sZ9eEAvRUPzgeFLzAC3U/ygN5J2mOkT+XBfw4do6oPxMaqm5KA70/a6E7nzImzT+uyzwDXhbZPzR4EBUXreI/bpolFlZm6D+6WJqxvpLsP239ZnpS3e4/ej1hgW/B7z+9P4iidvnvPwAAAAAAAPA/\",\"dtype\":\"float64\",\"shape\":[21]}}},\"id\":\"c2a664f5-67ad-41ff-9ceb-385cd6da34bb\",\"type\":\"ColumnDataSource\"},{\"attributes\":{\"label\":{\"value\":\"n=20,p=0.50\"},\"renderers\":[{\"id\":\"841e8baf-a239-4977-a933-b898e666eef6\",\"type\":\"GlyphRenderer\"},{\"id\":\"dbbadc36-b76e-45e1-bd81-3e3d1396d313\",\"type\":\"GlyphRenderer\"}]},\"id\":\"19c37b6e-05c3-45e1-9939-2be244cf8b1c\",\"type\":\"LegendItem\"},{\"attributes\":{\"fill_color\":{\"value\":\"dodgerblue\"},\"line_color\":{\"value\":\"dodgerblue\"},\"size\":{\"units\":\"screen\",\"value\":7},\"x\":{\"field\":\"x\"},\"y\":{\"field\":\"y\"}},\"id\":\"e961aef4-8f3e-4ce0-a41f-277b4be05592\",\"type\":\"Circle\"},{\"attributes\":{\"callback\":null,\"column_names\":[\"x0\",\"x1\",\"y1\"],\"data\":{\"x0\":{\"__ndarray__\":\"AAAAAAEAAAACAAAAAwAAAAQAAAAFAAAABgAAAAcAAAAIAAAACQAAAAoAAAALAAAADAAAAA0AAAAOAAAADwAAABAAAAARAAAAEgAAABMAAAAUAAAA\",\"dtype\":\"int32\",\"shape\":[21]},\"x1\":{\"__ndarray__\":\"AAAAAAEAAAACAAAAAwAAAAQAAAAFAAAABgAAAAcAAAAIAAAACQAAAAoAAAALAAAADAAAAA0AAAAOAAAADwAAABAAAAARAAAAEgAAABMAAAAUAAAA\",\"dtype\":\"int32\",\"shape\":[21]},\"y1\":{\"__ndarray__\":\"L2BteTYrwz2bgb8bWvQbPsr9jcBDXWM+AT58SJvxoD6FVy8n0wDVPnMeG61emgM/ETdyvHSWLD/eSu1tGa1QP4uIvDWAnW8/avjn8PGWiD9TB39Kg46fPz4XLFIPvLA/vCjNzxpJvT/q9T1niQbFP2pJyE2gh8g/wohUBPzkxj8Y+dJtorHAP50lZUaeVLI/oQFI36CDnD8LIYGTkAN8P8kNAd91JUo/\",\"dtype\":\"float64\",\"shape\":[21]}}},\"id\":\"d43942d1-bd43-4971-8783-d04240f6a27f\",\"type\":\"ColumnDataSource\"},{\"attributes\":{\"callback\":null,\"column_names\":[\"x\",\"y\"],\"data\":{\"x\":{\"__ndarray__\":\"AAAAAAEAAAACAAAAAwAAAAQAAAAFAAAABgAAAAcAAAAIAAAACQAAAAoAAAALAAAADAAAAA0AAAAOAAAADwAAABAAAAARAAAAEgAAABMAAAAUAAAA\",\"dtype\":\"int32\",\"shape\":[21]},\"y\":{\"__ndarray__\":\"L2BteTYrwz2bgb8bWvQbPsr9jcBDXWM+AT58SJvxoD6FVy8n0wDVPnMeG61emgM/ETdyvHSWLD/eSu1tGa1QP4uIvDWAnW8/avjn8PGWiD9TB39Kg46fPz4XLFIPvLA/vCjNzxpJvT/q9T1niQbFP2pJyE2gh8g/wohUBPzkxj8Y+dJtorHAP50lZUaeVLI/oQFI36CDnD8LIYGTkAN8P8kNAd91JUo/\",\"dtype\":\"float64\",\"shape\":[21]}}},\"id\":\"11bcc981-0df4-41bf-b22c-91c5ad133adb\",\"type\":\"ColumnDataSource\"},{\"attributes\":{\"line_alpha\":{\"value\":0.1},\"line_color\":{\"value\":\"#1f77b4\"},\"line_width\":{\"value\":3},\"x0\":{\"field\":\"x0\"},\"x1\":{\"field\":\"x1\"},\"y0\":{\"value\":0},\"y1\":{\"field\":\"y1\"}},\"id\":\"1c0e4930-85e2-48d9-a2c5-6c0d3c8cf119\",\"type\":\"Segment\"},{\"attributes\":{\"data_source\":{\"id\":\"aea4659b-84bd-48f8-99e0-84e61e86c4f1\",\"type\":\"ColumnDataSource\"},\"glyph\":{\"id\":\"e9add3ef-14ba-4336-a2d6-60067885b4df\",\"type\":\"Segment\"},\"hover_glyph\":null,\"muted_glyph\":null,\"nonselection_glyph\":{\"id\":\"1c0e4930-85e2-48d9-a2c5-6c0d3c8cf119\",\"type\":\"Segment\"},\"selection_glyph\":null,\"view\":{\"id\":\"8899c315-a2d1-42c6-a6bd-38afb2e45266\",\"type\":\"CDSView\"}},\"id\":\"dbbadc36-b76e-45e1-bd81-3e3d1396d313\",\"type\":\"GlyphRenderer\"},{\"attributes\":{},\"id\":\"cd72c2f5-f5dc-4a35-9330-6abe862bb86e\",\"type\":\"BasicTickFormatter\"},{\"attributes\":{\"fill_alpha\":{\"value\":0.1},\"fill_color\":{\"value\":\"#1f77b4\"},\"line_alpha\":{\"value\":0.1},\"line_color\":{\"value\":\"#1f77b4\"},\"size\":{\"units\":\"screen\",\"value\":7},\"x\":{\"field\":\"x\"},\"y\":{\"field\":\"y\"}},\"id\":\"2925d7e6-ca39-4037-a2ee-152342e1e6da\",\"type\":\"Circle\"},{\"attributes\":{\"data_source\":{\"id\":\"11bcc981-0df4-41bf-b22c-91c5ad133adb\",\"type\":\"ColumnDataSource\"},\"glyph\":{\"id\":\"c834a040-01ee-453e-9cec-1327b00fdbdc\",\"type\":\"Circle\"},\"hover_glyph\":null,\"muted_glyph\":null,\"nonselection_glyph\":{\"id\":\"2925d7e6-ca39-4037-a2ee-152342e1e6da\",\"type\":\"Circle\"},\"selection_glyph\":null,\"view\":{\"id\":\"8532a035-dadc-452e-b2c3-f9e1b0492a2f\",\"type\":\"CDSView\"}},\"id\":\"2b573338-b238-4f52-b8fb-d588fa589e37\",\"type\":\"GlyphRenderer\"},{\"attributes\":{\"source\":{\"id\":\"aea4659b-84bd-48f8-99e0-84e61e86c4f1\",\"type\":\"ColumnDataSource\"}},\"id\":\"8899c315-a2d1-42c6-a6bd-38afb2e45266\",\"type\":\"CDSView\"},{\"attributes\":{\"fill_color\":{\"value\":\"dodgerblue\"},\"line_color\":{\"value\":\"dodgerblue\"},\"size\":{\"units\":\"screen\",\"value\":7},\"x\":{\"field\":\"x\"},\"y\":{\"field\":\"y\"}},\"id\":\"d44ac41d-ddb5-4821-ba61-40ecdcf77a13\",\"type\":\"Circle\"},{\"attributes\":{\"source\":{\"id\":\"11bcc981-0df4-41bf-b22c-91c5ad133adb\",\"type\":\"ColumnDataSource\"}},\"id\":\"8532a035-dadc-452e-b2c3-f9e1b0492a2f\",\"type\":\"CDSView\"},{\"attributes\":{\"label\":{\"value\":\"n=20,p=0.70\"},\"renderers\":[{\"id\":\"2b573338-b238-4f52-b8fb-d588fa589e37\",\"type\":\"GlyphRenderer\"},{\"id\":\"2265fe4c-2073-48c0-ac96-96686047b6cc\",\"type\":\"GlyphRenderer\"}]},\"id\":\"51199a31-6ed9-4740-8202-111cab0ab875\",\"type\":\"LegendItem\"},{\"attributes\":{\"source\":{\"id\":\"627a275d-9a9d-4d33-b09d-8a4d1cb4042e\",\"type\":\"ColumnDataSource\"}},\"id\":\"6639307e-b0c3-4fa0-bfab-3b029d80d700\",\"type\":\"CDSView\"},{\"attributes\":{\"line_alpha\":{\"value\":0.1},\"line_color\":{\"value\":\"#1f77b4\"},\"line_width\":{\"value\":3},\"x0\":{\"field\":\"x0\"},\"x1\":{\"field\":\"x1\"},\"y0\":{\"value\":0},\"y1\":{\"field\":\"y1\"}},\"id\":\"4b713d82-aa83-4ecb-9673-2542ca613a0e\",\"type\":\"Segment\"},{\"attributes\":{\"line_color\":{\"value\":\"red\"},\"line_width\":{\"value\":3},\"x0\":{\"field\":\"x0\"},\"x1\":{\"field\":\"x1\"},\"y0\":{\"value\":0},\"y1\":{\"field\":\"y1\"}},\"id\":\"65d5a598-0355-4a43-951e-b0f9ae7805a7\",\"type\":\"Segment\"},{\"attributes\":{\"data_source\":{\"id\":\"d43942d1-bd43-4971-8783-d04240f6a27f\",\"type\":\"ColumnDataSource\"},\"glyph\":{\"id\":\"65d5a598-0355-4a43-951e-b0f9ae7805a7\",\"type\":\"Segment\"},\"hover_glyph\":null,\"muted_glyph\":null,\"nonselection_glyph\":{\"id\":\"4b713d82-aa83-4ecb-9673-2542ca613a0e\",\"type\":\"Segment\"},\"selection_glyph\":null,\"view\":{\"id\":\"95003214-391b-4ed3-84db-ccbe554e8369\",\"type\":\"CDSView\"}},\"id\":\"2265fe4c-2073-48c0-ac96-96686047b6cc\",\"type\":\"GlyphRenderer\"},{\"attributes\":{\"callback\":null,\"column_names\":[\"x\",\"y\"],\"data\":{\"x\":{\"__ndarray__\":\"AAAAAAEAAAACAAAAAwAAAAQAAAAFAAAABgAAAAcAAAAIAAAACQAAAAoAAAALAAAADAAAAA0AAAAOAAAADwAAABAAAAARAAAAEgAAABMAAAAUAAAA\",\"dtype\":\"int32\",\"shape\":[21]},\"y\":{\"__ndarray__\":\"AAAAAAAAsD7////////0PgIAAAAAYCo///////8bVT///////zN4PwAAAAAAMZU//f///3+FrT//////39fAPwEAAAA4HNA/+////5dc2j8CAAAAtNHiPwAAAADk8ec/AAAAAAjK6z8AAAAAqCfuPwAAAAB4Vu8/AAAAAJjP7z8AAAAAcvXvPwAAAABa/u8/AAAAANb/7z8AAAAA/v/vPwAAAAAAAPA/\",\"dtype\":\"float64\",\"shape\":[21]}}},\"id\":\"2044a3f5-5499-4a37-b029-ea002acc4feb\",\"type\":\"ColumnDataSource\"},{\"attributes\":{\"fill_alpha\":{\"value\":0.1},\"fill_color\":{\"value\":\"#1f77b4\"},\"line_alpha\":{\"value\":0.1},\"line_color\":{\"value\":\"#1f77b4\"},\"size\":{\"units\":\"screen\",\"value\":7},\"x\":{\"field\":\"x\"},\"y\":{\"field\":\"y\"}},\"id\":\"98271079-18cb-4e01-8244-9bb272effd1f\",\"type\":\"Circle\"},{\"attributes\":{\"data_source\":{\"id\":\"2044a3f5-5499-4a37-b029-ea002acc4feb\",\"type\":\"ColumnDataSource\"},\"glyph\":{\"id\":\"d44ac41d-ddb5-4821-ba61-40ecdcf77a13\",\"type\":\"Circle\"},\"hover_glyph\":null,\"muted_glyph\":null,\"nonselection_glyph\":{\"id\":\"98271079-18cb-4e01-8244-9bb272effd1f\",\"type\":\"Circle\"},\"selection_glyph\":null,\"view\":{\"id\":\"f607cbe3-5846-49d8-905d-be33e7223c32\",\"type\":\"CDSView\"}},\"id\":\"23dcd795-5b53-4702-8c5c-e30915f835b1\",\"type\":\"GlyphRenderer\"},{\"attributes\":{\"source\":{\"id\":\"2044a3f5-5499-4a37-b029-ea002acc4feb\",\"type\":\"ColumnDataSource\"}},\"id\":\"f607cbe3-5846-49d8-905d-be33e7223c32\",\"type\":\"CDSView\"},{\"attributes\":{\"source\":{\"id\":\"d43942d1-bd43-4971-8783-d04240f6a27f\",\"type\":\"ColumnDataSource\"}},\"id\":\"95003214-391b-4ed3-84db-ccbe554e8369\",\"type\":\"CDSView\"},{\"attributes\":{},\"id\":\"150f57b0-9a3c-4ef8-aedd-f0a56d2ed4c2\",\"type\":\"BasicTickFormatter\"},{\"attributes\":{\"plot\":null,\"text\":\"\"},\"id\":\"0c702042-30de-4d4a-8b14-7e2825cf7524\",\"type\":\"Title\"}],\"root_ids\":[\"19c085a9-d622-4d9e-9c32-9633d6daa949\"]},\"title\":\"Bokeh Application\",\"version\":\"0.12.13\"}};\n",
       "  var render_items = [{\"docid\":\"94fa0bf9-a65b-478d-bab9-555c417517bc\",\"elementid\":\"52b67155-4659-4045-b5dd-1e475617f036\",\"modelid\":\"19c085a9-d622-4d9e-9c32-9633d6daa949\"}];\n",
       "  root.Bokeh.embed.embed_items_notebook(docs_json, render_items);\n",
       "\n",
       "  }\n",
       "  if (root.Bokeh !== undefined) {\n",
       "    embed_document(root);\n",
       "  } else {\n",
       "    var attempts = 0;\n",
       "    var timer = setInterval(function(root) {\n",
       "      if (root.Bokeh !== undefined) {\n",
       "        embed_document(root);\n",
       "        clearInterval(timer);\n",
       "      }\n",
       "      attempts++;\n",
       "      if (attempts > 100) {\n",
       "        console.log(\"Bokeh: ERROR: Unable to run BokehJS code because BokehJS library is missing\")\n",
       "        clearInterval(timer);\n",
       "      }\n",
       "    }, 10, root)\n",
       "  }\n",
       "})(window);"
      ],
      "application/vnd.bokehjs_exec.v0+json": ""
     },
     "metadata": {
      "application/vnd.bokehjs_exec.v0+json": {
       "id": "19c085a9-d622-4d9e-9c32-9633d6daa949"
      }
     },
     "output_type": "display_data"
    }
   ],
   "source": [
    "k = np.arange(21)\n",
    "n = 20\n",
    "p1 = 0.50\n",
    "p2 = 0.70\n",
    "\n",
    "# Tools for plots\n",
    "tools='pan,wheel_zoom,reset,save'\n",
    "\n",
    "# Set up plots\n",
    "fig_1 = Figure(width=400, height=300, tools=tools, title=\"Binomial Distribution\")\n",
    "fig_2 = Figure(width=400, height=300, tools=[tools,HoverTool(tooltips=[\n",
    "                (\"\", \"$y\")\n",
    "                ])], \n",
    "               y_range=[-0.05, 1.05])\n",
    "\n",
    "fig_1.xaxis.axis_label = 'k'\n",
    "fig_1.yaxis.axis_label = 'f(k,n,p)' \n",
    "\n",
    "fig_2.xaxis.axis_label = 'k'\n",
    "fig_2.yaxis.axis_label = 'F(k,n,p)'\n",
    "\n",
    "# Figure #1\n",
    "y1 = binom.pmf(k,n,p1)\n",
    "fig_1.circle(k, y1, size=7, color='dodgerblue',legend=\"n=20,p=0.50\")\n",
    "fig_1.segment(x0=k, x1=k, y0=0, y1=y1, line_width=3, \n",
    "              color='dodgerblue', legend=\"n=20,p=0.50\")\n",
    "\n",
    "y2 = binom.pmf(k,n,p2)\n",
    "fig_1.circle(k, y2, size=7, color='red',legend=\"n=20,p=0.70\")\n",
    "fig_1.segment(x0=k, x1=k, y0=0, y1=y2, line_width=3, \n",
    "              color='red', legend=\"n=20,p=0.70\")\n",
    "\n",
    "fig_1.legend.location = \"top_left\"\n",
    "fig_1.legend.click_policy=\"hide\"\n",
    "\n",
    "#Figure #2\n",
    "y3 = binom.cdf(k,n,p1)\n",
    "fig_2.circle(k, y3, size=7, color='dodgerblue')\n",
    "\n",
    "y4 = binom.cdf(k,n,p2)\n",
    "fig_2.circle(k, y4, size=7, color='red')\n",
    "\n",
    "# Link the x-axes\n",
    "fig_1.x_range = fig_2.x_range\n",
    "\n",
    "\n",
    "show(row([fig_1, fig_2]))"
   ]
  },
  {
   "cell_type": "markdown",
   "metadata": {},
   "source": [
    "In this example, we'll construct probability distributions. But first, let's look at the dataset we'll be using.\n",
    "\n",
    "In many countries, there are bikesharing programs where anyone can rent a bike from a depot, and return it at other depots throughout a city. There is one such program in Washington, D.C., in the US. We'll be looking at the number of bikes that were rented by day. Here are the relevant columns:\n",
    "\n",
    "- <span style=\"background-color: #F9EBEA; color:##C0392B\">dteday</span> the date that we're looking at.\n",
    "- <span style=\"background-color: #F9EBEA; color:##C0392B\">cnt</span> the total number of bikes rented.\n",
    "\n",
    "This data was collected by <span style=\"background-color: #F9EBEA; color:##C0392B\">Hadi Fanaee-T</span> at the <span style=\"background-color: #F9EBEA; color:##C0392B\">University of Porto</span>, and can be downloaded [here](http://archive.ics.uci.edu/ml/datasets/Bike+Sharing+Dataset)."
   ]
  },
  {
   "cell_type": "code",
   "execution_count": 14,
   "metadata": {
    "scrolled": true
   },
   "outputs": [
    {
     "data": {
      "text/html": [
       "<div>\n",
       "<style scoped>\n",
       "    .dataframe tbody tr th:only-of-type {\n",
       "        vertical-align: middle;\n",
       "    }\n",
       "\n",
       "    .dataframe tbody tr th {\n",
       "        vertical-align: top;\n",
       "    }\n",
       "\n",
       "    .dataframe thead th {\n",
       "        text-align: right;\n",
       "    }\n",
       "</style>\n",
       "<table border=\"1\" class=\"dataframe\">\n",
       "  <thead>\n",
       "    <tr style=\"text-align: right;\">\n",
       "      <th></th>\n",
       "      <th>instant</th>\n",
       "      <th>dteday</th>\n",
       "      <th>season</th>\n",
       "      <th>yr</th>\n",
       "      <th>mnth</th>\n",
       "      <th>holiday</th>\n",
       "      <th>weekday</th>\n",
       "      <th>workingday</th>\n",
       "      <th>weathersit</th>\n",
       "      <th>temp</th>\n",
       "      <th>atemp</th>\n",
       "      <th>hum</th>\n",
       "      <th>windspeed</th>\n",
       "      <th>casual</th>\n",
       "      <th>registered</th>\n",
       "      <th>cnt</th>\n",
       "    </tr>\n",
       "  </thead>\n",
       "  <tbody>\n",
       "    <tr>\n",
       "      <th>0</th>\n",
       "      <td>1</td>\n",
       "      <td>2011-01-01</td>\n",
       "      <td>1</td>\n",
       "      <td>0</td>\n",
       "      <td>1</td>\n",
       "      <td>0</td>\n",
       "      <td>6</td>\n",
       "      <td>0</td>\n",
       "      <td>2</td>\n",
       "      <td>0.344167</td>\n",
       "      <td>0.363625</td>\n",
       "      <td>0.805833</td>\n",
       "      <td>0.160446</td>\n",
       "      <td>331</td>\n",
       "      <td>654</td>\n",
       "      <td>985</td>\n",
       "    </tr>\n",
       "    <tr>\n",
       "      <th>1</th>\n",
       "      <td>2</td>\n",
       "      <td>2011-01-02</td>\n",
       "      <td>1</td>\n",
       "      <td>0</td>\n",
       "      <td>1</td>\n",
       "      <td>0</td>\n",
       "      <td>0</td>\n",
       "      <td>0</td>\n",
       "      <td>2</td>\n",
       "      <td>0.363478</td>\n",
       "      <td>0.353739</td>\n",
       "      <td>0.696087</td>\n",
       "      <td>0.248539</td>\n",
       "      <td>131</td>\n",
       "      <td>670</td>\n",
       "      <td>801</td>\n",
       "    </tr>\n",
       "    <tr>\n",
       "      <th>2</th>\n",
       "      <td>3</td>\n",
       "      <td>2011-01-03</td>\n",
       "      <td>1</td>\n",
       "      <td>0</td>\n",
       "      <td>1</td>\n",
       "      <td>0</td>\n",
       "      <td>1</td>\n",
       "      <td>1</td>\n",
       "      <td>1</td>\n",
       "      <td>0.196364</td>\n",
       "      <td>0.189405</td>\n",
       "      <td>0.437273</td>\n",
       "      <td>0.248309</td>\n",
       "      <td>120</td>\n",
       "      <td>1229</td>\n",
       "      <td>1349</td>\n",
       "    </tr>\n",
       "    <tr>\n",
       "      <th>3</th>\n",
       "      <td>4</td>\n",
       "      <td>2011-01-04</td>\n",
       "      <td>1</td>\n",
       "      <td>0</td>\n",
       "      <td>1</td>\n",
       "      <td>0</td>\n",
       "      <td>2</td>\n",
       "      <td>1</td>\n",
       "      <td>1</td>\n",
       "      <td>0.200000</td>\n",
       "      <td>0.212122</td>\n",
       "      <td>0.590435</td>\n",
       "      <td>0.160296</td>\n",
       "      <td>108</td>\n",
       "      <td>1454</td>\n",
       "      <td>1562</td>\n",
       "    </tr>\n",
       "    <tr>\n",
       "      <th>4</th>\n",
       "      <td>5</td>\n",
       "      <td>2011-01-05</td>\n",
       "      <td>1</td>\n",
       "      <td>0</td>\n",
       "      <td>1</td>\n",
       "      <td>0</td>\n",
       "      <td>3</td>\n",
       "      <td>1</td>\n",
       "      <td>1</td>\n",
       "      <td>0.226957</td>\n",
       "      <td>0.229270</td>\n",
       "      <td>0.436957</td>\n",
       "      <td>0.186900</td>\n",
       "      <td>82</td>\n",
       "      <td>1518</td>\n",
       "      <td>1600</td>\n",
       "    </tr>\n",
       "  </tbody>\n",
       "</table>\n",
       "</div>"
      ],
      "text/plain": [
       "   instant      dteday  season  yr  mnth  holiday  weekday  workingday  \\\n",
       "0        1  2011-01-01       1   0     1        0        6           0   \n",
       "1        2  2011-01-02       1   0     1        0        0           0   \n",
       "2        3  2011-01-03       1   0     1        0        1           1   \n",
       "3        4  2011-01-04       1   0     1        0        2           1   \n",
       "4        5  2011-01-05       1   0     1        0        3           1   \n",
       "\n",
       "   weathersit      temp     atemp       hum  windspeed  casual  registered  \\\n",
       "0           2  0.344167  0.363625  0.805833   0.160446     331         654   \n",
       "1           2  0.363478  0.353739  0.696087   0.248539     131         670   \n",
       "2           1  0.196364  0.189405  0.437273   0.248309     120        1229   \n",
       "3           1  0.200000  0.212122  0.590435   0.160296     108        1454   \n",
       "4           1  0.226957  0.229270  0.436957   0.186900      82        1518   \n",
       "\n",
       "    cnt  \n",
       "0   985  \n",
       "1   801  \n",
       "2  1349  \n",
       "3  1562  \n",
       "4  1600  "
      ]
     },
     "execution_count": 14,
     "metadata": {},
     "output_type": "execute_result"
    }
   ],
   "source": [
    "import pandas as pd\n",
    "bikes = pd.read_csv(\"bike_rental_day.csv\")\n",
    "bikes.head()"
   ]
  },
  {
   "cell_type": "markdown",
   "metadata": {},
   "source": [
    "<br>\n",
    "<div class=\"alert alert-info\">\n",
    "<b>Exercise Start.</b>\n",
    "</div>\n",
    "\n",
    "**Description**:\n",
    "\n",
    "1. Find the probability of there being more than <span style=\"background-color: #F9EBEA; color:##C0392B\">5000</span> riders in a single day (using the <span style=\"background-color: #F9EBEA; color:##C0392B\">cnt</span> column). \n",
    "2. Assign the result to <span style=\"background-color: #F9EBEA; color:##C0392B\">prob\\_over\\_5000</span>\n",
    "3. What is the probability that the bikesharing system has in a month at least 10 days with more than 5k riders?\n"
   ]
  },
  {
   "cell_type": "markdown",
   "metadata": {},
   "source": [
    "## Geometric Distribution\n",
    "\n",
    "\n",
    "$$\n",
    "\\begin{eqnarray*}\n",
    "P(X = k)  \\Leftrightarrow  f(k,p)  & = &\n",
    "\\begin{cases}\n",
    "               \\displaystyle (1-p)^{k-1}*p \\ \\ \\ k = 1,2,3,\\ldots \\\\\n",
    "               \\textrm{caso contrário}\n",
    "\\end{cases}\\\\\n",
    "P(X \\leq k) \\Leftrightarrow  F(k,p)  & = &\n",
    "               \\displaystyle \\sum_{i=1}^{k}  (1-p)^{k-1}*p \\\\\n",
    "               & = & 1 - (1-p)^k\n",
    "\\end{eqnarray*}\n",
    "$$"
   ]
  },
  {
   "cell_type": "code",
   "execution_count": 15,
   "metadata": {
    "scrolled": true
   },
   "outputs": [
    {
     "data": {
      "text/html": [
       "\n",
       "<div class=\"bk-root\">\n",
       "    <div class=\"bk-plotdiv\" id=\"6ef35a3b-6307-480e-abb9-f06a7f0a2044\"></div>\n",
       "</div>"
      ]
     },
     "metadata": {},
     "output_type": "display_data"
    },
    {
     "data": {
      "application/javascript": [
       "(function(root) {\n",
       "  function embed_document(root) {\n",
       "    \n",
       "  var docs_json = {\"e40dd405-f330-4004-937a-99b48dc8d60c\":{\"roots\":{\"references\":[{\"attributes\":{\"axis_label\":\"k\",\"formatter\":{\"id\":\"72e42931-7215-4d50-8f85-9427798ad22f\",\"type\":\"BasicTickFormatter\"},\"plot\":{\"id\":\"0dad6226-bfff-414e-9487-b40c4948cf44\",\"subtype\":\"Figure\",\"type\":\"Plot\"},\"ticker\":{\"id\":\"5998228c-bb46-491f-a342-9523943eacbd\",\"type\":\"BasicTicker\"}},\"id\":\"b79773cb-f8bb-4633-b5f2-1e5e05ceb437\",\"type\":\"LinearAxis\"},{\"attributes\":{\"fill_color\":{\"value\":\"dodgerblue\"},\"line_color\":{\"value\":\"dodgerblue\"},\"size\":{\"units\":\"screen\",\"value\":7},\"x\":{\"field\":\"x\"},\"y\":{\"field\":\"y\"}},\"id\":\"b29bc043-c88a-4d69-9e33-573abb43d870\",\"type\":\"Circle\"},{\"attributes\":{\"plot\":{\"id\":\"0dad6226-bfff-414e-9487-b40c4948cf44\",\"subtype\":\"Figure\",\"type\":\"Plot\"},\"ticker\":{\"id\":\"5998228c-bb46-491f-a342-9523943eacbd\",\"type\":\"BasicTicker\"}},\"id\":\"876be692-0bd0-49db-9e30-7837e675e4ec\",\"type\":\"Grid\"},{\"attributes\":{},\"id\":\"5998228c-bb46-491f-a342-9523943eacbd\",\"type\":\"BasicTicker\"},{\"attributes\":{\"axis_label\":\"F(k,p)\",\"formatter\":{\"id\":\"322fb8cd-fdcd-4230-aeaf-76725f824342\",\"type\":\"BasicTickFormatter\"},\"plot\":{\"id\":\"0dad6226-bfff-414e-9487-b40c4948cf44\",\"subtype\":\"Figure\",\"type\":\"Plot\"},\"ticker\":{\"id\":\"266fc1de-3a05-4595-aadd-13ad7c00bc24\",\"type\":\"BasicTicker\"}},\"id\":\"caa477cb-bfa2-471f-9a3b-48ed0ae8aab2\",\"type\":\"LinearAxis\"},{\"attributes\":{},\"id\":\"266fc1de-3a05-4595-aadd-13ad7c00bc24\",\"type\":\"BasicTicker\"},{\"attributes\":{\"dimension\":1,\"plot\":{\"id\":\"0dad6226-bfff-414e-9487-b40c4948cf44\",\"subtype\":\"Figure\",\"type\":\"Plot\"},\"ticker\":{\"id\":\"266fc1de-3a05-4595-aadd-13ad7c00bc24\",\"type\":\"BasicTicker\"}},\"id\":\"277b83a7-7409-4fdc-a68e-06de959e71dc\",\"type\":\"Grid\"},{\"attributes\":{\"click_policy\":\"hide\",\"items\":[{\"id\":\"3fe13718-f712-4375-b39f-19d1aa7c5aa3\",\"type\":\"LegendItem\"},{\"id\":\"80df0d68-80eb-4208-8c54-47311bebd0c4\",\"type\":\"LegendItem\"}],\"plot\":{\"id\":\"645c7650-04fc-4812-b9e9-dc4b60a04630\",\"subtype\":\"Figure\",\"type\":\"Plot\"}},\"id\":\"23d46008-287b-451b-9620-42ad8a3b5750\",\"type\":\"Legend\"},{\"attributes\":{\"source\":{\"id\":\"127b416c-8378-49f8-9e34-79f76299b101\",\"type\":\"ColumnDataSource\"}},\"id\":\"6271c871-c989-4b5d-b63b-7abe45200cc3\",\"type\":\"CDSView\"},{\"attributes\":{},\"id\":\"2251be16-d339-4052-ac14-94ed60f32d04\",\"type\":\"PanTool\"},{\"attributes\":{\"data_source\":{\"id\":\"127b416c-8378-49f8-9e34-79f76299b101\",\"type\":\"ColumnDataSource\"},\"glyph\":{\"id\":\"b29bc043-c88a-4d69-9e33-573abb43d870\",\"type\":\"Circle\"},\"hover_glyph\":null,\"muted_glyph\":null,\"nonselection_glyph\":{\"id\":\"29e5aa86-9aa0-4b40-b069-b1670a1f9bc4\",\"type\":\"Circle\"},\"selection_glyph\":null,\"view\":{\"id\":\"6271c871-c989-4b5d-b63b-7abe45200cc3\",\"type\":\"CDSView\"}},\"id\":\"e852b03e-9fba-408b-85fc-679988f767bd\",\"type\":\"GlyphRenderer\"},{\"attributes\":{},\"id\":\"9b937986-4c86-4845-b6cd-157cf7d1ef2e\",\"type\":\"WheelZoomTool\"},{\"attributes\":{},\"id\":\"078c4403-bf29-4d26-bd87-2d92f5ba9ce0\",\"type\":\"ResetTool\"},{\"attributes\":{},\"id\":\"2decccf4-a54e-4100-bfcc-2328249a3b3e\",\"type\":\"SaveTool\"},{\"attributes\":{\"fill_alpha\":{\"value\":0.1},\"fill_color\":{\"value\":\"#1f77b4\"},\"line_alpha\":{\"value\":0.1},\"line_color\":{\"value\":\"#1f77b4\"},\"size\":{\"units\":\"screen\",\"value\":7},\"x\":{\"field\":\"x\"},\"y\":{\"field\":\"y\"}},\"id\":\"29e5aa86-9aa0-4b40-b069-b1670a1f9bc4\",\"type\":\"Circle\"},{\"attributes\":{},\"id\":\"2fc8cb90-a399-4555-86a4-c862663c59af\",\"type\":\"BasicTickFormatter\"},{\"attributes\":{},\"id\":\"88c8da7d-7806-4132-9d6c-20b5a9b3669f\",\"type\":\"BasicTickFormatter\"},{\"attributes\":{\"label\":{\"value\":\"p=0.30\"},\"renderers\":[{\"id\":\"e852b03e-9fba-408b-85fc-679988f767bd\",\"type\":\"GlyphRenderer\"},{\"id\":\"9ebae377-9d41-43a9-a4c2-b9cda5fd203f\",\"type\":\"GlyphRenderer\"}]},\"id\":\"3fe13718-f712-4375-b39f-19d1aa7c5aa3\",\"type\":\"LegendItem\"},{\"attributes\":{\"line_color\":{\"value\":\"dodgerblue\"},\"line_width\":{\"value\":3},\"x0\":{\"field\":\"x0\"},\"x1\":{\"field\":\"x1\"},\"y0\":{\"value\":0},\"y1\":{\"field\":\"y1\"}},\"id\":\"ee27db1c-cf36-472a-b8bd-bc6ac7c9880a\",\"type\":\"Segment\"},{\"attributes\":{\"fill_alpha\":{\"value\":0.1},\"fill_color\":{\"value\":\"#1f77b4\"},\"line_alpha\":{\"value\":0.1},\"line_color\":{\"value\":\"#1f77b4\"},\"size\":{\"units\":\"screen\",\"value\":7},\"x\":{\"field\":\"x\"},\"y\":{\"field\":\"y\"}},\"id\":\"22c191d4-85a7-4d04-b3d1-7a9bfc0bbb6e\",\"type\":\"Circle\"},{\"attributes\":{\"fill_color\":{\"value\":\"dodgerblue\"},\"line_color\":{\"value\":\"dodgerblue\"},\"size\":{\"units\":\"screen\",\"value\":7},\"x\":{\"field\":\"x\"},\"y\":{\"field\":\"y\"}},\"id\":\"e50b5990-b0d9-40d6-9c17-3fbc8931b490\",\"type\":\"Circle\"},{\"attributes\":{\"label\":{\"value\":\"p=0.70\"},\"renderers\":[{\"id\":\"750b8bf2-e5a8-4ee0-987e-e11985e47ff7\",\"type\":\"GlyphRenderer\"},{\"id\":\"43f78df7-e4c5-40fc-94c9-863442016069\",\"type\":\"GlyphRenderer\"}]},\"id\":\"80df0d68-80eb-4208-8c54-47311bebd0c4\",\"type\":\"LegendItem\"},{\"attributes\":{\"line_alpha\":{\"value\":0.1},\"line_color\":{\"value\":\"#1f77b4\"},\"line_width\":{\"value\":3},\"x0\":{\"field\":\"x0\"},\"x1\":{\"field\":\"x1\"},\"y0\":{\"value\":0},\"y1\":{\"field\":\"y1\"}},\"id\":\"077bff66-1f6c-445e-9b2d-0c0052e2272f\",\"type\":\"Segment\"},{\"attributes\":{\"data_source\":{\"id\":\"08138125-b3e9-4780-8e0b-8c7030924cc0\",\"type\":\"ColumnDataSource\"},\"glyph\":{\"id\":\"ee27db1c-cf36-472a-b8bd-bc6ac7c9880a\",\"type\":\"Segment\"},\"hover_glyph\":null,\"muted_glyph\":null,\"nonselection_glyph\":{\"id\":\"077bff66-1f6c-445e-9b2d-0c0052e2272f\",\"type\":\"Segment\"},\"selection_glyph\":null,\"view\":{\"id\":\"f5a6fd50-b829-48e3-803a-5dd891511633\",\"type\":\"CDSView\"}},\"id\":\"9ebae377-9d41-43a9-a4c2-b9cda5fd203f\",\"type\":\"GlyphRenderer\"},{\"attributes\":{\"data_source\":{\"id\":\"d5f496ed-4022-4785-898e-bd4aa5020b10\",\"type\":\"ColumnDataSource\"},\"glyph\":{\"id\":\"0f4fcd68-2ae5-4df4-ba70-b1f9a71d9184\",\"type\":\"Circle\"},\"hover_glyph\":null,\"muted_glyph\":null,\"nonselection_glyph\":{\"id\":\"22c191d4-85a7-4d04-b3d1-7a9bfc0bbb6e\",\"type\":\"Circle\"},\"selection_glyph\":null,\"view\":{\"id\":\"26095bc3-170d-46f8-843d-0b8684f1d268\",\"type\":\"CDSView\"}},\"id\":\"750b8bf2-e5a8-4ee0-987e-e11985e47ff7\",\"type\":\"GlyphRenderer\"},{\"attributes\":{\"source\":{\"id\":\"d5f496ed-4022-4785-898e-bd4aa5020b10\",\"type\":\"ColumnDataSource\"}},\"id\":\"26095bc3-170d-46f8-843d-0b8684f1d268\",\"type\":\"CDSView\"},{\"attributes\":{\"source\":{\"id\":\"08138125-b3e9-4780-8e0b-8c7030924cc0\",\"type\":\"ColumnDataSource\"}},\"id\":\"f5a6fd50-b829-48e3-803a-5dd891511633\",\"type\":\"CDSView\"},{\"attributes\":{\"fill_color\":{\"value\":\"red\"},\"line_color\":{\"value\":\"red\"},\"size\":{\"units\":\"screen\",\"value\":7},\"x\":{\"field\":\"x\"},\"y\":{\"field\":\"y\"}},\"id\":\"0f4fcd68-2ae5-4df4-ba70-b1f9a71d9184\",\"type\":\"Circle\"},{\"attributes\":{\"fill_color\":{\"value\":\"red\"},\"line_color\":{\"value\":\"red\"},\"size\":{\"units\":\"screen\",\"value\":7},\"x\":{\"field\":\"x\"},\"y\":{\"field\":\"y\"}},\"id\":\"0b48ca80-0f8c-43d5-b549-5d149f983652\",\"type\":\"Circle\"},{\"attributes\":{\"line_alpha\":{\"value\":0.1},\"line_color\":{\"value\":\"#1f77b4\"},\"line_width\":{\"value\":3},\"x0\":{\"field\":\"x0\"},\"x1\":{\"field\":\"x1\"},\"y0\":{\"value\":0},\"y1\":{\"field\":\"y1\"}},\"id\":\"f7d5dd8e-40fe-4311-b59a-fc3709a7fc23\",\"type\":\"Segment\"},{\"attributes\":{\"line_color\":{\"value\":\"red\"},\"line_width\":{\"value\":3},\"x0\":{\"field\":\"x0\"},\"x1\":{\"field\":\"x1\"},\"y0\":{\"value\":0},\"y1\":{\"field\":\"y1\"}},\"id\":\"5197780a-456d-45b1-b726-c80f3d6ef18c\",\"type\":\"Segment\"},{\"attributes\":{\"data_source\":{\"id\":\"ecc12088-613a-4366-8167-9677f9adce38\",\"type\":\"ColumnDataSource\"},\"glyph\":{\"id\":\"5197780a-456d-45b1-b726-c80f3d6ef18c\",\"type\":\"Segment\"},\"hover_glyph\":null,\"muted_glyph\":null,\"nonselection_glyph\":{\"id\":\"f7d5dd8e-40fe-4311-b59a-fc3709a7fc23\",\"type\":\"Segment\"},\"selection_glyph\":null,\"view\":{\"id\":\"f38eac1b-ab8a-4864-a8d2-ea7ed6dbed21\",\"type\":\"CDSView\"}},\"id\":\"43f78df7-e4c5-40fc-94c9-863442016069\",\"type\":\"GlyphRenderer\"},{\"attributes\":{\"callback\":null,\"column_names\":[\"x\",\"y\"],\"data\":{\"x\":{\"__ndarray__\":\"AQAAAAIAAAADAAAABAAAAAUAAAAGAAAABwAAAAgAAAAJAAAACgAAAAsAAAAMAAAADQAAAA4AAAAPAAAAEAAAABEAAAASAAAAEwAAABQAAAAVAAAA\",\"dtype\":\"int32\",\"shape\":[21]},\"y\":{\"__ndarray__\":\"MzMzMzMz0z9SuB6F61HgP6AaL90kBuU/cF8HzhlR6D8C9tGpK5/qPwH5Eio4POw/tBTag1pd7T9L20tcvyfuP4EZNVpste4/2pGLpZgY7z/msuFzBF7vP6FjhLecju8/JKzc5qCw7z9/eJqhcMjvP4yHUqQb2e8/ryugjMbk7z+UHnBi8ezvP5tIG/io8u8/oH95eqn27z+9P4iidvnvP2r5+KRs++8/\",\"dtype\":\"float64\",\"shape\":[21]}}},\"id\":\"ef10b770-a60a-4787-8172-c4969bff912b\",\"type\":\"ColumnDataSource\"},{\"attributes\":{\"fill_alpha\":{\"value\":0.1},\"fill_color\":{\"value\":\"#1f77b4\"},\"line_alpha\":{\"value\":0.1},\"line_color\":{\"value\":\"#1f77b4\"},\"size\":{\"units\":\"screen\",\"value\":7},\"x\":{\"field\":\"x\"},\"y\":{\"field\":\"y\"}},\"id\":\"7c595e04-02c1-49a4-8550-225c6344571b\",\"type\":\"Circle\"},{\"attributes\":{\"data_source\":{\"id\":\"ef10b770-a60a-4787-8172-c4969bff912b\",\"type\":\"ColumnDataSource\"},\"glyph\":{\"id\":\"e50b5990-b0d9-40d6-9c17-3fbc8931b490\",\"type\":\"Circle\"},\"hover_glyph\":null,\"muted_glyph\":null,\"nonselection_glyph\":{\"id\":\"7c595e04-02c1-49a4-8550-225c6344571b\",\"type\":\"Circle\"},\"selection_glyph\":null,\"view\":{\"id\":\"ad003ba6-972e-477e-a6dc-502fb9c2941c\",\"type\":\"CDSView\"}},\"id\":\"8e1214e3-64d2-429f-be6a-53044f0e1489\",\"type\":\"GlyphRenderer\"},{\"attributes\":{\"source\":{\"id\":\"ecc12088-613a-4366-8167-9677f9adce38\",\"type\":\"ColumnDataSource\"}},\"id\":\"f38eac1b-ab8a-4864-a8d2-ea7ed6dbed21\",\"type\":\"CDSView\"},{\"attributes\":{\"callback\":null,\"column_names\":[\"x\",\"y\"],\"data\":{\"x\":{\"__ndarray__\":\"AQAAAAIAAAADAAAABAAAAAUAAAAGAAAABwAAAAgAAAAJAAAACgAAAAsAAAAMAAAADQAAAA4AAAAPAAAAEAAAABEAAAASAAAAEwAAABQAAAAVAAAA\",\"dtype\":\"int32\",\"shape\":[21]},\"y\":{\"__ndarray__\":\"ZmZmZmZm5j8fhetRuB7tP4lBYOXQIu8/duCcEaW97z8jEK/rF+zvPz7rGi0H+u8/LOBUWjX+7z9AQ+Zndv/vPy0UxbjW/+8/QbnUnfP/7z9gBPNI/P/vPx1Or+L+/+8/ospnqv//7z9kVlLm///vP7jmS/j//+8/0V6w/f//7z/Ygk7////vP9rAyv///+8/qAbw////7z8yNfv////vP/aP/v///+8/\",\"dtype\":\"float64\",\"shape\":[21]}}},\"id\":\"09804a91-5551-4dc2-a96b-a2e925257320\",\"type\":\"ColumnDataSource\"},{\"attributes\":{\"source\":{\"id\":\"ef10b770-a60a-4787-8172-c4969bff912b\",\"type\":\"ColumnDataSource\"}},\"id\":\"ad003ba6-972e-477e-a6dc-502fb9c2941c\",\"type\":\"CDSView\"},{\"attributes\":{},\"id\":\"72e42931-7215-4d50-8f85-9427798ad22f\",\"type\":\"BasicTickFormatter\"},{\"attributes\":{\"plot\":null,\"text\":\"\"},\"id\":\"acc8102d-bd4e-4ef4-b17a-e0063717584b\",\"type\":\"Title\"},{\"attributes\":{\"callback\":null,\"tooltips\":[[\"\",\"$y\"]]},\"id\":\"0749ced2-a8fc-4fd6-be21-82bab9e7f506\",\"type\":\"HoverTool\"},{\"attributes\":{},\"id\":\"322fb8cd-fdcd-4230-aeaf-76725f824342\",\"type\":\"BasicTickFormatter\"},{\"attributes\":{\"below\":[{\"id\":\"f3c720d6-2647-4070-9b8e-7f9f78b4312d\",\"type\":\"LinearAxis\"}],\"left\":[{\"id\":\"e0f1f831-4b83-4966-969d-55d2f89b49e1\",\"type\":\"LinearAxis\"}],\"plot_height\":300,\"plot_width\":400,\"renderers\":[{\"id\":\"f3c720d6-2647-4070-9b8e-7f9f78b4312d\",\"type\":\"LinearAxis\"},{\"id\":\"e08ad817-277c-45b6-8ac4-b9abbd6186d0\",\"type\":\"Grid\"},{\"id\":\"e0f1f831-4b83-4966-969d-55d2f89b49e1\",\"type\":\"LinearAxis\"},{\"id\":\"ecce87cd-cdab-4dad-afe7-e7cb79093040\",\"type\":\"Grid\"},{\"id\":\"23d46008-287b-451b-9620-42ad8a3b5750\",\"type\":\"Legend\"},{\"id\":\"e852b03e-9fba-408b-85fc-679988f767bd\",\"type\":\"GlyphRenderer\"},{\"id\":\"9ebae377-9d41-43a9-a4c2-b9cda5fd203f\",\"type\":\"GlyphRenderer\"},{\"id\":\"750b8bf2-e5a8-4ee0-987e-e11985e47ff7\",\"type\":\"GlyphRenderer\"},{\"id\":\"43f78df7-e4c5-40fc-94c9-863442016069\",\"type\":\"GlyphRenderer\"}],\"title\":{\"id\":\"c1208e61-f128-4d6c-9bfb-9ccc737c422d\",\"type\":\"Title\"},\"toolbar\":{\"id\":\"d086ee46-21ba-4aa0-bb31-6c137968f5a8\",\"type\":\"Toolbar\"},\"x_range\":{\"id\":\"3ff7752b-e0e9-4d77-bd43-2a9ec89aaa05\",\"type\":\"DataRange1d\"},\"x_scale\":{\"id\":\"fbfeb454-7e66-4c1a-b45e-e9551ebb13d2\",\"type\":\"LinearScale\"},\"y_range\":{\"id\":\"92b2a7f1-1e80-4600-8e88-e7ec109bf2b2\",\"type\":\"DataRange1d\"},\"y_scale\":{\"id\":\"e9d988e3-2588-42a4-89e0-b37962353393\",\"type\":\"LinearScale\"}},\"id\":\"645c7650-04fc-4812-b9e9-dc4b60a04630\",\"subtype\":\"Figure\",\"type\":\"Plot\"},{\"attributes\":{\"callback\":null,\"column_names\":[\"x\",\"y\"],\"data\":{\"x\":{\"__ndarray__\":\"AQAAAAIAAAADAAAABAAAAAUAAAAGAAAABwAAAAgAAAAJAAAACgAAAAsAAAAMAAAADQAAAA4AAAAPAAAAEAAAABEAAAASAAAAEwAAABQAAAAVAAAA\",\"dtype\":\"int32\",\"shape\":[21]},\"y\":{\"__ndarray__\":\"MzMzMzMz0z/hehSuR+HKPzaJQWDl0MI/fybChqdXuj+MtFTejnCyP/YvEATI0Kk/LLtxnCUSoj/X0jgOm0yZP8nGJ72ftZE/TRae1RLLiD/PQoiV81qBP4hdWNEhTHg/eEEkrBcCcT+oW8y9us9nP/UMD7gCq2A/V0VIm9BVVz8jyuWfq1VQP/0aqKxW3kY/5BLceAkCQD8/5wB2QGk2P1fdmgsnYC8/\",\"dtype\":\"float64\",\"shape\":[21]}}},\"id\":\"127b416c-8378-49f8-9e34-79f76299b101\",\"type\":\"ColumnDataSource\"},{\"attributes\":{\"callback\":null},\"id\":\"3ff7752b-e0e9-4d77-bd43-2a9ec89aaa05\",\"type\":\"DataRange1d\"},{\"attributes\":{\"source\":{\"id\":\"09804a91-5551-4dc2-a96b-a2e925257320\",\"type\":\"ColumnDataSource\"}},\"id\":\"fb8e8008-6985-418f-b99f-af005b9bb858\",\"type\":\"CDSView\"},{\"attributes\":{\"plot\":null,\"text\":\"Geometric Distribution\"},\"id\":\"c1208e61-f128-4d6c-9bfb-9ccc737c422d\",\"type\":\"Title\"},{\"attributes\":{\"data_source\":{\"id\":\"09804a91-5551-4dc2-a96b-a2e925257320\",\"type\":\"ColumnDataSource\"},\"glyph\":{\"id\":\"0b48ca80-0f8c-43d5-b549-5d149f983652\",\"type\":\"Circle\"},\"hover_glyph\":null,\"muted_glyph\":null,\"nonselection_glyph\":{\"id\":\"53e4c14c-f9fb-4eae-97f4-d26a9815dbc7\",\"type\":\"Circle\"},\"selection_glyph\":null,\"view\":{\"id\":\"fb8e8008-6985-418f-b99f-af005b9bb858\",\"type\":\"CDSView\"}},\"id\":\"5eed9e7c-3d46-412c-a6cf-c116213daa64\",\"type\":\"GlyphRenderer\"},{\"attributes\":{\"active_drag\":\"auto\",\"active_inspect\":\"auto\",\"active_scroll\":\"auto\",\"active_tap\":\"auto\",\"tools\":[{\"id\":\"c2249def-0dc7-4fd0-892a-dac5327ae4cc\",\"type\":\"PanTool\"},{\"id\":\"e5b899fb-ee19-41bf-93bc-62e30a0429ec\",\"type\":\"WheelZoomTool\"},{\"id\":\"03de9a2b-0f4c-4364-bc3a-7e4bb0fafdb9\",\"type\":\"ResetTool\"},{\"id\":\"e197a1a2-445b-4104-afaa-06c5fde4b29e\",\"type\":\"SaveTool\"}]},\"id\":\"d086ee46-21ba-4aa0-bb31-6c137968f5a8\",\"type\":\"Toolbar\"},{\"attributes\":{\"fill_alpha\":{\"value\":0.1},\"fill_color\":{\"value\":\"#1f77b4\"},\"line_alpha\":{\"value\":0.1},\"line_color\":{\"value\":\"#1f77b4\"},\"size\":{\"units\":\"screen\",\"value\":7},\"x\":{\"field\":\"x\"},\"y\":{\"field\":\"y\"}},\"id\":\"53e4c14c-f9fb-4eae-97f4-d26a9815dbc7\",\"type\":\"Circle\"},{\"attributes\":{\"below\":[{\"id\":\"b79773cb-f8bb-4633-b5f2-1e5e05ceb437\",\"type\":\"LinearAxis\"}],\"left\":[{\"id\":\"caa477cb-bfa2-471f-9a3b-48ed0ae8aab2\",\"type\":\"LinearAxis\"}],\"plot_height\":300,\"plot_width\":400,\"renderers\":[{\"id\":\"b79773cb-f8bb-4633-b5f2-1e5e05ceb437\",\"type\":\"LinearAxis\"},{\"id\":\"876be692-0bd0-49db-9e30-7837e675e4ec\",\"type\":\"Grid\"},{\"id\":\"caa477cb-bfa2-471f-9a3b-48ed0ae8aab2\",\"type\":\"LinearAxis\"},{\"id\":\"277b83a7-7409-4fdc-a68e-06de959e71dc\",\"type\":\"Grid\"},{\"id\":\"8e1214e3-64d2-429f-be6a-53044f0e1489\",\"type\":\"GlyphRenderer\"},{\"id\":\"5eed9e7c-3d46-412c-a6cf-c116213daa64\",\"type\":\"GlyphRenderer\"}],\"title\":{\"id\":\"acc8102d-bd4e-4ef4-b17a-e0063717584b\",\"type\":\"Title\"},\"toolbar\":{\"id\":\"3f19bf9a-e928-404d-8bc8-84b51be007f8\",\"type\":\"Toolbar\"},\"x_range\":{\"id\":\"3ff7752b-e0e9-4d77-bd43-2a9ec89aaa05\",\"type\":\"DataRange1d\"},\"x_scale\":{\"id\":\"3d9a139d-869e-4bde-9096-9da25567b411\",\"type\":\"LinearScale\"},\"y_range\":{\"id\":\"ab3297d3-5ff3-4f6f-aa2a-357a0a36e143\",\"type\":\"Range1d\"},\"y_scale\":{\"id\":\"8860bb8b-3082-4f92-bd7c-81274cd7c2c4\",\"type\":\"LinearScale\"}},\"id\":\"0dad6226-bfff-414e-9487-b40c4948cf44\",\"subtype\":\"Figure\",\"type\":\"Plot\"},{\"attributes\":{\"children\":[{\"id\":\"645c7650-04fc-4812-b9e9-dc4b60a04630\",\"subtype\":\"Figure\",\"type\":\"Plot\"},{\"id\":\"0dad6226-bfff-414e-9487-b40c4948cf44\",\"subtype\":\"Figure\",\"type\":\"Plot\"}]},\"id\":\"cb0d3954-d129-48a1-b600-f0a6f76a4fbf\",\"type\":\"Row\"},{\"attributes\":{},\"id\":\"fbfeb454-7e66-4c1a-b45e-e9551ebb13d2\",\"type\":\"LinearScale\"},{\"attributes\":{\"callback\":null},\"id\":\"92b2a7f1-1e80-4600-8e88-e7ec109bf2b2\",\"type\":\"DataRange1d\"},{\"attributes\":{},\"id\":\"e9d988e3-2588-42a4-89e0-b37962353393\",\"type\":\"LinearScale\"},{\"attributes\":{\"plot\":{\"id\":\"645c7650-04fc-4812-b9e9-dc4b60a04630\",\"subtype\":\"Figure\",\"type\":\"Plot\"},\"ticker\":{\"id\":\"d99f2eed-633c-4b89-9ec3-d35edd0d539d\",\"type\":\"BasicTicker\"}},\"id\":\"e08ad817-277c-45b6-8ac4-b9abbd6186d0\",\"type\":\"Grid\"},{\"attributes\":{\"axis_label\":\"k\",\"formatter\":{\"id\":\"88c8da7d-7806-4132-9d6c-20b5a9b3669f\",\"type\":\"BasicTickFormatter\"},\"plot\":{\"id\":\"645c7650-04fc-4812-b9e9-dc4b60a04630\",\"subtype\":\"Figure\",\"type\":\"Plot\"},\"ticker\":{\"id\":\"d99f2eed-633c-4b89-9ec3-d35edd0d539d\",\"type\":\"BasicTicker\"}},\"id\":\"f3c720d6-2647-4070-9b8e-7f9f78b4312d\",\"type\":\"LinearAxis\"},{\"attributes\":{},\"id\":\"d99f2eed-633c-4b89-9ec3-d35edd0d539d\",\"type\":\"BasicTicker\"},{\"attributes\":{\"axis_label\":\"f(k,p)\",\"formatter\":{\"id\":\"2fc8cb90-a399-4555-86a4-c862663c59af\",\"type\":\"BasicTickFormatter\"},\"plot\":{\"id\":\"645c7650-04fc-4812-b9e9-dc4b60a04630\",\"subtype\":\"Figure\",\"type\":\"Plot\"},\"ticker\":{\"id\":\"453de0ac-db04-47d8-936b-c6ae7b9cadd5\",\"type\":\"BasicTicker\"}},\"id\":\"e0f1f831-4b83-4966-969d-55d2f89b49e1\",\"type\":\"LinearAxis\"},{\"attributes\":{},\"id\":\"453de0ac-db04-47d8-936b-c6ae7b9cadd5\",\"type\":\"BasicTicker\"},{\"attributes\":{\"dimension\":1,\"plot\":{\"id\":\"645c7650-04fc-4812-b9e9-dc4b60a04630\",\"subtype\":\"Figure\",\"type\":\"Plot\"},\"ticker\":{\"id\":\"453de0ac-db04-47d8-936b-c6ae7b9cadd5\",\"type\":\"BasicTicker\"}},\"id\":\"ecce87cd-cdab-4dad-afe7-e7cb79093040\",\"type\":\"Grid\"},{\"attributes\":{\"active_drag\":\"auto\",\"active_inspect\":\"auto\",\"active_scroll\":\"auto\",\"active_tap\":\"auto\",\"tools\":[{\"id\":\"0749ced2-a8fc-4fd6-be21-82bab9e7f506\",\"type\":\"HoverTool\"},{\"id\":\"2251be16-d339-4052-ac14-94ed60f32d04\",\"type\":\"PanTool\"},{\"id\":\"9b937986-4c86-4845-b6cd-157cf7d1ef2e\",\"type\":\"WheelZoomTool\"},{\"id\":\"078c4403-bf29-4d26-bd87-2d92f5ba9ce0\",\"type\":\"ResetTool\"},{\"id\":\"2decccf4-a54e-4100-bfcc-2328249a3b3e\",\"type\":\"SaveTool\"}]},\"id\":\"3f19bf9a-e928-404d-8bc8-84b51be007f8\",\"type\":\"Toolbar\"},{\"attributes\":{\"callback\":null,\"column_names\":[\"x0\",\"x1\",\"y1\"],\"data\":{\"x0\":{\"__ndarray__\":\"AQAAAAIAAAADAAAABAAAAAUAAAAGAAAABwAAAAgAAAAJAAAACgAAAAsAAAAMAAAADQAAAA4AAAAPAAAAEAAAABEAAAASAAAAEwAAABQAAAAVAAAA\",\"dtype\":\"int32\",\"shape\":[21]},\"x1\":{\"__ndarray__\":\"AQAAAAIAAAADAAAABAAAAAUAAAAGAAAABwAAAAgAAAAJAAAACgAAAAsAAAAMAAAADQAAAA4AAAAPAAAAEAAAABEAAAASAAAAEwAAABQAAAAVAAAA\",\"dtype\":\"int32\",\"shape\":[21]},\"y1\":{\"__ndarray__\":\"MzMzMzMz0z/hehSuR+HKPzaJQWDl0MI/fybChqdXuj+MtFTejnCyP/YvEATI0Kk/LLtxnCUSoj/X0jgOm0yZP8nGJ72ftZE/TRae1RLLiD/PQoiV81qBP4hdWNEhTHg/eEEkrBcCcT+oW8y9us9nP/UMD7gCq2A/V0VIm9BVVz8jyuWfq1VQP/0aqKxW3kY/5BLceAkCQD8/5wB2QGk2P1fdmgsnYC8/\",\"dtype\":\"float64\",\"shape\":[21]}}},\"id\":\"08138125-b3e9-4780-8e0b-8c7030924cc0\",\"type\":\"ColumnDataSource\"},{\"attributes\":{\"callback\":null,\"column_names\":[\"x0\",\"x1\",\"y1\"],\"data\":{\"x0\":{\"__ndarray__\":\"AQAAAAIAAAADAAAABAAAAAUAAAAGAAAABwAAAAgAAAAJAAAACgAAAAsAAAAMAAAADQAAAA4AAAAPAAAAEAAAABEAAAASAAAAEwAAABQAAAAVAAAA\",\"dtype\":\"int32\",\"shape\":[21]},\"x1\":{\"__ndarray__\":\"AQAAAAIAAAADAAAABAAAAAUAAAAGAAAABwAAAAgAAAAJAAAACgAAAAsAAAAMAAAADQAAAA4AAAAPAAAAEAAAABEAAAASAAAAEwAAABQAAAAVAAAA\",\"dtype\":\"int32\",\"shape\":[21]},\"y1\":{\"__ndarray__\":\"ZmZmZmZm5j/iehSuR+HKP1XjpZvEILA/mt2Th4Vakz+61hcJbTl3P+A0tteC3ls/VLnT57S4QD/MRDEW2RAkP1wfO7Q3FAg/PL8TpQ/l7D5YDD+WPFbRPgRC5U3izbQ+oLWskA/3mD5bQM/gRfV9PgSNr1OQ+WE+0kJsZOCRRT7K6YF4QOIpPlvlm5CADw8+a1Yqveai8j3nmv/iFF3WPRftZRAZ1ro9\",\"dtype\":\"float64\",\"shape\":[21]}}},\"id\":\"ecc12088-613a-4366-8167-9677f9adce38\",\"type\":\"ColumnDataSource\"},{\"attributes\":{},\"id\":\"c2249def-0dc7-4fd0-892a-dac5327ae4cc\",\"type\":\"PanTool\"},{\"attributes\":{},\"id\":\"3d9a139d-869e-4bde-9096-9da25567b411\",\"type\":\"LinearScale\"},{\"attributes\":{},\"id\":\"e5b899fb-ee19-41bf-93bc-62e30a0429ec\",\"type\":\"WheelZoomTool\"},{\"attributes\":{},\"id\":\"03de9a2b-0f4c-4364-bc3a-7e4bb0fafdb9\",\"type\":\"ResetTool\"},{\"attributes\":{},\"id\":\"e197a1a2-445b-4104-afaa-06c5fde4b29e\",\"type\":\"SaveTool\"},{\"attributes\":{\"callback\":null,\"column_names\":[\"x\",\"y\"],\"data\":{\"x\":{\"__ndarray__\":\"AQAAAAIAAAADAAAABAAAAAUAAAAGAAAABwAAAAgAAAAJAAAACgAAAAsAAAAMAAAADQAAAA4AAAAPAAAAEAAAABEAAAASAAAAEwAAABQAAAAVAAAA\",\"dtype\":\"int32\",\"shape\":[21]},\"y\":{\"__ndarray__\":\"ZmZmZmZm5j/iehSuR+HKP1XjpZvEILA/mt2Th4Vakz+61hcJbTl3P+A0tteC3ls/VLnT57S4QD/MRDEW2RAkP1wfO7Q3FAg/PL8TpQ/l7D5YDD+WPFbRPgRC5U3izbQ+oLWskA/3mD5bQM/gRfV9PgSNr1OQ+WE+0kJsZOCRRT7K6YF4QOIpPlvlm5CADw8+a1Yqveai8j3nmv/iFF3WPRftZRAZ1ro9\",\"dtype\":\"float64\",\"shape\":[21]}}},\"id\":\"d5f496ed-4022-4785-898e-bd4aa5020b10\",\"type\":\"ColumnDataSource\"},{\"attributes\":{},\"id\":\"8860bb8b-3082-4f92-bd7c-81274cd7c2c4\",\"type\":\"LinearScale\"},{\"attributes\":{\"callback\":null,\"end\":1.05,\"start\":-0.05},\"id\":\"ab3297d3-5ff3-4f6f-aa2a-357a0a36e143\",\"type\":\"Range1d\"}],\"root_ids\":[\"cb0d3954-d129-48a1-b600-f0a6f76a4fbf\"]},\"title\":\"Bokeh Application\",\"version\":\"0.12.13\"}};\n",
       "  var render_items = [{\"docid\":\"e40dd405-f330-4004-937a-99b48dc8d60c\",\"elementid\":\"6ef35a3b-6307-480e-abb9-f06a7f0a2044\",\"modelid\":\"cb0d3954-d129-48a1-b600-f0a6f76a4fbf\"}];\n",
       "  root.Bokeh.embed.embed_items_notebook(docs_json, render_items);\n",
       "\n",
       "  }\n",
       "  if (root.Bokeh !== undefined) {\n",
       "    embed_document(root);\n",
       "  } else {\n",
       "    var attempts = 0;\n",
       "    var timer = setInterval(function(root) {\n",
       "      if (root.Bokeh !== undefined) {\n",
       "        embed_document(root);\n",
       "        clearInterval(timer);\n",
       "      }\n",
       "      attempts++;\n",
       "      if (attempts > 100) {\n",
       "        console.log(\"Bokeh: ERROR: Unable to run BokehJS code because BokehJS library is missing\")\n",
       "        clearInterval(timer);\n",
       "      }\n",
       "    }, 10, root)\n",
       "  }\n",
       "})(window);"
      ],
      "application/vnd.bokehjs_exec.v0+json": ""
     },
     "metadata": {
      "application/vnd.bokehjs_exec.v0+json": {
       "id": "cb0d3954-d129-48a1-b600-f0a6f76a4fbf"
      }
     },
     "output_type": "display_data"
    }
   ],
   "source": [
    "k = np.arange(21)+1\n",
    "p1 = 0.30\n",
    "p2 = 0.70\n",
    "\n",
    "# Tools for plots\n",
    "tools='pan,wheel_zoom,reset,save'\n",
    "\n",
    "# Set up plots\n",
    "fig_1 = Figure(width=400, height=300, tools=tools, title=\"Geometric Distribution\")\n",
    "fig_2 = Figure(width=400, height=300, tools=[tools,HoverTool(tooltips=[\n",
    "                (\"\", \"$y\")\n",
    "                ])], \n",
    "               y_range=[-0.05, 1.05])\n",
    "\n",
    "fig_1.xaxis.axis_label = 'k'\n",
    "fig_1.yaxis.axis_label = 'f(k,p)' \n",
    "\n",
    "fig_2.xaxis.axis_label = 'k'\n",
    "fig_2.yaxis.axis_label = 'F(k,p)'\n",
    "\n",
    "# Figure #1\n",
    "y1 = geom.pmf(k,p1)\n",
    "fig_1.circle(k, y1, size=7, color='dodgerblue',legend=\"p=0.30\")\n",
    "fig_1.segment(x0=k, x1=k, y0=0, y1=y1, line_width=3, \n",
    "              color='dodgerblue', legend=\"p=0.30\")\n",
    "\n",
    "y2 = geom.pmf(k,p2)\n",
    "fig_1.circle(k, y2, size=7, color='red',legend=\"p=0.70\")\n",
    "fig_1.segment(x0=k, x1=k, y0=0, y1=y2, line_width=3, \n",
    "              color='red', legend=\"p=0.70\")\n",
    "\n",
    "fig_1.legend.location = \"top_right\"\n",
    "fig_1.legend.click_policy=\"hide\"\n",
    "\n",
    "#Figure #2\n",
    "y3 = geom.cdf(k,p1)\n",
    "fig_2.circle(k, y3, size=7, color='dodgerblue')\n",
    "\n",
    "y4 = geom.cdf(k,p2)\n",
    "fig_2.circle(k, y4, size=7, color='red')\n",
    "\n",
    "# Link the x-axes\n",
    "fig_1.x_range = fig_2.x_range\n",
    "\n",
    "\n",
    "show(row([fig_1, fig_2]))"
   ]
  },
  {
   "cell_type": "markdown",
   "metadata": {},
   "source": [
    "# Continuous Distribution"
   ]
  },
  {
   "cell_type": "markdown",
   "metadata": {},
   "source": [
    "## Uniform distribution\n",
    "\n",
    "$$\n",
    "\\begin{eqnarray*}\n",
    "P(X = x)  \\Leftrightarrow  f(x)  & = &\n",
    "\\begin{cases}\n",
    "               \\displaystyle \\frac{1}{b-a} \\ \\ \\ a \\leq x \\leq b\\\\\n",
    "               \\textrm{caso contrário}\n",
    "\\end{cases}\\\\\n",
    "P(X \\leq x)  \\Leftrightarrow  F(x)  & = &\n",
    "\\begin{cases}\n",
    "               0 \\ \\ \\ \\ \\ \\ \\ \\  x \\leq a\\\\\n",
    "               \\frac{x-a}{b-a} \\ \\ \\ a \\leq x \\leq b\\\\\n",
    "               1 \\ \\ \\ \\ \\ \\ \\  x \\geq b\n",
    "\\end{cases}\n",
    "\\end{eqnarray*}\n",
    "$$"
   ]
  },
  {
   "cell_type": "code",
   "execution_count": 16,
   "metadata": {},
   "outputs": [
    {
     "data": {
      "text/html": [
       "\n",
       "<div class=\"bk-root\">\n",
       "    <div class=\"bk-plotdiv\" id=\"687d38d4-3a84-499e-b8f2-a0b3079d1c58\"></div>\n",
       "</div>"
      ]
     },
     "metadata": {},
     "output_type": "display_data"
    },
    {
     "data": {
      "application/javascript": [
       "(function(root) {\n",
       "  function embed_document(root) {\n",
       "    \n",
       "  var docs_json = {\"a9f7b191-5da4-418d-a341-52d646c59e18\":{\"roots\":{\"references\":[{\"attributes\":{\"source\":{\"id\":\"46b578a3-4fb0-4f72-9eef-292bafd20671\",\"type\":\"ColumnDataSource\"}},\"id\":\"5274d7e2-cc70-4714-acd5-17e1781edc2f\",\"type\":\"CDSView\"},{\"attributes\":{\"callback\":null},\"id\":\"8ade40f7-8934-4c82-a622-937180b9570c\",\"type\":\"DataRange1d\"},{\"attributes\":{},\"id\":\"ed0ca5ac-e3fd-4c42-aac6-c6dbbac66a34\",\"type\":\"BasicTickFormatter\"},{\"attributes\":{\"below\":[{\"id\":\"eacc3398-1ee0-4da2-b2a6-e2949fe4ef44\",\"type\":\"LinearAxis\"}],\"left\":[{\"id\":\"e3250fc4-0b85-44da-8fdb-89a8233d0b64\",\"type\":\"LinearAxis\"}],\"plot_height\":300,\"plot_width\":400,\"renderers\":[{\"id\":\"eacc3398-1ee0-4da2-b2a6-e2949fe4ef44\",\"type\":\"LinearAxis\"},{\"id\":\"a9346754-b1e9-40e6-81b8-087e3cf0edb1\",\"type\":\"Grid\"},{\"id\":\"e3250fc4-0b85-44da-8fdb-89a8233d0b64\",\"type\":\"LinearAxis\"},{\"id\":\"bd00723a-dff7-482c-8eea-3f6b1e6aca79\",\"type\":\"Grid\"},{\"id\":\"4fa04ef2-8a91-4edb-9d8f-3df45b104848\",\"type\":\"Legend\"},{\"id\":\"7c549e05-e6a6-4293-bc7c-64a23ffb5a25\",\"type\":\"GlyphRenderer\"}],\"title\":{\"id\":\"ed6046ac-6298-4a3f-85bb-d43407b828f7\",\"type\":\"Title\"},\"toolbar\":{\"id\":\"70ad9f71-cf24-4df7-8c58-1e30874e8cf3\",\"type\":\"Toolbar\"},\"x_range\":{\"id\":\"cd3405dd-96dc-4f03-b102-9b920408e0d0\",\"type\":\"Range1d\"},\"x_scale\":{\"id\":\"cf68aeee-b923-4fe5-b747-1a0f000204f3\",\"type\":\"LinearScale\"},\"y_range\":{\"id\":\"f3c50b91-f2f6-43f2-a478-2ea6711dfdb4\",\"type\":\"Range1d\"},\"y_scale\":{\"id\":\"3631a3e0-4e41-4d17-9c45-0db285e1871e\",\"type\":\"LinearScale\"}},\"id\":\"cc468c92-02db-40cf-a21b-733e6d2afee1\",\"subtype\":\"Figure\",\"type\":\"Plot\"},{\"attributes\":{},\"id\":\"8e5fe1f0-42f3-4325-9144-b8ac26bd9b4c\",\"type\":\"BasicTickFormatter\"},{\"attributes\":{},\"id\":\"8c394c8f-7f74-455d-9170-9bcfe1ea2415\",\"type\":\"LinearScale\"},{\"attributes\":{\"label\":{\"value\":\"pdf\"},\"renderers\":[{\"id\":\"820a9a93-09f8-4237-9557-00d21939eac8\",\"type\":\"GlyphRenderer\"}]},\"id\":\"c308ce2d-5936-46df-b511-665ef1dfac38\",\"type\":\"LegendItem\"},{\"attributes\":{},\"id\":\"fc93542f-14da-460d-9aef-43db0b760caa\",\"type\":\"LinearScale\"},{\"attributes\":{\"line_color\":\"dodgerblue\",\"line_width\":3,\"x\":{\"field\":\"x\"},\"y\":{\"field\":\"y\"}},\"id\":\"24324500-a999-4d7f-be67-395e44379f66\",\"type\":\"Line\"},{\"attributes\":{\"plot\":{\"id\":\"88e4eab2-0687-4ed1-9691-a423ede467d8\",\"subtype\":\"Figure\",\"type\":\"Plot\"},\"ticker\":{\"id\":\"0766845c-1287-48fd-bfef-f0fa6c76cadf\",\"type\":\"BasicTicker\"}},\"id\":\"863c7fd0-b41c-4fb1-88a8-08acccb2e4db\",\"type\":\"Grid\"},{\"attributes\":{\"data_source\":{\"id\":\"09e1a7b6-71bf-4d96-ba53-4f497dab2ffe\",\"type\":\"ColumnDataSource\"},\"glyph\":{\"id\":\"24324500-a999-4d7f-be67-395e44379f66\",\"type\":\"Line\"},\"hover_glyph\":null,\"muted_glyph\":null,\"nonselection_glyph\":{\"id\":\"9cdffdff-ad14-4e64-8db3-84a9ad2f6682\",\"type\":\"Line\"},\"selection_glyph\":null,\"view\":{\"id\":\"026cb601-afe9-4f7f-8b39-c7e092194596\",\"type\":\"CDSView\"}},\"id\":\"7c549e05-e6a6-4293-bc7c-64a23ffb5a25\",\"type\":\"GlyphRenderer\"},{\"attributes\":{\"axis_label\":\"x\",\"formatter\":{\"id\":\"8e5fe1f0-42f3-4325-9144-b8ac26bd9b4c\",\"type\":\"BasicTickFormatter\"},\"plot\":{\"id\":\"88e4eab2-0687-4ed1-9691-a423ede467d8\",\"subtype\":\"Figure\",\"type\":\"Plot\"},\"ticker\":{\"id\":\"0766845c-1287-48fd-bfef-f0fa6c76cadf\",\"type\":\"BasicTicker\"}},\"id\":\"7b8ad5cc-e790-4145-b32d-7529b639d4f3\",\"type\":\"LinearAxis\"},{\"attributes\":{\"callback\":null,\"column_names\":[\"x\",\"y\"],\"data\":{\"x\":{\"__ndarray__\":\"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\",\"dtype\":\"float64\",\"shape\":[200]},\"y\":{\"__ndarray__\":\"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\",\"dtype\":\"float64\",\"shape\":[200]}}},\"id\":\"09e1a7b6-71bf-4d96-ba53-4f497dab2ffe\",\"type\":\"ColumnDataSource\"},{\"attributes\":{},\"id\":\"0766845c-1287-48fd-bfef-f0fa6c76cadf\",\"type\":\"BasicTicker\"},{\"attributes\":{\"items\":[{\"id\":\"32d96617-07ee-4525-b832-1f9f87044c16\",\"type\":\"LegendItem\"}],\"location\":\"bottom_right\",\"plot\":{\"id\":\"cc468c92-02db-40cf-a21b-733e6d2afee1\",\"subtype\":\"Figure\",\"type\":\"Plot\"}},\"id\":\"4fa04ef2-8a91-4edb-9d8f-3df45b104848\",\"type\":\"Legend\"},{\"attributes\":{\"axis_label\":\"f(x,(2,7))\",\"formatter\":{\"id\":\"ed0ca5ac-e3fd-4c42-aac6-c6dbbac66a34\",\"type\":\"BasicTickFormatter\"},\"plot\":{\"id\":\"88e4eab2-0687-4ed1-9691-a423ede467d8\",\"subtype\":\"Figure\",\"type\":\"Plot\"},\"ticker\":{\"id\":\"a827a430-c353-439f-9d6d-9210b4fc1b41\",\"type\":\"BasicTicker\"}},\"id\":\"b0db29dd-5115-47ba-904a-dbcdec8545e4\",\"type\":\"LinearAxis\"},{\"attributes\":{},\"id\":\"4871cb38-ae5a-429d-b6ca-eb5dbfc8ab6c\",\"type\":\"BasicTickFormatter\"},{\"attributes\":{},\"id\":\"a827a430-c353-439f-9d6d-9210b4fc1b41\",\"type\":\"BasicTicker\"},{\"attributes\":{\"line_alpha\":0.1,\"line_color\":\"#1f77b4\",\"line_width\":3,\"x\":{\"field\":\"x\"},\"y\":{\"field\":\"y\"}},\"id\":\"9cdffdff-ad14-4e64-8db3-84a9ad2f6682\",\"type\":\"Line\"},{\"attributes\":{\"dimension\":1,\"plot\":{\"id\":\"88e4eab2-0687-4ed1-9691-a423ede467d8\",\"subtype\":\"Figure\",\"type\":\"Plot\"},\"ticker\":{\"id\":\"a827a430-c353-439f-9d6d-9210b4fc1b41\",\"type\":\"BasicTicker\"}},\"id\":\"61281b6d-055d-41e1-afa5-31f427a35c7d\",\"type\":\"Grid\"},{\"attributes\":{\"source\":{\"id\":\"09e1a7b6-71bf-4d96-ba53-4f497dab2ffe\",\"type\":\"ColumnDataSource\"}},\"id\":\"026cb601-afe9-4f7f-8b39-c7e092194596\",\"type\":\"CDSView\"},{\"attributes\":{\"active_drag\":\"auto\",\"active_inspect\":\"auto\",\"active_scroll\":\"auto\",\"active_tap\":\"auto\",\"tools\":[{\"id\":\"22a64b53-c786-4cc9-b5da-d22160794b2b\",\"type\":\"HoverTool\"},{\"id\":\"3ac2a553-4b63-4eee-9126-8a5e5345fffb\",\"type\":\"PanTool\"},{\"id\":\"e9885302-41b6-4c46-8a76-83c90ff54610\",\"type\":\"WheelZoomTool\"},{\"id\":\"9bd17fdd-20da-40a4-86c3-7c9836da3c0b\",\"type\":\"ResetTool\"},{\"id\":\"1ba39438-ce13-441e-afc1-93f0e5d1bbe4\",\"type\":\"SaveTool\"}]},\"id\":\"70ad9f71-cf24-4df7-8c58-1e30874e8cf3\",\"type\":\"Toolbar\"},{\"attributes\":{\"plot\":null,\"text\":\"\"},\"id\":\"ed6046ac-6298-4a3f-85bb-d43407b828f7\",\"type\":\"Title\"},{\"attributes\":{},\"id\":\"0ff1d045-74c7-4ff4-9619-e1c8ce630e93\",\"type\":\"BasicTickFormatter\"},{\"attributes\":{},\"id\":\"3631a3e0-4e41-4d17-9c45-0db285e1871e\",\"type\":\"LinearScale\"},{\"attributes\":{\"label\":{\"value\":\"cdf\"},\"renderers\":[{\"id\":\"7c549e05-e6a6-4293-bc7c-64a23ffb5a25\",\"type\":\"GlyphRenderer\"}]},\"id\":\"32d96617-07ee-4525-b832-1f9f87044c16\",\"type\":\"LegendItem\"},{\"attributes\":{},\"id\":\"cf789ead-4f30-43a2-b988-9aa17545804a\",\"type\":\"PanTool\"},{\"attributes\":{\"callback\":null,\"column_names\":[\"x\",\"y\"],\"data\":{\"x\":{\"__ndarray__\":\"AAAAAAAAAACBhJ9ciLq5P4GEn1yIusk/YaN3ReZL0z+BhJ9ciLrZP9Gy4zmVFOA/YaN3ReZL4z/xkwtRN4PmP4GEn1yIuuk/EXUzaNnx7D/RsuM5lRTwPxmrrb89sPE/YaN3ReZL8z+pm0HLjuf0P/GTC1E3g/Y/OYzV1t8e+D+BhJ9ciLr5P8l8aeIwVvs/EXUzaNnx/D9Zbf3tgY3+P9Gy4zmVFABA9a7IfGniAEAZq62/PbABQD2nkgISfgJAYaN3ReZLA0CFn1yIuhkEQKmbQcuO5wRAzZcmDmO1BUDxkwtRN4MGQBWQ8JMLUQdAOYzV1t8eCEBdiLoZtOwIQIGEn1yIuglApYCEn1yICkDJfGniMFYLQO14TiUFJAxAEXUzaNnxDEA1cRirrb8NQFlt/e2BjQ5AfWniMFZbD0DRsuM5lRQQQOMwVlt/exBA9a7IfGniEEAHLTueU0kRQBmrrb89sBFAKykg4ScXEkA9p5ICEn4SQE8lBST85BJAYaN3ReZLE0BzIepm0LITQIWfXIi6GRRAlx3PqaSAFECpm0HLjucUQLsZtOx4ThVAzZcmDmO1FUDfFZkvTRwWQPGTC1E3gxZAAxJ+ciHqFkAVkPCTC1EXQCcOY7X1txdAOYzV1t8eGEBLCkj4yYUYQF2Iuhm07BhAbwYtO55TGUCBhJ9ciLoZQJMCEn5yIRpApYCEn1yIGkC3/vbARu8aQMl8aeIwVhtA2/rbAxu9G0DteE4lBSQcQP/2wEbvihxAEXUzaNnxHEAj86WJw1gdQDVxGKutvx1AR++KzJcmHkBZbf3tgY0eQGvrbw9s9B5AfWniMFZbH0CP51RSQMIfQNGy4zmVFCBA2vGcSgpIIEDjMFZbf3sgQOxvD2z0riBA9a7IfGniIED+7YGN3hUhQActO55TSSFAEGz0rsh8IUAZq62/PbAhQCLqZtCy4yFAKykg4ScXIkA0aNnxnEoiQD2nkgISfiJARuZLE4exIkBPJQUk/OQiQFhkvjRxGCNAYaN3ReZLI0Bq4jBWW38jQHMh6mbQsiNAfGCjd0XmI0CFn1yIuhkkQI7eFZkvTSRAlx3PqaSAJECgXIi6GbQkQKmbQcuO5yRAstr62wMbJUC7GbTseE4lQMRYbf3tgSVAzZcmDmO1JUDW1t8e2OglQN8VmS9NHCZA6FRSQMJPJkDxkwtRN4MmQPrSxGGstiZAAxJ+ciHqJkAMUTeDlh0nQBWQ8JMLUSdAHs+ppICEJ0AnDmO19bcnQDBNHMZq6ydAOYzV1t8eKEBCy47nVFIoQEsKSPjJhShAVEkBCT+5KEBdiLoZtOwoQGbHcyopIClAbwYtO55TKUB4ReZLE4cpQIGEn1yIuilAisNYbf3tKUCTAhJ+ciEqQJxBy47nVCpApYCEn1yIKkCuvz2w0bsqQLf+9sBG7ypAwD2w0bsiK0DJfGniMFYrQNK7IvOliStA2/rbAxu9K0DkOZUUkPArQO14TiUFJCxA9rcHNnpXLED/9sBG74osQAg2eldkvixAEXUzaNnxLEAatOx4TiUtQCPzpYnDWC1ALDJfmjiMLUA1cRirrb8tQD6w0bsi8y1AR++KzJcmLkBQLkTdDFouQFlt/e2BjS5AYqy2/vbALkBr628PbPQuQHQqKSDhJy9AfWniMFZbL0CGqJtBy44vQI/nVFJAwi9AmCYOY7X1L0DRsuM5lRQwQFVSQMJPLjBA2vGcSgpIMEBekfnSxGEwQOMwVlt/ezBAZ9Cy4zmVMEDsbw9s9K4wQHAPbPSuyDBA9a7IfGniMEB5TiUFJPwwQP7tgY3eFTFAgo3eFZkvMUAHLTueU0kxQIvMlyYOYzFAEGz0rsh8MUCUC1E3g5YxQBmrrb89sDFAnUoKSPjJMUAi6mbQsuMxQKaJw1ht/TFAKykg4ScXMkCvyHxp4jAyQDRo2fGcSjJAuAc2eldkMkA9p5ICEn4yQMFG74rMlzJARuZLE4exMkDKhaibQcsyQE8lBST85DJA08RhrLb+MkBYZL40cRgzQNwDG70rMjNAYaN3ReZLM0DlQtTNoGUzQGriMFZbfzNA7oGN3hWZM0BzIepm0LIzQPfARu+KzDNAfGCjd0XmM0AAAAAAAAA0QA==\",\"dtype\":\"float64\",\"shape\":[200]},\"y\":{\"__ndarray__\":\"AAAAAAAAAAAAAAAAAAAAAAAAAAAAAAAAAAAAAAAAAAAAAAAAAAAAAAAAAAAAAAAAAAAAAAAAAAAAAAAAAAAAAAAAAAAAAAAAAAAAAAAAAAAAAAAAAAAAAAAAAAAAAAAAAAAAAAAAAAAAAAAAAAAAAAAAAAAAAAAAAAAAAAAAAAAAAAAAAAAAAAAAAAAAAAAAAAAAAAAAAAAAAAAAAAAAAJqZmZmZmck/mpmZmZmZyT+amZmZmZnJP5qZmZmZmck/mpmZmZmZyT+amZmZmZnJP5qZmZmZmck/mpmZmZmZyT+amZmZmZnJP5qZmZmZmck/mpmZmZmZyT+amZmZmZnJP5qZmZmZmck/mpmZmZmZyT+amZmZmZnJP5qZmZmZmck/mpmZmZmZyT+amZmZmZnJP5qZmZmZmck/mpmZmZmZyT+amZmZmZnJP5qZmZmZmck/mpmZmZmZyT+amZmZmZnJP5qZmZmZmck/mpmZmZmZyT+amZmZmZnJP5qZmZmZmck/mpmZmZmZyT+amZmZmZnJP5qZmZmZmck/mpmZmZmZyT+amZmZmZnJP5qZmZmZmck/mpmZmZmZyT+amZmZmZnJP5qZmZmZmck/mpmZmZmZyT+amZmZmZnJP5qZmZmZmck/mpmZmZmZyT+amZmZmZnJP5qZmZmZmck/mpmZmZmZyT+amZmZmZnJP5qZmZmZmck/mpmZmZmZyT+amZmZmZnJP5qZmZmZmck/mpmZmZmZyT8AAAAAAAAAAAAAAAAAAAAAAAAAAAAAAAAAAAAAAAAAAAAAAAAAAAAAAAAAAAAAAAAAAAAAAAAAAAAAAAAAAAAAAAAAAAAAAAAAAAAAAAAAAAAAAAAAAAAAAAAAAAAAAAAAAAAAAAAAAAAAAAAAAAAAAAAAAAAAAAAAAAAAAAAAAAAAAAAAAAAAAAAAAAAAAAAAAAAAAAAAAAAAAAAAAAAAAAAAAAAAAAAAAAAAAAAAAAAAAAAAAAAAAAAAAAAAAAAAAAAAAAAAAAAAAAAAAAAAAAAAAAAAAAAAAAAAAAAAAAAAAAAAAAAAAAAAAAAAAAAAAAAAAAAAAAAAAAAAAAAAAAAAAAAAAAAAAAAAAAAAAAAAAAAAAAAAAAAAAAAAAAAAAAAAAAAAAAAAAAAAAAAAAAAAAAAAAAAAAAAAAAAAAAAAAAAAAAAAAAAAAAAAAAAAAAAAAAAAAAAAAAAAAAAAAAAAAAAAAAAAAAAAAAAAAAAAAAAAAAAAAAAAAAAAAAAAAAAAAAAAAAAAAAAAAAAAAAAAAAAAAAAAAAAAAAAAAAAAAAAAAAAAAAAAAAAAAAAAAAAAAAAAAAAAAAAAAAAAAAAAAAAAAAAAAAAAAAAAAAAAAAAAAAAAAAAAAAAAAAAAAAAAAAAAAAAAAAAAAAAAAAAAAAAAAAAAAAAAAAAAAAAAAAAAAAAAAAAAAAAAAAAAAAAAAAAAAAAAAAAAAAAAAAAAAAAAAAAAAAAAAAAAAAAAAAAAAAAAAAAAAAAAAAAAAAAAAAAAAAAAAAAAAAAAAAAAAAAAAAAAAAAAAAAAAAAAAAAAAAAAAAAAAAAAAAAAAAAAAAAAAAAAAAAAAAAAAAAAAAAAAAAAAAAAAAAAAAAAAAAAAAAAAAAAAAAAAAAAAAAAAAAAAAAAAAAAAAAAAAAAAAAAAAAAAAAAAAAAAAAAAAAAAAAAAAAAAAAAAAAAAAAAAAAAAAAAAAAAAAAAAAAAAAAAAAAAAAAAAAAAAAAAAAAAAAAAAAAAAAAAAAAAAAAAAAAAAAAAAAAAAAAAAAAAAAAAAAAAAAAAAAAAAAAAAAAAAAAAAAAAAAAAAAAAAAAAAAAAAAAAAAAAAAAAAAAAAAAAAAAAAAAAAAAAAAAAAAAAAAAAAAAAAAAAAAAAAAAAAAAAAAAAAAAAAAAAAAAAAAAAAAAAAAAAAAAAAAAAAAAAAAAAAAAAAAAAAAAAAAAAAAAAAAAAAAAAAAAAAAAAAAAAAAAAAAAAAAAAAAAAAAAAAAAAAAAAAAAAAAAAAAAAAAAAAAAAAAAAAAAAAAAAAAAAAAAAAAAAAAAAAAAAAAAAAAAAAAAAAAAAAAAAAAAAAAAAAAAAAAAAAAAAAAAAAAAAAAAAAAAAAAAAAA==\",\"dtype\":\"float64\",\"shape\":[200]}}},\"id\":\"46b578a3-4fb0-4f72-9eef-292bafd20671\",\"type\":\"ColumnDataSource\"},{\"attributes\":{},\"id\":\"7ecae486-4b9d-4fcd-942c-39947f4242a1\",\"type\":\"WheelZoomTool\"},{\"attributes\":{},\"id\":\"988c8e38-411c-442a-b1f2-f5be2b2dd247\",\"type\":\"ResetTool\"},{\"attributes\":{},\"id\":\"800cfe9f-2e69-47ee-b004-dab1f638162f\",\"type\":\"SaveTool\"},{\"attributes\":{\"callback\":null,\"end\":20},\"id\":\"cd3405dd-96dc-4f03-b102-9b920408e0d0\",\"type\":\"Range1d\"},{\"attributes\":{\"callback\":null,\"end\":1.05,\"start\":-0.05},\"id\":\"f3c50b91-f2f6-43f2-a478-2ea6711dfdb4\",\"type\":\"Range1d\"},{\"attributes\":{},\"id\":\"cf68aeee-b923-4fe5-b747-1a0f000204f3\",\"type\":\"LinearScale\"},{\"attributes\":{\"plot\":{\"id\":\"cc468c92-02db-40cf-a21b-733e6d2afee1\",\"subtype\":\"Figure\",\"type\":\"Plot\"},\"ticker\":{\"id\":\"055cc9be-2ed2-4c2e-8f51-765b1f7d7da6\",\"type\":\"BasicTicker\"}},\"id\":\"a9346754-b1e9-40e6-81b8-087e3cf0edb1\",\"type\":\"Grid\"},{\"attributes\":{\"axis_label\":\"x\",\"formatter\":{\"id\":\"4871cb38-ae5a-429d-b6ca-eb5dbfc8ab6c\",\"type\":\"BasicTickFormatter\"},\"plot\":{\"id\":\"cc468c92-02db-40cf-a21b-733e6d2afee1\",\"subtype\":\"Figure\",\"type\":\"Plot\"},\"ticker\":{\"id\":\"055cc9be-2ed2-4c2e-8f51-765b1f7d7da6\",\"type\":\"BasicTicker\"}},\"id\":\"eacc3398-1ee0-4da2-b2a6-e2949fe4ef44\",\"type\":\"LinearAxis\"},{\"attributes\":{},\"id\":\"055cc9be-2ed2-4c2e-8f51-765b1f7d7da6\",\"type\":\"BasicTicker\"},{\"attributes\":{\"axis_label\":\"F(x,(2,7))\",\"formatter\":{\"id\":\"0ff1d045-74c7-4ff4-9619-e1c8ce630e93\",\"type\":\"BasicTickFormatter\"},\"plot\":{\"id\":\"cc468c92-02db-40cf-a21b-733e6d2afee1\",\"subtype\":\"Figure\",\"type\":\"Plot\"},\"ticker\":{\"id\":\"93fc09e8-1f91-4c64-a25c-2365fb88691a\",\"type\":\"BasicTicker\"}},\"id\":\"e3250fc4-0b85-44da-8fdb-89a8233d0b64\",\"type\":\"LinearAxis\"},{\"attributes\":{},\"id\":\"93fc09e8-1f91-4c64-a25c-2365fb88691a\",\"type\":\"BasicTicker\"},{\"attributes\":{\"dimension\":1,\"plot\":{\"id\":\"cc468c92-02db-40cf-a21b-733e6d2afee1\",\"subtype\":\"Figure\",\"type\":\"Plot\"},\"ticker\":{\"id\":\"93fc09e8-1f91-4c64-a25c-2365fb88691a\",\"type\":\"BasicTicker\"}},\"id\":\"bd00723a-dff7-482c-8eea-3f6b1e6aca79\",\"type\":\"Grid\"},{\"attributes\":{\"click_policy\":\"hide\",\"items\":[{\"id\":\"c308ce2d-5936-46df-b511-665ef1dfac38\",\"type\":\"LegendItem\"}],\"plot\":{\"id\":\"88e4eab2-0687-4ed1-9691-a423ede467d8\",\"subtype\":\"Figure\",\"type\":\"Plot\"}},\"id\":\"55a303a0-6586-4f09-9cdd-6023172a8944\",\"type\":\"Legend\"},{\"attributes\":{\"below\":[{\"id\":\"7b8ad5cc-e790-4145-b32d-7529b639d4f3\",\"type\":\"LinearAxis\"}],\"left\":[{\"id\":\"b0db29dd-5115-47ba-904a-dbcdec8545e4\",\"type\":\"LinearAxis\"}],\"plot_height\":300,\"plot_width\":400,\"renderers\":[{\"id\":\"7b8ad5cc-e790-4145-b32d-7529b639d4f3\",\"type\":\"LinearAxis\"},{\"id\":\"863c7fd0-b41c-4fb1-88a8-08acccb2e4db\",\"type\":\"Grid\"},{\"id\":\"b0db29dd-5115-47ba-904a-dbcdec8545e4\",\"type\":\"LinearAxis\"},{\"id\":\"61281b6d-055d-41e1-afa5-31f427a35c7d\",\"type\":\"Grid\"},{\"id\":\"55a303a0-6586-4f09-9cdd-6023172a8944\",\"type\":\"Legend\"},{\"id\":\"820a9a93-09f8-4237-9557-00d21939eac8\",\"type\":\"GlyphRenderer\"}],\"title\":{\"id\":\"99cb7114-d7ad-458d-a284-b1b6cb857aac\",\"type\":\"Title\"},\"toolbar\":{\"id\":\"c70843cf-6ba2-4dab-a09d-44f4d9a3b10e\",\"type\":\"Toolbar\"},\"x_range\":{\"id\":\"4775aca9-c44b-4100-b1b7-bb8fbf1a8209\",\"type\":\"Range1d\"},\"x_scale\":{\"id\":\"8c394c8f-7f74-455d-9170-9bcfe1ea2415\",\"type\":\"LinearScale\"},\"y_range\":{\"id\":\"8ade40f7-8934-4c82-a622-937180b9570c\",\"type\":\"DataRange1d\"},\"y_scale\":{\"id\":\"fc93542f-14da-460d-9aef-43db0b760caa\",\"type\":\"LinearScale\"}},\"id\":\"88e4eab2-0687-4ed1-9691-a423ede467d8\",\"subtype\":\"Figure\",\"type\":\"Plot\"},{\"attributes\":{\"data_source\":{\"id\":\"46b578a3-4fb0-4f72-9eef-292bafd20671\",\"type\":\"ColumnDataSource\"},\"glyph\":{\"id\":\"2c200dd9-39ac-435a-ae73-fa8883a8da51\",\"type\":\"Line\"},\"hover_glyph\":null,\"muted_glyph\":null,\"nonselection_glyph\":{\"id\":\"d865a956-0333-41d9-83f4-49ea8725857a\",\"type\":\"Line\"},\"selection_glyph\":null,\"view\":{\"id\":\"5274d7e2-cc70-4714-acd5-17e1781edc2f\",\"type\":\"CDSView\"}},\"id\":\"820a9a93-09f8-4237-9557-00d21939eac8\",\"type\":\"GlyphRenderer\"},{\"attributes\":{\"children\":[{\"id\":\"88e4eab2-0687-4ed1-9691-a423ede467d8\",\"subtype\":\"Figure\",\"type\":\"Plot\"},{\"id\":\"cc468c92-02db-40cf-a21b-733e6d2afee1\",\"subtype\":\"Figure\",\"type\":\"Plot\"}]},\"id\":\"2f412030-3296-4a85-a456-ffbff23a28c3\",\"type\":\"Row\"},{\"attributes\":{},\"id\":\"3ac2a553-4b63-4eee-9126-8a5e5345fffb\",\"type\":\"PanTool\"},{\"attributes\":{\"callback\":null,\"tooltips\":[[\"\",\"$y\"]]},\"id\":\"8bfa1513-3940-475f-896b-e8c7a147c51c\",\"type\":\"HoverTool\"},{\"attributes\":{\"line_alpha\":0.1,\"line_color\":\"#1f77b4\",\"line_width\":3,\"x\":{\"field\":\"x\"},\"y\":{\"field\":\"y\"}},\"id\":\"d865a956-0333-41d9-83f4-49ea8725857a\",\"type\":\"Line\"},{\"attributes\":{\"plot\":null,\"text\":\"Uniform Distribution\"},\"id\":\"99cb7114-d7ad-458d-a284-b1b6cb857aac\",\"type\":\"Title\"},{\"attributes\":{},\"id\":\"e9885302-41b6-4c46-8a76-83c90ff54610\",\"type\":\"WheelZoomTool\"},{\"attributes\":{\"callback\":null,\"tooltips\":[[\"\",\"$y\"]]},\"id\":\"22a64b53-c786-4cc9-b5da-d22160794b2b\",\"type\":\"HoverTool\"},{\"attributes\":{},\"id\":\"9bd17fdd-20da-40a4-86c3-7c9836da3c0b\",\"type\":\"ResetTool\"},{\"attributes\":{\"callback\":null,\"end\":20},\"id\":\"4775aca9-c44b-4100-b1b7-bb8fbf1a8209\",\"type\":\"Range1d\"},{\"attributes\":{},\"id\":\"1ba39438-ce13-441e-afc1-93f0e5d1bbe4\",\"type\":\"SaveTool\"},{\"attributes\":{\"active_drag\":\"auto\",\"active_inspect\":\"auto\",\"active_scroll\":\"auto\",\"active_tap\":\"auto\",\"tools\":[{\"id\":\"8bfa1513-3940-475f-896b-e8c7a147c51c\",\"type\":\"HoverTool\"},{\"id\":\"cf789ead-4f30-43a2-b988-9aa17545804a\",\"type\":\"PanTool\"},{\"id\":\"7ecae486-4b9d-4fcd-942c-39947f4242a1\",\"type\":\"WheelZoomTool\"},{\"id\":\"988c8e38-411c-442a-b1f2-f5be2b2dd247\",\"type\":\"ResetTool\"},{\"id\":\"800cfe9f-2e69-47ee-b004-dab1f638162f\",\"type\":\"SaveTool\"}]},\"id\":\"c70843cf-6ba2-4dab-a09d-44f4d9a3b10e\",\"type\":\"Toolbar\"},{\"attributes\":{\"line_color\":\"dodgerblue\",\"line_width\":3,\"x\":{\"field\":\"x\"},\"y\":{\"field\":\"y\"}},\"id\":\"2c200dd9-39ac-435a-ae73-fa8883a8da51\",\"type\":\"Line\"}],\"root_ids\":[\"2f412030-3296-4a85-a456-ffbff23a28c3\"]},\"title\":\"Bokeh Application\",\"version\":\"0.12.13\"}};\n",
       "  var render_items = [{\"docid\":\"a9f7b191-5da4-418d-a341-52d646c59e18\",\"elementid\":\"687d38d4-3a84-499e-b8f2-a0b3079d1c58\",\"modelid\":\"2f412030-3296-4a85-a456-ffbff23a28c3\"}];\n",
       "  root.Bokeh.embed.embed_items_notebook(docs_json, render_items);\n",
       "\n",
       "  }\n",
       "  if (root.Bokeh !== undefined) {\n",
       "    embed_document(root);\n",
       "  } else {\n",
       "    var attempts = 0;\n",
       "    var timer = setInterval(function(root) {\n",
       "      if (root.Bokeh !== undefined) {\n",
       "        embed_document(root);\n",
       "        clearInterval(timer);\n",
       "      }\n",
       "      attempts++;\n",
       "      if (attempts > 100) {\n",
       "        console.log(\"Bokeh: ERROR: Unable to run BokehJS code because BokehJS library is missing\")\n",
       "        clearInterval(timer);\n",
       "      }\n",
       "    }, 10, root)\n",
       "  }\n",
       "})(window);"
      ],
      "application/vnd.bokehjs_exec.v0+json": ""
     },
     "metadata": {
      "application/vnd.bokehjs_exec.v0+json": {
       "id": "2f412030-3296-4a85-a456-ffbff23a28c3"
      }
     },
     "output_type": "display_data"
    }
   ],
   "source": [
    "from scipy.stats import uniform\n",
    "\n",
    "x = np.linspace(0, 20, 200)\n",
    "\n",
    "# Tools for plots\n",
    "tools='pan,wheel_zoom,reset,save'\n",
    "\n",
    "# Set up plots\n",
    "fig_1 = Figure(width=400, height=300, tools=[tools,HoverTool(tooltips=[\n",
    "                (\"\", \"$y\")\n",
    "                ])], title=\"Uniform Distribution\",x_range=(0, 20))\n",
    "fig_2 = Figure(width=400, height=300, tools=[tools,HoverTool(tooltips=[\n",
    "                (\"\", \"$y\")\n",
    "                ])], \n",
    "               y_range=[-0.05, 1.05],x_range=(0, 20))\n",
    "\n",
    "fig_1.xaxis.axis_label = 'x'\n",
    "fig_1.yaxis.axis_label = 'f(x,(2,7))' \n",
    "\n",
    "fig_2.xaxis.axis_label = 'x'\n",
    "fig_2.yaxis.axis_label = 'F(x,(2,7))'\n",
    "\n",
    "# Figure #1\n",
    "y1 = uniform.pdf(x,2,5)\n",
    "fig_1.line(x, y1, line_width=3, color='dodgerblue',legend=\"pdf\")\n",
    "\n",
    "fig_1.legend.location = \"top_right\"\n",
    "fig_1.legend.click_policy=\"hide\"\n",
    "\n",
    "#Figure #2\n",
    "y2 = uniform.cdf(x,2,5)\n",
    "fig_2.line(x, y2, line_width=3, color='dodgerblue',legend=\"cdf\")\n",
    "fig_2.legend.location = \"bottom_right\"\n",
    "\n",
    "show(row([fig_1, fig_2]))"
   ]
  },
  {
   "cell_type": "markdown",
   "metadata": {},
   "source": [
    "## Exponential Distribution"
   ]
  },
  {
   "cell_type": "markdown",
   "metadata": {},
   "source": [
    "$$\n",
    "\\begin{eqnarray*}\n",
    "P(X = x)  \\Leftrightarrow  f(x,\\lambda)  & = &\n",
    "\\begin{cases}\n",
    "               \\displaystyle \\lambda e^{-\\lambda x} \\ \\ \\ x \\geq 0\\\\\n",
    "               0 \\ \\ \\ \\textrm{caso contrário}\n",
    "\\end{cases}\\\\\n",
    "P(X \\leq x)  \\Leftrightarrow  F(x,\\lambda)  & = &\n",
    "\\begin{cases}\n",
    "               1 - e^{-\\lambda x} \\ \\ \\  x \\geq 0\\\\ \n",
    "               0 \\ \\ \\ \\textrm{caso contrário}\n",
    "\\end{cases}\n",
    "\\end{eqnarray*}\n",
    "$$"
   ]
  },
  {
   "cell_type": "code",
   "execution_count": 17,
   "metadata": {},
   "outputs": [
    {
     "data": {
      "text/html": [
       "\n",
       "<div class=\"bk-root\">\n",
       "    <div class=\"bk-plotdiv\" id=\"c7cf0dc1-ab90-4033-b05e-c6c3cee5d472\"></div>\n",
       "</div>"
      ]
     },
     "metadata": {},
     "output_type": "display_data"
    },
    {
     "data": {
      "application/javascript": [
       "(function(root) {\n",
       "  function embed_document(root) {\n",
       "    \n",
       "  var docs_json = {\"9fe18b1c-7aeb-4609-869e-edff269200ae\":{\"roots\":{\"references\":[{\"attributes\":{\"below\":[{\"id\":\"268bc0e6-b64e-41a2-af68-678d8ed7ee66\",\"type\":\"LinearAxis\"}],\"left\":[{\"id\":\"1ce4f996-a7b1-44f2-9117-4ea7f0a27215\",\"type\":\"LinearAxis\"}],\"plot_height\":300,\"plot_width\":400,\"renderers\":[{\"id\":\"268bc0e6-b64e-41a2-af68-678d8ed7ee66\",\"type\":\"LinearAxis\"},{\"id\":\"c83278a4-99ad-4a34-ac08-ff423a097817\",\"type\":\"Grid\"},{\"id\":\"1ce4f996-a7b1-44f2-9117-4ea7f0a27215\",\"type\":\"LinearAxis\"},{\"id\":\"1ed12807-7c6e-439e-8c88-c4c3ed255f41\",\"type\":\"Grid\"},{\"id\":\"764b8537-a694-4bb1-9160-2b1dd1624599\",\"type\":\"Legend\"},{\"id\":\"4a60f98e-8eac-4192-9b5d-4d0ca32c5518\",\"type\":\"GlyphRenderer\"},{\"id\":\"72b40bcc-e8e9-4c76-9006-0d664c6a250e\",\"type\":\"GlyphRenderer\"},{\"id\":\"6bc032c7-1437-481b-b8d5-26d37f50de14\",\"type\":\"GlyphRenderer\"}],\"title\":{\"id\":\"56a60a31-2c12-424d-be01-abc4250dbbaf\",\"type\":\"Title\"},\"toolbar\":{\"id\":\"e0007655-886c-4453-9266-8cd324e97617\",\"type\":\"Toolbar\"},\"x_range\":{\"id\":\"120e415b-d725-4166-8385-893d54d90708\",\"type\":\"DataRange1d\"},\"x_scale\":{\"id\":\"d29b5eb6-6387-4044-bb59-c4473e959e16\",\"type\":\"LinearScale\"},\"y_range\":{\"id\":\"aba48da1-8ce0-49e0-91bf-2bf925525d84\",\"type\":\"DataRange1d\"},\"y_scale\":{\"id\":\"f1ee5e56-b09a-4442-9d5c-1d68834864b8\",\"type\":\"LinearScale\"}},\"id\":\"1b0314c2-5787-445d-9638-302c2dc0f0c2\",\"subtype\":\"Figure\",\"type\":\"Plot\"},{\"attributes\":{\"active_drag\":\"auto\",\"active_inspect\":\"auto\",\"active_scroll\":\"auto\",\"active_tap\":\"auto\",\"tools\":[{\"id\":\"7a3d8ad4-28d1-4b74-b1ee-d4242c4bf7d8\",\"type\":\"HoverTool\"},{\"id\":\"7fed9b53-fc69-4550-b28d-e53cf63b3e42\",\"type\":\"PanTool\"},{\"id\":\"ee929df6-2363-444a-82a7-9b43dc98e9f5\",\"type\":\"WheelZoomTool\"},{\"id\":\"d45facb6-1884-415f-9067-c7353f6aee6e\",\"type\":\"ResetTool\"},{\"id\":\"a809d306-525d-4068-8c11-52c9503749ab\",\"type\":\"SaveTool\"}]},\"id\":\"60472554-7141-4b90-ac56-165597648503\",\"type\":\"Toolbar\"},{\"attributes\":{\"callback\":null,\"tooltips\":[[\"\",\"($x,$y)\"]]},\"id\":\"7a3d8ad4-28d1-4b74-b1ee-d4242c4bf7d8\",\"type\":\"HoverTool\"},{\"attributes\":{\"label\":{\"value\":\"\\u03bb=0.0001\"},\"renderers\":[{\"id\":\"9b7de02b-eba1-412d-970e-d11ae14b731f\",\"type\":\"GlyphRenderer\"}]},\"id\":\"4f973198-a763-416d-a9b0-d06ad7a46bac\",\"type\":\"LegendItem\"},{\"attributes\":{\"plot\":null,\"text\":\"Exponential Distribution\"},\"id\":\"56a60a31-2c12-424d-be01-abc4250dbbaf\",\"type\":\"Title\"},{\"attributes\":{\"line_alpha\":0.1,\"line_color\":\"#1f77b4\",\"line_width\":3,\"x\":{\"field\":\"x\"},\"y\":{\"field\":\"y\"}},\"id\":\"a0b7e7fa-2c8b-4a34-974a-bf7c5d4d20d6\",\"type\":\"Line\"},{\"attributes\":{\"children\":[{\"id\":\"1b0314c2-5787-445d-9638-302c2dc0f0c2\",\"subtype\":\"Figure\",\"type\":\"Plot\"},{\"id\":\"8f3c131a-cad1-44c6-8b60-1ef1d062e7ad\",\"subtype\":\"Figure\",\"type\":\"Plot\"}]},\"id\":\"b60e7da5-39a1-44aa-a810-c2889540e969\",\"type\":\"Row\"},{\"attributes\":{\"callback\":null,\"tooltips\":[[\"\",\"($x,$y)\"]]},\"id\":\"fd30f3d3-edfa-4bc2-9c03-a45386748147\",\"type\":\"HoverTool\"},{\"attributes\":{\"callback\":null},\"id\":\"120e415b-d725-4166-8385-893d54d90708\",\"type\":\"DataRange1d\"},{\"attributes\":{\"line_color\":\"green\",\"line_width\":3,\"x\":{\"field\":\"x\"},\"y\":{\"field\":\"y\"}},\"id\":\"774260b6-4026-4ceb-ad55-837d0ef74835\",\"type\":\"Line\"},{\"attributes\":{\"active_drag\":\"auto\",\"active_inspect\":\"auto\",\"active_scroll\":\"auto\",\"active_tap\":\"auto\",\"tools\":[{\"id\":\"fd30f3d3-edfa-4bc2-9c03-a45386748147\",\"type\":\"HoverTool\"},{\"id\":\"223ea9e5-0db4-4f0d-8649-0251c3d55c83\",\"type\":\"PanTool\"},{\"id\":\"072bbf57-d401-45c8-9966-48257ea1fe75\",\"type\":\"WheelZoomTool\"},{\"id\":\"d91b8a80-cdeb-424e-9df1-861803c8c273\",\"type\":\"ResetTool\"},{\"id\":\"7e9ce702-7f82-4d69-988b-2895619ba04c\",\"type\":\"SaveTool\"}]},\"id\":\"e0007655-886c-4453-9266-8cd324e97617\",\"type\":\"Toolbar\"},{\"attributes\":{\"data_source\":{\"id\":\"43a4a2ea-d639-45b1-9a71-f50a2b5d3e91\",\"type\":\"ColumnDataSource\"},\"glyph\":{\"id\":\"774260b6-4026-4ceb-ad55-837d0ef74835\",\"type\":\"Line\"},\"hover_glyph\":null,\"muted_glyph\":null,\"nonselection_glyph\":{\"id\":\"a0b7e7fa-2c8b-4a34-974a-bf7c5d4d20d6\",\"type\":\"Line\"},\"selection_glyph\":null,\"view\":{\"id\":\"5b49909d-d5a6-4b80-8eb7-a7f5485b1fef\",\"type\":\"CDSView\"}},\"id\":\"7321a406-ada3-419e-90e1-f6dc945f2f1a\",\"type\":\"GlyphRenderer\"},{\"attributes\":{\"line_alpha\":0.1,\"line_color\":\"#1f77b4\",\"line_width\":3,\"x\":{\"field\":\"x\"},\"y\":{\"field\":\"y\"}},\"id\":\"4c6c04fc-0251-4e03-861f-7592892ca90f\",\"type\":\"Line\"},{\"attributes\":{\"source\":{\"id\":\"43a4a2ea-d639-45b1-9a71-f50a2b5d3e91\",\"type\":\"ColumnDataSource\"}},\"id\":\"5b49909d-d5a6-4b80-8eb7-a7f5485b1fef\",\"type\":\"CDSView\"},{\"attributes\":{\"callback\":null},\"id\":\"aba48da1-8ce0-49e0-91bf-2bf925525d84\",\"type\":\"DataRange1d\"},{\"attributes\":{\"label\":{\"value\":\"\\u03bb=0.0002\"},\"renderers\":[{\"id\":\"7321a406-ada3-419e-90e1-f6dc945f2f1a\",\"type\":\"GlyphRenderer\"}]},\"id\":\"e6e8ed48-f33f-449c-a4ed-194b65d667d4\",\"type\":\"LegendItem\"},{\"attributes\":{},\"id\":\"d29b5eb6-6387-4044-bb59-c4473e959e16\",\"type\":\"LinearScale\"},{\"attributes\":{},\"id\":\"f1ee5e56-b09a-4442-9d5c-1d68834864b8\",\"type\":\"LinearScale\"},{\"attributes\":{\"plot\":{\"id\":\"1b0314c2-5787-445d-9638-302c2dc0f0c2\",\"subtype\":\"Figure\",\"type\":\"Plot\"},\"ticker\":{\"id\":\"097f35d7-62a6-4f32-bc5e-9b2deb351e8e\",\"type\":\"BasicTicker\"}},\"id\":\"c83278a4-99ad-4a34-ac08-ff423a097817\",\"type\":\"Grid\"},{\"attributes\":{\"axis_label\":\"x\",\"formatter\":{\"id\":\"e7e707ba-0647-4285-ade7-652142d459a6\",\"type\":\"BasicTickFormatter\"},\"plot\":{\"id\":\"1b0314c2-5787-445d-9638-302c2dc0f0c2\",\"subtype\":\"Figure\",\"type\":\"Plot\"},\"ticker\":{\"id\":\"097f35d7-62a6-4f32-bc5e-9b2deb351e8e\",\"type\":\"BasicTicker\"}},\"id\":\"268bc0e6-b64e-41a2-af68-678d8ed7ee66\",\"type\":\"LinearAxis\"},{\"attributes\":{},\"id\":\"097f35d7-62a6-4f32-bc5e-9b2deb351e8e\",\"type\":\"BasicTicker\"},{\"attributes\":{\"axis_label\":\"f(x,\\u03bb)\",\"formatter\":{\"id\":\"a0627493-964a-4d82-828a-da4004245f4d\",\"type\":\"BasicTickFormatter\"},\"plot\":{\"id\":\"1b0314c2-5787-445d-9638-302c2dc0f0c2\",\"subtype\":\"Figure\",\"type\":\"Plot\"},\"ticker\":{\"id\":\"2aa0ffa4-437e-4c4c-94c8-9f7500f79120\",\"type\":\"BasicTicker\"}},\"id\":\"1ce4f996-a7b1-44f2-9117-4ea7f0a27215\",\"type\":\"LinearAxis\"},{\"attributes\":{},\"id\":\"2aa0ffa4-437e-4c4c-94c8-9f7500f79120\",\"type\":\"BasicTicker\"},{\"attributes\":{\"dimension\":1,\"plot\":{\"id\":\"1b0314c2-5787-445d-9638-302c2dc0f0c2\",\"subtype\":\"Figure\",\"type\":\"Plot\"},\"ticker\":{\"id\":\"2aa0ffa4-437e-4c4c-94c8-9f7500f79120\",\"type\":\"BasicTicker\"}},\"id\":\"1ed12807-7c6e-439e-8c88-c4c3ed255f41\",\"type\":\"Grid\"},{\"attributes\":{\"below\":[{\"id\":\"f6762912-f048-499f-9d4d-76e6a2b6e8cf\",\"type\":\"LinearAxis\"}],\"left\":[{\"id\":\"3ceb9a66-058d-4363-9d38-c7ea8835b04d\",\"type\":\"LinearAxis\"}],\"plot_height\":300,\"plot_width\":400,\"renderers\":[{\"id\":\"f6762912-f048-499f-9d4d-76e6a2b6e8cf\",\"type\":\"LinearAxis\"},{\"id\":\"62b1a757-7825-40f2-9295-d89c6dfcb2aa\",\"type\":\"Grid\"},{\"id\":\"3ceb9a66-058d-4363-9d38-c7ea8835b04d\",\"type\":\"LinearAxis\"},{\"id\":\"635e14ab-f3f8-4639-bb14-796bdb169d12\",\"type\":\"Grid\"},{\"id\":\"0ba1ade9-55d3-41ec-a9dd-c10abeb2dd07\",\"type\":\"Legend\"},{\"id\":\"31899745-cd1a-475f-bdc7-19915389b901\",\"type\":\"GlyphRenderer\"},{\"id\":\"9b7de02b-eba1-412d-970e-d11ae14b731f\",\"type\":\"GlyphRenderer\"},{\"id\":\"7321a406-ada3-419e-90e1-f6dc945f2f1a\",\"type\":\"GlyphRenderer\"}],\"title\":{\"id\":\"8e8ecc04-61f9-4eac-86e9-0b62159e18dc\",\"type\":\"Title\"},\"toolbar\":{\"id\":\"60472554-7141-4b90-ac56-165597648503\",\"type\":\"Toolbar\"},\"x_range\":{\"id\":\"97a9851e-5309-4a29-b000-fdd2007038b5\",\"type\":\"DataRange1d\"},\"x_scale\":{\"id\":\"3bdf4342-2cb3-4815-a8ae-e5b73c4d30e2\",\"type\":\"LinearScale\"},\"y_range\":{\"id\":\"daefd979-0989-425a-aab8-67d243ee03a5\",\"type\":\"Range1d\"},\"y_scale\":{\"id\":\"733e7916-e9c2-44af-88b1-06d4e1f95083\",\"type\":\"LinearScale\"}},\"id\":\"8f3c131a-cad1-44c6-8b60-1ef1d062e7ad\",\"subtype\":\"Figure\",\"type\":\"Plot\"},{\"attributes\":{\"line_color\":\"dodgerblue\",\"line_width\":3,\"x\":{\"field\":\"x\"},\"y\":{\"field\":\"y\"}},\"id\":\"43f3269c-68e4-4bfc-a201-852240557c84\",\"type\":\"Line\"},{\"attributes\":{\"label\":{\"value\":\"\\u03bb=0.001\"},\"renderers\":[{\"id\":\"4a60f98e-8eac-4192-9b5d-4d0ca32c5518\",\"type\":\"GlyphRenderer\"}]},\"id\":\"280c36cc-6e2d-4411-9d15-ee56b38dad1a\",\"type\":\"LegendItem\"},{\"attributes\":{},\"id\":\"223ea9e5-0db4-4f0d-8649-0251c3d55c83\",\"type\":\"PanTool\"},{\"attributes\":{\"line_color\":\"red\",\"line_width\":3,\"x\":{\"field\":\"x\"},\"y\":{\"field\":\"y\"}},\"id\":\"8ecfd1eb-2959-45ac-9a39-31a63a260428\",\"type\":\"Line\"},{\"attributes\":{},\"id\":\"072bbf57-d401-45c8-9966-48257ea1fe75\",\"type\":\"WheelZoomTool\"},{\"attributes\":{},\"id\":\"d91b8a80-cdeb-424e-9df1-861803c8c273\",\"type\":\"ResetTool\"},{\"attributes\":{},\"id\":\"7e9ce702-7f82-4d69-988b-2895619ba04c\",\"type\":\"SaveTool\"},{\"attributes\":{\"callback\":null},\"id\":\"97a9851e-5309-4a29-b000-fdd2007038b5\",\"type\":\"DataRange1d\"},{\"attributes\":{\"click_policy\":\"hide\",\"items\":[{\"id\":\"280c36cc-6e2d-4411-9d15-ee56b38dad1a\",\"type\":\"LegendItem\"},{\"id\":\"c1ed459a-398c-40dd-a05b-273cd0fe15cd\",\"type\":\"LegendItem\"},{\"id\":\"321ab15c-df15-489f-b088-fab8c3d7f4f4\",\"type\":\"LegendItem\"}],\"plot\":{\"id\":\"1b0314c2-5787-445d-9638-302c2dc0f0c2\",\"subtype\":\"Figure\",\"type\":\"Plot\"}},\"id\":\"764b8537-a694-4bb1-9160-2b1dd1624599\",\"type\":\"Legend\"},{\"attributes\":{\"callback\":null,\"end\":1.05,\"start\":-0.05},\"id\":\"daefd979-0989-425a-aab8-67d243ee03a5\",\"type\":\"Range1d\"},{\"attributes\":{},\"id\":\"3bdf4342-2cb3-4815-a8ae-e5b73c4d30e2\",\"type\":\"LinearScale\"},{\"attributes\":{},\"id\":\"733e7916-e9c2-44af-88b1-06d4e1f95083\",\"type\":\"LinearScale\"},{\"attributes\":{\"plot\":{\"id\":\"8f3c131a-cad1-44c6-8b60-1ef1d062e7ad\",\"subtype\":\"Figure\",\"type\":\"Plot\"},\"ticker\":{\"id\":\"8b058f27-48be-442f-b9a1-cebd7bc4fc0f\",\"type\":\"BasicTicker\"}},\"id\":\"62b1a757-7825-40f2-9295-d89c6dfcb2aa\",\"type\":\"Grid\"},{\"attributes\":{\"axis_label\":\"x\",\"formatter\":{\"id\":\"c91bc879-d407-49b2-9974-2bf64556489d\",\"type\":\"BasicTickFormatter\"},\"plot\":{\"id\":\"8f3c131a-cad1-44c6-8b60-1ef1d062e7ad\",\"subtype\":\"Figure\",\"type\":\"Plot\"},\"ticker\":{\"id\":\"8b058f27-48be-442f-b9a1-cebd7bc4fc0f\",\"type\":\"BasicTicker\"}},\"id\":\"f6762912-f048-499f-9d4d-76e6a2b6e8cf\",\"type\":\"LinearAxis\"},{\"attributes\":{},\"id\":\"8b058f27-48be-442f-b9a1-cebd7bc4fc0f\",\"type\":\"BasicTicker\"},{\"attributes\":{\"axis_label\":\"F(x,\\u03bb)\",\"formatter\":{\"id\":\"6f457ac4-71b3-4fe3-95df-fa748aa4b15d\",\"type\":\"BasicTickFormatter\"},\"plot\":{\"id\":\"8f3c131a-cad1-44c6-8b60-1ef1d062e7ad\",\"subtype\":\"Figure\",\"type\":\"Plot\"},\"ticker\":{\"id\":\"ac3a6f29-19df-47ec-95a9-fb619fe10b5b\",\"type\":\"BasicTicker\"}},\"id\":\"3ceb9a66-058d-4363-9d38-c7ea8835b04d\",\"type\":\"LinearAxis\"},{\"attributes\":{},\"id\":\"ac3a6f29-19df-47ec-95a9-fb619fe10b5b\",\"type\":\"BasicTicker\"},{\"attributes\":{\"dimension\":1,\"plot\":{\"id\":\"8f3c131a-cad1-44c6-8b60-1ef1d062e7ad\",\"subtype\":\"Figure\",\"type\":\"Plot\"},\"ticker\":{\"id\":\"ac3a6f29-19df-47ec-95a9-fb619fe10b5b\",\"type\":\"BasicTicker\"}},\"id\":\"635e14ab-f3f8-4639-bb14-796bdb169d12\",\"type\":\"Grid\"},{\"attributes\":{\"callback\":null,\"column_names\":[\"x\",\"y\"],\"data\":{\"x\":{\"__ndarray__\":\"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\",\"dtype\":\"float64\",\"shape\":[200]},\"y\":{\"__ndarray__\":\"/Knx0k1iUD9WU7erR01QP5Vb5X5cOFA/6GvdKYwjUD+wmS2K1g5QPwBbIPt29E8/ztTWw3XLTz//qqIqqaJPP5H7/usQek8/lIi9xKxRTz/0SAZyfClPP975VrF/AU8/tLCCQLbZTj+AbbHdH7JOPwOuX0e8ik4/SQFePItjTj/Gm9B7jDxOPwPsLsW/FU4/0y9D2CTvTT8KCip1u8hNP8oYUlyDok0/SYx7Tnx8TT8qvrcMplZNP1bJaFgAMU0/WiJB84oLTT9PMEOfReZMP0HmwB4wwUw/HF1bNEqcTD8dbgKjk3dMP8NN9C0MU0w/RSe9mLMuTD+CuDaniQpMP33uhx2O5ks/ToIkwMDCSz+SlsxTIZ9LP2pVjJ2ve0s/3o67YmtYSz/QV/1oVDVLP2ipP3ZqEks/+AC7UK3vSj9cAPK+HM1KP9oOsYe4qko/dPoNcoCISj+5mWdFdGZKPw9uZcmTREo/dEb3xd4iSj+v4lQDVQFKPw2X/Un230k/e/C3YsK+ST8oWZEWuZ1JP5G93S7afEk/DjI3dSVcST/HmH2zmjtJPx1I1rM5G0k/mLGrQAL7SD8pCa0k9NpIP/zszSoPu0g/pg1GHlObSD/N1pDKv3tIP0EYbftUXEg/fa/cfBI9SD+hMSQb+B1IP9SVyqIF/0c/D+CY4DrgRz9pzJmhl8FHP7N6GbMbo0c/mhql4saERz8kmAr+mGZHP6RIWNORSEc/DpjcMLEqRz+8tiXl9gxHP5pHAb9i70Y/ug58jfTRRj9YoOEfrLRGPzUQvEWJl0Y/cKHTzot6Rj+xdi6Ls11GP8xCEEsAQUY/t/n53nEkRj/8gakXCAhGP3dmGcbC60U/kYiAu6HPRT/M0lHJpLNFP7nrO8HLl0U/VekodRZ8RT/CBD63hGBFP2JO21kWRUU/X2KbL8spRT99HVMLow5FP2ZSEcCd80Q/RH8eIbvYRD+/g/wB+71EP2JXZjZdo0Q/UcBPkuGIRD9oCuXph25EP7G+ihFQVEQ/Olvd3Tk6RD9KC7EjRSBEP+pfEbhxBkQ/0whBcL/sQz+xjbkhLtNDP8QHK6K9uUM/2tt7x22gQz+hdMhnPodDP1j9YlkvbkM/1BzTckBVQz/csNWKcTxDP+SJXHjCI0M/GyeOEjMLQz/McsUww/JCPyJ/kapy2kI/NkO1V0HCQj93WCcQL6pCP2y4Eaw7kkI/xHrRA2d6Qj++k/bvsGJCP+mSQ0kZS0I/LmKt6J8zQj80BVunRBxCPxtZpV4HBUI/ftQW6OftQT/SR2sd5tZBPw6ej9gBwEE/sJ2h8zqpQT8Cqu9IkZJBP72E+LIEfEE/+g9rDJVlQT9uECYwQk9BP/XvN/kLOUE/dYDeQvIiQT8Ev4bo9AxBP2OXzMUT90A/xad6tk7hQD/eBIqWpctAP0/+IUIYtkA/ReOXlaagQD+Ax25tUItAP5BIV6YVdkA/aFMvHfZgQD856gGv8UtAP5rqBjkIN0A/9NOimDkiQD9FjmarhQ1APzRiHp7Y8T8/w5ULw9rIPz/+UL6BEaA/P1g6t5Z8dz8/M5XNvhtPPz/G0i637iY/P34jXj31/j4//Ag0Dy/XPj+W6N3qm68+P26e3Y47iD4/CREJug1hPj+BxYkrEjo+Pyl03KJIEz4/253Q37DsPT+wIYiiSsY9P1rTdqsVoD0/6RFiuxF6PT87X2CTPlQ9P9L32PSbLj0/PWuDoSkJPT8ONWdb5+M8P0FW2+TUvjw/N++FAPKZPD8w2ltxPnU8P0FGoPq5UDw/0VLkX2QsPD+ZqwZlPQg8PxwlM85E5Ds/rFniX3rAOz/cRtne3Zw7P4frKBBveTs/OuYtuS1WOz84FJCfGTM7P+AwQokyEDs/onWBPHjtOj9lOtV/6so6P26WDhqJqDo/ugFI0lOGOj/Z9uRvSmQ6PzmVkbpsQjo/9kNCerogOj8UVTN3M/85Pzap6HnX3Tk/0VMtS6a8OT/IPxO0n5s5P4nU8n3Dejk/nZtqchFaOT+d5l5biTk5P7d1+QIrGTk/ih6pM/b4OD+GcyG46tg4P7JrWlsIuTg/7gqQ6E6ZOD+eCkIrvnk4P8qCM+9VWjg/ppNqABY7OD+WDzAr/hs4Pw==\",\"dtype\":\"float64\",\"shape\":[200]}}},\"id\":\"423c6deb-fa62-481c-ab3e-ac623cb73b83\",\"type\":\"ColumnDataSource\"},{\"attributes\":{\"callback\":null,\"column_names\":[\"x\",\"y\"],\"data\":{\"x\":{\"__ndarray__\":\"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\",\"dtype\":\"float64\",\"shape\":[200]},\"y\":{\"__ndarray__\":\"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\",\"dtype\":\"float64\",\"shape\":[200]}}},\"id\":\"10cd62ab-ce6e-486c-b66d-a62b4c329064\",\"type\":\"ColumnDataSource\"},{\"attributes\":{},\"id\":\"a0627493-964a-4d82-828a-da4004245f4d\",\"type\":\"BasicTickFormatter\"},{\"attributes\":{},\"id\":\"7fed9b53-fc69-4550-b28d-e53cf63b3e42\",\"type\":\"PanTool\"},{\"attributes\":{\"source\":{\"id\":\"10cd62ab-ce6e-486c-b66d-a62b4c329064\",\"type\":\"ColumnDataSource\"}},\"id\":\"c4be88d4-0acd-4bf7-98a9-783dfa6f21b0\",\"type\":\"CDSView\"},{\"attributes\":{},\"id\":\"ee929df6-2363-444a-82a7-9b43dc98e9f5\",\"type\":\"WheelZoomTool\"},{\"attributes\":{},\"id\":\"d45facb6-1884-415f-9067-c7353f6aee6e\",\"type\":\"ResetTool\"},{\"attributes\":{},\"id\":\"a809d306-525d-4068-8c11-52c9503749ab\",\"type\":\"SaveTool\"},{\"attributes\":{\"data_source\":{\"id\":\"10cd62ab-ce6e-486c-b66d-a62b4c329064\",\"type\":\"ColumnDataSource\"},\"glyph\":{\"id\":\"43f3269c-68e4-4bfc-a201-852240557c84\",\"type\":\"Line\"},\"hover_glyph\":null,\"muted_glyph\":null,\"nonselection_glyph\":{\"id\":\"4c6c04fc-0251-4e03-861f-7592892ca90f\",\"type\":\"Line\"},\"selection_glyph\":null,\"view\":{\"id\":\"c4be88d4-0acd-4bf7-98a9-783dfa6f21b0\",\"type\":\"CDSView\"}},\"id\":\"4a60f98e-8eac-4192-9b5d-4d0ca32c5518\",\"type\":\"GlyphRenderer\"},{\"attributes\":{},\"id\":\"e7e707ba-0647-4285-ade7-652142d459a6\",\"type\":\"BasicTickFormatter\"},{\"attributes\":{\"line_color\":\"dodgerblue\",\"line_width\":3,\"x\":{\"field\":\"x\"},\"y\":{\"field\":\"y\"}},\"id\":\"8d1e02f2-6b81-4b31-8036-295948362fb4\",\"type\":\"Line\"},{\"attributes\":{\"data_source\":{\"id\":\"423c6deb-fa62-481c-ab3e-ac623cb73b83\",\"type\":\"ColumnDataSource\"},\"glyph\":{\"id\":\"8ecfd1eb-2959-45ac-9a39-31a63a260428\",\"type\":\"Line\"},\"hover_glyph\":null,\"muted_glyph\":null,\"nonselection_glyph\":{\"id\":\"1d0d45ba-b625-4f97-b4cf-db145db54e80\",\"type\":\"Line\"},\"selection_glyph\":null,\"view\":{\"id\":\"0f81a1ac-8b56-42fd-86cb-7236e3976e28\",\"type\":\"CDSView\"}},\"id\":\"72b40bcc-e8e9-4c76-9006-0d664c6a250e\",\"type\":\"GlyphRenderer\"},{\"attributes\":{\"line_color\":\"green\",\"line_width\":3,\"x\":{\"field\":\"x\"},\"y\":{\"field\":\"y\"}},\"id\":\"81a81b75-ecb5-42a8-a7cc-c4949d61ef7f\",\"type\":\"Line\"},{\"attributes\":{\"callback\":null,\"column_names\":[\"x\",\"y\"],\"data\":{\"x\":{\"__ndarray__\":\"AAAAAAAAAACFn1yIuhkUQIWfXIi6GSRASO+KzJcmLkCFn1yIuhk0QGbHcyopIDlASO+KzJcmPkCUC1E3g5ZBQIWfXIi6GURAdjNo2fGcRkBmx3MqKSBJQFdbf3tgo0tASO+KzJcmTkCcQcuO51RQQJQLUTeDllFAjdXW3x7YUkCFn1yIuhlUQH1p4jBWW1VAdjNo2fGcVkBu/e2Bjd5XQGbHcyopIFlAX5H50sRhWkBXW397YKNbQE8lBST85FxASO+KzJcmXkBAuRB1M2hfQJxBy47nVGBAmCYOY7X1YECUC1E3g5ZhQJHwkwtRN2JAjdXW3x7YYkCJuhm07HhjQIWfXIi6GWRAgYSfXIi6ZEB9aeIwVltlQHlOJQUk/GVAdjNo2fGcZkByGKutvz1nQG797YGN3mdAauIwVlt/aEBmx3MqKSBpQGKstv72wGlAX5H50sRhakBbdjynkgJrQFdbf3tgo2tAU0DCTy5EbEBPJQUk/ORsQEsKSPjJhW1ASO+KzJcmbkBE1M2gZcduQEC5EHUzaG9AHs+ppIAEcECcQcuO51RwQBq07HhOpXBAmCYOY7X1cEAWmS9NHEZxQJQLUTeDlnFAEn5yIermcUCR8JMLUTdyQA9jtfW3h3JAjdXW3x7YckALSPjJhShzQIm6GbTseHNABy07nlPJc0CFn1yIuhl0QAMSfnIhanRAgYSfXIi6dED/9sBG7wp1QH1p4jBWW3VA+9sDG72rdUB5TiUFJPx1QPjARu+KTHZAdjNo2fGcdkD0pYnDWO12QHIYq62/PXdA8IrMlyaOd0Bu/e2Bjd53QOxvD2z0LnhAauIwVlt/eEDoVFJAws94QGbHcyopIHlA5DmVFJBweUBirLb+9sB5QOAe2OhdEXpAX5H50sRhekDdAxu9K7J6QFt2PKeSAntA2ehdkflSe0BXW397YKN7QNXNoGXH83tAU0DCTy5EfEDRsuM5lZR8QE8lBST85HxAzZcmDmM1fUBLCkj4yYV9QMl8aeIw1n1ASO+KzJcmfkDGYay2/nZ+QETUzaBlx35AwkbviswXf0BAuRB1M2h/QL4rMl+auH9AHs+ppIAEgEBdiLoZtCyAQJxBy47nVIBA2/rbAxt9gEAatOx4TqWAQFlt/e2BzYBAmCYOY7X1gEDX3x7Y6B2BQBaZL00cRoFAVVJAwk9ugUCUC1E3g5aBQNPEYay2voFAEn5yIermgUBRN4OWHQ+CQJHwkwtRN4JA0KmkgIRfgkAPY7X1t4eCQE4cxmrrr4JAjdXW3x7YgkDMjudUUgCDQAtI+MmFKINASgEJP7lQg0CJuhm07HiDQMhzKikgoYNABy07nlPJg0BG5ksTh/GDQIWfXIi6GYRAxFht/e1BhEADEn5yIWqEQELLjudUkoRAgYSfXIi6hEDAPbDRu+KEQP/2wEbvCoVAPrDRuyIzhUB9aeIwVluFQLwi86WJg4VA+9sDG72rhUA6lRSQ8NOFQHlOJQUk/IVAuQc2elckhkD4wEbvikyGQDd6V2S+dIZAdjNo2fGchkC17HhOJcWGQPSlicNY7YZAM1+aOIwVh0ByGKutvz2HQLHRuyLzZYdA8IrMlyaOh0AvRN0MWraHQG797YGN3odArbb+9sAGiEDsbw9s9C6IQCspIOEnV4hAauIwVlt/iECpm0HLjqeIQOhUUkDCz4hAJw5jtfX3iEBmx3MqKSCJQKWAhJ9cSIlA5DmVFJBwiUAj86WJw5iJQGKstv72wIlAoWXHcyrpiUDgHtjoXRGKQCDY6F2ROYpAX5H50sRhikCeSgpI+ImKQN0DG70rsopAHL0rMl/aikBbdjynkgKLQJovTRzGKotA2ehdkflSi0AYom4GLXuLQFdbf3tgo4tAlhSQ8JPLi0DVzaBlx/OLQBSHsdr6G4xAU0DCTy5EjECS+dLEYWyMQNGy4zmVlIxAEGz0rsi8jEBPJQUk/OSMQI7eFZkvDY1AzZcmDmM1jUAMUTeDll2NQEsKSPjJhY1AisNYbf2tjUDJfGniMNaNQAg2eldk/o1ASO+KzJcmjkCHqJtBy06OQMZhrLb+do5ABRu9KzKfjkBE1M2gZceOQION3hWZ745AwkbviswXj0AAAAAAAECPQA==\",\"dtype\":\"float64\",\"shape\":[200]},\"y\":{\"__ndarray__\":\"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\",\"dtype\":\"float64\",\"shape\":[200]}}},\"id\":\"c70be87b-9362-4303-b88d-f7533ee488a3\",\"type\":\"ColumnDataSource\"},{\"attributes\":{\"line_alpha\":0.1,\"line_color\":\"#1f77b4\",\"line_width\":3,\"x\":{\"field\":\"x\"},\"y\":{\"field\":\"y\"}},\"id\":\"1d0d45ba-b625-4f97-b4cf-db145db54e80\",\"type\":\"Line\"},{\"attributes\":{\"source\":{\"id\":\"423c6deb-fa62-481c-ab3e-ac623cb73b83\",\"type\":\"ColumnDataSource\"}},\"id\":\"0f81a1ac-8b56-42fd-86cb-7236e3976e28\",\"type\":\"CDSView\"},{\"attributes\":{\"label\":{\"value\":\"\\u03bb=0.0001\"},\"renderers\":[{\"id\":\"72b40bcc-e8e9-4c76-9006-0d664c6a250e\",\"type\":\"GlyphRenderer\"}]},\"id\":\"c1ed459a-398c-40dd-a05b-273cd0fe15cd\",\"type\":\"LegendItem\"},{\"attributes\":{\"line_alpha\":0.1,\"line_color\":\"#1f77b4\",\"line_width\":3,\"x\":{\"field\":\"x\"},\"y\":{\"field\":\"y\"}},\"id\":\"e7732f07-0a7b-4188-8673-87da0e4ede91\",\"type\":\"Line\"},{\"attributes\":{\"callback\":null,\"column_names\":[\"x\",\"y\"],\"data\":{\"x\":{\"__ndarray__\":\"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\",\"dtype\":\"float64\",\"shape\":[200]},\"y\":{\"__ndarray__\":\"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\",\"dtype\":\"float64\",\"shape\":[200]}}},\"id\":\"ffb223c4-72a9-45a5-af0a-4f1116a22d5e\",\"type\":\"ColumnDataSource\"},{\"attributes\":{\"callback\":null,\"column_names\":[\"x\",\"y\"],\"data\":{\"x\":{\"__ndarray__\":\"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\",\"dtype\":\"float64\",\"shape\":[200]},\"y\":{\"__ndarray__\":\"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\",\"dtype\":\"float64\",\"shape\":[200]}}},\"id\":\"c1e13194-2fb8-42b4-9d75-5a065c77ea5a\",\"type\":\"ColumnDataSource\"},{\"attributes\":{\"data_source\":{\"id\":\"c70be87b-9362-4303-b88d-f7533ee488a3\",\"type\":\"ColumnDataSource\"},\"glyph\":{\"id\":\"81a81b75-ecb5-42a8-a7cc-c4949d61ef7f\",\"type\":\"Line\"},\"hover_glyph\":null,\"muted_glyph\":null,\"nonselection_glyph\":{\"id\":\"e7732f07-0a7b-4188-8673-87da0e4ede91\",\"type\":\"Line\"},\"selection_glyph\":null,\"view\":{\"id\":\"3ceed320-bdb7-40eb-9c44-02da080776c8\",\"type\":\"CDSView\"}},\"id\":\"6bc032c7-1437-481b-b8d5-26d37f50de14\",\"type\":\"GlyphRenderer\"},{\"attributes\":{\"source\":{\"id\":\"c70be87b-9362-4303-b88d-f7533ee488a3\",\"type\":\"ColumnDataSource\"}},\"id\":\"3ceed320-bdb7-40eb-9c44-02da080776c8\",\"type\":\"CDSView\"},{\"attributes\":{\"label\":{\"value\":\"\\u03bb=0.0002\"},\"renderers\":[{\"id\":\"6bc032c7-1437-481b-b8d5-26d37f50de14\",\"type\":\"GlyphRenderer\"}]},\"id\":\"321ab15c-df15-489f-b088-fab8c3d7f4f4\",\"type\":\"LegendItem\"},{\"attributes\":{\"line_alpha\":0.1,\"line_color\":\"#1f77b4\",\"line_width\":3,\"x\":{\"field\":\"x\"},\"y\":{\"field\":\"y\"}},\"id\":\"0ad07856-739e-430b-a4dd-8c708a17351d\",\"type\":\"Line\"},{\"attributes\":{},\"id\":\"c91bc879-d407-49b2-9974-2bf64556489d\",\"type\":\"BasicTickFormatter\"},{\"attributes\":{\"items\":[{\"id\":\"05ca9d53-7afe-454c-93e4-28e91a40b4db\",\"type\":\"LegendItem\"},{\"id\":\"4f973198-a763-416d-a9b0-d06ad7a46bac\",\"type\":\"LegendItem\"},{\"id\":\"e6e8ed48-f33f-449c-a4ed-194b65d667d4\",\"type\":\"LegendItem\"}],\"location\":\"bottom_right\",\"plot\":{\"id\":\"8f3c131a-cad1-44c6-8b60-1ef1d062e7ad\",\"subtype\":\"Figure\",\"type\":\"Plot\"}},\"id\":\"0ba1ade9-55d3-41ec-a9dd-c10abeb2dd07\",\"type\":\"Legend\"},{\"attributes\":{\"data_source\":{\"id\":\"c1e13194-2fb8-42b4-9d75-5a065c77ea5a\",\"type\":\"ColumnDataSource\"},\"glyph\":{\"id\":\"8d1e02f2-6b81-4b31-8036-295948362fb4\",\"type\":\"Line\"},\"hover_glyph\":null,\"muted_glyph\":null,\"nonselection_glyph\":{\"id\":\"0ad07856-739e-430b-a4dd-8c708a17351d\",\"type\":\"Line\"},\"selection_glyph\":null,\"view\":{\"id\":\"d86e6d4d-278a-4888-a49d-c6589117bddb\",\"type\":\"CDSView\"}},\"id\":\"31899745-cd1a-475f-bdc7-19915389b901\",\"type\":\"GlyphRenderer\"},{\"attributes\":{\"source\":{\"id\":\"c1e13194-2fb8-42b4-9d75-5a065c77ea5a\",\"type\":\"ColumnDataSource\"}},\"id\":\"d86e6d4d-278a-4888-a49d-c6589117bddb\",\"type\":\"CDSView\"},{\"attributes\":{\"plot\":null,\"text\":\"\"},\"id\":\"8e8ecc04-61f9-4eac-86e9-0b62159e18dc\",\"type\":\"Title\"},{\"attributes\":{},\"id\":\"6f457ac4-71b3-4fe3-95df-fa748aa4b15d\",\"type\":\"BasicTickFormatter\"},{\"attributes\":{\"label\":{\"value\":\"\\u03bb=0.001\"},\"renderers\":[{\"id\":\"31899745-cd1a-475f-bdc7-19915389b901\",\"type\":\"GlyphRenderer\"}]},\"id\":\"05ca9d53-7afe-454c-93e4-28e91a40b4db\",\"type\":\"LegendItem\"},{\"attributes\":{\"source\":{\"id\":\"ffb223c4-72a9-45a5-af0a-4f1116a22d5e\",\"type\":\"ColumnDataSource\"}},\"id\":\"100c8eb5-550d-4dcf-b5a0-7da796fea889\",\"type\":\"CDSView\"},{\"attributes\":{\"data_source\":{\"id\":\"ffb223c4-72a9-45a5-af0a-4f1116a22d5e\",\"type\":\"ColumnDataSource\"},\"glyph\":{\"id\":\"e17af39e-990f-46e3-b0d7-9a6afc51674c\",\"type\":\"Line\"},\"hover_glyph\":null,\"muted_glyph\":null,\"nonselection_glyph\":{\"id\":\"cebf256f-bbd0-4d8d-b6e3-610be12e4e4e\",\"type\":\"Line\"},\"selection_glyph\":null,\"view\":{\"id\":\"100c8eb5-550d-4dcf-b5a0-7da796fea889\",\"type\":\"CDSView\"}},\"id\":\"9b7de02b-eba1-412d-970e-d11ae14b731f\",\"type\":\"GlyphRenderer\"},{\"attributes\":{\"line_color\":\"red\",\"line_width\":3,\"x\":{\"field\":\"x\"},\"y\":{\"field\":\"y\"}},\"id\":\"e17af39e-990f-46e3-b0d7-9a6afc51674c\",\"type\":\"Line\"},{\"attributes\":{\"callback\":null,\"column_names\":[\"x\",\"y\"],\"data\":{\"x\":{\"__ndarray__\":\"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\",\"dtype\":\"float64\",\"shape\":[200]},\"y\":{\"__ndarray__\":\"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\",\"dtype\":\"float64\",\"shape\":[200]}}},\"id\":\"43a4a2ea-d639-45b1-9a71-f50a2b5d3e91\",\"type\":\"ColumnDataSource\"},{\"attributes\":{\"line_alpha\":0.1,\"line_color\":\"#1f77b4\",\"line_width\":3,\"x\":{\"field\":\"x\"},\"y\":{\"field\":\"y\"}},\"id\":\"cebf256f-bbd0-4d8d-b6e3-610be12e4e4e\",\"type\":\"Line\"}],\"root_ids\":[\"b60e7da5-39a1-44aa-a810-c2889540e969\"]},\"title\":\"Bokeh Application\",\"version\":\"0.12.13\"}};\n",
       "  var render_items = [{\"docid\":\"9fe18b1c-7aeb-4609-869e-edff269200ae\",\"elementid\":\"c7cf0dc1-ab90-4033-b05e-c6c3cee5d472\",\"modelid\":\"b60e7da5-39a1-44aa-a810-c2889540e969\"}];\n",
       "  root.Bokeh.embed.embed_items_notebook(docs_json, render_items);\n",
       "\n",
       "  }\n",
       "  if (root.Bokeh !== undefined) {\n",
       "    embed_document(root);\n",
       "  } else {\n",
       "    var attempts = 0;\n",
       "    var timer = setInterval(function(root) {\n",
       "      if (root.Bokeh !== undefined) {\n",
       "        embed_document(root);\n",
       "        clearInterval(timer);\n",
       "      }\n",
       "      attempts++;\n",
       "      if (attempts > 100) {\n",
       "        console.log(\"Bokeh: ERROR: Unable to run BokehJS code because BokehJS library is missing\")\n",
       "        clearInterval(timer);\n",
       "      }\n",
       "    }, 10, root)\n",
       "  }\n",
       "})(window);"
      ],
      "application/vnd.bokehjs_exec.v0+json": ""
     },
     "metadata": {
      "application/vnd.bokehjs_exec.v0+json": {
       "id": "b60e7da5-39a1-44aa-a810-c2889540e969"
      }
     },
     "output_type": "display_data"
    }
   ],
   "source": [
    "from scipy.stats import expon\n",
    "\n",
    "x = np.linspace(0, 1000, 200)\n",
    "lambda_1 = 0.01\n",
    "lambda_2 = 0.001\n",
    "lambda_3 = 0.002\n",
    "\n",
    "# Tools for plots\n",
    "tools='pan,wheel_zoom,reset,save'\n",
    "\n",
    "# Set up plots\n",
    "fig_1 = Figure(width=400, height=300, tools=[tools,HoverTool(tooltips=[\n",
    "                (\"\", \"($x,$y)\")\n",
    "                ])], title=\"Exponential Distribution\")\n",
    "fig_2 = Figure(width=400, height=300, tools=[tools,HoverTool(tooltips=[\n",
    "                (\"\", \"($x,$y)\")\n",
    "                ])], \n",
    "               y_range=[-0.05, 1.05])\n",
    "\n",
    "fig_1.xaxis.axis_label = 'x'\n",
    "fig_1.yaxis.axis_label = 'f(x,λ)' \n",
    "\n",
    "fig_2.xaxis.axis_label = 'x'\n",
    "fig_2.yaxis.axis_label = 'F(x,λ)'\n",
    "\n",
    "# Figure #1\n",
    "y1 = expon.pdf(x,scale=1/lambda_1)\n",
    "y2 = expon.pdf(x,scale=1/lambda_2)\n",
    "y3 = expon.pdf(x,scale=1/lambda_3)\n",
    "\n",
    "fig_1.line(x, y1, line_width=3, color='dodgerblue',legend=\"λ=0.001\")\n",
    "fig_1.line(x, y2, line_width=3, color='red',legend=\"λ=0.0001\")\n",
    "fig_1.line(x, y3, line_width=3, color='green',legend=\"λ=0.0002\")\n",
    "\n",
    "fig_1.legend.location = \"top_right\"\n",
    "fig_1.legend.click_policy=\"hide\"\n",
    "\n",
    "#Figure #2\n",
    "y4 = expon.cdf(x,scale=1/lambda_1)\n",
    "y5 = expon.cdf(x,scale=1/lambda_2)\n",
    "y6 = expon.cdf(x,scale=1/lambda_3)\n",
    "\n",
    "fig_2.line(x, y4, line_width=3, color='dodgerblue',legend=\"λ=0.001\")\n",
    "fig_2.line(x, y5, line_width=3, color='red',legend=\"λ=0.0001\")\n",
    "fig_2.line(x, y6, line_width=3, color='green',legend=\"λ=0.0002\")\n",
    "fig_2.legend.location = \"bottom_right\"\n",
    "\n",
    "show(row([fig_1, fig_2]))"
   ]
  },
  {
   "cell_type": "markdown",
   "metadata": {},
   "source": [
    "# References"
   ]
  },
  {
   "cell_type": "markdown",
   "metadata": {},
   "source": [
    "http://bebi103.caltech.edu.s3-website-us-east-1.amazonaws.com/2016/tutorials/t3b_probability_stories.html\n",
    "\n",
    "http://students.brown.edu/seeing-theory/probability-distributions/index.html#section1"
   ]
  }
 ],
 "metadata": {
  "kernelspec": {
   "display_name": "Python 3",
   "language": "python",
   "name": "python3"
  },
  "language_info": {
   "codemirror_mode": {
    "name": "ipython",
    "version": 3
   },
   "file_extension": ".py",
   "mimetype": "text/x-python",
   "name": "python",
   "nbconvert_exporter": "python",
   "pygments_lexer": "ipython3",
   "version": "3.6.4"
  }
 },
 "nbformat": 4,
 "nbformat_minor": 2
}
